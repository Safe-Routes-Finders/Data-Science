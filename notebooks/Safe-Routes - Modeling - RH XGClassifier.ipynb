{
 "cells": [
  {
   "cell_type": "code",
   "execution_count": 1,
   "metadata": {},
   "outputs": [],
   "source": [
    "#a bunch of miscelanious libraries I imported...\n",
    "#we can reduce this by a lot \n",
    "\n",
    "import pandas as pd\n",
    "import numpy as np\n",
    "from pandas.io.json import json_normalize\n",
    "from sklearn.model_selection import train_test_split\n",
    "from sklearn.pipeline import make_pipeline\n",
    "from xgboost import XGBClassifier\n",
    "from sklearn.metrics import roc_auc_score\n",
    "from ipywidgets import interact, fixed\n",
    "from sklearn.metrics import roc_auc_score, roc_curve\n",
    "from sklearn.utils.multiclass import unique_labels\n",
    "import seaborn as sns\n",
    "import matplotlib.pyplot as plt\n",
    "from sklearn.metrics import confusion_matrix\n",
    "from sklearn.metrics import classification_report\n",
    "import pandas as pd\n",
    "import json\n",
    "import glob\n",
    "import os\n",
    "from sklearn.model_selection import cross_val_score\n",
    "import category_encoders as ce\n",
    "from sklearn.pipeline import make_pipeline\n",
    "from sklearn.preprocessing import StandardScaler\n",
    "import matplotlib.pyplot as plt\n",
    "from sklearn.metrics import accuracy_score\n",
    "from sklearn.model_selection import GridSearchCV, RandomizedSearchCV\n",
    "from sklearn.pipeline import make_pipeline\n",
    "from sklearn.model_selection import RandomizedSearchCV\n",
    "from xgboost import plot_importance\n",
    "import eli5\n",
    "from eli5.sklearn import PermutationImportance\n",
    "from pdpbox.pdp import pdp_interact, pdp_interact_plot\n",
    "import shap\n",
    "\n",
    "pd.set_option(\"display.max_rows\", 101)\n",
    "plt.rcParams['figure.dpi'] = 300"
   ]
  },
  {
   "cell_type": "code",
   "execution_count": 2,
   "metadata": {},
   "outputs": [],
   "source": [
    "df = pd.read_csv('train_data.csv')"
   ]
  },
  {
   "cell_type": "code",
   "execution_count": 3,
   "metadata": {},
   "outputs": [
    {
     "data": {
      "text/html": [
       "<div>\n",
       "<style scoped>\n",
       "    .dataframe tbody tr th:only-of-type {\n",
       "        vertical-align: middle;\n",
       "    }\n",
       "\n",
       "    .dataframe tbody tr th {\n",
       "        vertical-align: top;\n",
       "    }\n",
       "\n",
       "    .dataframe thead th {\n",
       "        text-align: right;\n",
       "    }\n",
       "</style>\n",
       "<table border=\"1\" class=\"dataframe\">\n",
       "  <thead>\n",
       "    <tr style=\"text-align: right;\">\n",
       "      <th></th>\n",
       "      <th>date_hour</th>\n",
       "      <th>area_name</th>\n",
       "      <th>date_accident</th>\n",
       "      <th>hour_time</th>\n",
       "      <th>no_of_accidents</th>\n",
       "      <th>is_accident</th>\n",
       "    </tr>\n",
       "  </thead>\n",
       "  <tbody>\n",
       "    <tr>\n",
       "      <td>0</td>\n",
       "      <td>2010-01-01 00:00:00</td>\n",
       "      <td>Olympic</td>\n",
       "      <td>2010-01-01 00:00:00</td>\n",
       "      <td>0</td>\n",
       "      <td>0.0</td>\n",
       "      <td>0</td>\n",
       "    </tr>\n",
       "    <tr>\n",
       "      <td>1</td>\n",
       "      <td>2010-01-01 01:00:00</td>\n",
       "      <td>Olympic</td>\n",
       "      <td>2010-01-01 00:00:00</td>\n",
       "      <td>100</td>\n",
       "      <td>1.0</td>\n",
       "      <td>1</td>\n",
       "    </tr>\n",
       "    <tr>\n",
       "      <td>2</td>\n",
       "      <td>2010-01-01 02:00:00</td>\n",
       "      <td>Olympic</td>\n",
       "      <td>2010-01-01 00:00:00</td>\n",
       "      <td>200</td>\n",
       "      <td>0.0</td>\n",
       "      <td>0</td>\n",
       "    </tr>\n",
       "    <tr>\n",
       "      <td>3</td>\n",
       "      <td>2010-01-01 03:00:00</td>\n",
       "      <td>Olympic</td>\n",
       "      <td>2010-01-01 00:00:00</td>\n",
       "      <td>300</td>\n",
       "      <td>1.0</td>\n",
       "      <td>1</td>\n",
       "    </tr>\n",
       "    <tr>\n",
       "      <td>4</td>\n",
       "      <td>2010-01-01 04:00:00</td>\n",
       "      <td>Olympic</td>\n",
       "      <td>2010-01-01 00:00:00</td>\n",
       "      <td>400</td>\n",
       "      <td>0.0</td>\n",
       "      <td>0</td>\n",
       "    </tr>\n",
       "    <tr>\n",
       "      <td>...</td>\n",
       "      <td>...</td>\n",
       "      <td>...</td>\n",
       "      <td>...</td>\n",
       "      <td>...</td>\n",
       "      <td>...</td>\n",
       "      <td>...</td>\n",
       "    </tr>\n",
       "    <tr>\n",
       "      <td>1799800</td>\n",
       "      <td>2019-10-11 20:00:00</td>\n",
       "      <td>Hollenbeck</td>\n",
       "      <td>2019-10-11 00:00:00</td>\n",
       "      <td>2000</td>\n",
       "      <td>0.0</td>\n",
       "      <td>0</td>\n",
       "    </tr>\n",
       "    <tr>\n",
       "      <td>1799801</td>\n",
       "      <td>2019-10-11 21:00:00</td>\n",
       "      <td>Hollenbeck</td>\n",
       "      <td>2019-10-11 00:00:00</td>\n",
       "      <td>2100</td>\n",
       "      <td>0.0</td>\n",
       "      <td>0</td>\n",
       "    </tr>\n",
       "    <tr>\n",
       "      <td>1799802</td>\n",
       "      <td>2019-10-11 22:00:00</td>\n",
       "      <td>Hollenbeck</td>\n",
       "      <td>2019-10-11 00:00:00</td>\n",
       "      <td>2200</td>\n",
       "      <td>0.0</td>\n",
       "      <td>0</td>\n",
       "    </tr>\n",
       "    <tr>\n",
       "      <td>1799803</td>\n",
       "      <td>2019-10-11 23:00:00</td>\n",
       "      <td>Hollenbeck</td>\n",
       "      <td>2019-10-11 00:00:00</td>\n",
       "      <td>2300</td>\n",
       "      <td>0.0</td>\n",
       "      <td>0</td>\n",
       "    </tr>\n",
       "    <tr>\n",
       "      <td>1799804</td>\n",
       "      <td>2019-10-12 00:00:00</td>\n",
       "      <td>Hollenbeck</td>\n",
       "      <td>2019-10-12 00:00:00</td>\n",
       "      <td>0</td>\n",
       "      <td>0.0</td>\n",
       "      <td>0</td>\n",
       "    </tr>\n",
       "  </tbody>\n",
       "</table>\n",
       "<p>1799805 rows × 6 columns</p>\n",
       "</div>"
      ],
      "text/plain": [
       "                   date_hour   area_name        date_accident  hour_time  \\\n",
       "0        2010-01-01 00:00:00     Olympic  2010-01-01 00:00:00          0   \n",
       "1        2010-01-01 01:00:00     Olympic  2010-01-01 00:00:00        100   \n",
       "2        2010-01-01 02:00:00     Olympic  2010-01-01 00:00:00        200   \n",
       "3        2010-01-01 03:00:00     Olympic  2010-01-01 00:00:00        300   \n",
       "4        2010-01-01 04:00:00     Olympic  2010-01-01 00:00:00        400   \n",
       "...                      ...         ...                  ...        ...   \n",
       "1799800  2019-10-11 20:00:00  Hollenbeck  2019-10-11 00:00:00       2000   \n",
       "1799801  2019-10-11 21:00:00  Hollenbeck  2019-10-11 00:00:00       2100   \n",
       "1799802  2019-10-11 22:00:00  Hollenbeck  2019-10-11 00:00:00       2200   \n",
       "1799803  2019-10-11 23:00:00  Hollenbeck  2019-10-11 00:00:00       2300   \n",
       "1799804  2019-10-12 00:00:00  Hollenbeck  2019-10-12 00:00:00          0   \n",
       "\n",
       "         no_of_accidents  is_accident  \n",
       "0                    0.0            0  \n",
       "1                    1.0            1  \n",
       "2                    0.0            0  \n",
       "3                    1.0            1  \n",
       "4                    0.0            0  \n",
       "...                  ...          ...  \n",
       "1799800              0.0            0  \n",
       "1799801              0.0            0  \n",
       "1799802              0.0            0  \n",
       "1799803              0.0            0  \n",
       "1799804              0.0            0  \n",
       "\n",
       "[1799805 rows x 6 columns]"
      ]
     },
     "execution_count": 3,
     "metadata": {},
     "output_type": "execute_result"
    }
   ],
   "source": [
    "df"
   ]
  },
  {
   "cell_type": "code",
   "execution_count": 4,
   "metadata": {},
   "outputs": [
    {
     "data": {
      "text/plain": [
       "412044"
      ]
     },
     "execution_count": 4,
     "metadata": {},
     "output_type": "execute_result"
    }
   ],
   "source": [
    "df['is_accident'].sum()"
   ]
  },
  {
   "cell_type": "code",
   "execution_count": 5,
   "metadata": {},
   "outputs": [
    {
     "data": {
      "text/plain": [
       "1799805"
      ]
     },
     "execution_count": 5,
     "metadata": {},
     "output_type": "execute_result"
    }
   ],
   "source": [
    "len(df)"
   ]
  },
  {
   "cell_type": "code",
   "execution_count": 6,
   "metadata": {},
   "outputs": [
    {
     "data": {
      "text/plain": [
       "0.22893813496462118"
      ]
     },
     "execution_count": 6,
     "metadata": {},
     "output_type": "execute_result"
    }
   ],
   "source": [
    "#Percentage of hours with an accident\n",
    "412044/1799805"
   ]
  },
  {
   "cell_type": "code",
   "execution_count": null,
   "metadata": {},
   "outputs": [],
   "source": []
  },
  {
   "cell_type": "code",
   "execution_count": 7,
   "metadata": {},
   "outputs": [],
   "source": [
    "#converting the date_hour filed into a pandas datetime variable\n",
    "df['date_hour'] = pd.to_datetime(df['date_hour'])\n",
    "\n",
    "#adding a day of week variable, 0 = Monday, 6 = Sunday\n",
    "df['day_of_week'] = df['date_hour'].dt.dayofweek\n",
    "\n",
    "#adding a month of year variable\n",
    "df['month'] = df['date_hour'].dt.month\n",
    "\n"
   ]
  },
  {
   "cell_type": "code",
   "execution_count": 8,
   "metadata": {},
   "outputs": [],
   "source": []
  },
  {
   "cell_type": "code",
   "execution_count": 9,
   "metadata": {},
   "outputs": [],
   "source": []
  },
  {
   "cell_type": "code",
   "execution_count": 10,
   "metadata": {},
   "outputs": [],
   "source": [
    "#cloning the dataset\n",
    "train_df = df"
   ]
  },
  {
   "cell_type": "code",
   "execution_count": null,
   "metadata": {},
   "outputs": [],
   "source": []
  },
  {
   "cell_type": "code",
   "execution_count": null,
   "metadata": {},
   "outputs": [],
   "source": []
  },
  {
   "cell_type": "code",
   "execution_count": 11,
   "metadata": {},
   "outputs": [],
   "source": [
    "#using one hot encoding for the area_name variable\n",
    "categorical = ['area_name']\n",
    "\n",
    "transformers = make_pipeline(\n",
    "    ce.OneHotEncoder(use_cat_names=True)\n",
    ")\n",
    "\n",
    "X_categorical = train_df[categorical]\n",
    "X_transformed = transformers.fit_transform(X_categorical)"
   ]
  },
  {
   "cell_type": "code",
   "execution_count": null,
   "metadata": {},
   "outputs": [],
   "source": []
  },
  {
   "cell_type": "code",
   "execution_count": 13,
   "metadata": {},
   "outputs": [],
   "source": [
    "#joining the one hot encoded dataframe with the original one\n",
    "all_joined = pd.concat([train_df, X_transformed], axis=1)"
   ]
  },
  {
   "cell_type": "code",
   "execution_count": 14,
   "metadata": {},
   "outputs": [],
   "source": [
    "#dropping area name as it is represented int he one hot encoded df\n",
    "all_joined = all_joined.drop(['area_name'],axis=1)"
   ]
  },
  {
   "cell_type": "code",
   "execution_count": 15,
   "metadata": {},
   "outputs": [
    {
     "data": {
      "text/plain": [
       "Index(['date_hour', 'date_accident', 'hour_time', 'no_of_accidents',\n",
       "       'is_accident', 'day_of_week', 'month', 'area_name_Olympic',\n",
       "       'area_name_Southeast', 'area_name_Foothill', 'area_name_Hollywood',\n",
       "       'area_name_Mission', 'area_name_Northeast', 'area_name_Newton',\n",
       "       'area_name_Central', 'area_name_N Hollywood', 'area_name_Southwest',\n",
       "       'area_name_Harbor', 'area_name_Devonshire', 'area_name_Pacific',\n",
       "       'area_name_Rampart', 'area_name_Wilshire', 'area_name_77th Street',\n",
       "       'area_name_West LA', 'area_name_Topanga', 'area_name_Van Nuys',\n",
       "       'area_name_West Valley', 'area_name_Hollenbeck'],\n",
       "      dtype='object')"
      ]
     },
     "execution_count": 15,
     "metadata": {},
     "output_type": "execute_result"
    }
   ],
   "source": [
    "all_joined.columns"
   ]
  },
  {
   "cell_type": "code",
   "execution_count": null,
   "metadata": {},
   "outputs": [],
   "source": []
  },
  {
   "cell_type": "code",
   "execution_count": null,
   "metadata": {},
   "outputs": [],
   "source": []
  },
  {
   "cell_type": "code",
   "execution_count": 23,
   "metadata": {},
   "outputs": [],
   "source": [
    "#breaking out features and target for the model\n",
    "features = ['hour_time',\n",
    "       'day_of_week', 'month', 'area_name_Olympic',\n",
    "       'area_name_Southeast', 'area_name_Foothill', 'area_name_Hollywood',\n",
    "       'area_name_Mission', 'area_name_Northeast', 'area_name_Newton',\n",
    "       'area_name_Central', 'area_name_N Hollywood', 'area_name_Southwest',\n",
    "       'area_name_Harbor', 'area_name_Devonshire', 'area_name_Pacific',\n",
    "       'area_name_Rampart', 'area_name_Wilshire', 'area_name_77th Street',\n",
    "       'area_name_West LA', 'area_name_Topanga', 'area_name_Van Nuys',\n",
    "       'area_name_West Valley', 'area_name_Hollenbeck']\n",
    "target = 'is_accident'"
   ]
  },
  {
   "cell_type": "code",
   "execution_count": 24,
   "metadata": {},
   "outputs": [],
   "source": [
    "X_all = all_joined[features]\n",
    "y_all = all_joined[target]"
   ]
  },
  {
   "cell_type": "code",
   "execution_count": 25,
   "metadata": {},
   "outputs": [],
   "source": [
    "#breaking into a train/test split of 80/20\n",
    "X_train, X_test, y_train, y_test = train_test_split(\n",
    "    X_all, y_all, test_size=0.20,random_state=1337)"
   ]
  },
  {
   "cell_type": "code",
   "execution_count": 26,
   "metadata": {},
   "outputs": [],
   "source": [
    "#seting the evalset\n",
    "eval_set = [(X_train,y_train),(X_test,y_test)]"
   ]
  },
  {
   "cell_type": "code",
   "execution_count": 32,
   "metadata": {},
   "outputs": [],
   "source": [
    "#baseline XGBClassifier Model\n",
    "model = XGBClassifier(eval_set=eval_set,eval_metric='auc',\n",
    "                      early_stopping_rounds=50,subsample= 1.0,\n",
    "                      n_estimators = 100,min_child_weight = 3,\n",
    "                      max_depth =  3, gamma =  2, colsample_bytree = 0.8)"
   ]
  },
  {
   "cell_type": "code",
   "execution_count": 33,
   "metadata": {},
   "outputs": [
    {
     "data": {
      "text/plain": [
       "XGBClassifier(base_score=0.5, booster='gbtree', colsample_bylevel=1,\n",
       "              colsample_bynode=1, colsample_bytree=0.8,\n",
       "              early_stopping_rounds=50, eval_metric='auc',\n",
       "              eval_set=[(         hour_time  day_of_week  month  area_name_Olympic  \\\n",
       "492260        1500            6      4                  0   \n",
       "365517        1700            4      8                  0   \n",
       "779761        1600            4     12                  0   \n",
       "983061        1000            3      8                  0   \n",
       "73766         1400            4      6                  1   \n",
       "...            ...          ...    ...                ...   \n",
       "1428135       2300            6      6                  0   \n",
       "480729         400            2     12                  0   \n",
       "1264807       1700            0      5                  0   \n",
       "795880         700            4     10                  0   \n",
       "1313943          0            3      3                  0   \n",
       "\n",
       "         ar...\n",
       "550318     0\n",
       "          ..\n",
       "1541832    1\n",
       "4496       0\n",
       "1274711    0\n",
       "231066     0\n",
       "836829     0\n",
       "Name: is_accident, Length: 359961, dtype: int64)],\n",
       "              gamma=2, learning_rate=0.1, max_delta_step=0, max_depth=3,\n",
       "              min_child_weight=3, missing=None, n_estimators=100, n_jobs=1,\n",
       "              nthread=None, objective='binary:logistic', random_state=0,\n",
       "              reg_alpha=0, reg_lambda=1, scale_pos_weight=1, seed=None,\n",
       "              silent=None, subsample=1.0, verbosity=1)"
      ]
     },
     "execution_count": 33,
     "metadata": {},
     "output_type": "execute_result"
    }
   ],
   "source": [
    "model.fit(X_train,y_train)"
   ]
  },
  {
   "cell_type": "code",
   "execution_count": 36,
   "metadata": {},
   "outputs": [],
   "source": []
  },
  {
   "cell_type": "code",
   "execution_count": 37,
   "metadata": {},
   "outputs": [
    {
     "data": {
      "image/png": "[encoded data removed]",
      "text/plain": [
       "<Figure size 432x288 with 1 Axes>"
      ]
     },
     "metadata": {
      "needs_background": "light"
     },
     "output_type": "display_data"
    }
   ],
   "source": [
    "#plotting ROC curve!\n",
    "from sklearn import metrics\n",
    "probs = model.predict_proba(X_test)\n",
    "preds = probs[:,1]\n",
    "fpr, tpr, threshold = metrics.roc_curve(y_test, preds)\n",
    "roc_auc = metrics.auc(fpr, tpr)\n",
    "\n",
    "# method I: plt\n",
    "import matplotlib.pyplot as plt\n",
    "plt.title('Receiver Operating Characteristic')\n",
    "plt.plot(fpr, tpr, 'b', label = 'AUC = %0.2f' % roc_auc)\n",
    "plt.legend(loc = 'lower right')\n",
    "plt.plot([0, 1], [0, 1],'r--')\n",
    "plt.xlim([0, 1])\n",
    "plt.ylim([0, 1])\n",
    "plt.ylabel('True Positive Rate')\n",
    "plt.xlabel('False Positive Rate')\n",
    "plt.show()\n",
    "\n"
   ]
  },
  {
   "cell_type": "code",
   "execution_count": null,
   "metadata": {},
   "outputs": [],
   "source": []
  }
 ],
 "metadata": {
  "kernelspec": {
   "display_name": "Python 3",
   "language": "python",
   "name": "python3"
  },
  "language_info": {
   "codemirror_mode": {
    "name": "ipython",
    "version": 3
   },
   "file_extension": ".py",
   "mimetype": "text/x-python",
   "name": "python",
   "nbconvert_exporter": "python",
   "pygments_lexer": "ipython3",
   "version": "3.7.3"
  }
 },
 "nbformat": 4,
 "nbformat_minor": 2
}
