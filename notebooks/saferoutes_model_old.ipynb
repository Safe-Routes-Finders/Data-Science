{
 "cells": [
  {
   "cell_type": "code",
   "execution_count": 114,
   "metadata": {
    "colab": {},
    "colab_type": "code",
    "id": "BHb6kI3Hz3IV"
   },
   "outputs": [],
   "source": [
    "import pandas as pd\n",
    "import joblib\n",
    "import numpy as np"
   ]
  },
  {
   "cell_type": "code",
   "execution_count": 26,
   "metadata": {
    "colab": {
     "base_uri": "https://localhost:8080/",
     "height": 204
    },
    "colab_type": "code",
    "id": "-UwcCuIO5Dys",
    "outputId": "abf111c7-527e-420f-9b54-03eb618bdc4f"
   },
   "outputs": [
    {
     "name": "stdout",
     "output_type": "stream",
     "text": [
      "Collecting lightgbm\n",
      "  Downloading https://files.pythonhosted.org/packages/05/ec/756f13b25258e0aa6ec82d98504e01523814f95fc70718407419b8520e1d/lightgbm-2.3.0-py2.py3-none-manylinux1_x86_64.whl (1.3MB)\n",
      "\u001b[K    100% |████████████████████████████████| 1.3MB 1.5MB/s eta 0:00:01\n",
      "\u001b[?25hRequirement already satisfied: scikit-learn in /home/rob/anaconda3/lib/python3.7/site-packages (from lightgbm)\n",
      "Requirement already satisfied: numpy in /home/rob/anaconda3/lib/python3.7/site-packages (from lightgbm)\n",
      "Requirement already satisfied: scipy in /home/rob/anaconda3/lib/python3.7/site-packages (from lightgbm)\n",
      "Requirement already satisfied: joblib>=0.11 in /home/rob/anaconda3/lib/python3.7/site-packages (from scikit-learn->lightgbm)\n",
      "Installing collected packages: lightgbm\n",
      "Successfully installed lightgbm-2.3.0\n",
      "\u001b[33mYou are using pip version 9.0.3, however version 19.3.1 is available.\n",
      "You should consider upgrading via the 'pip install --upgrade pip' command.\u001b[0m\n"
     ]
    }
   ],
   "source": [
    "! pip install lightgbm"
   ]
  },
  {
   "cell_type": "code",
   "execution_count": 60,
   "metadata": {
    "colab": {
     "base_uri": "https://localhost:8080/",
     "height": 34
    },
    "colab_type": "code",
    "id": "grcgJSd_z3Ic",
    "outputId": "14801a05-f083-49cb-e243-cfdc9253a4de"
   },
   "outputs": [
    {
     "data": {
      "text/plain": [
       "(1799805, 6)"
      ]
     },
     "execution_count": 60,
     "metadata": {},
     "output_type": "execute_result"
    }
   ],
   "source": [
    "train_df = pd.read_csv(\"train_data.csv\")\n",
    "train_df.shape"
   ]
  },
  {
   "cell_type": "code",
   "execution_count": 61,
   "metadata": {
    "colab": {
     "base_uri": "https://localhost:8080/",
     "height": 204
    },
    "colab_type": "code",
    "id": "6oMfMbU6z3Ig",
    "outputId": "ce6e13fa-a2b6-4a80-e110-b1f92c7248ab"
   },
   "outputs": [
    {
     "data": {
      "text/html": [
       "<div>\n",
       "<style scoped>\n",
       "    .dataframe tbody tr th:only-of-type {\n",
       "        vertical-align: middle;\n",
       "    }\n",
       "\n",
       "    .dataframe tbody tr th {\n",
       "        vertical-align: top;\n",
       "    }\n",
       "\n",
       "    .dataframe thead th {\n",
       "        text-align: right;\n",
       "    }\n",
       "</style>\n",
       "<table border=\"1\" class=\"dataframe\">\n",
       "  <thead>\n",
       "    <tr style=\"text-align: right;\">\n",
       "      <th></th>\n",
       "      <th>date_hour</th>\n",
       "      <th>area_name</th>\n",
       "      <th>date_accident</th>\n",
       "      <th>hour_time</th>\n",
       "      <th>no_of_accidents</th>\n",
       "      <th>is_accident</th>\n",
       "    </tr>\n",
       "  </thead>\n",
       "  <tbody>\n",
       "    <tr>\n",
       "      <td>0</td>\n",
       "      <td>2010-01-01 00:00:00</td>\n",
       "      <td>Olympic</td>\n",
       "      <td>2010-01-01 00:00:00</td>\n",
       "      <td>0</td>\n",
       "      <td>0.0</td>\n",
       "      <td>0</td>\n",
       "    </tr>\n",
       "    <tr>\n",
       "      <td>1</td>\n",
       "      <td>2010-01-01 01:00:00</td>\n",
       "      <td>Olympic</td>\n",
       "      <td>2010-01-01 00:00:00</td>\n",
       "      <td>100</td>\n",
       "      <td>1.0</td>\n",
       "      <td>1</td>\n",
       "    </tr>\n",
       "    <tr>\n",
       "      <td>2</td>\n",
       "      <td>2010-01-01 02:00:00</td>\n",
       "      <td>Olympic</td>\n",
       "      <td>2010-01-01 00:00:00</td>\n",
       "      <td>200</td>\n",
       "      <td>0.0</td>\n",
       "      <td>0</td>\n",
       "    </tr>\n",
       "    <tr>\n",
       "      <td>3</td>\n",
       "      <td>2010-01-01 03:00:00</td>\n",
       "      <td>Olympic</td>\n",
       "      <td>2010-01-01 00:00:00</td>\n",
       "      <td>300</td>\n",
       "      <td>1.0</td>\n",
       "      <td>1</td>\n",
       "    </tr>\n",
       "    <tr>\n",
       "      <td>4</td>\n",
       "      <td>2010-01-01 04:00:00</td>\n",
       "      <td>Olympic</td>\n",
       "      <td>2010-01-01 00:00:00</td>\n",
       "      <td>400</td>\n",
       "      <td>0.0</td>\n",
       "      <td>0</td>\n",
       "    </tr>\n",
       "  </tbody>\n",
       "</table>\n",
       "</div>"
      ],
      "text/plain": [
       "             date_hour area_name        date_accident  hour_time  \\\n",
       "0  2010-01-01 00:00:00   Olympic  2010-01-01 00:00:00          0   \n",
       "1  2010-01-01 01:00:00   Olympic  2010-01-01 00:00:00        100   \n",
       "2  2010-01-01 02:00:00   Olympic  2010-01-01 00:00:00        200   \n",
       "3  2010-01-01 03:00:00   Olympic  2010-01-01 00:00:00        300   \n",
       "4  2010-01-01 04:00:00   Olympic  2010-01-01 00:00:00        400   \n",
       "\n",
       "   no_of_accidents  is_accident  \n",
       "0              0.0            0  \n",
       "1              1.0            1  \n",
       "2              0.0            0  \n",
       "3              1.0            1  \n",
       "4              0.0            0  "
      ]
     },
     "execution_count": 61,
     "metadata": {},
     "output_type": "execute_result"
    }
   ],
   "source": [
    "train_df.head()"
   ]
  },
  {
   "cell_type": "code",
   "execution_count": 157,
   "metadata": {},
   "outputs": [],
   "source": [
    "area_list = train_df['area_name'].to_list()"
   ]
  },
  {
   "cell_type": "code",
   "execution_count": 159,
   "metadata": {},
   "outputs": [
    {
     "name": "stdout",
     "output_type": "stream",
     "text": [
      "Olympic\n",
      "Southeast\n",
      "Foothill\n",
      "Hollywood\n",
      "Mission\n",
      "Northeast\n",
      "Newton\n",
      "Central\n",
      "N Hollywood\n",
      "Southwest\n",
      "Harbor\n",
      "Devonshire\n",
      "Pacific\n",
      "Rampart\n",
      "Wilshire\n",
      "77th Street\n",
      "West LA\n",
      "Topanga\n",
      "Van Nuys\n",
      "West Valley\n",
      "Hollenbeck\n"
     ]
    }
   ],
   "source": [
    "first = \"blah\"\n",
    "for a in area_list:\n",
    "    if a != first:\n",
    "        print(a)\n",
    "        first = a\n",
    "    elif a == first:\n",
    "        pass\n",
    "    else:\n",
    "        pass"
   ]
  },
  {
   "cell_type": "code",
   "execution_count": 62,
   "metadata": {
    "colab": {
     "base_uri": "https://localhost:8080/",
     "height": 68
    },
    "colab_type": "code",
    "id": "0jlxkNfSz3Ij",
    "outputId": "d507e7c5-3101-4745-816f-761734e4f0f2"
   },
   "outputs": [
    {
     "data": {
      "text/plain": [
       "0    0.771062\n",
       "1    0.228938\n",
       "Name: is_accident, dtype: float64"
      ]
     },
     "execution_count": 62,
     "metadata": {},
     "output_type": "execute_result"
    }
   ],
   "source": [
    "#Baseline Prediction for majority classsifer\n",
    "train_df['is_accident'].value_counts(normalize=True)"
   ]
  },
  {
   "cell_type": "markdown",
   "metadata": {
    "colab_type": "text",
    "id": "Q8G_IElQz3Il"
   },
   "source": [
    "# Will an accident happen in a area of Los Angeles in the next one hour\n",
    "\n",
    "\n",
    "### Base Line Accuracy\n",
    "\n",
    "##### With 77% accuracy we can predict that an accident will not happen in a area within the next one hour\n",
    "\n",
    "##### As baseline accuracy is high, we will be using AUC ROC metric for Model performance of this classification problem"
   ]
  },
  {
   "cell_type": "code",
   "execution_count": 63,
   "metadata": {
    "colab": {},
    "colab_type": "code",
    "id": "MNS5l5Cyz3Im"
   },
   "outputs": [],
   "source": [
    "#Converting columns to datetime\n",
    "train_df['date_hour']=pd.to_datetime(train_df['date_hour'])"
   ]
  },
  {
   "cell_type": "code",
   "execution_count": 64,
   "metadata": {
    "colab": {},
    "colab_type": "code",
    "id": "OmPl4R_gz3Io"
   },
   "outputs": [],
   "source": [
    "area_names = train_df.area_name.unique()"
   ]
  },
  {
   "cell_type": "code",
   "execution_count": 65,
   "metadata": {
    "colab": {
     "base_uri": "https://localhost:8080/",
     "height": 102
    },
    "colab_type": "code",
    "id": "DkKd730Pz3Ir",
    "outputId": "69ee13ce-91f8-40fa-c2ff-99161940f4c1"
   },
   "outputs": [
    {
     "data": {
      "text/plain": [
       "array(['Olympic', 'Southeast', 'Foothill', 'Hollywood', 'Mission',\n",
       "       'Northeast', 'Newton', 'Central', 'N Hollywood', 'Southwest',\n",
       "       'Harbor', 'Devonshire', 'Pacific', 'Rampart', 'Wilshire',\n",
       "       '77th Street', 'West LA', 'Topanga', 'Van Nuys', 'West Valley',\n",
       "       'Hollenbeck'], dtype=object)"
      ]
     },
     "execution_count": 65,
     "metadata": {},
     "output_type": "execute_result"
    }
   ],
   "source": [
    "area_names"
   ]
  },
  {
   "cell_type": "code",
   "execution_count": 66,
   "metadata": {
    "colab": {
     "base_uri": "https://localhost:8080/",
     "height": 238
    },
    "colab_type": "code",
    "id": "aEiW2PNaz3Iv",
    "outputId": "6ffa3a2f-0dab-49ed-ff76-3895e29e1ee1"
   },
   "outputs": [
    {
     "data": {
      "text/plain": [
       "0.0     7.710619e-01\n",
       "1.0     1.896428e-01\n",
       "2.0     3.343084e-02\n",
       "3.0     5.037212e-03\n",
       "4.0     7.050764e-04\n",
       "5.0     9.667714e-05\n",
       "6.0     1.777970e-05\n",
       "7.0     4.444926e-06\n",
       "8.0     1.666847e-06\n",
       "14.0    5.556157e-07\n",
       "12.0    5.556157e-07\n",
       "11.0    5.556157e-07\n",
       "Name: no_of_accidents, dtype: float64"
      ]
     },
     "execution_count": 66,
     "metadata": {},
     "output_type": "execute_result"
    }
   ],
   "source": [
    "#Frequency of accidents in Los Angeles in any given hour\n",
    "train_df['no_of_accidents'].value_counts(normalize=True)"
   ]
  },
  {
   "cell_type": "code",
   "execution_count": 67,
   "metadata": {
    "colab": {},
    "colab_type": "code",
    "id": "QzCAyM1wz3Ix"
   },
   "outputs": [],
   "source": [
    "#Creating features based on no of accidents happened in the past hours in that area\n",
    "empty_df = []\n",
    "laghours = [4,12,24,168,720,2880,8760]\n",
    "for area in area_names:\n",
    "    train_area = train_df[train_df.area_name==area].copy()\n",
    "    train_area['no_past1hour']=train_df['no_of_accidents'].shift(1)\n",
    "    for lhour in laghours:\n",
    "        name = 'past_'+str(lhour)+'hours'\n",
    "        train_area[name]=train_area['no_past1hour'].rolling(lhour).sum()\n",
    "    empty_df.append(train_area)"
   ]
  },
  {
   "cell_type": "code",
   "execution_count": 68,
   "metadata": {
    "colab": {
     "base_uri": "https://localhost:8080/",
     "height": 34
    },
    "colab_type": "code",
    "id": "kS2WQNupz3I1",
    "outputId": "f52de437-d397-4f8a-a3e6-d0203953e06f"
   },
   "outputs": [
    {
     "data": {
      "text/plain": [
       "(1799805, 14)"
      ]
     },
     "execution_count": 68,
     "metadata": {},
     "output_type": "execute_result"
    }
   ],
   "source": [
    "#Final data after creating features\n",
    "train = pd.concat(empty_df)\n",
    "train.shape"
   ]
  },
  {
   "cell_type": "code",
   "execution_count": 69,
   "metadata": {
    "colab": {},
    "colab_type": "code",
    "id": "OdkLqr5Dz3I3"
   },
   "outputs": [],
   "source": [
    "#Filling all Nan values with -1\n",
    "train = train.fillna(-1)"
   ]
  },
  {
   "cell_type": "code",
   "execution_count": 70,
   "metadata": {
    "colab": {},
    "colab_type": "code",
    "id": "02XweVpq0Ul7"
   },
   "outputs": [],
   "source": [
    "#Adding more features to the data\n",
    "#train['day']=train['date_hour'].dt.day\n",
    "train['month']=train['date_hour'].dt.month\n",
    "train['dayofweek']=train['date_hour'].dt.dayofweek\n",
    "#train['year']=train['date_hour'].dt.year"
   ]
  },
  {
   "cell_type": "code",
   "execution_count": 71,
   "metadata": {
    "colab": {
     "base_uri": "https://localhost:8080/",
     "height": 34
    },
    "colab_type": "code",
    "id": "dzocZtpSz3I6",
    "outputId": "66dd88ff-1939-469c-fd04-d76999cac9f6"
   },
   "outputs": [
    {
     "data": {
      "text/plain": [
       "(1799805, 15)"
      ]
     },
     "execution_count": 71,
     "metadata": {},
     "output_type": "execute_result"
    }
   ],
   "source": [
    "#Removing No of accidents as that is a leakage feature and date_hour as it is equal to a index\n",
    "train = train.drop(columns=['no_of_accidents'])\n",
    "train.shape"
   ]
  },
  {
   "cell_type": "code",
   "execution_count": 72,
   "metadata": {
    "colab": {
     "base_uri": "https://localhost:8080/",
     "height": 309
    },
    "colab_type": "code",
    "id": "U79XFCZEz3I8",
    "outputId": "31136d41-baee-411f-b0d2-62de664a1bd3"
   },
   "outputs": [
    {
     "data": {
      "text/html": [
       "<div>\n",
       "<style scoped>\n",
       "    .dataframe tbody tr th:only-of-type {\n",
       "        vertical-align: middle;\n",
       "    }\n",
       "\n",
       "    .dataframe tbody tr th {\n",
       "        vertical-align: top;\n",
       "    }\n",
       "\n",
       "    .dataframe thead th {\n",
       "        text-align: right;\n",
       "    }\n",
       "</style>\n",
       "<table border=\"1\" class=\"dataframe\">\n",
       "  <thead>\n",
       "    <tr style=\"text-align: right;\">\n",
       "      <th></th>\n",
       "      <th>date_hour</th>\n",
       "      <th>area_name</th>\n",
       "      <th>date_accident</th>\n",
       "      <th>hour_time</th>\n",
       "      <th>is_accident</th>\n",
       "      <th>no_past1hour</th>\n",
       "      <th>past_4hours</th>\n",
       "      <th>past_12hours</th>\n",
       "      <th>past_24hours</th>\n",
       "      <th>past_168hours</th>\n",
       "      <th>past_720hours</th>\n",
       "      <th>past_2880hours</th>\n",
       "      <th>past_8760hours</th>\n",
       "      <th>month</th>\n",
       "      <th>dayofweek</th>\n",
       "    </tr>\n",
       "  </thead>\n",
       "  <tbody>\n",
       "    <tr>\n",
       "      <td>1799800</td>\n",
       "      <td>2019-10-11 20:00:00</td>\n",
       "      <td>Hollenbeck</td>\n",
       "      <td>2019-10-11 00:00:00</td>\n",
       "      <td>2000</td>\n",
       "      <td>0</td>\n",
       "      <td>0.0</td>\n",
       "      <td>0.0</td>\n",
       "      <td>0.0</td>\n",
       "      <td>2.0</td>\n",
       "      <td>28.0</td>\n",
       "      <td>155.0</td>\n",
       "      <td>641.0</td>\n",
       "      <td>2020.0</td>\n",
       "      <td>10</td>\n",
       "      <td>4</td>\n",
       "    </tr>\n",
       "    <tr>\n",
       "      <td>1799801</td>\n",
       "      <td>2019-10-11 21:00:00</td>\n",
       "      <td>Hollenbeck</td>\n",
       "      <td>2019-10-11 00:00:00</td>\n",
       "      <td>2100</td>\n",
       "      <td>0</td>\n",
       "      <td>0.0</td>\n",
       "      <td>0.0</td>\n",
       "      <td>0.0</td>\n",
       "      <td>2.0</td>\n",
       "      <td>28.0</td>\n",
       "      <td>155.0</td>\n",
       "      <td>640.0</td>\n",
       "      <td>2020.0</td>\n",
       "      <td>10</td>\n",
       "      <td>4</td>\n",
       "    </tr>\n",
       "    <tr>\n",
       "      <td>1799802</td>\n",
       "      <td>2019-10-11 22:00:00</td>\n",
       "      <td>Hollenbeck</td>\n",
       "      <td>2019-10-11 00:00:00</td>\n",
       "      <td>2200</td>\n",
       "      <td>0</td>\n",
       "      <td>0.0</td>\n",
       "      <td>0.0</td>\n",
       "      <td>0.0</td>\n",
       "      <td>2.0</td>\n",
       "      <td>28.0</td>\n",
       "      <td>155.0</td>\n",
       "      <td>640.0</td>\n",
       "      <td>2020.0</td>\n",
       "      <td>10</td>\n",
       "      <td>4</td>\n",
       "    </tr>\n",
       "    <tr>\n",
       "      <td>1799803</td>\n",
       "      <td>2019-10-11 23:00:00</td>\n",
       "      <td>Hollenbeck</td>\n",
       "      <td>2019-10-11 00:00:00</td>\n",
       "      <td>2300</td>\n",
       "      <td>0</td>\n",
       "      <td>0.0</td>\n",
       "      <td>0.0</td>\n",
       "      <td>0.0</td>\n",
       "      <td>2.0</td>\n",
       "      <td>28.0</td>\n",
       "      <td>154.0</td>\n",
       "      <td>640.0</td>\n",
       "      <td>2020.0</td>\n",
       "      <td>10</td>\n",
       "      <td>4</td>\n",
       "    </tr>\n",
       "    <tr>\n",
       "      <td>1799804</td>\n",
       "      <td>2019-10-12 00:00:00</td>\n",
       "      <td>Hollenbeck</td>\n",
       "      <td>2019-10-12 00:00:00</td>\n",
       "      <td>0</td>\n",
       "      <td>0</td>\n",
       "      <td>0.0</td>\n",
       "      <td>0.0</td>\n",
       "      <td>0.0</td>\n",
       "      <td>2.0</td>\n",
       "      <td>28.0</td>\n",
       "      <td>154.0</td>\n",
       "      <td>640.0</td>\n",
       "      <td>2020.0</td>\n",
       "      <td>10</td>\n",
       "      <td>5</td>\n",
       "    </tr>\n",
       "  </tbody>\n",
       "</table>\n",
       "</div>"
      ],
      "text/plain": [
       "                  date_hour   area_name        date_accident  hour_time  \\\n",
       "1799800 2019-10-11 20:00:00  Hollenbeck  2019-10-11 00:00:00       2000   \n",
       "1799801 2019-10-11 21:00:00  Hollenbeck  2019-10-11 00:00:00       2100   \n",
       "1799802 2019-10-11 22:00:00  Hollenbeck  2019-10-11 00:00:00       2200   \n",
       "1799803 2019-10-11 23:00:00  Hollenbeck  2019-10-11 00:00:00       2300   \n",
       "1799804 2019-10-12 00:00:00  Hollenbeck  2019-10-12 00:00:00          0   \n",
       "\n",
       "         is_accident  no_past1hour  past_4hours  past_12hours  past_24hours  \\\n",
       "1799800            0           0.0          0.0           0.0           2.0   \n",
       "1799801            0           0.0          0.0           0.0           2.0   \n",
       "1799802            0           0.0          0.0           0.0           2.0   \n",
       "1799803            0           0.0          0.0           0.0           2.0   \n",
       "1799804            0           0.0          0.0           0.0           2.0   \n",
       "\n",
       "         past_168hours  past_720hours  past_2880hours  past_8760hours  month  \\\n",
       "1799800           28.0          155.0           641.0          2020.0     10   \n",
       "1799801           28.0          155.0           640.0          2020.0     10   \n",
       "1799802           28.0          155.0           640.0          2020.0     10   \n",
       "1799803           28.0          154.0           640.0          2020.0     10   \n",
       "1799804           28.0          154.0           640.0          2020.0     10   \n",
       "\n",
       "         dayofweek  \n",
       "1799800          4  \n",
       "1799801          4  \n",
       "1799802          4  \n",
       "1799803          4  \n",
       "1799804          5  "
      ]
     },
     "execution_count": 72,
     "metadata": {},
     "output_type": "execute_result"
    }
   ],
   "source": [
    "train.tail()"
   ]
  },
  {
   "cell_type": "code",
   "execution_count": 73,
   "metadata": {
    "colab": {},
    "colab_type": "code",
    "id": "-rlBWmRuz3I-"
   },
   "outputs": [],
   "source": [
    "#Creating a train,valid and test dataset based on time slicing\n",
    "#Train set will be data before 2018\n",
    "#Valid set will be data for year 2018\n",
    "#Test set will be data for year 2019"
   ]
  },
  {
   "cell_type": "code",
   "execution_count": 74,
   "metadata": {
    "colab": {},
    "colab_type": "code",
    "id": "aswWkSkuz3JA"
   },
   "outputs": [],
   "source": [
    "target = 'is_accident'"
   ]
  },
  {
   "cell_type": "code",
   "execution_count": 75,
   "metadata": {
    "colab": {
     "base_uri": "https://localhost:8080/",
     "height": 68
    },
    "colab_type": "code",
    "id": "-tb0f_Hxz3JC",
    "outputId": "bd5583b6-f8e2-4eeb-baef-33b5f97762f2"
   },
   "outputs": [
    {
     "name": "stdout",
     "output_type": "stream",
     "text": [
      "Train : 1472688\n",
      "Valid : 183960\n",
      "Valid : 143157\n"
     ]
    }
   ],
   "source": [
    "train_set = train[train.date_hour<'2018-01-01']\n",
    "valid_set = train[(train.date_hour>='2018-01-01')&(train.date_hour<'2019-01-01')]\n",
    "test_set = train[train.date_hour>='2019-01-01']\n",
    "print(\"Train :\",train_set.shape[0])\n",
    "print(\"Valid :\",valid_set.shape[0])\n",
    "print(\"Valid :\",test_set.shape[0])"
   ]
  },
  {
   "cell_type": "code",
   "execution_count": 76,
   "metadata": {
    "colab": {},
    "colab_type": "code",
    "id": "dqjDuryfz3JE"
   },
   "outputs": [],
   "source": [
    "#separating target and training data\n",
    "y_train = train_set[target]\n",
    "train_set = train_set.drop(columns=target)\n",
    "y_valid = valid_set[target]\n",
    "valid_set = valid_set.drop(columns=target)\n",
    "y_test = test_set[target]\n",
    "test_set = test_set.drop(columns=target)"
   ]
  },
  {
   "cell_type": "code",
   "execution_count": 77,
   "metadata": {
    "colab": {},
    "colab_type": "code",
    "id": "z1KjG1bpz3JG"
   },
   "outputs": [],
   "source": [
    "from sklearn.ensemble import RandomForestClassifier\n",
    "import category_encoders as ce\n",
    "from sklearn.pipeline import make_pipeline\n",
    "from lightgbm import LGBMClassifier\n",
    "from sklearn.metrics import roc_auc_score,roc_curve,auc,confusion_matrix,classification_report"
   ]
  },
  {
   "cell_type": "code",
   "execution_count": 78,
   "metadata": {
    "colab": {},
    "colab_type": "code",
    "id": "4XAraTEnz3JI"
   },
   "outputs": [],
   "source": [
    "pipeline = make_pipeline(\n",
    "    ce.OrdinalEncoder(),\n",
    "    #LGBMClassifier(max_depth=8,learning_rate=0.03,n_estimators=1500,min_child_samples=20)\n",
    ")"
   ]
  },
  {
   "cell_type": "code",
   "execution_count": 160,
   "metadata": {},
   "outputs": [
    {
     "data": {
      "text/plain": [
       "['pipeline.joblib']"
      ]
     },
     "execution_count": 160,
     "metadata": {},
     "output_type": "execute_result"
    }
   ],
   "source": [
    "joblib.dump(pipeline,'pipeline.joblib')"
   ]
  },
  {
   "cell_type": "code",
   "execution_count": 128,
   "metadata": {
    "colab": {},
    "colab_type": "code",
    "id": "2F7l1zdDz3JL"
   },
   "outputs": [],
   "source": [
    "features = train_set.columns.drop(['date_hour','date_accident','past_4hours', 'past_12hours',\n",
    "       'past_24hours', 'past_168hours', 'past_720hours', 'past_2880hours',\n",
    "       'past_8760hours','no_past1hour','month'])"
   ]
  },
  {
   "cell_type": "code",
   "execution_count": 129,
   "metadata": {
    "colab": {
     "base_uri": "https://localhost:8080/",
     "height": 85
    },
    "colab_type": "code",
    "id": "8O7ZQKbOS5C5",
    "outputId": "1835143e-a91a-444d-ad02-1a74f1d1b7f4"
   },
   "outputs": [
    {
     "data": {
      "text/plain": [
       "Index(['area_name', 'hour_time', 'dayofweek'], dtype='object')"
      ]
     },
     "execution_count": 129,
     "metadata": {},
     "output_type": "execute_result"
    }
   ],
   "source": [
    "features"
   ]
  },
  {
   "cell_type": "code",
   "execution_count": 130,
   "metadata": {
    "colab": {},
    "colab_type": "code",
    "id": "fmiPGmM5z3JO"
   },
   "outputs": [],
   "source": [
    " X_train = pipeline.fit_transform(train_set[features])\n",
    " X_valid = pipeline.transform(valid_set[features])\n",
    " X_test = pipeline.transform(test_set[features])\n",
    "\n",
    "\n"
   ]
  },
  {
   "cell_type": "code",
   "execution_count": 161,
   "metadata": {},
   "outputs": [
    {
     "data": {
      "text/plain": [
       "Pipeline(memory=None,\n",
       "         steps=[('ordinalencoder',\n",
       "                 OrdinalEncoder(cols=['area_name'], drop_invariant=False,\n",
       "                                handle_missing='value', handle_unknown='value',\n",
       "                                mapping=[{'col': 'area_name',\n",
       "                                          'data_type': dtype('O'),\n",
       "                                          'mapping': Olympic         1\n",
       "Southeast       2\n",
       "Foothill        3\n",
       "Hollywood       4\n",
       "Mission         5\n",
       "Northeast       6\n",
       "Newton          7\n",
       "Central         8\n",
       "N Hollywood     9\n",
       "Southwest      10\n",
       "Harbor         11\n",
       "Devonshire     12\n",
       "Pacific        13\n",
       "Rampart        14\n",
       "Wilshire       15\n",
       "77th Street    16\n",
       "West LA        17\n",
       "Topanga        18\n",
       "Van Nuys       19\n",
       "West Valley    20\n",
       "Hollenbeck     21\n",
       "NaN            -2\n",
       "dtype: int64}],\n",
       "                                return_df=True, verbose=0))],\n",
       "         verbose=False)"
      ]
     },
     "execution_count": 161,
     "metadata": {},
     "output_type": "execute_result"
    }
   ],
   "source": [
    "pipeline"
   ]
  },
  {
   "cell_type": "code",
   "execution_count": 148,
   "metadata": {},
   "outputs": [
    {
     "data": {
      "text/plain": [
       "array(['Olympic', 'Olympic', 'Olympic', ..., 'Hollenbeck', 'Hollenbeck',\n",
       "       'Hollenbeck'], dtype=object)"
      ]
     },
     "execution_count": 148,
     "metadata": {},
     "output_type": "execute_result"
    }
   ],
   "source": [
    "train_set['area_name'].values"
   ]
  },
  {
   "cell_type": "code",
   "execution_count": 142,
   "metadata": {},
   "outputs": [
    {
     "data": {
      "text/html": [
       "<div>\n",
       "<style scoped>\n",
       "    .dataframe tbody tr th:only-of-type {\n",
       "        vertical-align: middle;\n",
       "    }\n",
       "\n",
       "    .dataframe tbody tr th {\n",
       "        vertical-align: top;\n",
       "    }\n",
       "\n",
       "    .dataframe thead th {\n",
       "        text-align: right;\n",
       "    }\n",
       "</style>\n",
       "<table border=\"1\" class=\"dataframe\">\n",
       "  <thead>\n",
       "    <tr style=\"text-align: right;\">\n",
       "      <th></th>\n",
       "      <th>area_name</th>\n",
       "      <th>hour_time</th>\n",
       "      <th>dayofweek</th>\n",
       "    </tr>\n",
       "  </thead>\n",
       "  <tbody>\n",
       "    <tr>\n",
       "      <td>0</td>\n",
       "      <td>1</td>\n",
       "      <td>0</td>\n",
       "      <td>4</td>\n",
       "    </tr>\n",
       "    <tr>\n",
       "      <td>1</td>\n",
       "      <td>1</td>\n",
       "      <td>100</td>\n",
       "      <td>4</td>\n",
       "    </tr>\n",
       "    <tr>\n",
       "      <td>2</td>\n",
       "      <td>1</td>\n",
       "      <td>200</td>\n",
       "      <td>4</td>\n",
       "    </tr>\n",
       "    <tr>\n",
       "      <td>3</td>\n",
       "      <td>1</td>\n",
       "      <td>300</td>\n",
       "      <td>4</td>\n",
       "    </tr>\n",
       "    <tr>\n",
       "      <td>4</td>\n",
       "      <td>1</td>\n",
       "      <td>400</td>\n",
       "      <td>4</td>\n",
       "    </tr>\n",
       "    <tr>\n",
       "      <td>...</td>\n",
       "      <td>...</td>\n",
       "      <td>...</td>\n",
       "      <td>...</td>\n",
       "    </tr>\n",
       "    <tr>\n",
       "      <td>1784223</td>\n",
       "      <td>21</td>\n",
       "      <td>1900</td>\n",
       "      <td>6</td>\n",
       "    </tr>\n",
       "    <tr>\n",
       "      <td>1784224</td>\n",
       "      <td>21</td>\n",
       "      <td>2000</td>\n",
       "      <td>6</td>\n",
       "    </tr>\n",
       "    <tr>\n",
       "      <td>1784225</td>\n",
       "      <td>21</td>\n",
       "      <td>2100</td>\n",
       "      <td>6</td>\n",
       "    </tr>\n",
       "    <tr>\n",
       "      <td>1784226</td>\n",
       "      <td>21</td>\n",
       "      <td>2200</td>\n",
       "      <td>6</td>\n",
       "    </tr>\n",
       "    <tr>\n",
       "      <td>1784227</td>\n",
       "      <td>21</td>\n",
       "      <td>2300</td>\n",
       "      <td>6</td>\n",
       "    </tr>\n",
       "  </tbody>\n",
       "</table>\n",
       "<p>1472688 rows × 3 columns</p>\n",
       "</div>"
      ],
      "text/plain": [
       "         area_name  hour_time  dayofweek\n",
       "0                1          0          4\n",
       "1                1        100          4\n",
       "2                1        200          4\n",
       "3                1        300          4\n",
       "4                1        400          4\n",
       "...            ...        ...        ...\n",
       "1784223         21       1900          6\n",
       "1784224         21       2000          6\n",
       "1784225         21       2100          6\n",
       "1784226         21       2200          6\n",
       "1784227         21       2300          6\n",
       "\n",
       "[1472688 rows x 3 columns]"
      ]
     },
     "execution_count": 142,
     "metadata": {},
     "output_type": "execute_result"
    }
   ],
   "source": [
    "X_train"
   ]
  },
  {
   "cell_type": "code",
   "execution_count": 131,
   "metadata": {
    "colab": {
     "base_uri": "https://localhost:8080/",
     "height": 224
    },
    "colab_type": "code",
    "id": "gVTe294MXPOb",
    "outputId": "542a503a-836d-4d3e-b935-4b0c08522d03"
   },
   "outputs": [
    {
     "data": {
      "text/html": [
       "<div>\n",
       "<style scoped>\n",
       "    .dataframe tbody tr th:only-of-type {\n",
       "        vertical-align: middle;\n",
       "    }\n",
       "\n",
       "    .dataframe tbody tr th {\n",
       "        vertical-align: top;\n",
       "    }\n",
       "\n",
       "    .dataframe thead th {\n",
       "        text-align: right;\n",
       "    }\n",
       "</style>\n",
       "<table border=\"1\" class=\"dataframe\">\n",
       "  <thead>\n",
       "    <tr style=\"text-align: right;\">\n",
       "      <th></th>\n",
       "      <th>area_name</th>\n",
       "      <th>hour_time</th>\n",
       "      <th>dayofweek</th>\n",
       "    </tr>\n",
       "  </thead>\n",
       "  <tbody>\n",
       "    <tr>\n",
       "      <td>0</td>\n",
       "      <td>1</td>\n",
       "      <td>0</td>\n",
       "      <td>4</td>\n",
       "    </tr>\n",
       "    <tr>\n",
       "      <td>1</td>\n",
       "      <td>1</td>\n",
       "      <td>100</td>\n",
       "      <td>4</td>\n",
       "    </tr>\n",
       "    <tr>\n",
       "      <td>2</td>\n",
       "      <td>1</td>\n",
       "      <td>200</td>\n",
       "      <td>4</td>\n",
       "    </tr>\n",
       "    <tr>\n",
       "      <td>3</td>\n",
       "      <td>1</td>\n",
       "      <td>300</td>\n",
       "      <td>4</td>\n",
       "    </tr>\n",
       "    <tr>\n",
       "      <td>4</td>\n",
       "      <td>1</td>\n",
       "      <td>400</td>\n",
       "      <td>4</td>\n",
       "    </tr>\n",
       "  </tbody>\n",
       "</table>\n",
       "</div>"
      ],
      "text/plain": [
       "   area_name  hour_time  dayofweek\n",
       "0          1          0          4\n",
       "1          1        100          4\n",
       "2          1        200          4\n",
       "3          1        300          4\n",
       "4          1        400          4"
      ]
     },
     "execution_count": 131,
     "metadata": {},
     "output_type": "execute_result"
    }
   ],
   "source": [
    "X_train.head()"
   ]
  },
  {
   "cell_type": "code",
   "execution_count": 132,
   "metadata": {
    "colab": {},
    "colab_type": "code",
    "id": "sGZmpUcaVfC5"
   },
   "outputs": [],
   "source": [
    "\n",
    "eval_set = [(X_train,y_train),(X_valid,y_valid)]\n",
    "model = LGBMClassifier(learning_rate=0.01,subsample= 1.0,\n",
    "                      n_estimators = 500,min_child_weight = 3,\n",
    "                       gamma =  1, colsample_bytree = 0.8)"
   ]
  },
  {
   "cell_type": "code",
   "execution_count": 164,
   "metadata": {
    "colab": {},
    "colab_type": "code",
    "id": "L9EXJY5dz3JQ"
   },
   "outputs": [
    {
     "data": {
      "text/html": [
       "<div>\n",
       "<style scoped>\n",
       "    .dataframe tbody tr th:only-of-type {\n",
       "        vertical-align: middle;\n",
       "    }\n",
       "\n",
       "    .dataframe tbody tr th {\n",
       "        vertical-align: top;\n",
       "    }\n",
       "\n",
       "    .dataframe thead th {\n",
       "        text-align: right;\n",
       "    }\n",
       "</style>\n",
       "<table border=\"1\" class=\"dataframe\">\n",
       "  <thead>\n",
       "    <tr style=\"text-align: right;\">\n",
       "      <th></th>\n",
       "      <th>area_name</th>\n",
       "      <th>hour_time</th>\n",
       "      <th>dayofweek</th>\n",
       "    </tr>\n",
       "  </thead>\n",
       "  <tbody>\n",
       "    <tr>\n",
       "      <td>0</td>\n",
       "      <td>1</td>\n",
       "      <td>0</td>\n",
       "      <td>4</td>\n",
       "    </tr>\n",
       "    <tr>\n",
       "      <td>1</td>\n",
       "      <td>1</td>\n",
       "      <td>100</td>\n",
       "      <td>4</td>\n",
       "    </tr>\n",
       "    <tr>\n",
       "      <td>2</td>\n",
       "      <td>1</td>\n",
       "      <td>200</td>\n",
       "      <td>4</td>\n",
       "    </tr>\n",
       "    <tr>\n",
       "      <td>3</td>\n",
       "      <td>1</td>\n",
       "      <td>300</td>\n",
       "      <td>4</td>\n",
       "    </tr>\n",
       "    <tr>\n",
       "      <td>4</td>\n",
       "      <td>1</td>\n",
       "      <td>400</td>\n",
       "      <td>4</td>\n",
       "    </tr>\n",
       "    <tr>\n",
       "      <td>...</td>\n",
       "      <td>...</td>\n",
       "      <td>...</td>\n",
       "      <td>...</td>\n",
       "    </tr>\n",
       "    <tr>\n",
       "      <td>1784223</td>\n",
       "      <td>21</td>\n",
       "      <td>1900</td>\n",
       "      <td>6</td>\n",
       "    </tr>\n",
       "    <tr>\n",
       "      <td>1784224</td>\n",
       "      <td>21</td>\n",
       "      <td>2000</td>\n",
       "      <td>6</td>\n",
       "    </tr>\n",
       "    <tr>\n",
       "      <td>1784225</td>\n",
       "      <td>21</td>\n",
       "      <td>2100</td>\n",
       "      <td>6</td>\n",
       "    </tr>\n",
       "    <tr>\n",
       "      <td>1784226</td>\n",
       "      <td>21</td>\n",
       "      <td>2200</td>\n",
       "      <td>6</td>\n",
       "    </tr>\n",
       "    <tr>\n",
       "      <td>1784227</td>\n",
       "      <td>21</td>\n",
       "      <td>2300</td>\n",
       "      <td>6</td>\n",
       "    </tr>\n",
       "  </tbody>\n",
       "</table>\n",
       "<p>1472688 rows × 3 columns</p>\n",
       "</div>"
      ],
      "text/plain": [
       "         area_name  hour_time  dayofweek\n",
       "0                1          0          4\n",
       "1                1        100          4\n",
       "2                1        200          4\n",
       "3                1        300          4\n",
       "4                1        400          4\n",
       "...            ...        ...        ...\n",
       "1784223         21       1900          6\n",
       "1784224         21       2000          6\n",
       "1784225         21       2100          6\n",
       "1784226         21       2200          6\n",
       "1784227         21       2300          6\n",
       "\n",
       "[1472688 rows x 3 columns]"
      ]
     },
     "execution_count": 164,
     "metadata": {},
     "output_type": "execute_result"
    }
   ],
   "source": [
    "X_train"
   ]
  },
  {
   "cell_type": "code",
   "execution_count": 166,
   "metadata": {
    "colab": {
     "base_uri": "https://localhost:8080/",
     "height": 1000
    },
    "colab_type": "code",
    "id": "qTZAO5yhWrrZ",
    "outputId": "f54a5ca1-28ec-4062-9e90-8c988ee66c2d"
   },
   "outputs": [
    {
     "name": "stdout",
     "output_type": "stream",
     "text": [
      "[1]\tvalid_0's auc: 0.554746\tvalid_0's binary_logloss: 0.531746\tvalid_1's auc: 0.548877\tvalid_1's binary_logloss: 0.569038\n",
      "Training until validation scores don't improve for 50 rounds\n",
      "[2]\tvalid_0's auc: 0.650345\tvalid_0's binary_logloss: 0.531288\tvalid_1's auc: 0.651022\tvalid_1's binary_logloss: 0.56853\n",
      "[3]\tvalid_0's auc: 0.650879\tvalid_0's binary_logloss: 0.530838\tvalid_1's auc: 0.652836\tvalid_1's binary_logloss: 0.568033\n",
      "[4]\tvalid_0's auc: 0.650418\tvalid_0's binary_logloss: 0.530776\tvalid_1's auc: 0.651107\tvalid_1's binary_logloss: 0.567972\n",
      "[5]\tvalid_0's auc: 0.646508\tvalid_0's binary_logloss: 0.530715\tvalid_1's auc: 0.646184\tvalid_1's binary_logloss: 0.567913\n",
      "[6]\tvalid_0's auc: 0.659139\tvalid_0's binary_logloss: 0.53023\tvalid_1's auc: 0.659863\tvalid_1's binary_logloss: 0.567378\n",
      "[7]\tvalid_0's auc: 0.657043\tvalid_0's binary_logloss: 0.530171\tvalid_1's auc: 0.65701\tvalid_1's binary_logloss: 0.56732\n",
      "[8]\tvalid_0's auc: 0.657383\tvalid_0's binary_logloss: 0.529739\tvalid_1's auc: 0.658117\tvalid_1's binary_logloss: 0.566841\n",
      "[9]\tvalid_0's auc: 0.65706\tvalid_0's binary_logloss: 0.529319\tvalid_1's auc: 0.658325\tvalid_1's binary_logloss: 0.566374\n",
      "[10]\tvalid_0's auc: 0.660049\tvalid_0's binary_logloss: 0.528857\tvalid_1's auc: 0.661527\tvalid_1's binary_logloss: 0.565864\n",
      "[11]\tvalid_0's auc: 0.661537\tvalid_0's binary_logloss: 0.528404\tvalid_1's auc: 0.663173\tvalid_1's binary_logloss: 0.565364\n",
      "[12]\tvalid_0's auc: 0.662058\tvalid_0's binary_logloss: 0.527959\tvalid_1's auc: 0.663802\tvalid_1's binary_logloss: 0.564873\n",
      "[13]\tvalid_0's auc: 0.662227\tvalid_0's binary_logloss: 0.527523\tvalid_1's auc: 0.664015\tvalid_1's binary_logloss: 0.564391\n",
      "[14]\tvalid_0's auc: 0.662781\tvalid_0's binary_logloss: 0.527465\tvalid_1's auc: 0.664336\tvalid_1's binary_logloss: 0.564336\n",
      "[15]\tvalid_0's auc: 0.662859\tvalid_0's binary_logloss: 0.527037\tvalid_1's auc: 0.664463\tvalid_1's binary_logloss: 0.563863\n",
      "[16]\tvalid_0's auc: 0.663293\tvalid_0's binary_logloss: 0.526981\tvalid_1's auc: 0.664695\tvalid_1's binary_logloss: 0.56381\n",
      "[17]\tvalid_0's auc: 0.66273\tvalid_0's binary_logloss: 0.526604\tvalid_1's auc: 0.664309\tvalid_1's binary_logloss: 0.56339\n",
      "[18]\tvalid_0's auc: 0.663035\tvalid_0's binary_logloss: 0.526549\tvalid_1's auc: 0.664388\tvalid_1's binary_logloss: 0.563338\n",
      "[19]\tvalid_0's auc: 0.662521\tvalid_0's binary_logloss: 0.526178\tvalid_1's auc: 0.663997\tvalid_1's binary_logloss: 0.562926\n",
      "[20]\tvalid_0's auc: 0.662724\tvalid_0's binary_logloss: 0.526125\tvalid_1's auc: 0.663968\tvalid_1's binary_logloss: 0.562875\n",
      "[21]\tvalid_0's auc: 0.663016\tvalid_0's binary_logloss: 0.525717\tvalid_1's auc: 0.664403\tvalid_1's binary_logloss: 0.562425\n",
      "[22]\tvalid_0's auc: 0.663154\tvalid_0's binary_logloss: 0.525316\tvalid_1's auc: 0.664602\tvalid_1's binary_logloss: 0.561983\n",
      "[23]\tvalid_0's auc: 0.663194\tvalid_0's binary_logloss: 0.524923\tvalid_1's auc: 0.664683\tvalid_1's binary_logloss: 0.561549\n",
      "[24]\tvalid_0's auc: 0.663485\tvalid_0's binary_logloss: 0.524871\tvalid_1's auc: 0.66485\tvalid_1's binary_logloss: 0.5615\n",
      "[25]\tvalid_0's auc: 0.663132\tvalid_0's binary_logloss: 0.524525\tvalid_1's auc: 0.664571\tvalid_1's binary_logloss: 0.561117\n",
      "[26]\tvalid_0's auc: 0.66317\tvalid_0's binary_logloss: 0.524144\tvalid_1's auc: 0.664615\tvalid_1's binary_logloss: 0.560697\n",
      "[27]\tvalid_0's auc: 0.663404\tvalid_0's binary_logloss: 0.524094\tvalid_1's auc: 0.664776\tvalid_1's binary_logloss: 0.56065\n",
      "[28]\tvalid_0's auc: 0.663601\tvalid_0's binary_logloss: 0.524045\tvalid_1's auc: 0.664793\tvalid_1's binary_logloss: 0.560602\n",
      "[29]\tvalid_0's auc: 0.663664\tvalid_0's binary_logloss: 0.523671\tvalid_1's auc: 0.66495\tvalid_1's binary_logloss: 0.56019\n",
      "[30]\tvalid_0's auc: 0.66381\tvalid_0's binary_logloss: 0.523623\tvalid_1's auc: 0.664955\tvalid_1's binary_logloss: 0.560145\n",
      "[31]\tvalid_0's auc: 0.663536\tvalid_0's binary_logloss: 0.523296\tvalid_1's auc: 0.664745\tvalid_1's binary_logloss: 0.559783\n",
      "[32]\tvalid_0's auc: 0.663581\tvalid_0's binary_logloss: 0.522935\tvalid_1's auc: 0.664875\tvalid_1's binary_logloss: 0.559384\n",
      "[33]\tvalid_0's auc: 0.663345\tvalid_0's binary_logloss: 0.52262\tvalid_1's auc: 0.664696\tvalid_1's binary_logloss: 0.559034\n",
      "[34]\tvalid_0's auc: 0.663494\tvalid_0's binary_logloss: 0.522573\tvalid_1's auc: 0.664729\tvalid_1's binary_logloss: 0.55899\n",
      "[35]\tvalid_0's auc: 0.663659\tvalid_0's binary_logloss: 0.522528\tvalid_1's auc: 0.664734\tvalid_1's binary_logloss: 0.558947\n",
      "[36]\tvalid_0's auc: 0.663703\tvalid_0's binary_logloss: 0.522178\tvalid_1's auc: 0.664861\tvalid_1's binary_logloss: 0.558562\n",
      "[37]\tvalid_0's auc: 0.663458\tvalid_0's binary_logloss: 0.521875\tvalid_1's auc: 0.664675\tvalid_1's binary_logloss: 0.558227\n",
      "[38]\tvalid_0's auc: 0.663532\tvalid_0's binary_logloss: 0.521536\tvalid_1's auc: 0.6648\tvalid_1's binary_logloss: 0.557853\n",
      "[39]\tvalid_0's auc: 0.663658\tvalid_0's binary_logloss: 0.521492\tvalid_1's auc: 0.664831\tvalid_1's binary_logloss: 0.557812\n",
      "[40]\tvalid_0's auc: 0.663701\tvalid_0's binary_logloss: 0.52116\tvalid_1's auc: 0.6649\tvalid_1's binary_logloss: 0.557446\n",
      "[41]\tvalid_0's auc: 0.663526\tvalid_0's binary_logloss: 0.520872\tvalid_1's auc: 0.664759\tvalid_1's binary_logloss: 0.557127\n",
      "[42]\tvalid_0's auc: 0.663631\tvalid_0's binary_logloss: 0.520829\tvalid_1's auc: 0.664799\tvalid_1's binary_logloss: 0.557087\n",
      "[43]\tvalid_0's auc: 0.663672\tvalid_0's binary_logloss: 0.520507\tvalid_1's auc: 0.664896\tvalid_1's binary_logloss: 0.556732\n",
      "[44]\tvalid_0's auc: 0.663701\tvalid_0's binary_logloss: 0.520191\tvalid_1's auc: 0.664963\tvalid_1's binary_logloss: 0.556384\n",
      "[45]\tvalid_0's auc: 0.66355\tvalid_0's binary_logloss: 0.519918\tvalid_1's auc: 0.664833\tvalid_1's binary_logloss: 0.556081\n",
      "[46]\tvalid_0's auc: 0.663686\tvalid_0's binary_logloss: 0.519877\tvalid_1's auc: 0.664882\tvalid_1's binary_logloss: 0.556042\n",
      "[47]\tvalid_0's auc: 0.663811\tvalid_0's binary_logloss: 0.519836\tvalid_1's auc: 0.664911\tvalid_1's binary_logloss: 0.556005\n",
      "[48]\tvalid_0's auc: 0.663837\tvalid_0's binary_logloss: 0.51953\tvalid_1's auc: 0.664999\tvalid_1's binary_logloss: 0.555668\n",
      "[49]\tvalid_0's auc: 0.663964\tvalid_0's binary_logloss: 0.519491\tvalid_1's auc: 0.665033\tvalid_1's binary_logloss: 0.55563\n",
      "[50]\tvalid_0's auc: 0.664094\tvalid_0's binary_logloss: 0.519452\tvalid_1's auc: 0.665018\tvalid_1's binary_logloss: 0.555594\n",
      "[51]\tvalid_0's auc: 0.663931\tvalid_0's binary_logloss: 0.519189\tvalid_1's auc: 0.664919\tvalid_1's binary_logloss: 0.555305\n",
      "[52]\tvalid_0's auc: 0.66396\tvalid_0's binary_logloss: 0.518893\tvalid_1's auc: 0.664997\tvalid_1's binary_logloss: 0.554978\n",
      "[53]\tvalid_0's auc: 0.663963\tvalid_0's binary_logloss: 0.518602\tvalid_1's auc: 0.665074\tvalid_1's binary_logloss: 0.554658\n",
      "[54]\tvalid_0's auc: 0.663985\tvalid_0's binary_logloss: 0.518317\tvalid_1's auc: 0.665123\tvalid_1's binary_logloss: 0.554344\n",
      "[55]\tvalid_0's auc: 0.663867\tvalid_0's binary_logloss: 0.518071\tvalid_1's auc: 0.665055\tvalid_1's binary_logloss: 0.554072\n",
      "[56]\tvalid_0's auc: 0.663995\tvalid_0's binary_logloss: 0.518034\tvalid_1's auc: 0.665104\tvalid_1's binary_logloss: 0.554038\n",
      "[57]\tvalid_0's auc: 0.664089\tvalid_0's binary_logloss: 0.517997\tvalid_1's auc: 0.665082\tvalid_1's binary_logloss: 0.554004\n",
      "[58]\tvalid_0's auc: 0.663951\tvalid_0's binary_logloss: 0.517757\tvalid_1's auc: 0.664986\tvalid_1's binary_logloss: 0.553739\n",
      "[59]\tvalid_0's auc: 0.663823\tvalid_0's binary_logloss: 0.517522\tvalid_1's auc: 0.664912\tvalid_1's binary_logloss: 0.553477\n",
      "[60]\tvalid_0's auc: 0.663915\tvalid_0's binary_logloss: 0.517486\tvalid_1's auc: 0.664923\tvalid_1's binary_logloss: 0.553443\n",
      "[61]\tvalid_0's auc: 0.663944\tvalid_0's binary_logloss: 0.517217\tvalid_1's auc: 0.665002\tvalid_1's binary_logloss: 0.553147\n",
      "[62]\tvalid_0's auc: 0.663978\tvalid_0's binary_logloss: 0.516953\tvalid_1's auc: 0.665066\tvalid_1's binary_logloss: 0.552857\n",
      "[63]\tvalid_0's auc: 0.664086\tvalid_0's binary_logloss: 0.516917\tvalid_1's auc: 0.665085\tvalid_1's binary_logloss: 0.552824\n",
      "[64]\tvalid_0's auc: 0.664189\tvalid_0's binary_logloss: 0.516883\tvalid_1's auc: 0.66509\tvalid_1's binary_logloss: 0.552793\n",
      "[65]\tvalid_0's auc: 0.664213\tvalid_0's binary_logloss: 0.516623\tvalid_1's auc: 0.665151\tvalid_1's binary_logloss: 0.552507\n",
      "[66]\tvalid_0's auc: 0.664096\tvalid_0's binary_logloss: 0.516404\tvalid_1's auc: 0.665106\tvalid_1's binary_logloss: 0.552264\n",
      "[67]\tvalid_0's auc: 0.664136\tvalid_0's binary_logloss: 0.516152\tvalid_1's auc: 0.665143\tvalid_1's binary_logloss: 0.551988\n",
      "[68]\tvalid_0's auc: 0.66404\tvalid_0's binary_logloss: 0.515939\tvalid_1's auc: 0.665076\tvalid_1's binary_logloss: 0.551751\n"
     ]
    },
    {
     "name": "stdout",
     "output_type": "stream",
     "text": [
      "[69]\tvalid_0's auc: 0.663944\tvalid_0's binary_logloss: 0.51573\tvalid_1's auc: 0.665027\tvalid_1's binary_logloss: 0.55152\n",
      "[70]\tvalid_0's auc: 0.663845\tvalid_0's binary_logloss: 0.515526\tvalid_1's auc: 0.664972\tvalid_1's binary_logloss: 0.551292\n",
      "[71]\tvalid_0's auc: 0.663889\tvalid_0's binary_logloss: 0.515288\tvalid_1's auc: 0.665011\tvalid_1's binary_logloss: 0.551031\n",
      "[72]\tvalid_0's auc: 0.663827\tvalid_0's binary_logloss: 0.51509\tvalid_1's auc: 0.664976\tvalid_1's binary_logloss: 0.550811\n",
      "[73]\tvalid_0's auc: 0.663723\tvalid_0's binary_logloss: 0.514896\tvalid_1's auc: 0.664905\tvalid_1's binary_logloss: 0.550595\n",
      "[74]\tvalid_0's auc: 0.663644\tvalid_0's binary_logloss: 0.514706\tvalid_1's auc: 0.664848\tvalid_1's binary_logloss: 0.550383\n",
      "[75]\tvalid_0's auc: 0.663561\tvalid_0's binary_logloss: 0.514516\tvalid_1's auc: 0.664792\tvalid_1's binary_logloss: 0.550174\n",
      "[76]\tvalid_0's auc: 0.66365\tvalid_0's binary_logloss: 0.514485\tvalid_1's auc: 0.664812\tvalid_1's binary_logloss: 0.550146\n",
      "[77]\tvalid_0's auc: 0.663705\tvalid_0's binary_logloss: 0.514263\tvalid_1's auc: 0.664889\tvalid_1's binary_logloss: 0.549903\n",
      "[78]\tvalid_0's auc: 0.663765\tvalid_0's binary_logloss: 0.514045\tvalid_1's auc: 0.66496\tvalid_1's binary_logloss: 0.549664\n",
      "[79]\tvalid_0's auc: 0.663704\tvalid_0's binary_logloss: 0.513863\tvalid_1's auc: 0.6649\tvalid_1's binary_logloss: 0.549463\n",
      "[80]\tvalid_0's auc: 0.663802\tvalid_0's binary_logloss: 0.513831\tvalid_1's auc: 0.66494\tvalid_1's binary_logloss: 0.549434\n",
      "[81]\tvalid_0's auc: 0.663864\tvalid_0's binary_logloss: 0.51362\tvalid_1's auc: 0.665025\tvalid_1's binary_logloss: 0.549203\n",
      "[82]\tvalid_0's auc: 0.663921\tvalid_0's binary_logloss: 0.513412\tvalid_1's auc: 0.66508\tvalid_1's binary_logloss: 0.548975\n",
      "[83]\tvalid_0's auc: 0.663959\tvalid_0's binary_logloss: 0.513208\tvalid_1's auc: 0.665123\tvalid_1's binary_logloss: 0.548752\n",
      "[84]\tvalid_0's auc: 0.663981\tvalid_0's binary_logloss: 0.513007\tvalid_1's auc: 0.665168\tvalid_1's binary_logloss: 0.548533\n",
      "[85]\tvalid_0's auc: 0.663949\tvalid_0's binary_logloss: 0.512839\tvalid_1's auc: 0.665131\tvalid_1's binary_logloss: 0.548348\n",
      "[86]\tvalid_0's auc: 0.664035\tvalid_0's binary_logloss: 0.512809\tvalid_1's auc: 0.665176\tvalid_1's binary_logloss: 0.54832\n",
      "[87]\tvalid_0's auc: 0.664064\tvalid_0's binary_logloss: 0.512615\tvalid_1's auc: 0.665212\tvalid_1's binary_logloss: 0.548108\n",
      "[88]\tvalid_0's auc: 0.664014\tvalid_0's binary_logloss: 0.512453\tvalid_1's auc: 0.665168\tvalid_1's binary_logloss: 0.547929\n",
      "[89]\tvalid_0's auc: 0.664055\tvalid_0's binary_logloss: 0.512264\tvalid_1's auc: 0.66521\tvalid_1's binary_logloss: 0.547723\n",
      "[90]\tvalid_0's auc: 0.664012\tvalid_0's binary_logloss: 0.512107\tvalid_1's auc: 0.665175\tvalid_1's binary_logloss: 0.54755\n",
      "[91]\tvalid_0's auc: 0.664043\tvalid_0's binary_logloss: 0.511924\tvalid_1's auc: 0.665215\tvalid_1's binary_logloss: 0.547349\n",
      "[92]\tvalid_0's auc: 0.66407\tvalid_0's binary_logloss: 0.511744\tvalid_1's auc: 0.665235\tvalid_1's binary_logloss: 0.547152\n",
      "[93]\tvalid_0's auc: 0.664166\tvalid_0's binary_logloss: 0.511715\tvalid_1's auc: 0.665304\tvalid_1's binary_logloss: 0.547126\n",
      "[94]\tvalid_0's auc: 0.664183\tvalid_0's binary_logloss: 0.511539\tvalid_1's auc: 0.665321\tvalid_1's binary_logloss: 0.546932\n",
      "[95]\tvalid_0's auc: 0.664263\tvalid_0's binary_logloss: 0.51151\tvalid_1's auc: 0.665375\tvalid_1's binary_logloss: 0.546906\n",
      "[96]\tvalid_0's auc: 0.664287\tvalid_0's binary_logloss: 0.511336\tvalid_1's auc: 0.665403\tvalid_1's binary_logloss: 0.546716\n",
      "[97]\tvalid_0's auc: 0.664363\tvalid_0's binary_logloss: 0.511308\tvalid_1's auc: 0.665443\tvalid_1's binary_logloss: 0.546691\n",
      "[98]\tvalid_0's auc: 0.664338\tvalid_0's binary_logloss: 0.511164\tvalid_1's auc: 0.665438\tvalid_1's binary_logloss: 0.546533\n",
      "[99]\tvalid_0's auc: 0.66431\tvalid_0's binary_logloss: 0.511023\tvalid_1's auc: 0.665396\tvalid_1's binary_logloss: 0.546379\n",
      "[100]\tvalid_0's auc: 0.664381\tvalid_0's binary_logloss: 0.510996\tvalid_1's auc: 0.665451\tvalid_1's binary_logloss: 0.546355\n",
      "[101]\tvalid_0's auc: 0.664349\tvalid_0's binary_logloss: 0.510857\tvalid_1's auc: 0.665426\tvalid_1's binary_logloss: 0.546202\n",
      "[102]\tvalid_0's auc: 0.664375\tvalid_0's binary_logloss: 0.510692\tvalid_1's auc: 0.66546\tvalid_1's binary_logloss: 0.546022\n",
      "[103]\tvalid_0's auc: 0.66435\tvalid_0's binary_logloss: 0.510559\tvalid_1's auc: 0.66543\tvalid_1's binary_logloss: 0.545877\n",
      "[104]\tvalid_0's auc: 0.664326\tvalid_0's binary_logloss: 0.510427\tvalid_1's auc: 0.665394\tvalid_1's binary_logloss: 0.545732\n",
      "[105]\tvalid_0's auc: 0.664394\tvalid_0's binary_logloss: 0.510401\tvalid_1's auc: 0.665432\tvalid_1's binary_logloss: 0.545708\n",
      "[106]\tvalid_0's auc: 0.664458\tvalid_0's binary_logloss: 0.510376\tvalid_1's auc: 0.665462\tvalid_1's binary_logloss: 0.545685\n",
      "[107]\tvalid_0's auc: 0.66449\tvalid_0's binary_logloss: 0.510218\tvalid_1's auc: 0.66551\tvalid_1's binary_logloss: 0.545513\n",
      "[108]\tvalid_0's auc: 0.664548\tvalid_0's binary_logloss: 0.510194\tvalid_1's auc: 0.665525\tvalid_1's binary_logloss: 0.545492\n",
      "[109]\tvalid_0's auc: 0.664607\tvalid_0's binary_logloss: 0.51017\tvalid_1's auc: 0.665554\tvalid_1's binary_logloss: 0.54547\n",
      "[110]\tvalid_0's auc: 0.664572\tvalid_0's binary_logloss: 0.510044\tvalid_1's auc: 0.665525\tvalid_1's binary_logloss: 0.545334\n",
      "[111]\tvalid_0's auc: 0.664631\tvalid_0's binary_logloss: 0.510022\tvalid_1's auc: 0.665556\tvalid_1's binary_logloss: 0.545313\n",
      "[112]\tvalid_0's auc: 0.664658\tvalid_0's binary_logloss: 0.509868\tvalid_1's auc: 0.665591\tvalid_1's binary_logloss: 0.545146\n",
      "[113]\tvalid_0's auc: 0.664637\tvalid_0's binary_logloss: 0.509745\tvalid_1's auc: 0.665568\tvalid_1's binary_logloss: 0.545013\n",
      "[114]\tvalid_0's auc: 0.664597\tvalid_0's binary_logloss: 0.509626\tvalid_1's auc: 0.665516\tvalid_1's binary_logloss: 0.544884\n",
      "[115]\tvalid_0's auc: 0.664645\tvalid_0's binary_logloss: 0.509604\tvalid_1's auc: 0.665546\tvalid_1's binary_logloss: 0.544865\n",
      "[116]\tvalid_0's auc: 0.664607\tvalid_0's binary_logloss: 0.509488\tvalid_1's auc: 0.665504\tvalid_1's binary_logloss: 0.544739\n",
      "[117]\tvalid_0's auc: 0.664643\tvalid_0's binary_logloss: 0.509343\tvalid_1's auc: 0.665544\tvalid_1's binary_logloss: 0.54458\n",
      "[118]\tvalid_0's auc: 0.664677\tvalid_0's binary_logloss: 0.5092\tvalid_1's auc: 0.665576\tvalid_1's binary_logloss: 0.544425\n",
      "[119]\tvalid_0's auc: 0.664716\tvalid_0's binary_logloss: 0.509179\tvalid_1's auc: 0.665593\tvalid_1's binary_logloss: 0.544406\n",
      "[120]\tvalid_0's auc: 0.664708\tvalid_0's binary_logloss: 0.509066\tvalid_1's auc: 0.665579\tvalid_1's binary_logloss: 0.544285\n",
      "[121]\tvalid_0's auc: 0.664755\tvalid_0's binary_logloss: 0.509045\tvalid_1's auc: 0.665608\tvalid_1's binary_logloss: 0.544267\n",
      "[122]\tvalid_0's auc: 0.664797\tvalid_0's binary_logloss: 0.508906\tvalid_1's auc: 0.66564\tvalid_1's binary_logloss: 0.544115\n",
      "[123]\tvalid_0's auc: 0.664766\tvalid_0's binary_logloss: 0.508798\tvalid_1's auc: 0.665621\tvalid_1's binary_logloss: 0.543998\n",
      "[124]\tvalid_0's auc: 0.664802\tvalid_0's binary_logloss: 0.508664\tvalid_1's auc: 0.665661\tvalid_1's binary_logloss: 0.543851\n",
      "[125]\tvalid_0's auc: 0.664846\tvalid_0's binary_logloss: 0.508644\tvalid_1's auc: 0.665677\tvalid_1's binary_logloss: 0.543834\n",
      "[126]\tvalid_0's auc: 0.664877\tvalid_0's binary_logloss: 0.508512\tvalid_1's auc: 0.665717\tvalid_1's binary_logloss: 0.54369\n",
      "[127]\tvalid_0's auc: 0.664923\tvalid_0's binary_logloss: 0.508492\tvalid_1's auc: 0.665735\tvalid_1's binary_logloss: 0.543672\n",
      "[128]\tvalid_0's auc: 0.664899\tvalid_0's binary_logloss: 0.508388\tvalid_1's auc: 0.665712\tvalid_1's binary_logloss: 0.543561\n",
      "[129]\tvalid_0's auc: 0.664869\tvalid_0's binary_logloss: 0.508288\tvalid_1's auc: 0.665687\tvalid_1's binary_logloss: 0.543452\n",
      "[130]\tvalid_0's auc: 0.664917\tvalid_0's binary_logloss: 0.508269\tvalid_1's auc: 0.665699\tvalid_1's binary_logloss: 0.543435\n",
      "[131]\tvalid_0's auc: 0.664886\tvalid_0's binary_logloss: 0.508171\tvalid_1's auc: 0.665678\tvalid_1's binary_logloss: 0.543328\n",
      "[132]\tvalid_0's auc: 0.664856\tvalid_0's binary_logloss: 0.508074\tvalid_1's auc: 0.665645\tvalid_1's binary_logloss: 0.543223\n",
      "[133]\tvalid_0's auc: 0.664896\tvalid_0's binary_logloss: 0.507949\tvalid_1's auc: 0.665684\tvalid_1's binary_logloss: 0.543088\n",
      "[134]\tvalid_0's auc: 0.664858\tvalid_0's binary_logloss: 0.507856\tvalid_1's auc: 0.665648\tvalid_1's binary_logloss: 0.542985\n",
      "[135]\tvalid_0's auc: 0.664901\tvalid_0's binary_logloss: 0.507735\tvalid_1's auc: 0.665693\tvalid_1's binary_logloss: 0.542854\n",
      "[136]\tvalid_0's auc: 0.664943\tvalid_0's binary_logloss: 0.507616\tvalid_1's auc: 0.66574\tvalid_1's binary_logloss: 0.542726\n"
     ]
    },
    {
     "name": "stdout",
     "output_type": "stream",
     "text": [
      "[137]\tvalid_0's auc: 0.664978\tvalid_0's binary_logloss: 0.507598\tvalid_1's auc: 0.665748\tvalid_1's binary_logloss: 0.54271\n",
      "[138]\tvalid_0's auc: 0.665015\tvalid_0's binary_logloss: 0.507482\tvalid_1's auc: 0.665787\tvalid_1's binary_logloss: 0.542584\n",
      "[139]\tvalid_0's auc: 0.665049\tvalid_0's binary_logloss: 0.507367\tvalid_1's auc: 0.665824\tvalid_1's binary_logloss: 0.54246\n",
      "[140]\tvalid_0's auc: 0.665033\tvalid_0's binary_logloss: 0.50728\tvalid_1's auc: 0.665807\tvalid_1's binary_logloss: 0.542365\n",
      "[141]\tvalid_0's auc: 0.665069\tvalid_0's binary_logloss: 0.507262\tvalid_1's auc: 0.665814\tvalid_1's binary_logloss: 0.54235\n",
      "[142]\tvalid_0's auc: 0.6651\tvalid_0's binary_logloss: 0.50715\tvalid_1's auc: 0.665855\tvalid_1's binary_logloss: 0.542229\n",
      "[143]\tvalid_0's auc: 0.665135\tvalid_0's binary_logloss: 0.507133\tvalid_1's auc: 0.665855\tvalid_1's binary_logloss: 0.542214\n",
      "[144]\tvalid_0's auc: 0.665166\tvalid_0's binary_logloss: 0.507024\tvalid_1's auc: 0.665888\tvalid_1's binary_logloss: 0.542096\n",
      "[145]\tvalid_0's auc: 0.665189\tvalid_0's binary_logloss: 0.506917\tvalid_1's auc: 0.665922\tvalid_1's binary_logloss: 0.54198\n",
      "[146]\tvalid_0's auc: 0.665227\tvalid_0's binary_logloss: 0.506899\tvalid_1's auc: 0.665933\tvalid_1's binary_logloss: 0.541965\n",
      "[147]\tvalid_0's auc: 0.665252\tvalid_0's binary_logloss: 0.506794\tvalid_1's auc: 0.665962\tvalid_1's binary_logloss: 0.541851\n",
      "[148]\tvalid_0's auc: 0.665285\tvalid_0's binary_logloss: 0.506777\tvalid_1's auc: 0.665968\tvalid_1's binary_logloss: 0.541837\n",
      "[149]\tvalid_0's auc: 0.66532\tvalid_0's binary_logloss: 0.50676\tvalid_1's auc: 0.665978\tvalid_1's binary_logloss: 0.541821\n",
      "[150]\tvalid_0's auc: 0.665345\tvalid_0's binary_logloss: 0.506657\tvalid_1's auc: 0.666006\tvalid_1's binary_logloss: 0.541709\n",
      "[151]\tvalid_0's auc: 0.665329\tvalid_0's binary_logloss: 0.506578\tvalid_1's auc: 0.665998\tvalid_1's binary_logloss: 0.541624\n",
      "[152]\tvalid_0's auc: 0.665315\tvalid_0's binary_logloss: 0.5065\tvalid_1's auc: 0.665985\tvalid_1's binary_logloss: 0.54154\n",
      "[153]\tvalid_0's auc: 0.665344\tvalid_0's binary_logloss: 0.506485\tvalid_1's auc: 0.66599\tvalid_1's binary_logloss: 0.541526\n",
      "[154]\tvalid_0's auc: 0.665369\tvalid_0's binary_logloss: 0.506468\tvalid_1's auc: 0.666014\tvalid_1's binary_logloss: 0.541511\n",
      "[155]\tvalid_0's auc: 0.665403\tvalid_0's binary_logloss: 0.506453\tvalid_1's auc: 0.666022\tvalid_1's binary_logloss: 0.541499\n",
      "[156]\tvalid_0's auc: 0.665387\tvalid_0's binary_logloss: 0.506377\tvalid_1's auc: 0.666022\tvalid_1's binary_logloss: 0.541415\n",
      "[157]\tvalid_0's auc: 0.665384\tvalid_0's binary_logloss: 0.506302\tvalid_1's auc: 0.666022\tvalid_1's binary_logloss: 0.541332\n",
      "[158]\tvalid_0's auc: 0.665419\tvalid_0's binary_logloss: 0.506204\tvalid_1's auc: 0.666043\tvalid_1's binary_logloss: 0.541227\n",
      "[159]\tvalid_0's auc: 0.665445\tvalid_0's binary_logloss: 0.506108\tvalid_1's auc: 0.666075\tvalid_1's binary_logloss: 0.541124\n",
      "[160]\tvalid_0's auc: 0.665486\tvalid_0's binary_logloss: 0.506092\tvalid_1's auc: 0.666088\tvalid_1's binary_logloss: 0.54111\n",
      "[161]\tvalid_0's auc: 0.665505\tvalid_0's binary_logloss: 0.505998\tvalid_1's auc: 0.66612\tvalid_1's binary_logloss: 0.541009\n",
      "[162]\tvalid_0's auc: 0.665494\tvalid_0's binary_logloss: 0.505928\tvalid_1's auc: 0.666106\tvalid_1's binary_logloss: 0.540934\n",
      "[163]\tvalid_0's auc: 0.665528\tvalid_0's binary_logloss: 0.505913\tvalid_1's auc: 0.666121\tvalid_1's binary_logloss: 0.54092\n",
      "[164]\tvalid_0's auc: 0.665551\tvalid_0's binary_logloss: 0.505821\tvalid_1's auc: 0.666147\tvalid_1's binary_logloss: 0.540822\n",
      "[165]\tvalid_0's auc: 0.665541\tvalid_0's binary_logloss: 0.505753\tvalid_1's auc: 0.666132\tvalid_1's binary_logloss: 0.540747\n",
      "[166]\tvalid_0's auc: 0.665533\tvalid_0's binary_logloss: 0.505686\tvalid_1's auc: 0.666139\tvalid_1's binary_logloss: 0.540673\n",
      "[167]\tvalid_0's auc: 0.665562\tvalid_0's binary_logloss: 0.505671\tvalid_1's auc: 0.666147\tvalid_1's binary_logloss: 0.540661\n",
      "[168]\tvalid_0's auc: 0.66559\tvalid_0's binary_logloss: 0.505583\tvalid_1's auc: 0.666179\tvalid_1's binary_logloss: 0.540566\n",
      "[169]\tvalid_0's auc: 0.665614\tvalid_0's binary_logloss: 0.505569\tvalid_1's auc: 0.666194\tvalid_1's binary_logloss: 0.540553\n",
      "[170]\tvalid_0's auc: 0.665646\tvalid_0's binary_logloss: 0.505555\tvalid_1's auc: 0.666207\tvalid_1's binary_logloss: 0.540541\n",
      "[171]\tvalid_0's auc: 0.665636\tvalid_0's binary_logloss: 0.50549\tvalid_1's auc: 0.666209\tvalid_1's binary_logloss: 0.540469\n",
      "[172]\tvalid_0's auc: 0.665657\tvalid_0's binary_logloss: 0.505477\tvalid_1's auc: 0.666223\tvalid_1's binary_logloss: 0.540458\n",
      "[173]\tvalid_0's auc: 0.665676\tvalid_0's binary_logloss: 0.505463\tvalid_1's auc: 0.666237\tvalid_1's binary_logloss: 0.540447\n",
      "[174]\tvalid_0's auc: 0.665706\tvalid_0's binary_logloss: 0.505378\tvalid_1's auc: 0.66626\tvalid_1's binary_logloss: 0.540355\n",
      "[175]\tvalid_0's auc: 0.665692\tvalid_0's binary_logloss: 0.505316\tvalid_1's auc: 0.666245\tvalid_1's binary_logloss: 0.540288\n",
      "[176]\tvalid_0's auc: 0.665712\tvalid_0's binary_logloss: 0.505303\tvalid_1's auc: 0.666258\tvalid_1's binary_logloss: 0.540276\n",
      "[177]\tvalid_0's auc: 0.665697\tvalid_0's binary_logloss: 0.505243\tvalid_1's auc: 0.666254\tvalid_1's binary_logloss: 0.54021\n",
      "[178]\tvalid_0's auc: 0.665727\tvalid_0's binary_logloss: 0.505161\tvalid_1's auc: 0.666283\tvalid_1's binary_logloss: 0.540122\n",
      "[179]\tvalid_0's auc: 0.665749\tvalid_0's binary_logloss: 0.505148\tvalid_1's auc: 0.666293\tvalid_1's binary_logloss: 0.540111\n",
      "[180]\tvalid_0's auc: 0.665774\tvalid_0's binary_logloss: 0.505067\tvalid_1's auc: 0.66632\tvalid_1's binary_logloss: 0.540024\n",
      "[181]\tvalid_0's auc: 0.665768\tvalid_0's binary_logloss: 0.505009\tvalid_1's auc: 0.666316\tvalid_1's binary_logloss: 0.539961\n",
      "[182]\tvalid_0's auc: 0.665787\tvalid_0's binary_logloss: 0.504931\tvalid_1's auc: 0.666342\tvalid_1's binary_logloss: 0.539877\n",
      "[183]\tvalid_0's auc: 0.665808\tvalid_0's binary_logloss: 0.504918\tvalid_1's auc: 0.666347\tvalid_1's binary_logloss: 0.539866\n",
      "[184]\tvalid_0's auc: 0.665834\tvalid_0's binary_logloss: 0.504906\tvalid_1's auc: 0.666362\tvalid_1's binary_logloss: 0.539855\n",
      "[185]\tvalid_0's auc: 0.665852\tvalid_0's binary_logloss: 0.504829\tvalid_1's auc: 0.666391\tvalid_1's binary_logloss: 0.539772\n",
      "[186]\tvalid_0's auc: 0.665873\tvalid_0's binary_logloss: 0.504753\tvalid_1's auc: 0.666404\tvalid_1's binary_logloss: 0.539691\n",
      "[187]\tvalid_0's auc: 0.665897\tvalid_0's binary_logloss: 0.504678\tvalid_1's auc: 0.666431\tvalid_1's binary_logloss: 0.539612\n",
      "[188]\tvalid_0's auc: 0.665919\tvalid_0's binary_logloss: 0.504666\tvalid_1's auc: 0.666433\tvalid_1's binary_logloss: 0.539601\n",
      "[189]\tvalid_0's auc: 0.665914\tvalid_0's binary_logloss: 0.504611\tvalid_1's auc: 0.666432\tvalid_1's binary_logloss: 0.539542\n",
      "[190]\tvalid_0's auc: 0.665913\tvalid_0's binary_logloss: 0.504558\tvalid_1's auc: 0.666432\tvalid_1's binary_logloss: 0.539484\n",
      "[191]\tvalid_0's auc: 0.665941\tvalid_0's binary_logloss: 0.504546\tvalid_1's auc: 0.666451\tvalid_1's binary_logloss: 0.539474\n",
      "[192]\tvalid_0's auc: 0.66596\tvalid_0's binary_logloss: 0.504535\tvalid_1's auc: 0.666463\tvalid_1's binary_logloss: 0.539464\n",
      "[193]\tvalid_0's auc: 0.665985\tvalid_0's binary_logloss: 0.504525\tvalid_1's auc: 0.666476\tvalid_1's binary_logloss: 0.539456\n",
      "[194]\tvalid_0's auc: 0.666\tvalid_0's binary_logloss: 0.504514\tvalid_1's auc: 0.666479\tvalid_1's binary_logloss: 0.539446\n",
      "[195]\tvalid_0's auc: 0.666014\tvalid_0's binary_logloss: 0.504503\tvalid_1's auc: 0.66649\tvalid_1's binary_logloss: 0.539438\n",
      "[196]\tvalid_0's auc: 0.666043\tvalid_0's binary_logloss: 0.504431\tvalid_1's auc: 0.666514\tvalid_1's binary_logloss: 0.539361\n",
      "[197]\tvalid_0's auc: 0.66606\tvalid_0's binary_logloss: 0.504421\tvalid_1's auc: 0.666517\tvalid_1's binary_logloss: 0.539353\n",
      "[198]\tvalid_0's auc: 0.666074\tvalid_0's binary_logloss: 0.504411\tvalid_1's auc: 0.666519\tvalid_1's binary_logloss: 0.539344\n",
      "[199]\tvalid_0's auc: 0.666066\tvalid_0's binary_logloss: 0.504361\tvalid_1's auc: 0.666523\tvalid_1's binary_logloss: 0.539289\n",
      "[200]\tvalid_0's auc: 0.666062\tvalid_0's binary_logloss: 0.504311\tvalid_1's auc: 0.666524\tvalid_1's binary_logloss: 0.539233\n",
      "[201]\tvalid_0's auc: 0.666051\tvalid_0's binary_logloss: 0.504263\tvalid_1's auc: 0.666517\tvalid_1's binary_logloss: 0.53918\n",
      "[202]\tvalid_0's auc: 0.666077\tvalid_0's binary_logloss: 0.504194\tvalid_1's auc: 0.666545\tvalid_1's binary_logloss: 0.539108\n",
      "[203]\tvalid_0's auc: 0.666092\tvalid_0's binary_logloss: 0.504184\tvalid_1's auc: 0.666551\tvalid_1's binary_logloss: 0.5391\n",
      "[204]\tvalid_0's auc: 0.666108\tvalid_0's binary_logloss: 0.504175\tvalid_1's auc: 0.666549\tvalid_1's binary_logloss: 0.539092\n",
      "[205]\tvalid_0's auc: 0.666115\tvalid_0's binary_logloss: 0.504166\tvalid_1's auc: 0.66655\tvalid_1's binary_logloss: 0.539084\n"
     ]
    },
    {
     "name": "stdout",
     "output_type": "stream",
     "text": [
      "[206]\tvalid_0's auc: 0.666131\tvalid_0's binary_logloss: 0.504156\tvalid_1's auc: 0.666566\tvalid_1's binary_logloss: 0.539076\n",
      "[207]\tvalid_0's auc: 0.666127\tvalid_0's binary_logloss: 0.504109\tvalid_1's auc: 0.666566\tvalid_1's binary_logloss: 0.539023\n",
      "[208]\tvalid_0's auc: 0.66614\tvalid_0's binary_logloss: 0.5041\tvalid_1's auc: 0.66657\tvalid_1's binary_logloss: 0.539016\n",
      "[209]\tvalid_0's auc: 0.666134\tvalid_0's binary_logloss: 0.504054\tvalid_1's auc: 0.666556\tvalid_1's binary_logloss: 0.538965\n",
      "[210]\tvalid_0's auc: 0.666123\tvalid_0's binary_logloss: 0.504008\tvalid_1's auc: 0.666558\tvalid_1's binary_logloss: 0.538916\n",
      "[211]\tvalid_0's auc: 0.666151\tvalid_0's binary_logloss: 0.503942\tvalid_1's auc: 0.666578\tvalid_1's binary_logloss: 0.538847\n",
      "[212]\tvalid_0's auc: 0.66615\tvalid_0's binary_logloss: 0.503898\tvalid_1's auc: 0.666587\tvalid_1's binary_logloss: 0.538798\n",
      "[213]\tvalid_0's auc: 0.666143\tvalid_0's binary_logloss: 0.503855\tvalid_1's auc: 0.66658\tvalid_1's binary_logloss: 0.538751\n",
      "[214]\tvalid_0's auc: 0.666173\tvalid_0's binary_logloss: 0.503791\tvalid_1's auc: 0.666609\tvalid_1's binary_logloss: 0.538684\n",
      "[215]\tvalid_0's auc: 0.666193\tvalid_0's binary_logloss: 0.503782\tvalid_1's auc: 0.666619\tvalid_1's binary_logloss: 0.538677\n",
      "[216]\tvalid_0's auc: 0.666211\tvalid_0's binary_logloss: 0.50372\tvalid_1's auc: 0.666635\tvalid_1's binary_logloss: 0.538612\n",
      "[217]\tvalid_0's auc: 0.666223\tvalid_0's binary_logloss: 0.503712\tvalid_1's auc: 0.666633\tvalid_1's binary_logloss: 0.538606\n",
      "[218]\tvalid_0's auc: 0.666233\tvalid_0's binary_logloss: 0.503703\tvalid_1's auc: 0.666646\tvalid_1's binary_logloss: 0.538599\n",
      "[219]\tvalid_0's auc: 0.666244\tvalid_0's binary_logloss: 0.503696\tvalid_1's auc: 0.666642\tvalid_1's binary_logloss: 0.538594\n",
      "[220]\tvalid_0's auc: 0.66627\tvalid_0's binary_logloss: 0.503634\tvalid_1's auc: 0.66667\tvalid_1's binary_logloss: 0.53853\n",
      "[221]\tvalid_0's auc: 0.666263\tvalid_0's binary_logloss: 0.503594\tvalid_1's auc: 0.66667\tvalid_1's binary_logloss: 0.538485\n",
      "[222]\tvalid_0's auc: 0.666255\tvalid_0's binary_logloss: 0.503555\tvalid_1's auc: 0.666666\tvalid_1's binary_logloss: 0.538442\n",
      "[223]\tvalid_0's auc: 0.666281\tvalid_0's binary_logloss: 0.503496\tvalid_1's auc: 0.666686\tvalid_1's binary_logloss: 0.53838\n",
      "[224]\tvalid_0's auc: 0.666272\tvalid_0's binary_logloss: 0.503458\tvalid_1's auc: 0.66668\tvalid_1's binary_logloss: 0.538339\n",
      "[225]\tvalid_0's auc: 0.666298\tvalid_0's binary_logloss: 0.5034\tvalid_1's auc: 0.666701\tvalid_1's binary_logloss: 0.538279\n",
      "[226]\tvalid_0's auc: 0.666291\tvalid_0's binary_logloss: 0.503363\tvalid_1's auc: 0.666696\tvalid_1's binary_logloss: 0.538239\n",
      "[227]\tvalid_0's auc: 0.666285\tvalid_0's binary_logloss: 0.503326\tvalid_1's auc: 0.666698\tvalid_1's binary_logloss: 0.538199\n",
      "[228]\tvalid_0's auc: 0.666306\tvalid_0's binary_logloss: 0.503271\tvalid_1's auc: 0.666715\tvalid_1's binary_logloss: 0.538141\n",
      "[229]\tvalid_0's auc: 0.666323\tvalid_0's binary_logloss: 0.503263\tvalid_1's auc: 0.66672\tvalid_1's binary_logloss: 0.538135\n",
      "[230]\tvalid_0's auc: 0.666332\tvalid_0's binary_logloss: 0.503256\tvalid_1's auc: 0.66672\tvalid_1's binary_logloss: 0.53813\n",
      "[231]\tvalid_0's auc: 0.666356\tvalid_0's binary_logloss: 0.503201\tvalid_1's auc: 0.666737\tvalid_1's binary_logloss: 0.538073\n",
      "[232]\tvalid_0's auc: 0.666383\tvalid_0's binary_logloss: 0.503147\tvalid_1's auc: 0.666757\tvalid_1's binary_logloss: 0.538017\n",
      "[233]\tvalid_0's auc: 0.666406\tvalid_0's binary_logloss: 0.503094\tvalid_1's auc: 0.666773\tvalid_1's binary_logloss: 0.537963\n",
      "[234]\tvalid_0's auc: 0.666417\tvalid_0's binary_logloss: 0.503087\tvalid_1's auc: 0.666779\tvalid_1's binary_logloss: 0.537958\n",
      "[235]\tvalid_0's auc: 0.666429\tvalid_0's binary_logloss: 0.50308\tvalid_1's auc: 0.666778\tvalid_1's binary_logloss: 0.537953\n",
      "[236]\tvalid_0's auc: 0.666445\tvalid_0's binary_logloss: 0.503073\tvalid_1's auc: 0.666784\tvalid_1's binary_logloss: 0.537949\n",
      "[237]\tvalid_0's auc: 0.666459\tvalid_0's binary_logloss: 0.503067\tvalid_1's auc: 0.666781\tvalid_1's binary_logloss: 0.537945\n",
      "[238]\tvalid_0's auc: 0.666467\tvalid_0's binary_logloss: 0.50306\tvalid_1's auc: 0.666783\tvalid_1's binary_logloss: 0.53794\n",
      "[239]\tvalid_0's auc: 0.666491\tvalid_0's binary_logloss: 0.503008\tvalid_1's auc: 0.666799\tvalid_1's binary_logloss: 0.537887\n",
      "[240]\tvalid_0's auc: 0.666502\tvalid_0's binary_logloss: 0.503001\tvalid_1's auc: 0.666807\tvalid_1's binary_logloss: 0.537882\n",
      "[241]\tvalid_0's auc: 0.666527\tvalid_0's binary_logloss: 0.50295\tvalid_1's auc: 0.666827\tvalid_1's binary_logloss: 0.537829\n",
      "[242]\tvalid_0's auc: 0.666548\tvalid_0's binary_logloss: 0.5029\tvalid_1's auc: 0.666846\tvalid_1's binary_logloss: 0.537778\n",
      "[243]\tvalid_0's auc: 0.666538\tvalid_0's binary_logloss: 0.502868\tvalid_1's auc: 0.666843\tvalid_1's binary_logloss: 0.537742\n",
      "[244]\tvalid_0's auc: 0.666548\tvalid_0's binary_logloss: 0.502862\tvalid_1's auc: 0.666849\tvalid_1's binary_logloss: 0.537737\n",
      "[245]\tvalid_0's auc: 0.666541\tvalid_0's binary_logloss: 0.50283\tvalid_1's auc: 0.666844\tvalid_1's binary_logloss: 0.537703\n",
      "[246]\tvalid_0's auc: 0.666551\tvalid_0's binary_logloss: 0.502824\tvalid_1's auc: 0.666842\tvalid_1's binary_logloss: 0.537699\n",
      "[247]\tvalid_0's auc: 0.66655\tvalid_0's binary_logloss: 0.502792\tvalid_1's auc: 0.666844\tvalid_1's binary_logloss: 0.537664\n",
      "[248]\tvalid_0's auc: 0.666546\tvalid_0's binary_logloss: 0.502761\tvalid_1's auc: 0.666835\tvalid_1's binary_logloss: 0.53763\n",
      "[249]\tvalid_0's auc: 0.666571\tvalid_0's binary_logloss: 0.502713\tvalid_1's auc: 0.66686\tvalid_1's binary_logloss: 0.537581\n",
      "[250]\tvalid_0's auc: 0.666594\tvalid_0's binary_logloss: 0.502667\tvalid_1's auc: 0.666881\tvalid_1's binary_logloss: 0.537533\n",
      "[251]\tvalid_0's auc: 0.666605\tvalid_0's binary_logloss: 0.502661\tvalid_1's auc: 0.666882\tvalid_1's binary_logloss: 0.537529\n",
      "[252]\tvalid_0's auc: 0.666614\tvalid_0's binary_logloss: 0.502655\tvalid_1's auc: 0.666877\tvalid_1's binary_logloss: 0.537525\n",
      "[253]\tvalid_0's auc: 0.666637\tvalid_0's binary_logloss: 0.502609\tvalid_1's auc: 0.666896\tvalid_1's binary_logloss: 0.537478\n",
      "[254]\tvalid_0's auc: 0.666638\tvalid_0's binary_logloss: 0.502579\tvalid_1's auc: 0.666898\tvalid_1's binary_logloss: 0.537445\n",
      "[255]\tvalid_0's auc: 0.66665\tvalid_0's binary_logloss: 0.502573\tvalid_1's auc: 0.666909\tvalid_1's binary_logloss: 0.537439\n",
      "[256]\tvalid_0's auc: 0.666671\tvalid_0's binary_logloss: 0.502528\tvalid_1's auc: 0.666927\tvalid_1's binary_logloss: 0.537394\n",
      "[257]\tvalid_0's auc: 0.666672\tvalid_0's binary_logloss: 0.5025\tvalid_1's auc: 0.666926\tvalid_1's binary_logloss: 0.537363\n",
      "[258]\tvalid_0's auc: 0.666672\tvalid_0's binary_logloss: 0.502472\tvalid_1's auc: 0.666922\tvalid_1's binary_logloss: 0.537333\n",
      "[259]\tvalid_0's auc: 0.666698\tvalid_0's binary_logloss: 0.502429\tvalid_1's auc: 0.66694\tvalid_1's binary_logloss: 0.537289\n",
      "[260]\tvalid_0's auc: 0.666694\tvalid_0's binary_logloss: 0.502402\tvalid_1's auc: 0.666938\tvalid_1's binary_logloss: 0.53726\n",
      "[261]\tvalid_0's auc: 0.666717\tvalid_0's binary_logloss: 0.50236\tvalid_1's auc: 0.666958\tvalid_1's binary_logloss: 0.537217\n",
      "[262]\tvalid_0's auc: 0.666743\tvalid_0's binary_logloss: 0.502318\tvalid_1's auc: 0.666977\tvalid_1's binary_logloss: 0.537175\n",
      "[263]\tvalid_0's auc: 0.66676\tvalid_0's binary_logloss: 0.502277\tvalid_1's auc: 0.666987\tvalid_1's binary_logloss: 0.537133\n",
      "[264]\tvalid_0's auc: 0.666783\tvalid_0's binary_logloss: 0.502237\tvalid_1's auc: 0.667012\tvalid_1's binary_logloss: 0.537092\n",
      "[265]\tvalid_0's auc: 0.6668\tvalid_0's binary_logloss: 0.502198\tvalid_1's auc: 0.667026\tvalid_1's binary_logloss: 0.537052\n",
      "[266]\tvalid_0's auc: 0.6668\tvalid_0's binary_logloss: 0.502172\tvalid_1's auc: 0.667036\tvalid_1's binary_logloss: 0.537025\n",
      "[267]\tvalid_0's auc: 0.666814\tvalid_0's binary_logloss: 0.502167\tvalid_1's auc: 0.667033\tvalid_1's binary_logloss: 0.537021\n",
      "[268]\tvalid_0's auc: 0.666814\tvalid_0's binary_logloss: 0.502142\tvalid_1's auc: 0.667042\tvalid_1's binary_logloss: 0.536993\n",
      "[269]\tvalid_0's auc: 0.666812\tvalid_0's binary_logloss: 0.502118\tvalid_1's auc: 0.667043\tvalid_1's binary_logloss: 0.536967\n",
      "[270]\tvalid_0's auc: 0.666811\tvalid_0's binary_logloss: 0.502095\tvalid_1's auc: 0.667045\tvalid_1's binary_logloss: 0.536941\n",
      "[271]\tvalid_0's auc: 0.666819\tvalid_0's binary_logloss: 0.502089\tvalid_1's auc: 0.667046\tvalid_1's binary_logloss: 0.536938\n",
      "[272]\tvalid_0's auc: 0.666818\tvalid_0's binary_logloss: 0.502066\tvalid_1's auc: 0.667047\tvalid_1's binary_logloss: 0.536912\n"
     ]
    },
    {
     "name": "stdout",
     "output_type": "stream",
     "text": [
      "[273]\tvalid_0's auc: 0.66683\tvalid_0's binary_logloss: 0.502061\tvalid_1's auc: 0.667052\tvalid_1's binary_logloss: 0.536909\n",
      "[274]\tvalid_0's auc: 0.666827\tvalid_0's binary_logloss: 0.502038\tvalid_1's auc: 0.66705\tvalid_1's binary_logloss: 0.536884\n",
      "[275]\tvalid_0's auc: 0.666846\tvalid_0's binary_logloss: 0.502001\tvalid_1's auc: 0.667064\tvalid_1's binary_logloss: 0.536847\n",
      "[276]\tvalid_0's auc: 0.666858\tvalid_0's binary_logloss: 0.501996\tvalid_1's auc: 0.667064\tvalid_1's binary_logloss: 0.536844\n",
      "[277]\tvalid_0's auc: 0.666853\tvalid_0's binary_logloss: 0.501974\tvalid_1's auc: 0.667066\tvalid_1's binary_logloss: 0.53682\n",
      "[278]\tvalid_0's auc: 0.666874\tvalid_0's binary_logloss: 0.501938\tvalid_1's auc: 0.667084\tvalid_1's binary_logloss: 0.536783\n",
      "[279]\tvalid_0's auc: 0.666898\tvalid_0's binary_logloss: 0.501902\tvalid_1's auc: 0.667102\tvalid_1's binary_logloss: 0.536748\n",
      "[280]\tvalid_0's auc: 0.666898\tvalid_0's binary_logloss: 0.501881\tvalid_1's auc: 0.667101\tvalid_1's binary_logloss: 0.536725\n",
      "[281]\tvalid_0's auc: 0.666917\tvalid_0's binary_logloss: 0.501847\tvalid_1's auc: 0.667118\tvalid_1's binary_logloss: 0.53669\n",
      "[282]\tvalid_0's auc: 0.666926\tvalid_0's binary_logloss: 0.501841\tvalid_1's auc: 0.667122\tvalid_1's binary_logloss: 0.536686\n",
      "[283]\tvalid_0's auc: 0.666928\tvalid_0's binary_logloss: 0.50182\tvalid_1's auc: 0.667125\tvalid_1's binary_logloss: 0.536664\n",
      "[284]\tvalid_0's auc: 0.666947\tvalid_0's binary_logloss: 0.501787\tvalid_1's auc: 0.667141\tvalid_1's binary_logloss: 0.53663\n",
      "[285]\tvalid_0's auc: 0.666951\tvalid_0's binary_logloss: 0.501766\tvalid_1's auc: 0.667149\tvalid_1's binary_logloss: 0.536607\n",
      "[286]\tvalid_0's auc: 0.666952\tvalid_0's binary_logloss: 0.501746\tvalid_1's auc: 0.667147\tvalid_1's binary_logloss: 0.536586\n",
      "[287]\tvalid_0's auc: 0.666971\tvalid_0's binary_logloss: 0.501713\tvalid_1's auc: 0.66716\tvalid_1's binary_logloss: 0.536554\n",
      "[288]\tvalid_0's auc: 0.666969\tvalid_0's binary_logloss: 0.501694\tvalid_1's auc: 0.667161\tvalid_1's binary_logloss: 0.536533\n",
      "[289]\tvalid_0's auc: 0.666978\tvalid_0's binary_logloss: 0.50169\tvalid_1's auc: 0.667165\tvalid_1's binary_logloss: 0.53653\n",
      "[290]\tvalid_0's auc: 0.666994\tvalid_0's binary_logloss: 0.501658\tvalid_1's auc: 0.667177\tvalid_1's binary_logloss: 0.536498\n",
      "[291]\tvalid_0's auc: 0.666994\tvalid_0's binary_logloss: 0.501639\tvalid_1's auc: 0.667183\tvalid_1's binary_logloss: 0.536477\n",
      "[292]\tvalid_0's auc: 0.666995\tvalid_0's binary_logloss: 0.50162\tvalid_1's auc: 0.667188\tvalid_1's binary_logloss: 0.536457\n",
      "[293]\tvalid_0's auc: 0.667012\tvalid_0's binary_logloss: 0.50159\tvalid_1's auc: 0.667197\tvalid_1's binary_logloss: 0.536427\n",
      "[294]\tvalid_0's auc: 0.66702\tvalid_0's binary_logloss: 0.501585\tvalid_1's auc: 0.667199\tvalid_1's binary_logloss: 0.536424\n",
      "[295]\tvalid_0's auc: 0.667039\tvalid_0's binary_logloss: 0.501555\tvalid_1's auc: 0.667216\tvalid_1's binary_logloss: 0.536394\n",
      "[296]\tvalid_0's auc: 0.667043\tvalid_0's binary_logloss: 0.501536\tvalid_1's auc: 0.66722\tvalid_1's binary_logloss: 0.536374\n",
      "[297]\tvalid_0's auc: 0.667049\tvalid_0's binary_logloss: 0.501516\tvalid_1's auc: 0.667226\tvalid_1's binary_logloss: 0.536355\n",
      "[298]\tvalid_0's auc: 0.667058\tvalid_0's binary_logloss: 0.501512\tvalid_1's auc: 0.667224\tvalid_1's binary_logloss: 0.536353\n",
      "[299]\tvalid_0's auc: 0.667059\tvalid_0's binary_logloss: 0.501494\tvalid_1's auc: 0.667222\tvalid_1's binary_logloss: 0.536335\n",
      "[300]\tvalid_0's auc: 0.667059\tvalid_0's binary_logloss: 0.501477\tvalid_1's auc: 0.667221\tvalid_1's binary_logloss: 0.536318\n",
      "[301]\tvalid_0's auc: 0.667074\tvalid_0's binary_logloss: 0.501448\tvalid_1's auc: 0.667233\tvalid_1's binary_logloss: 0.536289\n",
      "[302]\tvalid_0's auc: 0.66708\tvalid_0's binary_logloss: 0.50143\tvalid_1's auc: 0.667235\tvalid_1's binary_logloss: 0.536271\n",
      "[303]\tvalid_0's auc: 0.667083\tvalid_0's binary_logloss: 0.501413\tvalid_1's auc: 0.667235\tvalid_1's binary_logloss: 0.536254\n",
      "[304]\tvalid_0's auc: 0.667083\tvalid_0's binary_logloss: 0.501398\tvalid_1's auc: 0.667239\tvalid_1's binary_logloss: 0.536237\n",
      "[305]\tvalid_0's auc: 0.667086\tvalid_0's binary_logloss: 0.501381\tvalid_1's auc: 0.667244\tvalid_1's binary_logloss: 0.536221\n",
      "[306]\tvalid_0's auc: 0.66709\tvalid_0's binary_logloss: 0.501365\tvalid_1's auc: 0.667249\tvalid_1's binary_logloss: 0.536204\n",
      "[307]\tvalid_0's auc: 0.667096\tvalid_0's binary_logloss: 0.501361\tvalid_1's auc: 0.667245\tvalid_1's binary_logloss: 0.536202\n",
      "[308]\tvalid_0's auc: 0.6671\tvalid_0's binary_logloss: 0.501357\tvalid_1's auc: 0.66724\tvalid_1's binary_logloss: 0.5362\n",
      "[309]\tvalid_0's auc: 0.667107\tvalid_0's binary_logloss: 0.501353\tvalid_1's auc: 0.667233\tvalid_1's binary_logloss: 0.536199\n",
      "[310]\tvalid_0's auc: 0.667112\tvalid_0's binary_logloss: 0.501349\tvalid_1's auc: 0.667232\tvalid_1's binary_logloss: 0.536197\n",
      "[311]\tvalid_0's auc: 0.667118\tvalid_0's binary_logloss: 0.501346\tvalid_1's auc: 0.667227\tvalid_1's binary_logloss: 0.536196\n",
      "[312]\tvalid_0's auc: 0.667137\tvalid_0's binary_logloss: 0.501318\tvalid_1's auc: 0.667242\tvalid_1's binary_logloss: 0.536168\n",
      "[313]\tvalid_0's auc: 0.667143\tvalid_0's binary_logloss: 0.501314\tvalid_1's auc: 0.667238\tvalid_1's binary_logloss: 0.536167\n",
      "[314]\tvalid_0's auc: 0.667145\tvalid_0's binary_logloss: 0.501311\tvalid_1's auc: 0.667234\tvalid_1's binary_logloss: 0.536165\n",
      "[315]\tvalid_0's auc: 0.667153\tvalid_0's binary_logloss: 0.501307\tvalid_1's auc: 0.667233\tvalid_1's binary_logloss: 0.536164\n",
      "[316]\tvalid_0's auc: 0.667155\tvalid_0's binary_logloss: 0.501292\tvalid_1's auc: 0.667233\tvalid_1's binary_logloss: 0.536147\n",
      "[317]\tvalid_0's auc: 0.667158\tvalid_0's binary_logloss: 0.501276\tvalid_1's auc: 0.667233\tvalid_1's binary_logloss: 0.536132\n",
      "[318]\tvalid_0's auc: 0.66718\tvalid_0's binary_logloss: 0.501249\tvalid_1's auc: 0.667251\tvalid_1's binary_logloss: 0.536106\n",
      "[319]\tvalid_0's auc: 0.667186\tvalid_0's binary_logloss: 0.501246\tvalid_1's auc: 0.667245\tvalid_1's binary_logloss: 0.536104\n",
      "[320]\tvalid_0's auc: 0.667185\tvalid_0's binary_logloss: 0.501232\tvalid_1's auc: 0.66725\tvalid_1's binary_logloss: 0.536089\n",
      "[321]\tvalid_0's auc: 0.667206\tvalid_0's binary_logloss: 0.501205\tvalid_1's auc: 0.667268\tvalid_1's binary_logloss: 0.536064\n",
      "[322]\tvalid_0's auc: 0.667224\tvalid_0's binary_logloss: 0.50118\tvalid_1's auc: 0.667286\tvalid_1's binary_logloss: 0.536039\n",
      "[323]\tvalid_0's auc: 0.667227\tvalid_0's binary_logloss: 0.501166\tvalid_1's auc: 0.667286\tvalid_1's binary_logloss: 0.536025\n",
      "[324]\tvalid_0's auc: 0.667244\tvalid_0's binary_logloss: 0.501141\tvalid_1's auc: 0.667302\tvalid_1's binary_logloss: 0.536\n",
      "[325]\tvalid_0's auc: 0.667261\tvalid_0's binary_logloss: 0.501116\tvalid_1's auc: 0.667313\tvalid_1's binary_logloss: 0.535977\n",
      "[326]\tvalid_0's auc: 0.667277\tvalid_0's binary_logloss: 0.501092\tvalid_1's auc: 0.66732\tvalid_1's binary_logloss: 0.535954\n",
      "[327]\tvalid_0's auc: 0.667279\tvalid_0's binary_logloss: 0.501078\tvalid_1's auc: 0.667327\tvalid_1's binary_logloss: 0.535939\n",
      "[328]\tvalid_0's auc: 0.667284\tvalid_0's binary_logloss: 0.501075\tvalid_1's auc: 0.667322\tvalid_1's binary_logloss: 0.535938\n",
      "[329]\tvalid_0's auc: 0.667303\tvalid_0's binary_logloss: 0.501051\tvalid_1's auc: 0.66733\tvalid_1's binary_logloss: 0.535915\n",
      "[330]\tvalid_0's auc: 0.667319\tvalid_0's binary_logloss: 0.501028\tvalid_1's auc: 0.667343\tvalid_1's binary_logloss: 0.535893\n",
      "[331]\tvalid_0's auc: 0.667319\tvalid_0's binary_logloss: 0.501016\tvalid_1's auc: 0.667346\tvalid_1's binary_logloss: 0.53588\n",
      "[332]\tvalid_0's auc: 0.667323\tvalid_0's binary_logloss: 0.501013\tvalid_1's auc: 0.667343\tvalid_1's binary_logloss: 0.535878\n",
      "[333]\tvalid_0's auc: 0.667328\tvalid_0's binary_logloss: 0.501009\tvalid_1's auc: 0.667342\tvalid_1's binary_logloss: 0.535877\n",
      "[334]\tvalid_0's auc: 0.667345\tvalid_0's binary_logloss: 0.500987\tvalid_1's auc: 0.667352\tvalid_1's binary_logloss: 0.535855\n",
      "[335]\tvalid_0's auc: 0.667362\tvalid_0's binary_logloss: 0.500964\tvalid_1's auc: 0.667366\tvalid_1's binary_logloss: 0.535834\n",
      "[336]\tvalid_0's auc: 0.667369\tvalid_0's binary_logloss: 0.500961\tvalid_1's auc: 0.667365\tvalid_1's binary_logloss: 0.535833\n",
      "[337]\tvalid_0's auc: 0.667372\tvalid_0's binary_logloss: 0.500958\tvalid_1's auc: 0.667362\tvalid_1's binary_logloss: 0.535832\n",
      "[338]\tvalid_0's auc: 0.667379\tvalid_0's binary_logloss: 0.500955\tvalid_1's auc: 0.667357\tvalid_1's binary_logloss: 0.53583\n",
      "[339]\tvalid_0's auc: 0.667381\tvalid_0's binary_logloss: 0.500942\tvalid_1's auc: 0.667361\tvalid_1's binary_logloss: 0.535817\n"
     ]
    },
    {
     "name": "stdout",
     "output_type": "stream",
     "text": [
      "[340]\tvalid_0's auc: 0.667396\tvalid_0's binary_logloss: 0.500921\tvalid_1's auc: 0.667371\tvalid_1's binary_logloss: 0.535796\n",
      "[341]\tvalid_0's auc: 0.667402\tvalid_0's binary_logloss: 0.500918\tvalid_1's auc: 0.667368\tvalid_1's binary_logloss: 0.535795\n",
      "[342]\tvalid_0's auc: 0.667408\tvalid_0's binary_logloss: 0.500915\tvalid_1's auc: 0.667365\tvalid_1's binary_logloss: 0.535795\n",
      "[343]\tvalid_0's auc: 0.66741\tvalid_0's binary_logloss: 0.500904\tvalid_1's auc: 0.667372\tvalid_1's binary_logloss: 0.535782\n",
      "[344]\tvalid_0's auc: 0.667411\tvalid_0's binary_logloss: 0.500891\tvalid_1's auc: 0.667366\tvalid_1's binary_logloss: 0.53577\n",
      "[345]\tvalid_0's auc: 0.667412\tvalid_0's binary_logloss: 0.50088\tvalid_1's auc: 0.667365\tvalid_1's binary_logloss: 0.535758\n",
      "[346]\tvalid_0's auc: 0.667417\tvalid_0's binary_logloss: 0.500877\tvalid_1's auc: 0.667364\tvalid_1's binary_logloss: 0.535757\n",
      "[347]\tvalid_0's auc: 0.667436\tvalid_0's binary_logloss: 0.500856\tvalid_1's auc: 0.667375\tvalid_1's binary_logloss: 0.535737\n",
      "[348]\tvalid_0's auc: 0.667449\tvalid_0's binary_logloss: 0.500835\tvalid_1's auc: 0.667382\tvalid_1's binary_logloss: 0.535718\n",
      "[349]\tvalid_0's auc: 0.667454\tvalid_0's binary_logloss: 0.500832\tvalid_1's auc: 0.667385\tvalid_1's binary_logloss: 0.535717\n",
      "[350]\tvalid_0's auc: 0.667468\tvalid_0's binary_logloss: 0.500812\tvalid_1's auc: 0.667393\tvalid_1's binary_logloss: 0.535697\n",
      "[351]\tvalid_0's auc: 0.66748\tvalid_0's binary_logloss: 0.500792\tvalid_1's auc: 0.667397\tvalid_1's binary_logloss: 0.535679\n",
      "[352]\tvalid_0's auc: 0.667486\tvalid_0's binary_logloss: 0.500789\tvalid_1's auc: 0.667401\tvalid_1's binary_logloss: 0.535677\n",
      "[353]\tvalid_0's auc: 0.667499\tvalid_0's binary_logloss: 0.500769\tvalid_1's auc: 0.667407\tvalid_1's binary_logloss: 0.535658\n",
      "[354]\tvalid_0's auc: 0.667514\tvalid_0's binary_logloss: 0.50075\tvalid_1's auc: 0.667416\tvalid_1's binary_logloss: 0.53564\n",
      "[355]\tvalid_0's auc: 0.667518\tvalid_0's binary_logloss: 0.500747\tvalid_1's auc: 0.667417\tvalid_1's binary_logloss: 0.535639\n",
      "[356]\tvalid_0's auc: 0.667523\tvalid_0's binary_logloss: 0.500744\tvalid_1's auc: 0.667417\tvalid_1's binary_logloss: 0.535637\n",
      "[357]\tvalid_0's auc: 0.667528\tvalid_0's binary_logloss: 0.500741\tvalid_1's auc: 0.667417\tvalid_1's binary_logloss: 0.535636\n",
      "[358]\tvalid_0's auc: 0.667533\tvalid_0's binary_logloss: 0.50073\tvalid_1's auc: 0.667416\tvalid_1's binary_logloss: 0.535627\n",
      "[359]\tvalid_0's auc: 0.667536\tvalid_0's binary_logloss: 0.500728\tvalid_1's auc: 0.667413\tvalid_1's binary_logloss: 0.535626\n",
      "[360]\tvalid_0's auc: 0.66754\tvalid_0's binary_logloss: 0.500717\tvalid_1's auc: 0.667413\tvalid_1's binary_logloss: 0.535616\n",
      "[361]\tvalid_0's auc: 0.667551\tvalid_0's binary_logloss: 0.500699\tvalid_1's auc: 0.667425\tvalid_1's binary_logloss: 0.535598\n",
      "[362]\tvalid_0's auc: 0.667565\tvalid_0's binary_logloss: 0.50068\tvalid_1's auc: 0.667433\tvalid_1's binary_logloss: 0.535581\n",
      "[363]\tvalid_0's auc: 0.667568\tvalid_0's binary_logloss: 0.50067\tvalid_1's auc: 0.667436\tvalid_1's binary_logloss: 0.535572\n",
      "[364]\tvalid_0's auc: 0.667573\tvalid_0's binary_logloss: 0.500667\tvalid_1's auc: 0.667435\tvalid_1's binary_logloss: 0.53557\n",
      "[365]\tvalid_0's auc: 0.667576\tvalid_0's binary_logloss: 0.500664\tvalid_1's auc: 0.667436\tvalid_1's binary_logloss: 0.535569\n",
      "[366]\tvalid_0's auc: 0.667592\tvalid_0's binary_logloss: 0.500646\tvalid_1's auc: 0.667449\tvalid_1's binary_logloss: 0.535552\n",
      "[367]\tvalid_0's auc: 0.667595\tvalid_0's binary_logloss: 0.500643\tvalid_1's auc: 0.66745\tvalid_1's binary_logloss: 0.53555\n",
      "[368]\tvalid_0's auc: 0.667597\tvalid_0's binary_logloss: 0.500633\tvalid_1's auc: 0.667452\tvalid_1's binary_logloss: 0.535541\n",
      "[369]\tvalid_0's auc: 0.6676\tvalid_0's binary_logloss: 0.500623\tvalid_1's auc: 0.667453\tvalid_1's binary_logloss: 0.535531\n",
      "[370]\tvalid_0's auc: 0.667615\tvalid_0's binary_logloss: 0.500606\tvalid_1's auc: 0.667467\tvalid_1's binary_logloss: 0.535515\n",
      "[371]\tvalid_0's auc: 0.667618\tvalid_0's binary_logloss: 0.500603\tvalid_1's auc: 0.667463\tvalid_1's binary_logloss: 0.535514\n",
      "[372]\tvalid_0's auc: 0.667622\tvalid_0's binary_logloss: 0.500601\tvalid_1's auc: 0.667464\tvalid_1's binary_logloss: 0.535512\n",
      "[373]\tvalid_0's auc: 0.667636\tvalid_0's binary_logloss: 0.500583\tvalid_1's auc: 0.667473\tvalid_1's binary_logloss: 0.535496\n",
      "[374]\tvalid_0's auc: 0.667649\tvalid_0's binary_logloss: 0.500566\tvalid_1's auc: 0.667484\tvalid_1's binary_logloss: 0.53548\n",
      "[375]\tvalid_0's auc: 0.667651\tvalid_0's binary_logloss: 0.500557\tvalid_1's auc: 0.667489\tvalid_1's binary_logloss: 0.53547\n",
      "[376]\tvalid_0's auc: 0.667667\tvalid_0's binary_logloss: 0.500541\tvalid_1's auc: 0.667499\tvalid_1's binary_logloss: 0.535455\n",
      "[377]\tvalid_0's auc: 0.667668\tvalid_0's binary_logloss: 0.500532\tvalid_1's auc: 0.667507\tvalid_1's binary_logloss: 0.535446\n",
      "[378]\tvalid_0's auc: 0.667679\tvalid_0's binary_logloss: 0.500516\tvalid_1's auc: 0.667513\tvalid_1's binary_logloss: 0.535431\n",
      "[379]\tvalid_0's auc: 0.66768\tvalid_0's binary_logloss: 0.500508\tvalid_1's auc: 0.66752\tvalid_1's binary_logloss: 0.535422\n",
      "[380]\tvalid_0's auc: 0.667694\tvalid_0's binary_logloss: 0.500492\tvalid_1's auc: 0.667529\tvalid_1's binary_logloss: 0.535407\n",
      "[381]\tvalid_0's auc: 0.667709\tvalid_0's binary_logloss: 0.500476\tvalid_1's auc: 0.66754\tvalid_1's binary_logloss: 0.535393\n",
      "[382]\tvalid_0's auc: 0.667723\tvalid_0's binary_logloss: 0.500461\tvalid_1's auc: 0.667549\tvalid_1's binary_logloss: 0.535379\n",
      "[383]\tvalid_0's auc: 0.667725\tvalid_0's binary_logloss: 0.500458\tvalid_1's auc: 0.667547\tvalid_1's binary_logloss: 0.535378\n",
      "[384]\tvalid_0's auc: 0.667728\tvalid_0's binary_logloss: 0.500449\tvalid_1's auc: 0.667551\tvalid_1's binary_logloss: 0.535369\n",
      "[385]\tvalid_0's auc: 0.667742\tvalid_0's binary_logloss: 0.500434\tvalid_1's auc: 0.667559\tvalid_1's binary_logloss: 0.535355\n",
      "[386]\tvalid_0's auc: 0.667745\tvalid_0's binary_logloss: 0.500432\tvalid_1's auc: 0.667557\tvalid_1's binary_logloss: 0.535354\n",
      "[387]\tvalid_0's auc: 0.667748\tvalid_0's binary_logloss: 0.50043\tvalid_1's auc: 0.667557\tvalid_1's binary_logloss: 0.535353\n",
      "[388]\tvalid_0's auc: 0.667749\tvalid_0's binary_logloss: 0.500422\tvalid_1's auc: 0.667559\tvalid_1's binary_logloss: 0.535344\n",
      "[389]\tvalid_0's auc: 0.667763\tvalid_0's binary_logloss: 0.500407\tvalid_1's auc: 0.667568\tvalid_1's binary_logloss: 0.53533\n",
      "[390]\tvalid_0's auc: 0.667767\tvalid_0's binary_logloss: 0.500405\tvalid_1's auc: 0.66757\tvalid_1's binary_logloss: 0.535328\n",
      "[391]\tvalid_0's auc: 0.667771\tvalid_0's binary_logloss: 0.500403\tvalid_1's auc: 0.667571\tvalid_1's binary_logloss: 0.535327\n",
      "[392]\tvalid_0's auc: 0.667774\tvalid_0's binary_logloss: 0.5004\tvalid_1's auc: 0.667567\tvalid_1's binary_logloss: 0.535326\n",
      "[393]\tvalid_0's auc: 0.66778\tvalid_0's binary_logloss: 0.500392\tvalid_1's auc: 0.667574\tvalid_1's binary_logloss: 0.535318\n",
      "[394]\tvalid_0's auc: 0.667792\tvalid_0's binary_logloss: 0.500378\tvalid_1's auc: 0.667581\tvalid_1's binary_logloss: 0.535305\n",
      "[395]\tvalid_0's auc: 0.667802\tvalid_0's binary_logloss: 0.500364\tvalid_1's auc: 0.667588\tvalid_1's binary_logloss: 0.535292\n",
      "[396]\tvalid_0's auc: 0.667808\tvalid_0's binary_logloss: 0.500356\tvalid_1's auc: 0.667598\tvalid_1's binary_logloss: 0.535284\n",
      "[397]\tvalid_0's auc: 0.667818\tvalid_0's binary_logloss: 0.500342\tvalid_1's auc: 0.667603\tvalid_1's binary_logloss: 0.535272\n",
      "[398]\tvalid_0's auc: 0.667824\tvalid_0's binary_logloss: 0.500335\tvalid_1's auc: 0.667608\tvalid_1's binary_logloss: 0.535265\n",
      "[399]\tvalid_0's auc: 0.667826\tvalid_0's binary_logloss: 0.500328\tvalid_1's auc: 0.667611\tvalid_1's binary_logloss: 0.535256\n",
      "[400]\tvalid_0's auc: 0.667828\tvalid_0's binary_logloss: 0.500321\tvalid_1's auc: 0.667616\tvalid_1's binary_logloss: 0.535249\n",
      "[401]\tvalid_0's auc: 0.667838\tvalid_0's binary_logloss: 0.500307\tvalid_1's auc: 0.667619\tvalid_1's binary_logloss: 0.535237\n",
      "[402]\tvalid_0's auc: 0.667841\tvalid_0's binary_logloss: 0.500305\tvalid_1's auc: 0.667621\tvalid_1's binary_logloss: 0.535237\n",
      "[403]\tvalid_0's auc: 0.667849\tvalid_0's binary_logloss: 0.500297\tvalid_1's auc: 0.667624\tvalid_1's binary_logloss: 0.535229\n",
      "[404]\tvalid_0's auc: 0.667855\tvalid_0's binary_logloss: 0.50029\tvalid_1's auc: 0.667633\tvalid_1's binary_logloss: 0.535222\n",
      "[405]\tvalid_0's auc: 0.667857\tvalid_0's binary_logloss: 0.500288\tvalid_1's auc: 0.667635\tvalid_1's binary_logloss: 0.535221\n",
      "[406]\tvalid_0's auc: 0.667862\tvalid_0's binary_logloss: 0.500286\tvalid_1's auc: 0.667635\tvalid_1's binary_logloss: 0.535221\n",
      "[407]\tvalid_0's auc: 0.667866\tvalid_0's binary_logloss: 0.500284\tvalid_1's auc: 0.667636\tvalid_1's binary_logloss: 0.535219\n"
     ]
    },
    {
     "name": "stdout",
     "output_type": "stream",
     "text": [
      "[408]\tvalid_0's auc: 0.667874\tvalid_0's binary_logloss: 0.500276\tvalid_1's auc: 0.66764\tvalid_1's binary_logloss: 0.535212\n",
      "[409]\tvalid_0's auc: 0.667885\tvalid_0's binary_logloss: 0.500263\tvalid_1's auc: 0.667642\tvalid_1's binary_logloss: 0.535201\n",
      "[410]\tvalid_0's auc: 0.667887\tvalid_0's binary_logloss: 0.500256\tvalid_1's auc: 0.667647\tvalid_1's binary_logloss: 0.535194\n",
      "[411]\tvalid_0's auc: 0.667896\tvalid_0's binary_logloss: 0.500244\tvalid_1's auc: 0.667653\tvalid_1's binary_logloss: 0.535182\n",
      "[412]\tvalid_0's auc: 0.667903\tvalid_0's binary_logloss: 0.500237\tvalid_1's auc: 0.667657\tvalid_1's binary_logloss: 0.535175\n",
      "[413]\tvalid_0's auc: 0.667911\tvalid_0's binary_logloss: 0.500229\tvalid_1's auc: 0.66766\tvalid_1's binary_logloss: 0.535169\n",
      "[414]\tvalid_0's auc: 0.667921\tvalid_0's binary_logloss: 0.500217\tvalid_1's auc: 0.667665\tvalid_1's binary_logloss: 0.535158\n",
      "[415]\tvalid_0's auc: 0.667924\tvalid_0's binary_logloss: 0.500215\tvalid_1's auc: 0.667663\tvalid_1's binary_logloss: 0.535157\n",
      "[416]\tvalid_0's auc: 0.667928\tvalid_0's binary_logloss: 0.500209\tvalid_1's auc: 0.667671\tvalid_1's binary_logloss: 0.535151\n",
      "[417]\tvalid_0's auc: 0.667936\tvalid_0's binary_logloss: 0.500202\tvalid_1's auc: 0.667675\tvalid_1's binary_logloss: 0.535144\n",
      "[418]\tvalid_0's auc: 0.667937\tvalid_0's binary_logloss: 0.500196\tvalid_1's auc: 0.667677\tvalid_1's binary_logloss: 0.535138\n",
      "[419]\tvalid_0's auc: 0.667946\tvalid_0's binary_logloss: 0.500184\tvalid_1's auc: 0.667683\tvalid_1's binary_logloss: 0.535128\n",
      "[420]\tvalid_0's auc: 0.667949\tvalid_0's binary_logloss: 0.500178\tvalid_1's auc: 0.667685\tvalid_1's binary_logloss: 0.535121\n",
      "[421]\tvalid_0's auc: 0.667957\tvalid_0's binary_logloss: 0.500166\tvalid_1's auc: 0.667696\tvalid_1's binary_logloss: 0.535111\n",
      "[422]\tvalid_0's auc: 0.667963\tvalid_0's binary_logloss: 0.50016\tvalid_1's auc: 0.667696\tvalid_1's binary_logloss: 0.535105\n",
      "[423]\tvalid_0's auc: 0.667972\tvalid_0's binary_logloss: 0.500149\tvalid_1's auc: 0.667704\tvalid_1's binary_logloss: 0.535095\n",
      "[424]\tvalid_0's auc: 0.667982\tvalid_0's binary_logloss: 0.500137\tvalid_1's auc: 0.667714\tvalid_1's binary_logloss: 0.535085\n",
      "[425]\tvalid_0's auc: 0.667985\tvalid_0's binary_logloss: 0.500135\tvalid_1's auc: 0.667712\tvalid_1's binary_logloss: 0.535084\n",
      "[426]\tvalid_0's auc: 0.667995\tvalid_0's binary_logloss: 0.500124\tvalid_1's auc: 0.667718\tvalid_1's binary_logloss: 0.535075\n",
      "[427]\tvalid_0's auc: 0.668007\tvalid_0's binary_logloss: 0.500113\tvalid_1's auc: 0.667725\tvalid_1's binary_logloss: 0.535065\n",
      "[428]\tvalid_0's auc: 0.668009\tvalid_0's binary_logloss: 0.500111\tvalid_1's auc: 0.667723\tvalid_1's binary_logloss: 0.535064\n",
      "[429]\tvalid_0's auc: 0.66802\tvalid_0's binary_logloss: 0.5001\tvalid_1's auc: 0.66773\tvalid_1's binary_logloss: 0.535056\n",
      "[430]\tvalid_0's auc: 0.668022\tvalid_0's binary_logloss: 0.500099\tvalid_1's auc: 0.667728\tvalid_1's binary_logloss: 0.535055\n",
      "[431]\tvalid_0's auc: 0.668026\tvalid_0's binary_logloss: 0.500093\tvalid_1's auc: 0.667728\tvalid_1's binary_logloss: 0.53505\n",
      "[432]\tvalid_0's auc: 0.668034\tvalid_0's binary_logloss: 0.500083\tvalid_1's auc: 0.667735\tvalid_1's binary_logloss: 0.535041\n",
      "[433]\tvalid_0's auc: 0.668039\tvalid_0's binary_logloss: 0.500077\tvalid_1's auc: 0.667738\tvalid_1's binary_logloss: 0.535035\n",
      "[434]\tvalid_0's auc: 0.668042\tvalid_0's binary_logloss: 0.500072\tvalid_1's auc: 0.667738\tvalid_1's binary_logloss: 0.53503\n",
      "[435]\tvalid_0's auc: 0.668048\tvalid_0's binary_logloss: 0.500067\tvalid_1's auc: 0.66774\tvalid_1's binary_logloss: 0.535025\n",
      "[436]\tvalid_0's auc: 0.66805\tvalid_0's binary_logloss: 0.500062\tvalid_1's auc: 0.667743\tvalid_1's binary_logloss: 0.53502\n",
      "[437]\tvalid_0's auc: 0.668061\tvalid_0's binary_logloss: 0.500052\tvalid_1's auc: 0.667752\tvalid_1's binary_logloss: 0.535011\n",
      "[438]\tvalid_0's auc: 0.668063\tvalid_0's binary_logloss: 0.50005\tvalid_1's auc: 0.667751\tvalid_1's binary_logloss: 0.535011\n",
      "[439]\tvalid_0's auc: 0.668067\tvalid_0's binary_logloss: 0.500048\tvalid_1's auc: 0.66775\tvalid_1's binary_logloss: 0.535011\n",
      "[440]\tvalid_0's auc: 0.668071\tvalid_0's binary_logloss: 0.500047\tvalid_1's auc: 0.667751\tvalid_1's binary_logloss: 0.53501\n",
      "[441]\tvalid_0's auc: 0.668075\tvalid_0's binary_logloss: 0.500045\tvalid_1's auc: 0.667751\tvalid_1's binary_logloss: 0.535009\n",
      "[442]\tvalid_0's auc: 0.668083\tvalid_0's binary_logloss: 0.500035\tvalid_1's auc: 0.667757\tvalid_1's binary_logloss: 0.535001\n",
      "[443]\tvalid_0's auc: 0.668088\tvalid_0's binary_logloss: 0.50003\tvalid_1's auc: 0.667758\tvalid_1's binary_logloss: 0.534997\n",
      "[444]\tvalid_0's auc: 0.66809\tvalid_0's binary_logloss: 0.500024\tvalid_1's auc: 0.667758\tvalid_1's binary_logloss: 0.534991\n",
      "[445]\tvalid_0's auc: 0.668095\tvalid_0's binary_logloss: 0.500022\tvalid_1's auc: 0.66776\tvalid_1's binary_logloss: 0.53499\n",
      "[446]\tvalid_0's auc: 0.668104\tvalid_0's binary_logloss: 0.500013\tvalid_1's auc: 0.667766\tvalid_1's binary_logloss: 0.534982\n",
      "[447]\tvalid_0's auc: 0.668107\tvalid_0's binary_logloss: 0.500008\tvalid_1's auc: 0.667768\tvalid_1's binary_logloss: 0.534978\n",
      "[448]\tvalid_0's auc: 0.668116\tvalid_0's binary_logloss: 0.499998\tvalid_1's auc: 0.667776\tvalid_1's binary_logloss: 0.53497\n",
      "[449]\tvalid_0's auc: 0.66812\tvalid_0's binary_logloss: 0.499993\tvalid_1's auc: 0.667779\tvalid_1's binary_logloss: 0.534966\n",
      "[450]\tvalid_0's auc: 0.668122\tvalid_0's binary_logloss: 0.499988\tvalid_1's auc: 0.667781\tvalid_1's binary_logloss: 0.534961\n",
      "[451]\tvalid_0's auc: 0.668128\tvalid_0's binary_logloss: 0.499983\tvalid_1's auc: 0.667786\tvalid_1's binary_logloss: 0.534955\n",
      "[452]\tvalid_0's auc: 0.66813\tvalid_0's binary_logloss: 0.499979\tvalid_1's auc: 0.667787\tvalid_1's binary_logloss: 0.534951\n",
      "[453]\tvalid_0's auc: 0.668135\tvalid_0's binary_logloss: 0.499977\tvalid_1's auc: 0.667787\tvalid_1's binary_logloss: 0.534951\n",
      "[454]\tvalid_0's auc: 0.668142\tvalid_0's binary_logloss: 0.499968\tvalid_1's auc: 0.667791\tvalid_1's binary_logloss: 0.534943\n",
      "[455]\tvalid_0's auc: 0.668151\tvalid_0's binary_logloss: 0.499959\tvalid_1's auc: 0.667795\tvalid_1's binary_logloss: 0.534936\n",
      "[456]\tvalid_0's auc: 0.668154\tvalid_0's binary_logloss: 0.499957\tvalid_1's auc: 0.667794\tvalid_1's binary_logloss: 0.534935\n",
      "[457]\tvalid_0's auc: 0.668156\tvalid_0's binary_logloss: 0.499955\tvalid_1's auc: 0.667795\tvalid_1's binary_logloss: 0.534934\n",
      "[458]\tvalid_0's auc: 0.668162\tvalid_0's binary_logloss: 0.49995\tvalid_1's auc: 0.667802\tvalid_1's binary_logloss: 0.534928\n",
      "[459]\tvalid_0's auc: 0.668165\tvalid_0's binary_logloss: 0.499945\tvalid_1's auc: 0.667805\tvalid_1's binary_logloss: 0.534922\n",
      "[460]\tvalid_0's auc: 0.668169\tvalid_0's binary_logloss: 0.499943\tvalid_1's auc: 0.667808\tvalid_1's binary_logloss: 0.534921\n",
      "[461]\tvalid_0's auc: 0.668172\tvalid_0's binary_logloss: 0.499938\tvalid_1's auc: 0.667812\tvalid_1's binary_logloss: 0.534915\n",
      "[462]\tvalid_0's auc: 0.668181\tvalid_0's binary_logloss: 0.499932\tvalid_1's auc: 0.66782\tvalid_1's binary_logloss: 0.534908\n",
      "[463]\tvalid_0's auc: 0.668191\tvalid_0's binary_logloss: 0.499925\tvalid_1's auc: 0.667826\tvalid_1's binary_logloss: 0.534902\n",
      "[464]\tvalid_0's auc: 0.6682\tvalid_0's binary_logloss: 0.499917\tvalid_1's auc: 0.667836\tvalid_1's binary_logloss: 0.534895\n",
      "[465]\tvalid_0's auc: 0.66821\tvalid_0's binary_logloss: 0.49991\tvalid_1's auc: 0.667843\tvalid_1's binary_logloss: 0.534889\n",
      "[466]\tvalid_0's auc: 0.668212\tvalid_0's binary_logloss: 0.499909\tvalid_1's auc: 0.667842\tvalid_1's binary_logloss: 0.534888\n",
      "[467]\tvalid_0's auc: 0.66822\tvalid_0's binary_logloss: 0.499903\tvalid_1's auc: 0.667846\tvalid_1's binary_logloss: 0.534883\n",
      "[468]\tvalid_0's auc: 0.668229\tvalid_0's binary_logloss: 0.499897\tvalid_1's auc: 0.667854\tvalid_1's binary_logloss: 0.534877\n",
      "[469]\tvalid_0's auc: 0.668233\tvalid_0's binary_logloss: 0.499892\tvalid_1's auc: 0.667858\tvalid_1's binary_logloss: 0.534872\n",
      "[470]\tvalid_0's auc: 0.668237\tvalid_0's binary_logloss: 0.49989\tvalid_1's auc: 0.66786\tvalid_1's binary_logloss: 0.534871\n",
      "[471]\tvalid_0's auc: 0.668246\tvalid_0's binary_logloss: 0.499882\tvalid_1's auc: 0.667867\tvalid_1's binary_logloss: 0.534864\n",
      "[472]\tvalid_0's auc: 0.668256\tvalid_0's binary_logloss: 0.499876\tvalid_1's auc: 0.667871\tvalid_1's binary_logloss: 0.534858\n",
      "[473]\tvalid_0's auc: 0.668266\tvalid_0's binary_logloss: 0.499867\tvalid_1's auc: 0.667875\tvalid_1's binary_logloss: 0.534852\n",
      "[474]\tvalid_0's auc: 0.668268\tvalid_0's binary_logloss: 0.499865\tvalid_1's auc: 0.667878\tvalid_1's binary_logloss: 0.534851\n"
     ]
    },
    {
     "name": "stdout",
     "output_type": "stream",
     "text": [
      "[475]\tvalid_0's auc: 0.668277\tvalid_0's binary_logloss: 0.499857\tvalid_1's auc: 0.667882\tvalid_1's binary_logloss: 0.534844\n",
      "[476]\tvalid_0's auc: 0.668286\tvalid_0's binary_logloss: 0.499849\tvalid_1's auc: 0.667889\tvalid_1's binary_logloss: 0.534838\n",
      "[477]\tvalid_0's auc: 0.668296\tvalid_0's binary_logloss: 0.499842\tvalid_1's auc: 0.667895\tvalid_1's binary_logloss: 0.534832\n",
      "[478]\tvalid_0's auc: 0.668301\tvalid_0's binary_logloss: 0.499838\tvalid_1's auc: 0.667897\tvalid_1's binary_logloss: 0.534828\n",
      "[479]\tvalid_0's auc: 0.66831\tvalid_0's binary_logloss: 0.49983\tvalid_1's auc: 0.667901\tvalid_1's binary_logloss: 0.534822\n",
      "[480]\tvalid_0's auc: 0.668313\tvalid_0's binary_logloss: 0.499826\tvalid_1's auc: 0.667908\tvalid_1's binary_logloss: 0.534817\n",
      "[481]\tvalid_0's auc: 0.668321\tvalid_0's binary_logloss: 0.499818\tvalid_1's auc: 0.667914\tvalid_1's binary_logloss: 0.534811\n",
      "[482]\tvalid_0's auc: 0.668331\tvalid_0's binary_logloss: 0.499812\tvalid_1's auc: 0.667921\tvalid_1's binary_logloss: 0.534806\n",
      "[483]\tvalid_0's auc: 0.668334\tvalid_0's binary_logloss: 0.499811\tvalid_1's auc: 0.667923\tvalid_1's binary_logloss: 0.534804\n",
      "[484]\tvalid_0's auc: 0.668337\tvalid_0's binary_logloss: 0.499809\tvalid_1's auc: 0.667923\tvalid_1's binary_logloss: 0.534803\n",
      "[485]\tvalid_0's auc: 0.668346\tvalid_0's binary_logloss: 0.499804\tvalid_1's auc: 0.667931\tvalid_1's binary_logloss: 0.534798\n",
      "[486]\tvalid_0's auc: 0.668351\tvalid_0's binary_logloss: 0.499799\tvalid_1's auc: 0.66794\tvalid_1's binary_logloss: 0.534794\n",
      "[487]\tvalid_0's auc: 0.668359\tvalid_0's binary_logloss: 0.499791\tvalid_1's auc: 0.667944\tvalid_1's binary_logloss: 0.534788\n",
      "[488]\tvalid_0's auc: 0.66837\tvalid_0's binary_logloss: 0.499786\tvalid_1's auc: 0.667947\tvalid_1's binary_logloss: 0.534783\n",
      "[489]\tvalid_0's auc: 0.668375\tvalid_0's binary_logloss: 0.499781\tvalid_1's auc: 0.667951\tvalid_1's binary_logloss: 0.534779\n",
      "[490]\tvalid_0's auc: 0.668386\tvalid_0's binary_logloss: 0.499776\tvalid_1's auc: 0.667958\tvalid_1's binary_logloss: 0.534774\n",
      "[491]\tvalid_0's auc: 0.668391\tvalid_0's binary_logloss: 0.499774\tvalid_1's auc: 0.667961\tvalid_1's binary_logloss: 0.534773\n",
      "[492]\tvalid_0's auc: 0.668395\tvalid_0's binary_logloss: 0.499769\tvalid_1's auc: 0.667965\tvalid_1's binary_logloss: 0.534769\n",
      "[493]\tvalid_0's auc: 0.668398\tvalid_0's binary_logloss: 0.499768\tvalid_1's auc: 0.667967\tvalid_1's binary_logloss: 0.534769\n",
      "[494]\tvalid_0's auc: 0.668401\tvalid_0's binary_logloss: 0.499766\tvalid_1's auc: 0.667965\tvalid_1's binary_logloss: 0.534768\n",
      "[495]\tvalid_0's auc: 0.668404\tvalid_0's binary_logloss: 0.499765\tvalid_1's auc: 0.667966\tvalid_1's binary_logloss: 0.534767\n",
      "[496]\tvalid_0's auc: 0.668412\tvalid_0's binary_logloss: 0.499758\tvalid_1's auc: 0.667968\tvalid_1's binary_logloss: 0.534761\n",
      "[497]\tvalid_0's auc: 0.668421\tvalid_0's binary_logloss: 0.499753\tvalid_1's auc: 0.667976\tvalid_1's binary_logloss: 0.534756\n",
      "[498]\tvalid_0's auc: 0.668427\tvalid_0's binary_logloss: 0.499748\tvalid_1's auc: 0.66798\tvalid_1's binary_logloss: 0.534752\n",
      "[499]\tvalid_0's auc: 0.66843\tvalid_0's binary_logloss: 0.499747\tvalid_1's auc: 0.66798\tvalid_1's binary_logloss: 0.534751\n",
      "[500]\tvalid_0's auc: 0.668438\tvalid_0's binary_logloss: 0.499739\tvalid_1's auc: 0.667983\tvalid_1's binary_logloss: 0.534746\n",
      "Did not meet early stopping. Best iteration is:\n",
      "[500]\tvalid_0's auc: 0.668438\tvalid_0's binary_logloss: 0.499739\tvalid_1's auc: 0.667983\tvalid_1's binary_logloss: 0.534746\n"
     ]
    },
    {
     "data": {
      "text/plain": [
       "LGBMClassifier(boosting_type='gbdt', class_weight=None, colsample_bytree=0.8,\n",
       "               gamma=1, importance_type='split', learning_rate=0.01,\n",
       "               max_depth=-1, min_child_samples=20, min_child_weight=3,\n",
       "               min_split_gain=0.0, n_estimators=500, n_jobs=-1, num_leaves=31,\n",
       "               objective=None, random_state=None, reg_alpha=0.0, reg_lambda=0.0,\n",
       "               silent=True, subsample=1.0, subsample_for_bin=200000,\n",
       "               subsample_freq=0)"
      ]
     },
     "execution_count": 166,
     "metadata": {},
     "output_type": "execute_result"
    }
   ],
   "source": [
    "model.fit(X_train,y_train,eval_set=eval_set,eval_metric='auc',\n",
    "                      early_stopping_rounds=50)"
   ]
  },
  {
   "cell_type": "code",
   "execution_count": 167,
   "metadata": {},
   "outputs": [
    {
     "data": {
      "text/plain": [
       "['logistic.joblib']"
      ]
     },
     "execution_count": 167,
     "metadata": {},
     "output_type": "execute_result"
    }
   ],
   "source": [
    "joblib.dump(model,'logistic.joblib')"
   ]
  },
  {
   "cell_type": "code",
   "execution_count": 165,
   "metadata": {},
   "outputs": [
    {
     "data": {
      "text/plain": [
       "Index(['area_name', 'hour_time', 'dayofweek'], dtype='object')"
      ]
     },
     "execution_count": 165,
     "metadata": {},
     "output_type": "execute_result"
    }
   ],
   "source": [
    "X_train.columns"
   ]
  },
  {
   "cell_type": "code",
   "execution_count": 134,
   "metadata": {
    "colab": {
     "base_uri": "https://localhost:8080/",
     "height": 34
    },
    "colab_type": "code",
    "id": "NcbqPrA1z3Jo",
    "outputId": "3fc375aa-c060-45db-b62f-d8661246ada5"
   },
   "outputs": [
    {
     "data": {
      "text/plain": [
       "0.6679826032443535"
      ]
     },
     "execution_count": 134,
     "metadata": {},
     "output_type": "execute_result"
    }
   ],
   "source": [
    "#roc auc score for valid set\n",
    "roc_auc_score(y_valid,model.predict_proba(X_valid)[:,1])"
   ]
  },
  {
   "cell_type": "code",
   "execution_count": 135,
   "metadata": {
    "colab": {
     "base_uri": "https://localhost:8080/",
     "height": 34
    },
    "colab_type": "code",
    "id": "B7fxX0td7CGL",
    "outputId": "93bd8766-e883-4a3c-f1a2-ee3aad03f0d2"
   },
   "outputs": [
    {
     "data": {
      "text/plain": [
       "0.6666336005123636"
      ]
     },
     "execution_count": 135,
     "metadata": {},
     "output_type": "execute_result"
    }
   ],
   "source": [
    "#roc auc score for test set\n",
    "roc_auc_score(y_test,model.predict_proba(X_test)[:,1])"
   ]
  },
  {
   "cell_type": "code",
   "execution_count": 136,
   "metadata": {
    "colab": {
     "base_uri": "https://localhost:8080/",
     "height": 295
    },
    "colab_type": "code",
    "id": "Z7PDxnRD7-iT",
    "outputId": "648baa80-fe29-4568-ef2e-c284d8badc55"
   },
   "outputs": [
    {
     "data": {
      "image/png": "[encoded data removed]",
      "text/plain": [
       "<Figure size 432x288 with 1 Axes>"
      ]
     },
     "metadata": {
      "needs_background": "light"
     },
     "output_type": "display_data"
    }
   ],
   "source": [
    "#ROC AUC Curve plotting\n",
    "probs = model.predict_proba(X_test)\n",
    "preds = probs[:,1]\n",
    "fpr, tpr, threshold = roc_curve(y_test, preds)\n",
    "roc_auc = auc(fpr, tpr)\n",
    "\n",
    "# method I: plt\n",
    "import matplotlib.pyplot as plt\n",
    "plt.title('Receiver Operating Characteristic')\n",
    "plt.plot(fpr, tpr, 'b', label = 'AUC = %0.4f' % roc_auc)\n",
    "plt.legend(loc = 'lower right')\n",
    "plt.plot([0, 1], [0, 1],'r--')\n",
    "plt.xlim([0, 1])\n",
    "plt.ylim([0, 1])\n",
    "plt.ylabel('True Positive Rate')\n",
    "plt.xlabel('False Positive Rate')\n",
    "plt.show()"
   ]
  },
  {
   "cell_type": "code",
   "execution_count": 137,
   "metadata": {
    "colab": {
     "base_uri": "https://localhost:8080/",
     "height": 51
    },
    "colab_type": "code",
    "id": "q6rq9CmBcAIV",
    "outputId": "fbda793c-4e0d-4f7b-df1e-5685fc27762e"
   },
   "outputs": [
    {
     "data": {
      "text/plain": [
       "array([[107570,      0],\n",
       "       [ 35587,      0]])"
      ]
     },
     "execution_count": 137,
     "metadata": {},
     "output_type": "execute_result"
    }
   ],
   "source": [
    "confusion_matrix(y_test,model.predict(X_test))"
   ]
  },
  {
   "cell_type": "code",
   "execution_count": 138,
   "metadata": {
    "colab": {
     "base_uri": "https://localhost:8080/",
     "height": 224
    },
    "colab_type": "code",
    "id": "CHVTzJwRcbN1",
    "outputId": "b1538c4a-8e7b-47a5-99d2-411300965b23"
   },
   "outputs": [
    {
     "name": "stdout",
     "output_type": "stream",
     "text": [
      "              precision    recall  f1-score   support\n",
      "\n",
      "           0       0.75      1.00      0.86    107570\n",
      "           1       0.00      0.00      0.00     35587\n",
      "\n",
      "    accuracy                           0.75    143157\n",
      "   macro avg       0.38      0.50      0.43    143157\n",
      "weighted avg       0.56      0.75      0.64    143157\n",
      "\n"
     ]
    },
    {
     "name": "stderr",
     "output_type": "stream",
     "text": [
      "/home/rob/anaconda3/lib/python3.7/site-packages/sklearn/metrics/classification.py:1437: UndefinedMetricWarning: Precision and F-score are ill-defined and being set to 0.0 in labels with no predicted samples.\n",
      "  'precision', 'predicted', average, warn_for)\n"
     ]
    }
   ],
   "source": [
    "print(classification_report(y_test,model.predict(X_test)))"
   ]
  },
  {
   "cell_type": "code",
   "execution_count": 163,
   "metadata": {
    "colab": {},
    "colab_type": "code",
    "id": "hi2N5FmxdMqZ"
   },
   "outputs": [
    {
     "data": {
      "text/plain": [
       "LGBMClassifier(boosting_type='gbdt', class_weight=None, colsample_bytree=0.8,\n",
       "               gamma=1, importance_type='split', learning_rate=0.01,\n",
       "               max_depth=-1, min_child_samples=20, min_child_weight=3,\n",
       "               min_split_gain=0.0, n_estimators=500, n_jobs=-1, num_leaves=31,\n",
       "               objective=None, random_state=None, reg_alpha=0.0, reg_lambda=0.0,\n",
       "               silent=True, subsample=1.0, subsample_for_bin=200000,\n",
       "               subsample_freq=0)"
      ]
     },
     "execution_count": 163,
     "metadata": {},
     "output_type": "execute_result"
    }
   ],
   "source": [
    "model"
   ]
  },
  {
   "cell_type": "code",
   "execution_count": 139,
   "metadata": {},
   "outputs": [
    {
     "data": {
      "text/plain": [
       "['logistic.joblib']"
      ]
     },
     "execution_count": 139,
     "metadata": {},
     "output_type": "execute_result"
    }
   ],
   "source": [
    "joblib.dump(model,'logistic.joblib')"
   ]
  },
  {
   "cell_type": "code",
   "execution_count": 140,
   "metadata": {},
   "outputs": [
    {
     "data": {
      "text/plain": [
       "Index(['area_name', 'hour_time', 'dayofweek'], dtype='object')"
      ]
     },
     "execution_count": 140,
     "metadata": {},
     "output_type": "execute_result"
    }
   ],
   "source": [
    "X_test.columns"
   ]
  },
  {
   "cell_type": "code",
   "execution_count": null,
   "metadata": {},
   "outputs": [],
   "source": []
  },
  {
   "cell_type": "code",
   "execution_count": 141,
   "metadata": {},
   "outputs": [
    {
     "ename": "NameError",
     "evalue": "name 'area_name' is not defined",
     "output_type": "error",
     "traceback": [
      "\u001b[0;31m---------------------------------------------------------------------------\u001b[0m",
      "\u001b[0;31mNameError\u001b[0m                                 Traceback (most recent call last)",
      "\u001b[0;32m<ipython-input-141-ddf2ebe1a5b9>\u001b[0m in \u001b[0;36m<module>\u001b[0;34m\u001b[0m\n\u001b[0;32m----> 1\u001b[0;31m \u001b[0marea_name\u001b[0m\u001b[0;34m\u001b[0m\u001b[0;34m\u001b[0m\u001b[0m\n\u001b[0m",
      "\u001b[0;31mNameError\u001b[0m: name 'area_name' is not defined"
     ]
    }
   ],
   "source": [
    "area_name"
   ]
  },
  {
   "cell_type": "code",
   "execution_count": null,
   "metadata": {},
   "outputs": [],
   "source": [
    "prediction =[3,'300','4','6']\n",
    "prediction = np.array(np.array(prediction).reshape(1,-1))"
   ]
  },
  {
   "cell_type": "code",
   "execution_count": null,
   "metadata": {},
   "outputs": [],
   "source": [
    "model.predict_proba(prediction)"
   ]
  },
  {
   "cell_type": "code",
   "execution_count": null,
   "metadata": {},
   "outputs": [],
   "source": []
  }
 ],
 "metadata": {
  "colab": {
   "name": "saferoutes_model.ipynb",
   "provenance": []
  },
  "kernelspec": {
   "display_name": "Python 3",
   "language": "python",
   "name": "python3"
  },
  "language_info": {
   "codemirror_mode": {
    "name": "ipython",
    "version": 3
   },
   "file_extension": ".py",
   "mimetype": "text/x-python",
   "name": "python",
   "nbconvert_exporter": "python",
   "pygments_lexer": "ipython3",
   "version": "3.7.3"
  }
 },
 "nbformat": 4,
 "nbformat_minor": 1
}
