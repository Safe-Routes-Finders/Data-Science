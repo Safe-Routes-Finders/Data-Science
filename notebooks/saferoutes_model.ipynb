{
  "nbformat": 4,
  "nbformat_minor": 0,
  "metadata": {
    "kernelspec": {
      "display_name": "Python 3",
      "language": "python",
      "name": "python3"
    },
    "language_info": {
      "codemirror_mode": {
        "name": "ipython",
        "version": 3
      },
      "file_extension": ".py",
      "mimetype": "text/x-python",
      "name": "python",
      "nbconvert_exporter": "python",
      "pygments_lexer": "ipython3",
      "version": "3.7.3"
    },
    "colab": {
      "name": "saferoutes_model.ipynb",
      "provenance": []
    }
  },
  "cells": [
    {
      "cell_type": "code",
      "metadata": {
        "id": "BHb6kI3Hz3IV",
        "colab_type": "code",
        "colab": {}
      },
      "source": [
        "import pandas as pd"
      ],
      "execution_count": 0,
      "outputs": []
    },
    {
      "cell_type": "code",
      "metadata": {
        "id": "-UwcCuIO5Dys",
        "colab_type": "code",
        "colab": {
          "base_uri": "https://localhost:8080/",
          "height": 204
        },
        "outputId": "abf111c7-527e-420f-9b54-03eb618bdc4f"
      },
      "source": [
        "! pip install category_encoders"
      ],
      "execution_count": 2,
      "outputs": [
        {
          "output_type": "stream",
          "text": [
            "Requirement already satisfied: category_encoders in /usr/local/lib/python3.6/dist-packages (2.1.0)\n",
            "Requirement already satisfied: scipy>=0.19.0 in /usr/local/lib/python3.6/dist-packages (from category_encoders) (1.3.1)\n",
            "Requirement already satisfied: pandas>=0.21.1 in /usr/local/lib/python3.6/dist-packages (from category_encoders) (0.24.2)\n",
            "Requirement already satisfied: statsmodels>=0.6.1 in /usr/local/lib/python3.6/dist-packages (from category_encoders) (0.10.1)\n",
            "Requirement already satisfied: scikit-learn>=0.20.0 in /usr/local/lib/python3.6/dist-packages (from category_encoders) (0.21.3)\n",
            "Requirement already satisfied: patsy>=0.4.1 in /usr/local/lib/python3.6/dist-packages (from category_encoders) (0.5.1)\n",
            "Requirement already satisfied: numpy>=1.11.3 in /usr/local/lib/python3.6/dist-packages (from category_encoders) (1.16.5)\n",
            "Requirement already satisfied: pytz>=2011k in /usr/local/lib/python3.6/dist-packages (from pandas>=0.21.1->category_encoders) (2018.9)\n",
            "Requirement already satisfied: python-dateutil>=2.5.0 in /usr/local/lib/python3.6/dist-packages (from pandas>=0.21.1->category_encoders) (2.5.3)\n",
            "Requirement already satisfied: joblib>=0.11 in /usr/local/lib/python3.6/dist-packages (from scikit-learn>=0.20.0->category_encoders) (0.14.0)\n",
            "Requirement already satisfied: six in /usr/local/lib/python3.6/dist-packages (from patsy>=0.4.1->category_encoders) (1.12.0)\n"
          ],
          "name": "stdout"
        }
      ]
    },
    {
      "cell_type": "code",
      "metadata": {
        "id": "grcgJSd_z3Ic",
        "colab_type": "code",
        "colab": {
          "base_uri": "https://localhost:8080/",
          "height": 34
        },
        "outputId": "14801a05-f083-49cb-e243-cfdc9253a4de"
      },
      "source": [
        "train_df = pd.read_csv(\"train_data.csv\")\n",
        "train_df.shape"
      ],
      "execution_count": 3,
      "outputs": [
        {
          "output_type": "execute_result",
          "data": {
            "text/plain": [
              "(1799805, 6)"
            ]
          },
          "metadata": {
            "tags": []
          },
          "execution_count": 3
        }
      ]
    },
    {
      "cell_type": "code",
      "metadata": {
        "id": "6oMfMbU6z3Ig",
        "colab_type": "code",
        "colab": {
          "base_uri": "https://localhost:8080/",
          "height": 204
        },
        "outputId": "ce6e13fa-a2b6-4a80-e110-b1f92c7248ab"
      },
      "source": [
        "train_df.head()"
      ],
      "execution_count": 4,
      "outputs": [
        {
          "output_type": "execute_result",
          "data": {
            "text/html": [
              "<div>\n",
              "<style scoped>\n",
              "    .dataframe tbody tr th:only-of-type {\n",
              "        vertical-align: middle;\n",
              "    }\n",
              "\n",
              "    .dataframe tbody tr th {\n",
              "        vertical-align: top;\n",
              "    }\n",
              "\n",
              "    .dataframe thead th {\n",
              "        text-align: right;\n",
              "    }\n",
              "</style>\n",
              "<table border=\"1\" class=\"dataframe\">\n",
              "  <thead>\n",
              "    <tr style=\"text-align: right;\">\n",
              "      <th></th>\n",
              "      <th>date_hour</th>\n",
              "      <th>area_name</th>\n",
              "      <th>date_accident</th>\n",
              "      <th>hour_time</th>\n",
              "      <th>no_of_accidents</th>\n",
              "      <th>is_accident</th>\n",
              "    </tr>\n",
              "  </thead>\n",
              "  <tbody>\n",
              "    <tr>\n",
              "      <th>0</th>\n",
              "      <td>2010-01-01 00:00:00</td>\n",
              "      <td>Olympic</td>\n",
              "      <td>2010-01-01 00:00:00</td>\n",
              "      <td>0</td>\n",
              "      <td>0.0</td>\n",
              "      <td>0</td>\n",
              "    </tr>\n",
              "    <tr>\n",
              "      <th>1</th>\n",
              "      <td>2010-01-01 01:00:00</td>\n",
              "      <td>Olympic</td>\n",
              "      <td>2010-01-01 00:00:00</td>\n",
              "      <td>100</td>\n",
              "      <td>1.0</td>\n",
              "      <td>1</td>\n",
              "    </tr>\n",
              "    <tr>\n",
              "      <th>2</th>\n",
              "      <td>2010-01-01 02:00:00</td>\n",
              "      <td>Olympic</td>\n",
              "      <td>2010-01-01 00:00:00</td>\n",
              "      <td>200</td>\n",
              "      <td>0.0</td>\n",
              "      <td>0</td>\n",
              "    </tr>\n",
              "    <tr>\n",
              "      <th>3</th>\n",
              "      <td>2010-01-01 03:00:00</td>\n",
              "      <td>Olympic</td>\n",
              "      <td>2010-01-01 00:00:00</td>\n",
              "      <td>300</td>\n",
              "      <td>1.0</td>\n",
              "      <td>1</td>\n",
              "    </tr>\n",
              "    <tr>\n",
              "      <th>4</th>\n",
              "      <td>2010-01-01 04:00:00</td>\n",
              "      <td>Olympic</td>\n",
              "      <td>2010-01-01 00:00:00</td>\n",
              "      <td>400</td>\n",
              "      <td>0.0</td>\n",
              "      <td>0</td>\n",
              "    </tr>\n",
              "  </tbody>\n",
              "</table>\n",
              "</div>"
            ],
            "text/plain": [
              "             date_hour area_name  ... no_of_accidents  is_accident\n",
              "0  2010-01-01 00:00:00   Olympic  ...             0.0            0\n",
              "1  2010-01-01 01:00:00   Olympic  ...             1.0            1\n",
              "2  2010-01-01 02:00:00   Olympic  ...             0.0            0\n",
              "3  2010-01-01 03:00:00   Olympic  ...             1.0            1\n",
              "4  2010-01-01 04:00:00   Olympic  ...             0.0            0\n",
              "\n",
              "[5 rows x 6 columns]"
            ]
          },
          "metadata": {
            "tags": []
          },
          "execution_count": 4
        }
      ]
    },
    {
      "cell_type": "code",
      "metadata": {
        "id": "0jlxkNfSz3Ij",
        "colab_type": "code",
        "colab": {
          "base_uri": "https://localhost:8080/",
          "height": 68
        },
        "outputId": "d507e7c5-3101-4745-816f-761734e4f0f2"
      },
      "source": [
        "#Baseline Prediction for majority classsifer\n",
        "train_df['is_accident'].value_counts(normalize=True)"
      ],
      "execution_count": 5,
      "outputs": [
        {
          "output_type": "execute_result",
          "data": {
            "text/plain": [
              "0    0.771062\n",
              "1    0.228938\n",
              "Name: is_accident, dtype: float64"
            ]
          },
          "metadata": {
            "tags": []
          },
          "execution_count": 5
        }
      ]
    },
    {
      "cell_type": "markdown",
      "metadata": {
        "id": "Q8G_IElQz3Il",
        "colab_type": "text"
      },
      "source": [
        "# Will an accident happen in a area of Los Angeles in the next one hour\n",
        "\n",
        "\n",
        "### Base Line Accuracy\n",
        "\n",
        "##### With 77% accuracy we can predict that an accident will not happen in a area within the next one hour\n",
        "\n",
        "##### As baseline accuracy is high, we will be using AUC ROC metric for Model performance of this classification problem"
      ]
    },
    {
      "cell_type": "code",
      "metadata": {
        "id": "MNS5l5Cyz3Im",
        "colab_type": "code",
        "colab": {}
      },
      "source": [
        "#Converting columns to datetime\n",
        "train_df['date_hour']=pd.to_datetime(train_df['date_hour'])"
      ],
      "execution_count": 0,
      "outputs": []
    },
    {
      "cell_type": "code",
      "metadata": {
        "id": "OmPl4R_gz3Io",
        "colab_type": "code",
        "colab": {}
      },
      "source": [
        "area_names = train_df.area_name.unique()"
      ],
      "execution_count": 0,
      "outputs": []
    },
    {
      "cell_type": "code",
      "metadata": {
        "id": "DkKd730Pz3Ir",
        "colab_type": "code",
        "colab": {
          "base_uri": "https://localhost:8080/",
          "height": 102
        },
        "outputId": "69ee13ce-91f8-40fa-c2ff-99161940f4c1"
      },
      "source": [
        "area_names"
      ],
      "execution_count": 8,
      "outputs": [
        {
          "output_type": "execute_result",
          "data": {
            "text/plain": [
              "array(['Olympic', 'Southeast', 'Foothill', 'Hollywood', 'Mission',\n",
              "       'Northeast', 'Newton', 'Central', 'N Hollywood', 'Southwest',\n",
              "       'Harbor', 'Devonshire', 'Pacific', 'Rampart', 'Wilshire',\n",
              "       '77th Street', 'West LA', 'Topanga', 'Van Nuys', 'West Valley',\n",
              "       'Hollenbeck'], dtype=object)"
            ]
          },
          "metadata": {
            "tags": []
          },
          "execution_count": 8
        }
      ]
    },
    {
      "cell_type": "code",
      "metadata": {
        "id": "aEiW2PNaz3Iv",
        "colab_type": "code",
        "colab": {
          "base_uri": "https://localhost:8080/",
          "height": 238
        },
        "outputId": "6ffa3a2f-0dab-49ed-ff76-3895e29e1ee1"
      },
      "source": [
        "#Frequency of accidents in Los Angeles in any given hour\n",
        "train_df['no_of_accidents'].value_counts(normalize=True)"
      ],
      "execution_count": 9,
      "outputs": [
        {
          "output_type": "execute_result",
          "data": {
            "text/plain": [
              "0.0     7.710619e-01\n",
              "1.0     1.896428e-01\n",
              "2.0     3.343084e-02\n",
              "3.0     5.037212e-03\n",
              "4.0     7.050764e-04\n",
              "5.0     9.667714e-05\n",
              "6.0     1.777970e-05\n",
              "7.0     4.444926e-06\n",
              "8.0     1.666847e-06\n",
              "14.0    5.556157e-07\n",
              "12.0    5.556157e-07\n",
              "11.0    5.556157e-07\n",
              "Name: no_of_accidents, dtype: float64"
            ]
          },
          "metadata": {
            "tags": []
          },
          "execution_count": 9
        }
      ]
    },
    {
      "cell_type": "code",
      "metadata": {
        "id": "QzCAyM1wz3Ix",
        "colab_type": "code",
        "colab": {}
      },
      "source": [
        "#Creating features based on no of accidents happened in the past hours in that area\n",
        "empty_df = []\n",
        "laghours = [4,12,24,168,720,2880,8760]\n",
        "for area in area_names:\n",
        "    train_area = train_df[train_df.area_name==area].copy()\n",
        "    train_area['no_past1hour']=train_df['no_of_accidents'].shift(1)\n",
        "    for lhour in laghours:\n",
        "        name = 'past_'+str(lhour)+'hours'\n",
        "        train_area[name]=train_area['no_past1hour'].rolling(lhour).sum()\n",
        "    empty_df.append(train_area)"
      ],
      "execution_count": 0,
      "outputs": []
    },
    {
      "cell_type": "code",
      "metadata": {
        "id": "kS2WQNupz3I1",
        "colab_type": "code",
        "colab": {
          "base_uri": "https://localhost:8080/",
          "height": 34
        },
        "outputId": "f52de437-d397-4f8a-a3e6-d0203953e06f"
      },
      "source": [
        "#Final data after creating features\n",
        "train = pd.concat(empty_df)\n",
        "train.shape"
      ],
      "execution_count": 11,
      "outputs": [
        {
          "output_type": "execute_result",
          "data": {
            "text/plain": [
              "(1799805, 14)"
            ]
          },
          "metadata": {
            "tags": []
          },
          "execution_count": 11
        }
      ]
    },
    {
      "cell_type": "code",
      "metadata": {
        "id": "OdkLqr5Dz3I3",
        "colab_type": "code",
        "colab": {}
      },
      "source": [
        "#Filling all Nan values with -1\n",
        "train = train.fillna(-1)"
      ],
      "execution_count": 0,
      "outputs": []
    },
    {
      "cell_type": "code",
      "metadata": {
        "id": "02XweVpq0Ul7",
        "colab_type": "code",
        "colab": {}
      },
      "source": [
        "#Adding more features to the data\n",
        "train['day']=train['date_hour'].dt.day\n",
        "train['month']=train['date_hour'].dt.month\n",
        "train['dayofweek']=train['date_hour'].dt.dayofweek\n",
        "train['year']=train['date_hour'].dt.year"
      ],
      "execution_count": 0,
      "outputs": []
    },
    {
      "cell_type": "code",
      "metadata": {
        "id": "dzocZtpSz3I6",
        "colab_type": "code",
        "colab": {
          "base_uri": "https://localhost:8080/",
          "height": 34
        },
        "outputId": "66dd88ff-1939-469c-fd04-d76999cac9f6"
      },
      "source": [
        "#Removing No of accidents as that is a leakage feature and date_hour as it is equal to a index\n",
        "train = train.drop(columns=['no_of_accidents'])\n",
        "train.shape"
      ],
      "execution_count": 14,
      "outputs": [
        {
          "output_type": "execute_result",
          "data": {
            "text/plain": [
              "(1799805, 17)"
            ]
          },
          "metadata": {
            "tags": []
          },
          "execution_count": 14
        }
      ]
    },
    {
      "cell_type": "code",
      "metadata": {
        "id": "U79XFCZEz3I8",
        "colab_type": "code",
        "colab": {
          "base_uri": "https://localhost:8080/",
          "height": 309
        },
        "outputId": "31136d41-baee-411f-b0d2-62de664a1bd3"
      },
      "source": [
        "train.tail()"
      ],
      "execution_count": 15,
      "outputs": [
        {
          "output_type": "execute_result",
          "data": {
            "text/html": [
              "<div>\n",
              "<style scoped>\n",
              "    .dataframe tbody tr th:only-of-type {\n",
              "        vertical-align: middle;\n",
              "    }\n",
              "\n",
              "    .dataframe tbody tr th {\n",
              "        vertical-align: top;\n",
              "    }\n",
              "\n",
              "    .dataframe thead th {\n",
              "        text-align: right;\n",
              "    }\n",
              "</style>\n",
              "<table border=\"1\" class=\"dataframe\">\n",
              "  <thead>\n",
              "    <tr style=\"text-align: right;\">\n",
              "      <th></th>\n",
              "      <th>date_hour</th>\n",
              "      <th>area_name</th>\n",
              "      <th>date_accident</th>\n",
              "      <th>hour_time</th>\n",
              "      <th>is_accident</th>\n",
              "      <th>no_past1hour</th>\n",
              "      <th>past_4hours</th>\n",
              "      <th>past_12hours</th>\n",
              "      <th>past_24hours</th>\n",
              "      <th>past_168hours</th>\n",
              "      <th>past_720hours</th>\n",
              "      <th>past_2880hours</th>\n",
              "      <th>past_8760hours</th>\n",
              "      <th>day</th>\n",
              "      <th>month</th>\n",
              "      <th>dayofweek</th>\n",
              "      <th>year</th>\n",
              "    </tr>\n",
              "  </thead>\n",
              "  <tbody>\n",
              "    <tr>\n",
              "      <th>1799800</th>\n",
              "      <td>2019-10-11 20:00:00</td>\n",
              "      <td>Hollenbeck</td>\n",
              "      <td>2019-10-11 00:00:00</td>\n",
              "      <td>2000</td>\n",
              "      <td>0</td>\n",
              "      <td>0.0</td>\n",
              "      <td>0.0</td>\n",
              "      <td>0.0</td>\n",
              "      <td>2.0</td>\n",
              "      <td>28.0</td>\n",
              "      <td>155.0</td>\n",
              "      <td>641.0</td>\n",
              "      <td>2020.0</td>\n",
              "      <td>11</td>\n",
              "      <td>10</td>\n",
              "      <td>4</td>\n",
              "      <td>2019</td>\n",
              "    </tr>\n",
              "    <tr>\n",
              "      <th>1799801</th>\n",
              "      <td>2019-10-11 21:00:00</td>\n",
              "      <td>Hollenbeck</td>\n",
              "      <td>2019-10-11 00:00:00</td>\n",
              "      <td>2100</td>\n",
              "      <td>0</td>\n",
              "      <td>0.0</td>\n",
              "      <td>0.0</td>\n",
              "      <td>0.0</td>\n",
              "      <td>2.0</td>\n",
              "      <td>28.0</td>\n",
              "      <td>155.0</td>\n",
              "      <td>640.0</td>\n",
              "      <td>2020.0</td>\n",
              "      <td>11</td>\n",
              "      <td>10</td>\n",
              "      <td>4</td>\n",
              "      <td>2019</td>\n",
              "    </tr>\n",
              "    <tr>\n",
              "      <th>1799802</th>\n",
              "      <td>2019-10-11 22:00:00</td>\n",
              "      <td>Hollenbeck</td>\n",
              "      <td>2019-10-11 00:00:00</td>\n",
              "      <td>2200</td>\n",
              "      <td>0</td>\n",
              "      <td>0.0</td>\n",
              "      <td>0.0</td>\n",
              "      <td>0.0</td>\n",
              "      <td>2.0</td>\n",
              "      <td>28.0</td>\n",
              "      <td>155.0</td>\n",
              "      <td>640.0</td>\n",
              "      <td>2020.0</td>\n",
              "      <td>11</td>\n",
              "      <td>10</td>\n",
              "      <td>4</td>\n",
              "      <td>2019</td>\n",
              "    </tr>\n",
              "    <tr>\n",
              "      <th>1799803</th>\n",
              "      <td>2019-10-11 23:00:00</td>\n",
              "      <td>Hollenbeck</td>\n",
              "      <td>2019-10-11 00:00:00</td>\n",
              "      <td>2300</td>\n",
              "      <td>0</td>\n",
              "      <td>0.0</td>\n",
              "      <td>0.0</td>\n",
              "      <td>0.0</td>\n",
              "      <td>2.0</td>\n",
              "      <td>28.0</td>\n",
              "      <td>154.0</td>\n",
              "      <td>640.0</td>\n",
              "      <td>2020.0</td>\n",
              "      <td>11</td>\n",
              "      <td>10</td>\n",
              "      <td>4</td>\n",
              "      <td>2019</td>\n",
              "    </tr>\n",
              "    <tr>\n",
              "      <th>1799804</th>\n",
              "      <td>2019-10-12 00:00:00</td>\n",
              "      <td>Hollenbeck</td>\n",
              "      <td>2019-10-12 00:00:00</td>\n",
              "      <td>0</td>\n",
              "      <td>0</td>\n",
              "      <td>0.0</td>\n",
              "      <td>0.0</td>\n",
              "      <td>0.0</td>\n",
              "      <td>2.0</td>\n",
              "      <td>28.0</td>\n",
              "      <td>154.0</td>\n",
              "      <td>640.0</td>\n",
              "      <td>2020.0</td>\n",
              "      <td>12</td>\n",
              "      <td>10</td>\n",
              "      <td>5</td>\n",
              "      <td>2019</td>\n",
              "    </tr>\n",
              "  </tbody>\n",
              "</table>\n",
              "</div>"
            ],
            "text/plain": [
              "                  date_hour   area_name  ... dayofweek  year\n",
              "1799800 2019-10-11 20:00:00  Hollenbeck  ...         4  2019\n",
              "1799801 2019-10-11 21:00:00  Hollenbeck  ...         4  2019\n",
              "1799802 2019-10-11 22:00:00  Hollenbeck  ...         4  2019\n",
              "1799803 2019-10-11 23:00:00  Hollenbeck  ...         4  2019\n",
              "1799804 2019-10-12 00:00:00  Hollenbeck  ...         5  2019\n",
              "\n",
              "[5 rows x 17 columns]"
            ]
          },
          "metadata": {
            "tags": []
          },
          "execution_count": 15
        }
      ]
    },
    {
      "cell_type": "code",
      "metadata": {
        "id": "-rlBWmRuz3I-",
        "colab_type": "code",
        "colab": {}
      },
      "source": [
        "#Creating a train,valid and test dataset based on time slicing\n",
        "#Train set will be data before 2018\n",
        "#Valid set will be data for year 2018\n",
        "#Test set will be data for year 2019"
      ],
      "execution_count": 0,
      "outputs": []
    },
    {
      "cell_type": "code",
      "metadata": {
        "id": "aswWkSkuz3JA",
        "colab_type": "code",
        "colab": {}
      },
      "source": [
        "target = 'is_accident'"
      ],
      "execution_count": 0,
      "outputs": []
    },
    {
      "cell_type": "code",
      "metadata": {
        "id": "-tb0f_Hxz3JC",
        "colab_type": "code",
        "colab": {
          "base_uri": "https://localhost:8080/",
          "height": 68
        },
        "outputId": "bd5583b6-f8e2-4eeb-baef-33b5f97762f2"
      },
      "source": [
        "train_set = train[train.date_hour<'2018-01-01']\n",
        "valid_set = train[(train.date_hour>='2018-01-01')&(train.date_hour<'2019-01-01')]\n",
        "test_set = train[train.date_hour>='2019-01-01']\n",
        "print(\"Train :\",train_set.shape[0])\n",
        "print(\"Valid :\",valid_set.shape[0])\n",
        "print(\"Valid :\",test_set.shape[0])"
      ],
      "execution_count": 18,
      "outputs": [
        {
          "output_type": "stream",
          "text": [
            "Train : 1472688\n",
            "Valid : 183960\n",
            "Valid : 143157\n"
          ],
          "name": "stdout"
        }
      ]
    },
    {
      "cell_type": "code",
      "metadata": {
        "id": "dqjDuryfz3JE",
        "colab_type": "code",
        "colab": {}
      },
      "source": [
        "#separating target and training data\n",
        "y_train = train_set[target]\n",
        "train_set = train_set.drop(columns=target)\n",
        "y_valid = valid_set[target]\n",
        "valid_set = valid_set.drop(columns=target)\n",
        "y_test = test_set[target]\n",
        "test_set = test_set.drop(columns=target)"
      ],
      "execution_count": 0,
      "outputs": []
    },
    {
      "cell_type": "code",
      "metadata": {
        "id": "z1KjG1bpz3JG",
        "colab_type": "code",
        "colab": {}
      },
      "source": [
        "from sklearn.ensemble import RandomForestClassifier\n",
        "import category_encoders as ce\n",
        "from sklearn.pipeline import make_pipeline\n",
        "from lightgbm import LGBMClassifier\n",
        "from sklearn.metrics import roc_auc_score,roc_curve,auc,confusion_matrix,classification_report"
      ],
      "execution_count": 0,
      "outputs": []
    },
    {
      "cell_type": "code",
      "metadata": {
        "id": "4XAraTEnz3JI",
        "colab_type": "code",
        "colab": {}
      },
      "source": [
        "pipeline = make_pipeline(\n",
        "    ce.OrdinalEncoder(),\n",
        "    #LGBMClassifier(max_depth=8,learning_rate=0.03,n_estimators=1500,min_child_samples=20)\n",
        ")"
      ],
      "execution_count": 0,
      "outputs": []
    },
    {
      "cell_type": "code",
      "metadata": {
        "id": "2F7l1zdDz3JL",
        "colab_type": "code",
        "colab": {}
      },
      "source": [
        "features = train_set.columns.drop(['date_hour','date_accident'])"
      ],
      "execution_count": 0,
      "outputs": []
    },
    {
      "cell_type": "code",
      "metadata": {
        "id": "8O7ZQKbOS5C5",
        "colab_type": "code",
        "colab": {
          "base_uri": "https://localhost:8080/",
          "height": 85
        },
        "outputId": "1835143e-a91a-444d-ad02-1a74f1d1b7f4"
      },
      "source": [
        "features"
      ],
      "execution_count": 59,
      "outputs": [
        {
          "output_type": "execute_result",
          "data": {
            "text/plain": [
              "Index(['area_name', 'hour_time', 'no_past1hour', 'past_4hours', 'past_12hours',\n",
              "       'past_24hours', 'past_168hours', 'past_720hours', 'past_2880hours',\n",
              "       'past_8760hours', 'day', 'month', 'dayofweek', 'year'],\n",
              "      dtype='object')"
            ]
          },
          "metadata": {
            "tags": []
          },
          "execution_count": 59
        }
      ]
    },
    {
      "cell_type": "code",
      "metadata": {
        "id": "fmiPGmM5z3JO",
        "colab_type": "code",
        "colab": {}
      },
      "source": [
        " X_train = pipeline.fit_transform(train_set[features])\n",
        " X_valid = pipeline.transform(valid_set[features])\n",
        " X_test = pipeline.transform(test_set[features])\n",
        "\n",
        "\n"
      ],
      "execution_count": 0,
      "outputs": []
    },
    {
      "cell_type": "code",
      "metadata": {
        "id": "gVTe294MXPOb",
        "colab_type": "code",
        "colab": {
          "base_uri": "https://localhost:8080/",
          "height": 224
        },
        "outputId": "542a503a-836d-4d3e-b935-4b0c08522d03"
      },
      "source": [
        "X_train.head()"
      ],
      "execution_count": 68,
      "outputs": [
        {
          "output_type": "execute_result",
          "data": {
            "text/html": [
              "<div>\n",
              "<style scoped>\n",
              "    .dataframe tbody tr th:only-of-type {\n",
              "        vertical-align: middle;\n",
              "    }\n",
              "\n",
              "    .dataframe tbody tr th {\n",
              "        vertical-align: top;\n",
              "    }\n",
              "\n",
              "    .dataframe thead th {\n",
              "        text-align: right;\n",
              "    }\n",
              "</style>\n",
              "<table border=\"1\" class=\"dataframe\">\n",
              "  <thead>\n",
              "    <tr style=\"text-align: right;\">\n",
              "      <th></th>\n",
              "      <th>area_name</th>\n",
              "      <th>hour_time</th>\n",
              "      <th>no_past1hour</th>\n",
              "      <th>past_4hours</th>\n",
              "      <th>past_12hours</th>\n",
              "      <th>past_24hours</th>\n",
              "      <th>past_168hours</th>\n",
              "      <th>past_720hours</th>\n",
              "      <th>past_2880hours</th>\n",
              "      <th>past_8760hours</th>\n",
              "      <th>day</th>\n",
              "      <th>month</th>\n",
              "      <th>dayofweek</th>\n",
              "      <th>year</th>\n",
              "    </tr>\n",
              "  </thead>\n",
              "  <tbody>\n",
              "    <tr>\n",
              "      <th>0</th>\n",
              "      <td>1</td>\n",
              "      <td>0</td>\n",
              "      <td>-1.0</td>\n",
              "      <td>-1.0</td>\n",
              "      <td>-1.0</td>\n",
              "      <td>-1.0</td>\n",
              "      <td>-1.0</td>\n",
              "      <td>-1.0</td>\n",
              "      <td>-1.0</td>\n",
              "      <td>-1.0</td>\n",
              "      <td>1</td>\n",
              "      <td>1</td>\n",
              "      <td>4</td>\n",
              "      <td>2010</td>\n",
              "    </tr>\n",
              "    <tr>\n",
              "      <th>1</th>\n",
              "      <td>1</td>\n",
              "      <td>100</td>\n",
              "      <td>0.0</td>\n",
              "      <td>-1.0</td>\n",
              "      <td>-1.0</td>\n",
              "      <td>-1.0</td>\n",
              "      <td>-1.0</td>\n",
              "      <td>-1.0</td>\n",
              "      <td>-1.0</td>\n",
              "      <td>-1.0</td>\n",
              "      <td>1</td>\n",
              "      <td>1</td>\n",
              "      <td>4</td>\n",
              "      <td>2010</td>\n",
              "    </tr>\n",
              "    <tr>\n",
              "      <th>2</th>\n",
              "      <td>1</td>\n",
              "      <td>200</td>\n",
              "      <td>1.0</td>\n",
              "      <td>-1.0</td>\n",
              "      <td>-1.0</td>\n",
              "      <td>-1.0</td>\n",
              "      <td>-1.0</td>\n",
              "      <td>-1.0</td>\n",
              "      <td>-1.0</td>\n",
              "      <td>-1.0</td>\n",
              "      <td>1</td>\n",
              "      <td>1</td>\n",
              "      <td>4</td>\n",
              "      <td>2010</td>\n",
              "    </tr>\n",
              "    <tr>\n",
              "      <th>3</th>\n",
              "      <td>1</td>\n",
              "      <td>300</td>\n",
              "      <td>0.0</td>\n",
              "      <td>-1.0</td>\n",
              "      <td>-1.0</td>\n",
              "      <td>-1.0</td>\n",
              "      <td>-1.0</td>\n",
              "      <td>-1.0</td>\n",
              "      <td>-1.0</td>\n",
              "      <td>-1.0</td>\n",
              "      <td>1</td>\n",
              "      <td>1</td>\n",
              "      <td>4</td>\n",
              "      <td>2010</td>\n",
              "    </tr>\n",
              "    <tr>\n",
              "      <th>4</th>\n",
              "      <td>1</td>\n",
              "      <td>400</td>\n",
              "      <td>1.0</td>\n",
              "      <td>2.0</td>\n",
              "      <td>-1.0</td>\n",
              "      <td>-1.0</td>\n",
              "      <td>-1.0</td>\n",
              "      <td>-1.0</td>\n",
              "      <td>-1.0</td>\n",
              "      <td>-1.0</td>\n",
              "      <td>1</td>\n",
              "      <td>1</td>\n",
              "      <td>4</td>\n",
              "      <td>2010</td>\n",
              "    </tr>\n",
              "  </tbody>\n",
              "</table>\n",
              "</div>"
            ],
            "text/plain": [
              "   area_name  hour_time  no_past1hour  past_4hours  ...  day  month  dayofweek  year\n",
              "0          1          0          -1.0         -1.0  ...    1      1          4  2010\n",
              "1          1        100           0.0         -1.0  ...    1      1          4  2010\n",
              "2          1        200           1.0         -1.0  ...    1      1          4  2010\n",
              "3          1        300           0.0         -1.0  ...    1      1          4  2010\n",
              "4          1        400           1.0          2.0  ...    1      1          4  2010\n",
              "\n",
              "[5 rows x 14 columns]"
            ]
          },
          "metadata": {
            "tags": []
          },
          "execution_count": 68
        }
      ]
    },
    {
      "cell_type": "code",
      "metadata": {
        "id": "sGZmpUcaVfC5",
        "colab_type": "code",
        "colab": {}
      },
      "source": [
        "\n",
        "eval_set = [(X_train,y_train),(X_valid,y_valid)]\n",
        "model = LGBMClassifier(learning_rate=0.01,subsample= 1.0,\n",
        "                      n_estimators = 500,min_child_weight = 3,\n",
        "                       gamma =  1, colsample_bytree = 0.8)"
      ],
      "execution_count": 0,
      "outputs": []
    },
    {
      "cell_type": "code",
      "metadata": {
        "id": "L9EXJY5dz3JQ",
        "colab_type": "code",
        "colab": {}
      },
      "source": [
        ""
      ],
      "execution_count": 0,
      "outputs": []
    },
    {
      "cell_type": "code",
      "metadata": {
        "id": "qTZAO5yhWrrZ",
        "colab_type": "code",
        "colab": {
          "base_uri": "https://localhost:8080/",
          "height": 1000
        },
        "outputId": "f54a5ca1-28ec-4062-9e90-8c988ee66c2d"
      },
      "source": [
        "model.fit(X_train,y_train,eval_set=eval_set,eval_metric='auc',\n",
        "                      early_stopping_rounds=50)"
      ],
      "execution_count": 90,
      "outputs": [
        {
          "output_type": "stream",
          "text": [
            "[1]\ttraining's binary_logloss: 0.53167\ttraining's auc: 0.579408\tvalid_1's binary_logloss: 0.568894\tvalid_1's auc: 0.57503\n",
            "Training until validation scores don't improve for 50 rounds.\n",
            "[2]\ttraining's binary_logloss: 0.531115\ttraining's auc: 0.658897\tvalid_1's binary_logloss: 0.568171\tvalid_1's auc: 0.65749\n",
            "[3]\ttraining's binary_logloss: 0.530572\ttraining's auc: 0.663489\tvalid_1's binary_logloss: 0.567455\tvalid_1's auc: 0.661715\n",
            "[4]\ttraining's binary_logloss: 0.53004\ttraining's auc: 0.664589\tvalid_1's binary_logloss: 0.566783\tvalid_1's auc: 0.662001\n",
            "[5]\ttraining's binary_logloss: 0.529516\ttraining's auc: 0.664689\tvalid_1's binary_logloss: 0.566105\tvalid_1's auc: 0.66242\n",
            "[6]\ttraining's binary_logloss: 0.529003\ttraining's auc: 0.664645\tvalid_1's binary_logloss: 0.565445\tvalid_1's auc: 0.662451\n",
            "[7]\ttraining's binary_logloss: 0.528499\ttraining's auc: 0.664544\tvalid_1's binary_logloss: 0.564799\tvalid_1's auc: 0.662453\n",
            "[8]\ttraining's binary_logloss: 0.528005\ttraining's auc: 0.664464\tvalid_1's binary_logloss: 0.564163\tvalid_1's auc: 0.662461\n",
            "[9]\ttraining's binary_logloss: 0.527521\ttraining's auc: 0.664532\tvalid_1's binary_logloss: 0.563538\tvalid_1's auc: 0.662635\n",
            "[10]\ttraining's binary_logloss: 0.527388\ttraining's auc: 0.664667\tvalid_1's binary_logloss: 0.563352\tvalid_1's auc: 0.662419\n",
            "[11]\ttraining's binary_logloss: 0.526912\ttraining's auc: 0.664781\tvalid_1's binary_logloss: 0.562762\tvalid_1's auc: 0.662747\n",
            "[12]\ttraining's binary_logloss: 0.526448\ttraining's auc: 0.664839\tvalid_1's binary_logloss: 0.562172\tvalid_1's auc: 0.662759\n",
            "[13]\ttraining's binary_logloss: 0.52599\ttraining's auc: 0.664949\tvalid_1's binary_logloss: 0.561592\tvalid_1's auc: 0.662902\n",
            "[14]\ttraining's binary_logloss: 0.525541\ttraining's auc: 0.665154\tvalid_1's binary_logloss: 0.561034\tvalid_1's auc: 0.663085\n",
            "[15]\ttraining's binary_logloss: 0.525149\ttraining's auc: 0.665339\tvalid_1's binary_logloss: 0.560561\tvalid_1's auc: 0.663045\n",
            "[16]\ttraining's binary_logloss: 0.524716\ttraining's auc: 0.665422\tvalid_1's binary_logloss: 0.560016\tvalid_1's auc: 0.66313\n",
            "[17]\ttraining's binary_logloss: 0.524291\ttraining's auc: 0.665536\tvalid_1's binary_logloss: 0.559494\tvalid_1's auc: 0.663195\n",
            "[18]\ttraining's binary_logloss: 0.523872\ttraining's auc: 0.665528\tvalid_1's binary_logloss: 0.558984\tvalid_1's auc: 0.66331\n",
            "[19]\ttraining's binary_logloss: 0.523509\ttraining's auc: 0.665542\tvalid_1's binary_logloss: 0.558516\tvalid_1's auc: 0.663335\n",
            "[20]\ttraining's binary_logloss: 0.523107\ttraining's auc: 0.665509\tvalid_1's binary_logloss: 0.558014\tvalid_1's auc: 0.663344\n",
            "[21]\ttraining's binary_logloss: 0.522711\ttraining's auc: 0.665529\tvalid_1's binary_logloss: 0.557526\tvalid_1's auc: 0.66342\n",
            "[22]\ttraining's binary_logloss: 0.522368\ttraining's auc: 0.665501\tvalid_1's binary_logloss: 0.557087\tvalid_1's auc: 0.663389\n",
            "[23]\ttraining's binary_logloss: 0.521984\ttraining's auc: 0.665552\tvalid_1's binary_logloss: 0.556618\tvalid_1's auc: 0.66345\n",
            "[24]\ttraining's binary_logloss: 0.521608\ttraining's auc: 0.665642\tvalid_1's binary_logloss: 0.556158\tvalid_1's auc: 0.663479\n",
            "[25]\ttraining's binary_logloss: 0.521238\ttraining's auc: 0.665711\tvalid_1's binary_logloss: 0.555706\tvalid_1's auc: 0.663484\n",
            "[26]\ttraining's binary_logloss: 0.520919\ttraining's auc: 0.665669\tvalid_1's binary_logloss: 0.5553\tvalid_1's auc: 0.663498\n",
            "[27]\ttraining's binary_logloss: 0.52084\ttraining's auc: 0.665852\tvalid_1's binary_logloss: 0.555191\tvalid_1's auc: 0.663635\n",
            "[28]\ttraining's binary_logloss: 0.520741\ttraining's auc: 0.665899\tvalid_1's binary_logloss: 0.555054\tvalid_1's auc: 0.663628\n",
            "[29]\ttraining's binary_logloss: 0.520385\ttraining's auc: 0.665955\tvalid_1's binary_logloss: 0.554627\tvalid_1's auc: 0.663626\n",
            "[30]\ttraining's binary_logloss: 0.520035\ttraining's auc: 0.665976\tvalid_1's binary_logloss: 0.554207\tvalid_1's auc: 0.663649\n",
            "[31]\ttraining's binary_logloss: 0.51969\ttraining's auc: 0.666073\tvalid_1's binary_logloss: 0.553831\tvalid_1's auc: 0.663678\n",
            "[32]\ttraining's binary_logloss: 0.519396\ttraining's auc: 0.666046\tvalid_1's binary_logloss: 0.553466\tvalid_1's auc: 0.663697\n",
            "[33]\ttraining's binary_logloss: 0.519325\ttraining's auc: 0.666148\tvalid_1's binary_logloss: 0.553366\tvalid_1's auc: 0.663799\n",
            "[34]\ttraining's binary_logloss: 0.519036\ttraining's auc: 0.666121\tvalid_1's binary_logloss: 0.553061\tvalid_1's auc: 0.663743\n",
            "[35]\ttraining's binary_logloss: 0.518753\ttraining's auc: 0.666106\tvalid_1's binary_logloss: 0.552734\tvalid_1's auc: 0.663674\n",
            "[36]\ttraining's binary_logloss: 0.518432\ttraining's auc: 0.666173\tvalid_1's binary_logloss: 0.552358\tvalid_1's auc: 0.663704\n",
            "[37]\ttraining's binary_logloss: 0.518158\ttraining's auc: 0.666157\tvalid_1's binary_logloss: 0.552049\tvalid_1's auc: 0.663653\n",
            "[38]\ttraining's binary_logloss: 0.517889\ttraining's auc: 0.666123\tvalid_1's binary_logloss: 0.551746\tvalid_1's auc: 0.663611\n",
            "[39]\ttraining's binary_logloss: 0.517582\ttraining's auc: 0.6662\tvalid_1's binary_logloss: 0.551391\tvalid_1's auc: 0.663651\n",
            "[40]\ttraining's binary_logloss: 0.517279\ttraining's auc: 0.666282\tvalid_1's binary_logloss: 0.551068\tvalid_1's auc: 0.663669\n",
            "[41]\ttraining's binary_logloss: 0.516983\ttraining's auc: 0.666335\tvalid_1's binary_logloss: 0.550723\tvalid_1's auc: 0.663694\n",
            "[42]\ttraining's binary_logloss: 0.516909\ttraining's auc: 0.666394\tvalid_1's binary_logloss: 0.550623\tvalid_1's auc: 0.663738\n",
            "[43]\ttraining's binary_logloss: 0.51662\ttraining's auc: 0.666435\tvalid_1's binary_logloss: 0.550308\tvalid_1's auc: 0.663728\n",
            "[44]\ttraining's binary_logloss: 0.516336\ttraining's auc: 0.666475\tvalid_1's binary_logloss: 0.549981\tvalid_1's auc: 0.66376\n",
            "[45]\ttraining's binary_logloss: 0.516261\ttraining's auc: 0.666501\tvalid_1's binary_logloss: 0.549884\tvalid_1's auc: 0.663775\n",
            "[46]\ttraining's binary_logloss: 0.516186\ttraining's auc: 0.666516\tvalid_1's binary_logloss: 0.549788\tvalid_1's auc: 0.663782\n",
            "[47]\ttraining's binary_logloss: 0.516113\ttraining's auc: 0.66652\tvalid_1's binary_logloss: 0.549692\tvalid_1's auc: 0.663794\n",
            "[48]\ttraining's binary_logloss: 0.515836\ttraining's auc: 0.666568\tvalid_1's binary_logloss: 0.549367\tvalid_1's auc: 0.663844\n",
            "[49]\ttraining's binary_logloss: 0.515563\ttraining's auc: 0.66664\tvalid_1's binary_logloss: 0.549109\tvalid_1's auc: 0.663839\n",
            "[50]\ttraining's binary_logloss: 0.515333\ttraining's auc: 0.666616\tvalid_1's binary_logloss: 0.548862\tvalid_1's auc: 0.663811\n",
            "[51]\ttraining's binary_logloss: 0.515071\ttraining's auc: 0.666644\tvalid_1's binary_logloss: 0.548555\tvalid_1's auc: 0.663835\n",
            "[52]\ttraining's binary_logloss: 0.514813\ttraining's auc: 0.666696\tvalid_1's binary_logloss: 0.548282\tvalid_1's auc: 0.663831\n",
            "[53]\ttraining's binary_logloss: 0.514559\ttraining's auc: 0.666723\tvalid_1's binary_logloss: 0.547993\tvalid_1's auc: 0.66385\n",
            "[54]\ttraining's binary_logloss: 0.514494\ttraining's auc: 0.666723\tvalid_1's binary_logloss: 0.547909\tvalid_1's auc: 0.663851\n",
            "[55]\ttraining's binary_logloss: 0.514246\ttraining's auc: 0.666771\tvalid_1's binary_logloss: 0.547649\tvalid_1's auc: 0.663824\n",
            "[56]\ttraining's binary_logloss: 0.514\ttraining's auc: 0.66681\tvalid_1's binary_logloss: 0.547366\tvalid_1's auc: 0.663884\n",
            "[57]\ttraining's binary_logloss: 0.51376\ttraining's auc: 0.666851\tvalid_1's binary_logloss: 0.547114\tvalid_1's auc: 0.66388\n",
            "[58]\ttraining's binary_logloss: 0.513699\ttraining's auc: 0.666846\tvalid_1's binary_logloss: 0.547033\tvalid_1's auc: 0.663877\n",
            "[59]\ttraining's binary_logloss: 0.513495\ttraining's auc: 0.666842\tvalid_1's binary_logloss: 0.546812\tvalid_1's auc: 0.663871\n",
            "[60]\ttraining's binary_logloss: 0.513297\ttraining's auc: 0.666827\tvalid_1's binary_logloss: 0.54659\tvalid_1's auc: 0.66384\n",
            "[61]\ttraining's binary_logloss: 0.513101\ttraining's auc: 0.666812\tvalid_1's binary_logloss: 0.546422\tvalid_1's auc: 0.663837\n",
            "[62]\ttraining's binary_logloss: 0.512875\ttraining's auc: 0.666869\tvalid_1's binary_logloss: 0.54619\tvalid_1's auc: 0.663838\n",
            "[63]\ttraining's binary_logloss: 0.512685\ttraining's auc: 0.666856\tvalid_1's binary_logloss: 0.545984\tvalid_1's auc: 0.663821\n",
            "[64]\ttraining's binary_logloss: 0.51264\ttraining's auc: 0.666893\tvalid_1's binary_logloss: 0.545925\tvalid_1's auc: 0.663876\n",
            "[65]\ttraining's binary_logloss: 0.512421\ttraining's auc: 0.666956\tvalid_1's binary_logloss: 0.545727\tvalid_1's auc: 0.663918\n",
            "[66]\ttraining's binary_logloss: 0.512206\ttraining's auc: 0.667023\tvalid_1's binary_logloss: 0.545499\tvalid_1's auc: 0.663951\n",
            "[67]\ttraining's binary_logloss: 0.511992\ttraining's auc: 0.667085\tvalid_1's binary_logloss: 0.545316\tvalid_1's auc: 0.663972\n",
            "[68]\ttraining's binary_logloss: 0.511784\ttraining's auc: 0.667126\tvalid_1's binary_logloss: 0.545097\tvalid_1's auc: 0.663984\n",
            "[69]\ttraining's binary_logloss: 0.511578\ttraining's auc: 0.667169\tvalid_1's binary_logloss: 0.54487\tvalid_1's auc: 0.664035\n",
            "[70]\ttraining's binary_logloss: 0.511409\ttraining's auc: 0.66714\tvalid_1's binary_logloss: 0.544671\tvalid_1's auc: 0.664044\n",
            "[71]\ttraining's binary_logloss: 0.511358\ttraining's auc: 0.667143\tvalid_1's binary_logloss: 0.544609\tvalid_1's auc: 0.66406\n",
            "[72]\ttraining's binary_logloss: 0.511162\ttraining's auc: 0.667184\tvalid_1's binary_logloss: 0.544391\tvalid_1's auc: 0.664117\n",
            "[73]\ttraining's binary_logloss: 0.510971\ttraining's auc: 0.667213\tvalid_1's binary_logloss: 0.544177\tvalid_1's auc: 0.664139\n",
            "[74]\ttraining's binary_logloss: 0.510777\ttraining's auc: 0.667272\tvalid_1's binary_logloss: 0.544015\tvalid_1's auc: 0.664167\n",
            "[75]\ttraining's binary_logloss: 0.51059\ttraining's auc: 0.667308\tvalid_1's binary_logloss: 0.54383\tvalid_1's auc: 0.664155\n",
            "[76]\ttraining's binary_logloss: 0.510404\ttraining's auc: 0.667348\tvalid_1's binary_logloss: 0.543646\tvalid_1's auc: 0.664178\n",
            "[77]\ttraining's binary_logloss: 0.510222\ttraining's auc: 0.667397\tvalid_1's binary_logloss: 0.543474\tvalid_1's auc: 0.664188\n",
            "[78]\ttraining's binary_logloss: 0.510043\ttraining's auc: 0.667426\tvalid_1's binary_logloss: 0.543268\tvalid_1's auc: 0.664244\n",
            "[79]\ttraining's binary_logloss: 0.50987\ttraining's auc: 0.667442\tvalid_1's binary_logloss: 0.543078\tvalid_1's auc: 0.664256\n",
            "[80]\ttraining's binary_logloss: 0.509826\ttraining's auc: 0.667448\tvalid_1's binary_logloss: 0.543024\tvalid_1's auc: 0.664248\n",
            "[81]\ttraining's binary_logloss: 0.509653\ttraining's auc: 0.667478\tvalid_1's binary_logloss: 0.54283\tvalid_1's auc: 0.664303\n",
            "[82]\ttraining's binary_logloss: 0.509483\ttraining's auc: 0.66751\tvalid_1's binary_logloss: 0.542656\tvalid_1's auc: 0.664315\n",
            "[83]\ttraining's binary_logloss: 0.509318\ttraining's auc: 0.667534\tvalid_1's binary_logloss: 0.54251\tvalid_1's auc: 0.664319\n",
            "[84]\ttraining's binary_logloss: 0.509155\ttraining's auc: 0.66756\tvalid_1's binary_logloss: 0.542326\tvalid_1's auc: 0.66437\n",
            "[85]\ttraining's binary_logloss: 0.509019\ttraining's auc: 0.667554\tvalid_1's binary_logloss: 0.542211\tvalid_1's auc: 0.664372\n",
            "[86]\ttraining's binary_logloss: 0.508859\ttraining's auc: 0.667587\tvalid_1's binary_logloss: 0.542086\tvalid_1's auc: 0.664376\n",
            "[87]\ttraining's binary_logloss: 0.508825\ttraining's auc: 0.667621\tvalid_1's binary_logloss: 0.542043\tvalid_1's auc: 0.664419\n",
            "[88]\ttraining's binary_logloss: 0.508695\ttraining's auc: 0.667613\tvalid_1's binary_logloss: 0.541933\tvalid_1's auc: 0.664411\n",
            "[89]\ttraining's binary_logloss: 0.508542\ttraining's auc: 0.667654\tvalid_1's binary_logloss: 0.541784\tvalid_1's auc: 0.664425\n",
            "[90]\ttraining's binary_logloss: 0.50851\ttraining's auc: 0.667681\tvalid_1's binary_logloss: 0.54174\tvalid_1's auc: 0.664464\n",
            "[91]\ttraining's binary_logloss: 0.508383\ttraining's auc: 0.667684\tvalid_1's binary_logloss: 0.541641\tvalid_1's auc: 0.664449\n",
            "[92]\ttraining's binary_logloss: 0.508234\ttraining's auc: 0.667727\tvalid_1's binary_logloss: 0.541501\tvalid_1's auc: 0.664476\n",
            "[93]\ttraining's binary_logloss: 0.508112\ttraining's auc: 0.667716\tvalid_1's binary_logloss: 0.541376\tvalid_1's auc: 0.664446\n",
            "[94]\ttraining's binary_logloss: 0.507967\ttraining's auc: 0.667749\tvalid_1's binary_logloss: 0.541241\tvalid_1's auc: 0.664489\n",
            "[95]\ttraining's binary_logloss: 0.507931\ttraining's auc: 0.667758\tvalid_1's binary_logloss: 0.541195\tvalid_1's auc: 0.664488\n",
            "[96]\ttraining's binary_logloss: 0.507813\ttraining's auc: 0.667758\tvalid_1's binary_logloss: 0.541104\tvalid_1's auc: 0.664481\n",
            "[97]\ttraining's binary_logloss: 0.507674\ttraining's auc: 0.667789\tvalid_1's binary_logloss: 0.540952\tvalid_1's auc: 0.664541\n",
            "[98]\ttraining's binary_logloss: 0.507561\ttraining's auc: 0.667781\tvalid_1's binary_logloss: 0.540857\tvalid_1's auc: 0.664541\n",
            "[99]\ttraining's binary_logloss: 0.507448\ttraining's auc: 0.667777\tvalid_1's binary_logloss: 0.54077\tvalid_1's auc: 0.664528\n",
            "[100]\ttraining's binary_logloss: 0.507415\ttraining's auc: 0.667782\tvalid_1's binary_logloss: 0.540728\tvalid_1's auc: 0.664532\n",
            "[101]\ttraining's binary_logloss: 0.507281\ttraining's auc: 0.667825\tvalid_1's binary_logloss: 0.540588\tvalid_1's auc: 0.664567\n",
            "[102]\ttraining's binary_logloss: 0.507175\ttraining's auc: 0.667808\tvalid_1's binary_logloss: 0.540469\tvalid_1's auc: 0.664569\n",
            "[103]\ttraining's binary_logloss: 0.507143\ttraining's auc: 0.667813\tvalid_1's binary_logloss: 0.54043\tvalid_1's auc: 0.664569\n",
            "[104]\ttraining's binary_logloss: 0.507013\ttraining's auc: 0.667855\tvalid_1's binary_logloss: 0.540308\tvalid_1's auc: 0.664585\n",
            "[105]\ttraining's binary_logloss: 0.506886\ttraining's auc: 0.667902\tvalid_1's binary_logloss: 0.540187\tvalid_1's auc: 0.664614\n",
            "[106]\ttraining's binary_logloss: 0.50676\ttraining's auc: 0.66794\tvalid_1's binary_logloss: 0.54007\tvalid_1's auc: 0.664619\n",
            "[107]\ttraining's binary_logloss: 0.506639\ttraining's auc: 0.667971\tvalid_1's binary_logloss: 0.539934\tvalid_1's auc: 0.664661\n",
            "[108]\ttraining's binary_logloss: 0.50654\ttraining's auc: 0.667967\tvalid_1's binary_logloss: 0.53986\tvalid_1's auc: 0.664644\n",
            "[109]\ttraining's binary_logloss: 0.506421\ttraining's auc: 0.66801\tvalid_1's binary_logloss: 0.539749\tvalid_1's auc: 0.66466\n",
            "[110]\ttraining's binary_logloss: 0.506325\ttraining's auc: 0.668007\tvalid_1's binary_logloss: 0.539668\tvalid_1's auc: 0.664656\n",
            "[111]\ttraining's binary_logloss: 0.506296\ttraining's auc: 0.668012\tvalid_1's binary_logloss: 0.539632\tvalid_1's auc: 0.66466\n",
            "[112]\ttraining's binary_logloss: 0.50618\ttraining's auc: 0.668046\tvalid_1's binary_logloss: 0.539522\tvalid_1's auc: 0.664675\n",
            "[113]\ttraining's binary_logloss: 0.506088\ttraining's auc: 0.668046\tvalid_1's binary_logloss: 0.539439\tvalid_1's auc: 0.664653\n",
            "[114]\ttraining's binary_logloss: 0.506062\ttraining's auc: 0.668059\tvalid_1's binary_logloss: 0.539407\tvalid_1's auc: 0.66466\n",
            "[115]\ttraining's binary_logloss: 0.506035\ttraining's auc: 0.668061\tvalid_1's binary_logloss: 0.539374\tvalid_1's auc: 0.664656\n",
            "[116]\ttraining's binary_logloss: 0.505944\ttraining's auc: 0.668062\tvalid_1's binary_logloss: 0.539314\tvalid_1's auc: 0.664639\n",
            "[117]\ttraining's binary_logloss: 0.505835\ttraining's auc: 0.668098\tvalid_1's binary_logloss: 0.539203\tvalid_1's auc: 0.664693\n",
            "[118]\ttraining's binary_logloss: 0.505812\ttraining's auc: 0.66812\tvalid_1's binary_logloss: 0.539173\tvalid_1's auc: 0.664714\n",
            "[119]\ttraining's binary_logloss: 0.505706\ttraining's auc: 0.668147\tvalid_1's binary_logloss: 0.539068\tvalid_1's auc: 0.664732\n",
            "[120]\ttraining's binary_logloss: 0.505601\ttraining's auc: 0.668178\tvalid_1's binary_logloss: 0.538964\tvalid_1's auc: 0.664764\n",
            "[121]\ttraining's binary_logloss: 0.505498\ttraining's auc: 0.668207\tvalid_1's binary_logloss: 0.538855\tvalid_1's auc: 0.664812\n",
            "[122]\ttraining's binary_logloss: 0.505396\ttraining's auc: 0.668236\tvalid_1's binary_logloss: 0.538745\tvalid_1's auc: 0.664864\n",
            "[123]\ttraining's binary_logloss: 0.505372\ttraining's auc: 0.668239\tvalid_1's binary_logloss: 0.538715\tvalid_1's auc: 0.664866\n",
            "[124]\ttraining's binary_logloss: 0.505272\ttraining's auc: 0.668267\tvalid_1's binary_logloss: 0.538629\tvalid_1's auc: 0.664871\n",
            "[125]\ttraining's binary_logloss: 0.505174\ttraining's auc: 0.668294\tvalid_1's binary_logloss: 0.538533\tvalid_1's auc: 0.664898\n",
            "[126]\ttraining's binary_logloss: 0.505075\ttraining's auc: 0.668327\tvalid_1's binary_logloss: 0.538445\tvalid_1's auc: 0.664906\n",
            "[127]\ttraining's binary_logloss: 0.504979\ttraining's auc: 0.668356\tvalid_1's binary_logloss: 0.538345\tvalid_1's auc: 0.664938\n",
            "[128]\ttraining's binary_logloss: 0.504883\ttraining's auc: 0.668388\tvalid_1's binary_logloss: 0.538254\tvalid_1's auc: 0.664968\n",
            "[129]\ttraining's binary_logloss: 0.50479\ttraining's auc: 0.668418\tvalid_1's binary_logloss: 0.538172\tvalid_1's auc: 0.664977\n",
            "[130]\ttraining's binary_logloss: 0.504699\ttraining's auc: 0.668441\tvalid_1's binary_logloss: 0.538082\tvalid_1's auc: 0.664998\n",
            "[131]\ttraining's binary_logloss: 0.504609\ttraining's auc: 0.668469\tvalid_1's binary_logloss: 0.538014\tvalid_1's auc: 0.66499\n",
            "[132]\ttraining's binary_logloss: 0.504588\ttraining's auc: 0.668477\tvalid_1's binary_logloss: 0.537985\tvalid_1's auc: 0.664996\n",
            "[133]\ttraining's binary_logloss: 0.504567\ttraining's auc: 0.668482\tvalid_1's binary_logloss: 0.537958\tvalid_1's auc: 0.664999\n",
            "[134]\ttraining's binary_logloss: 0.504477\ttraining's auc: 0.668511\tvalid_1's binary_logloss: 0.537887\tvalid_1's auc: 0.665011\n",
            "[135]\ttraining's binary_logloss: 0.504392\ttraining's auc: 0.668532\tvalid_1's binary_logloss: 0.537803\tvalid_1's auc: 0.665025\n",
            "[136]\ttraining's binary_logloss: 0.504305\ttraining's auc: 0.668559\tvalid_1's binary_logloss: 0.537747\tvalid_1's auc: 0.665022\n",
            "[137]\ttraining's binary_logloss: 0.504236\ttraining's auc: 0.668568\tvalid_1's binary_logloss: 0.53769\tvalid_1's auc: 0.665024\n",
            "[138]\ttraining's binary_logloss: 0.504154\ttraining's auc: 0.66859\tvalid_1's binary_logloss: 0.537602\tvalid_1's auc: 0.665065\n",
            "[139]\ttraining's binary_logloss: 0.504135\ttraining's auc: 0.668601\tvalid_1's binary_logloss: 0.537578\tvalid_1's auc: 0.665075\n",
            "[140]\ttraining's binary_logloss: 0.504053\ttraining's auc: 0.668625\tvalid_1's binary_logloss: 0.537514\tvalid_1's auc: 0.665069\n",
            "[141]\ttraining's binary_logloss: 0.503987\ttraining's auc: 0.66863\tvalid_1's binary_logloss: 0.537471\tvalid_1's auc: 0.665059\n",
            "[142]\ttraining's binary_logloss: 0.50397\ttraining's auc: 0.668643\tvalid_1's binary_logloss: 0.537448\tvalid_1's auc: 0.665074\n",
            "[143]\ttraining's binary_logloss: 0.503893\ttraining's auc: 0.66866\tvalid_1's binary_logloss: 0.537367\tvalid_1's auc: 0.6651\n",
            "[144]\ttraining's binary_logloss: 0.503832\ttraining's auc: 0.668653\tvalid_1's binary_logloss: 0.537303\tvalid_1's auc: 0.665105\n",
            "[145]\ttraining's binary_logloss: 0.503756\ttraining's auc: 0.668674\tvalid_1's binary_logloss: 0.537232\tvalid_1's auc: 0.66511\n",
            "[146]\ttraining's binary_logloss: 0.50368\ttraining's auc: 0.668697\tvalid_1's binary_logloss: 0.537151\tvalid_1's auc: 0.665159\n",
            "[147]\ttraining's binary_logloss: 0.503605\ttraining's auc: 0.668718\tvalid_1's binary_logloss: 0.537073\tvalid_1's auc: 0.665193\n",
            "[148]\ttraining's binary_logloss: 0.503531\ttraining's auc: 0.66874\tvalid_1's binary_logloss: 0.537018\tvalid_1's auc: 0.665191\n",
            "[149]\ttraining's binary_logloss: 0.50346\ttraining's auc: 0.668758\tvalid_1's binary_logloss: 0.536953\tvalid_1's auc: 0.665194\n",
            "[150]\ttraining's binary_logloss: 0.503388\ttraining's auc: 0.668785\tvalid_1's binary_logloss: 0.5369\tvalid_1's auc: 0.665184\n",
            "[151]\ttraining's binary_logloss: 0.503317\ttraining's auc: 0.668809\tvalid_1's binary_logloss: 0.536833\tvalid_1's auc: 0.665203\n",
            "[152]\ttraining's binary_logloss: 0.503301\ttraining's auc: 0.668814\tvalid_1's binary_logloss: 0.536812\tvalid_1's auc: 0.665209\n",
            "[153]\ttraining's binary_logloss: 0.503234\ttraining's auc: 0.668828\tvalid_1's binary_logloss: 0.536743\tvalid_1's auc: 0.665237\n",
            "[154]\ttraining's binary_logloss: 0.503168\ttraining's auc: 0.668842\tvalid_1's binary_logloss: 0.536679\tvalid_1's auc: 0.665248\n",
            "[155]\ttraining's binary_logloss: 0.503114\ttraining's auc: 0.668848\tvalid_1's binary_logloss: 0.536644\tvalid_1's auc: 0.665239\n",
            "[156]\ttraining's binary_logloss: 0.50306\ttraining's auc: 0.668857\tvalid_1's binary_logloss: 0.536613\tvalid_1's auc: 0.665225\n",
            "[157]\ttraining's binary_logloss: 0.50301\ttraining's auc: 0.668851\tvalid_1's binary_logloss: 0.536557\tvalid_1's auc: 0.665236\n",
            "[158]\ttraining's binary_logloss: 0.502961\ttraining's auc: 0.668844\tvalid_1's binary_logloss: 0.536504\tvalid_1's auc: 0.665247\n",
            "[159]\ttraining's binary_logloss: 0.50291\ttraining's auc: 0.66885\tvalid_1's binary_logloss: 0.536477\tvalid_1's auc: 0.665227\n",
            "[160]\ttraining's binary_logloss: 0.502859\ttraining's auc: 0.668861\tvalid_1's binary_logloss: 0.536437\tvalid_1's auc: 0.665213\n",
            "[161]\ttraining's binary_logloss: 0.502793\ttraining's auc: 0.668905\tvalid_1's binary_logloss: 0.536386\tvalid_1's auc: 0.665211\n",
            "[162]\ttraining's binary_logloss: 0.502728\ttraining's auc: 0.668946\tvalid_1's binary_logloss: 0.536337\tvalid_1's auc: 0.665211\n",
            "[163]\ttraining's binary_logloss: 0.502664\ttraining's auc: 0.668993\tvalid_1's binary_logloss: 0.536294\tvalid_1's auc: 0.665205\n",
            "[164]\ttraining's binary_logloss: 0.5026\ttraining's auc: 0.669038\tvalid_1's binary_logloss: 0.536247\tvalid_1's auc: 0.665205\n",
            "[165]\ttraining's binary_logloss: 0.502541\ttraining's auc: 0.669059\tvalid_1's binary_logloss: 0.536202\tvalid_1's auc: 0.665214\n",
            "[166]\ttraining's binary_logloss: 0.502495\ttraining's auc: 0.669067\tvalid_1's binary_logloss: 0.536169\tvalid_1's auc: 0.665207\n",
            "[167]\ttraining's binary_logloss: 0.502449\ttraining's auc: 0.669072\tvalid_1's binary_logloss: 0.536147\tvalid_1's auc: 0.665192\n",
            "[168]\ttraining's binary_logloss: 0.502435\ttraining's auc: 0.669084\tvalid_1's binary_logloss: 0.536128\tvalid_1's auc: 0.665203\n",
            "[169]\ttraining's binary_logloss: 0.502393\ttraining's auc: 0.66908\tvalid_1's binary_logloss: 0.536084\tvalid_1's auc: 0.665217\n",
            "[170]\ttraining's binary_logloss: 0.502337\ttraining's auc: 0.669103\tvalid_1's binary_logloss: 0.536035\tvalid_1's auc: 0.665222\n",
            "[171]\ttraining's binary_logloss: 0.502282\ttraining's auc: 0.669125\tvalid_1's binary_logloss: 0.535991\tvalid_1's auc: 0.665227\n",
            "[172]\ttraining's binary_logloss: 0.502269\ttraining's auc: 0.66914\tvalid_1's binary_logloss: 0.535974\tvalid_1's auc: 0.665239\n",
            "[173]\ttraining's binary_logloss: 0.502213\ttraining's auc: 0.669176\tvalid_1's binary_logloss: 0.535936\tvalid_1's auc: 0.665232\n",
            "[174]\ttraining's binary_logloss: 0.5022\ttraining's auc: 0.669182\tvalid_1's binary_logloss: 0.53592\tvalid_1's auc: 0.665239\n",
            "[175]\ttraining's binary_logloss: 0.502145\ttraining's auc: 0.669215\tvalid_1's binary_logloss: 0.535883\tvalid_1's auc: 0.665252\n",
            "[176]\ttraining's binary_logloss: 0.502089\ttraining's auc: 0.669258\tvalid_1's binary_logloss: 0.535843\tvalid_1's auc: 0.665254\n",
            "[177]\ttraining's binary_logloss: 0.502077\ttraining's auc: 0.669272\tvalid_1's binary_logloss: 0.535826\tvalid_1's auc: 0.665272\n",
            "[178]\ttraining's binary_logloss: 0.502024\ttraining's auc: 0.669295\tvalid_1's binary_logloss: 0.535774\tvalid_1's auc: 0.665303\n",
            "[179]\ttraining's binary_logloss: 0.501971\ttraining's auc: 0.669329\tvalid_1's binary_logloss: 0.535735\tvalid_1's auc: 0.665298\n",
            "[180]\ttraining's binary_logloss: 0.501959\ttraining's auc: 0.669343\tvalid_1's binary_logloss: 0.535719\tvalid_1's auc: 0.665311\n",
            "[181]\ttraining's binary_logloss: 0.501905\ttraining's auc: 0.669389\tvalid_1's binary_logloss: 0.535691\tvalid_1's auc: 0.665309\n",
            "[182]\ttraining's binary_logloss: 0.501853\ttraining's auc: 0.669423\tvalid_1's binary_logloss: 0.535652\tvalid_1's auc: 0.665308\n",
            "[183]\ttraining's binary_logloss: 0.501805\ttraining's auc: 0.669439\tvalid_1's binary_logloss: 0.535609\tvalid_1's auc: 0.66532\n",
            "[184]\ttraining's binary_logloss: 0.501758\ttraining's auc: 0.669459\tvalid_1's binary_logloss: 0.53556\tvalid_1's auc: 0.665351\n",
            "[185]\ttraining's binary_logloss: 0.50172\ttraining's auc: 0.669471\tvalid_1's binary_logloss: 0.53554\tvalid_1's auc: 0.665348\n",
            "[186]\ttraining's binary_logloss: 0.501674\ttraining's auc: 0.669485\tvalid_1's binary_logloss: 0.535496\tvalid_1's auc: 0.66537\n",
            "[187]\ttraining's binary_logloss: 0.501626\ttraining's auc: 0.669518\tvalid_1's binary_logloss: 0.535467\tvalid_1's auc: 0.66537\n",
            "[188]\ttraining's binary_logloss: 0.501582\ttraining's auc: 0.669533\tvalid_1's binary_logloss: 0.535421\tvalid_1's auc: 0.665391\n",
            "[189]\ttraining's binary_logloss: 0.501546\ttraining's auc: 0.669544\tvalid_1's binary_logloss: 0.535397\tvalid_1's auc: 0.665381\n",
            "[190]\ttraining's binary_logloss: 0.501511\ttraining's auc: 0.669555\tvalid_1's binary_logloss: 0.535373\tvalid_1's auc: 0.665372\n",
            "[191]\ttraining's binary_logloss: 0.501463\ttraining's auc: 0.669601\tvalid_1's binary_logloss: 0.535348\tvalid_1's auc: 0.665367\n",
            "[192]\ttraining's binary_logloss: 0.501429\ttraining's auc: 0.669612\tvalid_1's binary_logloss: 0.535326\tvalid_1's auc: 0.665352\n",
            "[193]\ttraining's binary_logloss: 0.501382\ttraining's auc: 0.669653\tvalid_1's binary_logloss: 0.535303\tvalid_1's auc: 0.665347\n",
            "[194]\ttraining's binary_logloss: 0.501349\ttraining's auc: 0.669663\tvalid_1's binary_logloss: 0.535281\tvalid_1's auc: 0.665332\n",
            "[195]\ttraining's binary_logloss: 0.501304\ttraining's auc: 0.669704\tvalid_1's binary_logloss: 0.535257\tvalid_1's auc: 0.665325\n",
            "[196]\ttraining's binary_logloss: 0.501294\ttraining's auc: 0.669713\tvalid_1's binary_logloss: 0.535244\tvalid_1's auc: 0.665331\n",
            "[197]\ttraining's binary_logloss: 0.501253\ttraining's auc: 0.669734\tvalid_1's binary_logloss: 0.535214\tvalid_1's auc: 0.665339\n",
            "[198]\ttraining's binary_logloss: 0.501243\ttraining's auc: 0.669739\tvalid_1's binary_logloss: 0.535201\tvalid_1's auc: 0.665346\n",
            "[199]\ttraining's binary_logloss: 0.501232\ttraining's auc: 0.669752\tvalid_1's binary_logloss: 0.535188\tvalid_1's auc: 0.665353\n",
            "[200]\ttraining's binary_logloss: 0.501188\ttraining's auc: 0.669793\tvalid_1's binary_logloss: 0.535163\tvalid_1's auc: 0.665351\n",
            "[201]\ttraining's binary_logloss: 0.501178\ttraining's auc: 0.669806\tvalid_1's binary_logloss: 0.53515\tvalid_1's auc: 0.665363\n",
            "[202]\ttraining's binary_logloss: 0.501148\ttraining's auc: 0.669811\tvalid_1's binary_logloss: 0.535137\tvalid_1's auc: 0.665352\n",
            "[203]\ttraining's binary_logloss: 0.501106\ttraining's auc: 0.669844\tvalid_1's binary_logloss: 0.535113\tvalid_1's auc: 0.665349\n",
            "[204]\ttraining's binary_logloss: 0.501067\ttraining's auc: 0.669867\tvalid_1's binary_logloss: 0.535092\tvalid_1's auc: 0.665344\n",
            "[205]\ttraining's binary_logloss: 0.501038\ttraining's auc: 0.669876\tvalid_1's binary_logloss: 0.535073\tvalid_1's auc: 0.665333\n",
            "[206]\ttraining's binary_logloss: 0.500998\ttraining's auc: 0.669907\tvalid_1's binary_logloss: 0.53505\tvalid_1's auc: 0.665332\n",
            "[207]\ttraining's binary_logloss: 0.50097\ttraining's auc: 0.669915\tvalid_1's binary_logloss: 0.535035\tvalid_1's auc: 0.665316\n",
            "[208]\ttraining's binary_logloss: 0.50096\ttraining's auc: 0.669927\tvalid_1's binary_logloss: 0.535023\tvalid_1's auc: 0.66532\n",
            "[209]\ttraining's binary_logloss: 0.500922\ttraining's auc: 0.669951\tvalid_1's binary_logloss: 0.534983\tvalid_1's auc: 0.665336\n",
            "[210]\ttraining's binary_logloss: 0.500912\ttraining's auc: 0.66996\tvalid_1's binary_logloss: 0.534972\tvalid_1's auc: 0.665344\n",
            "[211]\ttraining's binary_logloss: 0.500874\ttraining's auc: 0.669996\tvalid_1's binary_logloss: 0.534952\tvalid_1's auc: 0.665341\n",
            "[212]\ttraining's binary_logloss: 0.500864\ttraining's auc: 0.670007\tvalid_1's binary_logloss: 0.534941\tvalid_1's auc: 0.665346\n",
            "[213]\ttraining's binary_logloss: 0.500837\ttraining's auc: 0.670018\tvalid_1's binary_logloss: 0.534927\tvalid_1's auc: 0.665328\n",
            "[214]\ttraining's binary_logloss: 0.500799\ttraining's auc: 0.670051\tvalid_1's binary_logloss: 0.534907\tvalid_1's auc: 0.665322\n",
            "[215]\ttraining's binary_logloss: 0.500773\ttraining's auc: 0.670059\tvalid_1's binary_logloss: 0.534889\tvalid_1's auc: 0.665313\n",
            "[216]\ttraining's binary_logloss: 0.500763\ttraining's auc: 0.670069\tvalid_1's binary_logloss: 0.534877\tvalid_1's auc: 0.665321\n",
            "[217]\ttraining's binary_logloss: 0.500728\ttraining's auc: 0.670094\tvalid_1's binary_logloss: 0.534857\tvalid_1's auc: 0.665322\n",
            "[218]\ttraining's binary_logloss: 0.50072\ttraining's auc: 0.6701\tvalid_1's binary_logloss: 0.534845\tvalid_1's auc: 0.665332\n",
            "[219]\ttraining's binary_logloss: 0.500684\ttraining's auc: 0.670132\tvalid_1's binary_logloss: 0.534826\tvalid_1's auc: 0.665326\n",
            "[220]\ttraining's binary_logloss: 0.50065\ttraining's auc: 0.670153\tvalid_1's binary_logloss: 0.534806\tvalid_1's auc: 0.665326\n",
            "[221]\ttraining's binary_logloss: 0.500617\ttraining's auc: 0.670175\tvalid_1's binary_logloss: 0.534788\tvalid_1's auc: 0.665321\n",
            "[222]\ttraining's binary_logloss: 0.500583\ttraining's auc: 0.670202\tvalid_1's binary_logloss: 0.534769\tvalid_1's auc: 0.665317\n",
            "[223]\ttraining's binary_logloss: 0.500551\ttraining's auc: 0.670217\tvalid_1's binary_logloss: 0.534743\tvalid_1's auc: 0.66532\n",
            "[224]\ttraining's binary_logloss: 0.500543\ttraining's auc: 0.670226\tvalid_1's binary_logloss: 0.534732\tvalid_1's auc: 0.665328\n",
            "[225]\ttraining's binary_logloss: 0.500534\ttraining's auc: 0.670238\tvalid_1's binary_logloss: 0.534722\tvalid_1's auc: 0.665331\n",
            "[226]\ttraining's binary_logloss: 0.500503\ttraining's auc: 0.670253\tvalid_1's binary_logloss: 0.53469\tvalid_1's auc: 0.665349\n",
            "[227]\ttraining's binary_logloss: 0.500472\ttraining's auc: 0.670272\tvalid_1's binary_logloss: 0.534672\tvalid_1's auc: 0.665344\n",
            "[228]\ttraining's binary_logloss: 0.500448\ttraining's auc: 0.670283\tvalid_1's binary_logloss: 0.534663\tvalid_1's auc: 0.665337\n",
            "[229]\ttraining's binary_logloss: 0.500425\ttraining's auc: 0.670292\tvalid_1's binary_logloss: 0.534654\tvalid_1's auc: 0.665331\n",
            "[230]\ttraining's binary_logloss: 0.500417\ttraining's auc: 0.670302\tvalid_1's binary_logloss: 0.534647\tvalid_1's auc: 0.665328\n",
            "[231]\ttraining's binary_logloss: 0.500393\ttraining's auc: 0.670314\tvalid_1's binary_logloss: 0.534633\tvalid_1's auc: 0.665323\n",
            "[232]\ttraining's binary_logloss: 0.500362\ttraining's auc: 0.670344\tvalid_1's binary_logloss: 0.534616\tvalid_1's auc: 0.665321\n",
            "[233]\ttraining's binary_logloss: 0.500333\ttraining's auc: 0.670363\tvalid_1's binary_logloss: 0.534585\tvalid_1's auc: 0.66534\n",
            "[234]\ttraining's binary_logloss: 0.500304\ttraining's auc: 0.670384\tvalid_1's binary_logloss: 0.534572\tvalid_1's auc: 0.665334\n",
            "[235]\ttraining's binary_logloss: 0.500274\ttraining's auc: 0.670402\tvalid_1's binary_logloss: 0.534543\tvalid_1's auc: 0.665353\n",
            "[236]\ttraining's binary_logloss: 0.500246\ttraining's auc: 0.67042\tvalid_1's binary_logloss: 0.534527\tvalid_1's auc: 0.665349\n",
            "[237]\ttraining's binary_logloss: 0.500217\ttraining's auc: 0.670444\tvalid_1's binary_logloss: 0.53451\tvalid_1's auc: 0.665345\n",
            "[238]\ttraining's binary_logloss: 0.500209\ttraining's auc: 0.670453\tvalid_1's binary_logloss: 0.534501\tvalid_1's auc: 0.665349\n",
            "Early stopping, best iteration is:\n",
            "[188]\ttraining's binary_logloss: 0.501582\ttraining's auc: 0.669533\tvalid_1's binary_logloss: 0.535421\tvalid_1's auc: 0.665391\n"
          ],
          "name": "stdout"
        },
        {
          "output_type": "execute_result",
          "data": {
            "text/plain": [
              "LGBMClassifier(boosting_type='gbdt', class_weight=None, colsample_bytree=0.8,\n",
              "               gamma=1, importance_type='split', learning_rate=0.01,\n",
              "               max_depth=-1, min_child_samples=20, min_child_weight=3,\n",
              "               min_split_gain=0.0, n_estimators=500, n_jobs=-1, num_leaves=31,\n",
              "               objective=None, random_state=None, reg_alpha=0.0, reg_lambda=0.0,\n",
              "               silent=True, subsample=1.0, subsample_for_bin=200000,\n",
              "               subsample_freq=0)"
            ]
          },
          "metadata": {
            "tags": []
          },
          "execution_count": 90
        }
      ]
    },
    {
      "cell_type": "code",
      "metadata": {
        "id": "NcbqPrA1z3Jo",
        "colab_type": "code",
        "colab": {
          "base_uri": "https://localhost:8080/",
          "height": 34
        },
        "outputId": "3fc375aa-c060-45db-b62f-d8661246ada5"
      },
      "source": [
        "#roc auc score for valid set\n",
        "roc_auc_score(y_valid,model.predict_proba(X_valid)[:,1])"
      ],
      "execution_count": 91,
      "outputs": [
        {
          "output_type": "execute_result",
          "data": {
            "text/plain": [
              "0.6653905147597289"
            ]
          },
          "metadata": {
            "tags": []
          },
          "execution_count": 91
        }
      ]
    },
    {
      "cell_type": "code",
      "metadata": {
        "id": "B7fxX0td7CGL",
        "colab_type": "code",
        "colab": {
          "base_uri": "https://localhost:8080/",
          "height": 34
        },
        "outputId": "93bd8766-e883-4a3c-f1a2-ee3aad03f0d2"
      },
      "source": [
        "#roc auc score for test set\n",
        "roc_auc_score(y_test,model.predict_proba(X_test)[:,1])"
      ],
      "execution_count": 92,
      "outputs": [
        {
          "output_type": "execute_result",
          "data": {
            "text/plain": [
              "0.6642501836011799"
            ]
          },
          "metadata": {
            "tags": []
          },
          "execution_count": 92
        }
      ]
    },
    {
      "cell_type": "code",
      "metadata": {
        "id": "Z7PDxnRD7-iT",
        "colab_type": "code",
        "colab": {
          "base_uri": "https://localhost:8080/",
          "height": 295
        },
        "outputId": "648baa80-fe29-4568-ef2e-c284d8badc55"
      },
      "source": [
        "#ROC AUC Curve plotting\n",
        "probs = model.predict_proba(X_test)\n",
        "preds = probs[:,1]\n",
        "fpr, tpr, threshold = roc_curve(y_test, preds)\n",
        "roc_auc = auc(fpr, tpr)\n",
        "\n",
        "# method I: plt\n",
        "import matplotlib.pyplot as plt\n",
        "plt.title('Receiver Operating Characteristic')\n",
        "plt.plot(fpr, tpr, 'b', label = 'AUC = %0.4f' % roc_auc)\n",
        "plt.legend(loc = 'lower right')\n",
        "plt.plot([0, 1], [0, 1],'r--')\n",
        "plt.xlim([0, 1])\n",
        "plt.ylim([0, 1])\n",
        "plt.ylabel('True Positive Rate')\n",
        "plt.xlabel('False Positive Rate')\n",
        "plt.show()"
      ],
      "execution_count": 98,
      "outputs": [
        {
          "output_type": "display_data",
          "data": {
            "image/png": "[encoded data removed]",
            "text/plain": [
              "<Figure size 432x288 with 1 Axes>"
            ]
          },
          "metadata": {
            "tags": []
          }
        }
      ]
    },
    {
      "cell_type": "code",
      "metadata": {
        "id": "q6rq9CmBcAIV",
        "colab_type": "code",
        "colab": {
          "base_uri": "https://localhost:8080/",
          "height": 51
        },
        "outputId": "fbda793c-4e0d-4f7b-df1e-5685fc27762e"
      },
      "source": [
        "confusion_matrix(y_test,model.predict(X_test))"
      ],
      "execution_count": 102,
      "outputs": [
        {
          "output_type": "execute_result",
          "data": {
            "text/plain": [
              "array([[107570,      0],\n",
              "       [ 35587,      0]])"
            ]
          },
          "metadata": {
            "tags": []
          },
          "execution_count": 102
        }
      ]
    },
    {
      "cell_type": "code",
      "metadata": {
        "id": "CHVTzJwRcbN1",
        "colab_type": "code",
        "colab": {
          "base_uri": "https://localhost:8080/",
          "height": 224
        },
        "outputId": "b1538c4a-8e7b-47a5-99d2-411300965b23"
      },
      "source": [
        "print(classification_report(y_test,model.predict(X_test)))"
      ],
      "execution_count": 104,
      "outputs": [
        {
          "output_type": "stream",
          "text": [
            "              precision    recall  f1-score   support\n",
            "\n",
            "           0       0.75      1.00      0.86    107570\n",
            "           1       0.00      0.00      0.00     35587\n",
            "\n",
            "    accuracy                           0.75    143157\n",
            "   macro avg       0.38      0.50      0.43    143157\n",
            "weighted avg       0.56      0.75      0.64    143157\n",
            "\n"
          ],
          "name": "stdout"
        },
        {
          "output_type": "stream",
          "text": [
            "/usr/local/lib/python3.6/dist-packages/sklearn/metrics/classification.py:1437: UndefinedMetricWarning: Precision and F-score are ill-defined and being set to 0.0 in labels with no predicted samples.\n",
            "  'precision', 'predicted', average, warn_for)\n"
          ],
          "name": "stderr"
        }
      ]
    },
    {
      "cell_type": "code",
      "metadata": {
        "id": "hi2N5FmxdMqZ",
        "colab_type": "code",
        "colab": {}
      },
      "source": [
        ""
      ],
      "execution_count": 0,
      "outputs": []
    }
  ]
}