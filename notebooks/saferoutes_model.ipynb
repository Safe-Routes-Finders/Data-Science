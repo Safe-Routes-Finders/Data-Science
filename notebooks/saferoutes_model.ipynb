{
  "nbformat": 4,
  "nbformat_minor": 0,
  "metadata": {
    "kernelspec": {
      "display_name": "Python 3",
      "language": "python",
      "name": "python3"
    },
    "language_info": {
      "codemirror_mode": {
        "name": "ipython",
        "version": 3
      },
      "file_extension": ".py",
      "mimetype": "text/x-python",
      "name": "python",
      "nbconvert_exporter": "python",
      "pygments_lexer": "ipython3",
      "version": "3.7.3"
    },
    "colab": {
      "name": "saferoutes_model.ipynb",
      "provenance": []
    }
  },
  "cells": [
    {
      "cell_type": "code",
      "metadata": {
        "id": "BHb6kI3Hz3IV",
        "colab_type": "code",
        "colab": {}
      },
      "source": [
        "import pandas as pd"
      ],
      "execution_count": 0,
      "outputs": []
    },
    {
      "cell_type": "code",
      "metadata": {
        "id": "-UwcCuIO5Dys",
        "colab_type": "code",
        "colab": {
          "base_uri": "https://localhost:8080/",
          "height": 204
        },
        "outputId": "abf111c7-527e-420f-9b54-03eb618bdc4f"
      },
      "source": [
        "! pip install category_encoders"
      ],
      "execution_count": 2,
      "outputs": [
        {
          "output_type": "stream",
          "text": [
            "Requirement already satisfied: category_encoders in /usr/local/lib/python3.6/dist-packages (2.1.0)\n",
            "Requirement already satisfied: scipy>=0.19.0 in /usr/local/lib/python3.6/dist-packages (from category_encoders) (1.3.1)\n",
            "Requirement already satisfied: pandas>=0.21.1 in /usr/local/lib/python3.6/dist-packages (from category_encoders) (0.24.2)\n",
            "Requirement already satisfied: statsmodels>=0.6.1 in /usr/local/lib/python3.6/dist-packages (from category_encoders) (0.10.1)\n",
            "Requirement already satisfied: scikit-learn>=0.20.0 in /usr/local/lib/python3.6/dist-packages (from category_encoders) (0.21.3)\n",
            "Requirement already satisfied: patsy>=0.4.1 in /usr/local/lib/python3.6/dist-packages (from category_encoders) (0.5.1)\n",
            "Requirement already satisfied: numpy>=1.11.3 in /usr/local/lib/python3.6/dist-packages (from category_encoders) (1.16.5)\n",
            "Requirement already satisfied: pytz>=2011k in /usr/local/lib/python3.6/dist-packages (from pandas>=0.21.1->category_encoders) (2018.9)\n",
            "Requirement already satisfied: python-dateutil>=2.5.0 in /usr/local/lib/python3.6/dist-packages (from pandas>=0.21.1->category_encoders) (2.5.3)\n",
            "Requirement already satisfied: joblib>=0.11 in /usr/local/lib/python3.6/dist-packages (from scikit-learn>=0.20.0->category_encoders) (0.14.0)\n",
            "Requirement already satisfied: six in /usr/local/lib/python3.6/dist-packages (from patsy>=0.4.1->category_encoders) (1.12.0)\n"
          ],
          "name": "stdout"
        }
      ]
    },
    {
      "cell_type": "code",
      "metadata": {
        "id": "grcgJSd_z3Ic",
        "colab_type": "code",
        "colab": {
          "base_uri": "https://localhost:8080/",
          "height": 34
        },
        "outputId": "14801a05-f083-49cb-e243-cfdc9253a4de"
      },
      "source": [
        "train_df = pd.read_csv(\"train_data.csv\")\n",
        "train_df.shape"
      ],
      "execution_count": 3,
      "outputs": [
        {
          "output_type": "execute_result",
          "data": {
            "text/plain": [
              "(1799805, 6)"
            ]
          },
          "metadata": {
            "tags": []
          },
          "execution_count": 3
        }
      ]
    },
    {
      "cell_type": "code",
      "metadata": {
        "id": "6oMfMbU6z3Ig",
        "colab_type": "code",
        "colab": {
          "base_uri": "https://localhost:8080/",
          "height": 204
        },
        "outputId": "ce6e13fa-a2b6-4a80-e110-b1f92c7248ab"
      },
      "source": [
        "train_df.head()"
      ],
      "execution_count": 4,
      "outputs": [
        {
          "output_type": "execute_result",
          "data": {
            "text/html": [
              "<div>\n",
              "<style scoped>\n",
              "    .dataframe tbody tr th:only-of-type {\n",
              "        vertical-align: middle;\n",
              "    }\n",
              "\n",
              "    .dataframe tbody tr th {\n",
              "        vertical-align: top;\n",
              "    }\n",
              "\n",
              "    .dataframe thead th {\n",
              "        text-align: right;\n",
              "    }\n",
              "</style>\n",
              "<table border=\"1\" class=\"dataframe\">\n",
              "  <thead>\n",
              "    <tr style=\"text-align: right;\">\n",
              "      <th></th>\n",
              "      <th>date_hour</th>\n",
              "      <th>area_name</th>\n",
              "      <th>date_accident</th>\n",
              "      <th>hour_time</th>\n",
              "      <th>no_of_accidents</th>\n",
              "      <th>is_accident</th>\n",
              "    </tr>\n",
              "  </thead>\n",
              "  <tbody>\n",
              "    <tr>\n",
              "      <th>0</th>\n",
              "      <td>2010-01-01 00:00:00</td>\n",
              "      <td>Olympic</td>\n",
              "      <td>2010-01-01 00:00:00</td>\n",
              "      <td>0</td>\n",
              "      <td>0.0</td>\n",
              "      <td>0</td>\n",
              "    </tr>\n",
              "    <tr>\n",
              "      <th>1</th>\n",
              "      <td>2010-01-01 01:00:00</td>\n",
              "      <td>Olympic</td>\n",
              "      <td>2010-01-01 00:00:00</td>\n",
              "      <td>100</td>\n",
              "      <td>1.0</td>\n",
              "      <td>1</td>\n",
              "    </tr>\n",
              "    <tr>\n",
              "      <th>2</th>\n",
              "      <td>2010-01-01 02:00:00</td>\n",
              "      <td>Olympic</td>\n",
              "      <td>2010-01-01 00:00:00</td>\n",
              "      <td>200</td>\n",
              "      <td>0.0</td>\n",
              "      <td>0</td>\n",
              "    </tr>\n",
              "    <tr>\n",
              "      <th>3</th>\n",
              "      <td>2010-01-01 03:00:00</td>\n",
              "      <td>Olympic</td>\n",
              "      <td>2010-01-01 00:00:00</td>\n",
              "      <td>300</td>\n",
              "      <td>1.0</td>\n",
              "      <td>1</td>\n",
              "    </tr>\n",
              "    <tr>\n",
              "      <th>4</th>\n",
              "      <td>2010-01-01 04:00:00</td>\n",
              "      <td>Olympic</td>\n",
              "      <td>2010-01-01 00:00:00</td>\n",
              "      <td>400</td>\n",
              "      <td>0.0</td>\n",
              "      <td>0</td>\n",
              "    </tr>\n",
              "  </tbody>\n",
              "</table>\n",
              "</div>"
            ],
            "text/plain": [
              "             date_hour area_name  ... no_of_accidents  is_accident\n",
              "0  2010-01-01 00:00:00   Olympic  ...             0.0            0\n",
              "1  2010-01-01 01:00:00   Olympic  ...             1.0            1\n",
              "2  2010-01-01 02:00:00   Olympic  ...             0.0            0\n",
              "3  2010-01-01 03:00:00   Olympic  ...             1.0            1\n",
              "4  2010-01-01 04:00:00   Olympic  ...             0.0            0\n",
              "\n",
              "[5 rows x 6 columns]"
            ]
          },
          "metadata": {
            "tags": []
          },
          "execution_count": 4
        }
      ]
    },
    {
      "cell_type": "code",
      "metadata": {
        "id": "0jlxkNfSz3Ij",
        "colab_type": "code",
        "colab": {
          "base_uri": "https://localhost:8080/",
          "height": 68
        },
        "outputId": "d507e7c5-3101-4745-816f-761734e4f0f2"
      },
      "source": [
        "#Baseline Prediction for majority classsifer\n",
        "train_df['is_accident'].value_counts(normalize=True)"
      ],
      "execution_count": 5,
      "outputs": [
        {
          "output_type": "execute_result",
          "data": {
            "text/plain": [
              "0    0.771062\n",
              "1    0.228938\n",
              "Name: is_accident, dtype: float64"
            ]
          },
          "metadata": {
            "tags": []
          },
          "execution_count": 5
        }
      ]
    },
    {
      "cell_type": "markdown",
      "metadata": {
        "id": "Q8G_IElQz3Il",
        "colab_type": "text"
      },
      "source": [
        "# Will an accident happen in a area of Los Angeles in the next one hour\n",
        "\n",
        "\n",
        "### Base Line Accuracy\n",
        "\n",
        "##### With 77% accuracy we can predict that an accident will not happen in a area within the next one hour\n",
        "\n",
        "##### As baseline accuracy is high, we will be using AUC ROC metric for Model performance of this classification problem"
      ]
    },
    {
      "cell_type": "code",
      "metadata": {
        "id": "MNS5l5Cyz3Im",
        "colab_type": "code",
        "colab": {}
      },
      "source": [
        "#Converting columns to datetime\n",
        "train_df['date_hour']=pd.to_datetime(train_df['date_hour'])"
      ],
      "execution_count": 0,
      "outputs": []
    },
    {
      "cell_type": "code",
      "metadata": {
        "id": "OmPl4R_gz3Io",
        "colab_type": "code",
        "colab": {}
      },
      "source": [
        "area_names = train_df.area_name.unique()"
      ],
      "execution_count": 0,
      "outputs": []
    },
    {
      "cell_type": "code",
      "metadata": {
        "id": "DkKd730Pz3Ir",
        "colab_type": "code",
        "colab": {
          "base_uri": "https://localhost:8080/",
          "height": 102
        },
        "outputId": "69ee13ce-91f8-40fa-c2ff-99161940f4c1"
      },
      "source": [
        "area_names"
      ],
      "execution_count": 8,
      "outputs": [
        {
          "output_type": "execute_result",
          "data": {
            "text/plain": [
              "array(['Olympic', 'Southeast', 'Foothill', 'Hollywood', 'Mission',\n",
              "       'Northeast', 'Newton', 'Central', 'N Hollywood', 'Southwest',\n",
              "       'Harbor', 'Devonshire', 'Pacific', 'Rampart', 'Wilshire',\n",
              "       '77th Street', 'West LA', 'Topanga', 'Van Nuys', 'West Valley',\n",
              "       'Hollenbeck'], dtype=object)"
            ]
          },
          "metadata": {
            "tags": []
          },
          "execution_count": 8
        }
      ]
    },
    {
      "cell_type": "code",
      "metadata": {
        "id": "aEiW2PNaz3Iv",
        "colab_type": "code",
        "colab": {
          "base_uri": "https://localhost:8080/",
          "height": 238
        },
        "outputId": "6ffa3a2f-0dab-49ed-ff76-3895e29e1ee1"
      },
      "source": [
        "#Frequency of accidents in Los Angeles in any given hour\n",
        "train_df['no_of_accidents'].value_counts(normalize=True)"
      ],
      "execution_count": 9,
      "outputs": [
        {
          "output_type": "execute_result",
          "data": {
            "text/plain": [
              "0.0     7.710619e-01\n",
              "1.0     1.896428e-01\n",
              "2.0     3.343084e-02\n",
              "3.0     5.037212e-03\n",
              "4.0     7.050764e-04\n",
              "5.0     9.667714e-05\n",
              "6.0     1.777970e-05\n",
              "7.0     4.444926e-06\n",
              "8.0     1.666847e-06\n",
              "14.0    5.556157e-07\n",
              "12.0    5.556157e-07\n",
              "11.0    5.556157e-07\n",
              "Name: no_of_accidents, dtype: float64"
            ]
          },
          "metadata": {
            "tags": []
          },
          "execution_count": 9
        }
      ]
    },
    {
      "cell_type": "code",
      "metadata": {
        "id": "QzCAyM1wz3Ix",
        "colab_type": "code",
        "colab": {}
      },
      "source": [
        "#Creating features based on no of accidents happened in the past hours in that area\n",
        "empty_df = []\n",
        "laghours = [4,12,24,168,720,2880,8760]\n",
        "for area in area_names:\n",
        "    train_area = train_df[train_df.area_name==area].copy()\n",
        "    train_area['no_past1hour']=train_df['no_of_accidents'].shift(1)\n",
        "    for lhour in laghours:\n",
        "        name = 'past_'+str(lhour)+'hours'\n",
        "        train_area[name]=train_area['no_past1hour'].rolling(lhour).sum()\n",
        "    empty_df.append(train_area)"
      ],
      "execution_count": 0,
      "outputs": []
    },
    {
      "cell_type": "code",
      "metadata": {
        "id": "kS2WQNupz3I1",
        "colab_type": "code",
        "colab": {
          "base_uri": "https://localhost:8080/",
          "height": 34
        },
        "outputId": "f52de437-d397-4f8a-a3e6-d0203953e06f"
      },
      "source": [
        "#Final data after creating features\n",
        "train = pd.concat(empty_df)\n",
        "train.shape"
      ],
      "execution_count": 11,
      "outputs": [
        {
          "output_type": "execute_result",
          "data": {
            "text/plain": [
              "(1799805, 14)"
            ]
          },
          "metadata": {
            "tags": []
          },
          "execution_count": 11
        }
      ]
    },
    {
      "cell_type": "code",
      "metadata": {
        "id": "OdkLqr5Dz3I3",
        "colab_type": "code",
        "colab": {}
      },
      "source": [
        "#Filling all Nan values with -1\n",
        "train = train.fillna(-1)"
      ],
      "execution_count": 0,
      "outputs": []
    },
    {
      "cell_type": "code",
      "metadata": {
        "id": "02XweVpq0Ul7",
        "colab_type": "code",
        "colab": {}
      },
      "source": [
        "#Adding more features to the data\n",
        "train['day']=train['date_hour'].dt.day\n",
        "train['month']=train['date_hour'].dt.month\n",
        "train['dayofweek']=train['date_hour'].dt.dayofweek\n",
        "train['year']=train['date_hour'].dt.year"
      ],
      "execution_count": 0,
      "outputs": []
    },
    {
      "cell_type": "code",
      "metadata": {
        "id": "dzocZtpSz3I6",
        "colab_type": "code",
        "colab": {
          "base_uri": "https://localhost:8080/",
          "height": 34
        },
        "outputId": "66dd88ff-1939-469c-fd04-d76999cac9f6"
      },
      "source": [
        "#Removing No of accidents as that is a leakage feature and date_hour as it is equal to a index\n",
        "train = train.drop(columns=['no_of_accidents'])\n",
        "train.shape"
      ],
      "execution_count": 14,
      "outputs": [
        {
          "output_type": "execute_result",
          "data": {
            "text/plain": [
              "(1799805, 17)"
            ]
          },
          "metadata": {
            "tags": []
          },
          "execution_count": 14
        }
      ]
    },
    {
      "cell_type": "code",
      "metadata": {
        "id": "U79XFCZEz3I8",
        "colab_type": "code",
        "colab": {
          "base_uri": "https://localhost:8080/",
          "height": 309
        },
        "outputId": "31136d41-baee-411f-b0d2-62de664a1bd3"
      },
      "source": [
        "train.tail()"
      ],
      "execution_count": 15,
      "outputs": [
        {
          "output_type": "execute_result",
          "data": {
            "text/html": [
              "<div>\n",
              "<style scoped>\n",
              "    .dataframe tbody tr th:only-of-type {\n",
              "        vertical-align: middle;\n",
              "    }\n",
              "\n",
              "    .dataframe tbody tr th {\n",
              "        vertical-align: top;\n",
              "    }\n",
              "\n",
              "    .dataframe thead th {\n",
              "        text-align: right;\n",
              "    }\n",
              "</style>\n",
              "<table border=\"1\" class=\"dataframe\">\n",
              "  <thead>\n",
              "    <tr style=\"text-align: right;\">\n",
              "      <th></th>\n",
              "      <th>date_hour</th>\n",
              "      <th>area_name</th>\n",
              "      <th>date_accident</th>\n",
              "      <th>hour_time</th>\n",
              "      <th>is_accident</th>\n",
              "      <th>no_past1hour</th>\n",
              "      <th>past_4hours</th>\n",
              "      <th>past_12hours</th>\n",
              "      <th>past_24hours</th>\n",
              "      <th>past_168hours</th>\n",
              "      <th>past_720hours</th>\n",
              "      <th>past_2880hours</th>\n",
              "      <th>past_8760hours</th>\n",
              "      <th>day</th>\n",
              "      <th>month</th>\n",
              "      <th>dayofweek</th>\n",
              "      <th>year</th>\n",
              "    </tr>\n",
              "  </thead>\n",
              "  <tbody>\n",
              "    <tr>\n",
              "      <th>1799800</th>\n",
              "      <td>2019-10-11 20:00:00</td>\n",
              "      <td>Hollenbeck</td>\n",
              "      <td>2019-10-11 00:00:00</td>\n",
              "      <td>2000</td>\n",
              "      <td>0</td>\n",
              "      <td>0.0</td>\n",
              "      <td>0.0</td>\n",
              "      <td>0.0</td>\n",
              "      <td>2.0</td>\n",
              "      <td>28.0</td>\n",
              "      <td>155.0</td>\n",
              "      <td>641.0</td>\n",
              "      <td>2020.0</td>\n",
              "      <td>11</td>\n",
              "      <td>10</td>\n",
              "      <td>4</td>\n",
              "      <td>2019</td>\n",
              "    </tr>\n",
              "    <tr>\n",
              "      <th>1799801</th>\n",
              "      <td>2019-10-11 21:00:00</td>\n",
              "      <td>Hollenbeck</td>\n",
              "      <td>2019-10-11 00:00:00</td>\n",
              "      <td>2100</td>\n",
              "      <td>0</td>\n",
              "      <td>0.0</td>\n",
              "      <td>0.0</td>\n",
              "      <td>0.0</td>\n",
              "      <td>2.0</td>\n",
              "      <td>28.0</td>\n",
              "      <td>155.0</td>\n",
              "      <td>640.0</td>\n",
              "      <td>2020.0</td>\n",
              "      <td>11</td>\n",
              "      <td>10</td>\n",
              "      <td>4</td>\n",
              "      <td>2019</td>\n",
              "    </tr>\n",
              "    <tr>\n",
              "      <th>1799802</th>\n",
              "      <td>2019-10-11 22:00:00</td>\n",
              "      <td>Hollenbeck</td>\n",
              "      <td>2019-10-11 00:00:00</td>\n",
              "      <td>2200</td>\n",
              "      <td>0</td>\n",
              "      <td>0.0</td>\n",
              "      <td>0.0</td>\n",
              "      <td>0.0</td>\n",
              "      <td>2.0</td>\n",
              "      <td>28.0</td>\n",
              "      <td>155.0</td>\n",
              "      <td>640.0</td>\n",
              "      <td>2020.0</td>\n",
              "      <td>11</td>\n",
              "      <td>10</td>\n",
              "      <td>4</td>\n",
              "      <td>2019</td>\n",
              "    </tr>\n",
              "    <tr>\n",
              "      <th>1799803</th>\n",
              "      <td>2019-10-11 23:00:00</td>\n",
              "      <td>Hollenbeck</td>\n",
              "      <td>2019-10-11 00:00:00</td>\n",
              "      <td>2300</td>\n",
              "      <td>0</td>\n",
              "      <td>0.0</td>\n",
              "      <td>0.0</td>\n",
              "      <td>0.0</td>\n",
              "      <td>2.0</td>\n",
              "      <td>28.0</td>\n",
              "      <td>154.0</td>\n",
              "      <td>640.0</td>\n",
              "      <td>2020.0</td>\n",
              "      <td>11</td>\n",
              "      <td>10</td>\n",
              "      <td>4</td>\n",
              "      <td>2019</td>\n",
              "    </tr>\n",
              "    <tr>\n",
              "      <th>1799804</th>\n",
              "      <td>2019-10-12 00:00:00</td>\n",
              "      <td>Hollenbeck</td>\n",
              "      <td>2019-10-12 00:00:00</td>\n",
              "      <td>0</td>\n",
              "      <td>0</td>\n",
              "      <td>0.0</td>\n",
              "      <td>0.0</td>\n",
              "      <td>0.0</td>\n",
              "      <td>2.0</td>\n",
              "      <td>28.0</td>\n",
              "      <td>154.0</td>\n",
              "      <td>640.0</td>\n",
              "      <td>2020.0</td>\n",
              "      <td>12</td>\n",
              "      <td>10</td>\n",
              "      <td>5</td>\n",
              "      <td>2019</td>\n",
              "    </tr>\n",
              "  </tbody>\n",
              "</table>\n",
              "</div>"
            ],
            "text/plain": [
              "                  date_hour   area_name  ... dayofweek  year\n",
              "1799800 2019-10-11 20:00:00  Hollenbeck  ...         4  2019\n",
              "1799801 2019-10-11 21:00:00  Hollenbeck  ...         4  2019\n",
              "1799802 2019-10-11 22:00:00  Hollenbeck  ...         4  2019\n",
              "1799803 2019-10-11 23:00:00  Hollenbeck  ...         4  2019\n",
              "1799804 2019-10-12 00:00:00  Hollenbeck  ...         5  2019\n",
              "\n",
              "[5 rows x 17 columns]"
            ]
          },
          "metadata": {
            "tags": []
          },
          "execution_count": 15
        }
      ]
    },
    {
      "cell_type": "code",
      "metadata": {
        "id": "-rlBWmRuz3I-",
        "colab_type": "code",
        "colab": {}
      },
      "source": [
        "#Creating a train,valid and test dataset based on time slicing\n",
        "#Train set will be data before 2018\n",
        "#Valid set will be data for year 2018\n",
        "#Test set will be data for year 2019"
      ],
      "execution_count": 0,
      "outputs": []
    },
    {
      "cell_type": "code",
      "metadata": {
        "id": "aswWkSkuz3JA",
        "colab_type": "code",
        "colab": {}
      },
      "source": [
        "target = 'is_accident'"
      ],
      "execution_count": 0,
      "outputs": []
    },
    {
      "cell_type": "code",
      "metadata": {
        "id": "-tb0f_Hxz3JC",
        "colab_type": "code",
        "colab": {
          "base_uri": "https://localhost:8080/",
          "height": 68
        },
        "outputId": "bd5583b6-f8e2-4eeb-baef-33b5f97762f2"
      },
      "source": [
        "train_set = train[train.date_hour<'2018-01-01']\n",
        "valid_set = train[(train.date_hour>='2018-01-01')&(train.date_hour<'2019-01-01')]\n",
        "test_set = train[train.date_hour>='2019-01-01']\n",
        "print(\"Train :\",train_set.shape[0])\n",
        "print(\"Valid :\",valid_set.shape[0])\n",
        "print(\"Valid :\",test_set.shape[0])"
      ],
      "execution_count": 18,
      "outputs": [
        {
          "output_type": "stream",
          "text": [
            "Train : 1472688\n",
            "Valid : 183960\n",
            "Valid : 143157\n"
          ],
          "name": "stdout"
        }
      ]
    },
    {
      "cell_type": "code",
      "metadata": {
        "id": "dqjDuryfz3JE",
        "colab_type": "code",
        "colab": {}
      },
      "source": [
        "#separating target and training data\n",
        "y_train = train_set[target]\n",
        "train_set = train_set.drop(columns=target)\n",
        "y_valid = valid_set[target]\n",
        "valid_set = valid_set.drop(columns=target)\n",
        "y_test = test_set[target]\n",
        "test_set = test_set.drop(columns=target)"
      ],
      "execution_count": 0,
      "outputs": []
    },
    {
      "cell_type": "code",
      "metadata": {
        "id": "z1KjG1bpz3JG",
        "colab_type": "code",
        "colab": {}
      },
      "source": [
        "from sklearn.ensemble import RandomForestClassifier\n",
        "import category_encoders as ce\n",
        "from sklearn.pipeline import make_pipeline"
      ],
      "execution_count": 0,
      "outputs": []
    },
    {
      "cell_type": "code",
      "metadata": {
        "id": "4XAraTEnz3JI",
        "colab_type": "code",
        "colab": {}
      },
      "source": [
        "pipeline = make_pipeline(\n",
        "    ce.OrdinalEncoder(),\n",
        "    RandomForestClassifier(n_estimators=100,min_samples_leaf=2)\n",
        ")"
      ],
      "execution_count": 0,
      "outputs": []
    },
    {
      "cell_type": "code",
      "metadata": {
        "id": "2F7l1zdDz3JL",
        "colab_type": "code",
        "colab": {}
      },
      "source": [
        "features = train_set.columns.drop('date_hour')"
      ],
      "execution_count": 0,
      "outputs": []
    },
    {
      "cell_type": "code",
      "metadata": {
        "id": "fmiPGmM5z3JO",
        "colab_type": "code",
        "colab": {
          "base_uri": "https://localhost:8080/",
          "height": 578
        },
        "outputId": "3391990d-0f6e-4730-b555-4490010f85df"
      },
      "source": [
        "pipeline.fit(train_set[features],y_train)"
      ],
      "execution_count": 23,
      "outputs": [
        {
          "output_type": "execute_result",
          "data": {
            "text/plain": [
              "Pipeline(memory=None,\n",
              "         steps=[('ordinalencoder',\n",
              "                 OrdinalEncoder(cols=['area_name', 'date_accident'],\n",
              "                                drop_invariant=False, handle_missing='value',\n",
              "                                handle_unknown='value',\n",
              "                                mapping=[{'col': 'area_name',\n",
              "                                          'data_type': dtype('O'),\n",
              "                                          'mapping': Olympic         1\n",
              "Southeast       2\n",
              "Foothill        3\n",
              "Hollywood       4\n",
              "Mission         5\n",
              "Northeast       6\n",
              "Newton          7\n",
              "Central         8\n",
              "N Hollywood     9\n",
              "Southwest      10\n",
              "Harbor         11\n",
              "Devonshire     12\n",
              "Pacific        13\n",
              "Rampa...\n",
              "                 RandomForestClassifier(bootstrap=True, class_weight=None,\n",
              "                                        criterion='gini', max_depth=None,\n",
              "                                        max_features='auto',\n",
              "                                        max_leaf_nodes=None,\n",
              "                                        min_impurity_decrease=0.0,\n",
              "                                        min_impurity_split=None,\n",
              "                                        min_samples_leaf=2, min_samples_split=2,\n",
              "                                        min_weight_fraction_leaf=0.0,\n",
              "                                        n_estimators=100, n_jobs=None,\n",
              "                                        oob_score=False, random_state=None,\n",
              "                                        verbose=0, warm_start=False))],\n",
              "         verbose=False)"
            ]
          },
          "metadata": {
            "tags": []
          },
          "execution_count": 23
        }
      ]
    },
    {
      "cell_type": "code",
      "metadata": {
        "id": "L9EXJY5dz3JQ",
        "colab_type": "code",
        "colab": {}
      },
      "source": [
        "from sklearn.metrics import roc_auc_score"
      ],
      "execution_count": 0,
      "outputs": []
    },
    {
      "cell_type": "code",
      "metadata": {
        "id": "NcbqPrA1z3Jo",
        "colab_type": "code",
        "colab": {
          "base_uri": "https://localhost:8080/",
          "height": 34
        },
        "outputId": "3ecee920-0da3-40f6-b3b8-95c7495b21dd"
      },
      "source": [
        "#roc auc score for valid set\n",
        "roc_auc_score(y_valid,pipeline.predict(valid_set[features]))"
      ],
      "execution_count": 25,
      "outputs": [
        {
          "output_type": "execute_result",
          "data": {
            "text/plain": [
              "0.5079310956125171"
            ]
          },
          "metadata": {
            "tags": []
          },
          "execution_count": 25
        }
      ]
    },
    {
      "cell_type": "code",
      "metadata": {
        "id": "B7fxX0td7CGL",
        "colab_type": "code",
        "colab": {
          "base_uri": "https://localhost:8080/",
          "height": 34
        },
        "outputId": "3f84d24d-8777-4cac-caca-f7f8a9b708b5"
      },
      "source": [
        "#roc auc score for test set\n",
        "roc_auc_score(y_test,pipeline.predict(test_set[features]))"
      ],
      "execution_count": 26,
      "outputs": [
        {
          "output_type": "execute_result",
          "data": {
            "text/plain": [
              "0.5078336215651406"
            ]
          },
          "metadata": {
            "tags": []
          },
          "execution_count": 26
        }
      ]
    },
    {
      "cell_type": "code",
      "metadata": {
        "id": "Z7PDxnRD7-iT",
        "colab_type": "code",
        "colab": {}
      },
      "source": [
        ""
      ],
      "execution_count": 0,
      "outputs": []
    }
  ]
}