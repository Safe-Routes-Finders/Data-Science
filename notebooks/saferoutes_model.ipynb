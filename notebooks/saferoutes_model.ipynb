{
 "cells": [
  {
   "cell_type": "code",
   "execution_count": 1,
   "metadata": {
    "colab": {},
    "colab_type": "code",
    "id": "BHb6kI3Hz3IV"
   },
   "outputs": [],
   "source": [
    "import pandas as pd\n",
    "from sklearn.ensemble import RandomForestClassifier\n",
    "import category_encoders as ce\n",
    "from sklearn.pipeline import make_pipeline\n",
    "from lightgbm import LGBMClassifier\n",
    "from sklearn.metrics import roc_auc_score,roc_curve,auc,confusion_matrix,classification_report"
   ]
  },
  {
   "cell_type": "code",
   "execution_count": 2,
   "metadata": {
    "colab": {
     "base_uri": "https://localhost:8080/",
     "height": 34
    },
    "colab_type": "code",
    "id": "grcgJSd_z3Ic",
    "outputId": "14801a05-f083-49cb-e243-cfdc9253a4de"
   },
   "outputs": [
    {
     "data": {
      "text/plain": [
       "(1799805, 6)"
      ]
     },
     "execution_count": 2,
     "metadata": {},
     "output_type": "execute_result"
    }
   ],
   "source": [
    "train_df = pd.read_csv(\"train_data.csv\")\n",
    "train_df.shape"
   ]
  },
  {
   "cell_type": "code",
   "execution_count": 3,
   "metadata": {
    "colab": {
     "base_uri": "https://localhost:8080/",
     "height": 204
    },
    "colab_type": "code",
    "id": "6oMfMbU6z3Ig",
    "outputId": "ce6e13fa-a2b6-4a80-e110-b1f92c7248ab"
   },
   "outputs": [
    {
     "data": {
      "text/html": [
       "<div>\n",
       "<style scoped>\n",
       "    .dataframe tbody tr th:only-of-type {\n",
       "        vertical-align: middle;\n",
       "    }\n",
       "\n",
       "    .dataframe tbody tr th {\n",
       "        vertical-align: top;\n",
       "    }\n",
       "\n",
       "    .dataframe thead th {\n",
       "        text-align: right;\n",
       "    }\n",
       "</style>\n",
       "<table border=\"1\" class=\"dataframe\">\n",
       "  <thead>\n",
       "    <tr style=\"text-align: right;\">\n",
       "      <th></th>\n",
       "      <th>date_hour</th>\n",
       "      <th>area_name</th>\n",
       "      <th>date_accident</th>\n",
       "      <th>hour_time</th>\n",
       "      <th>no_of_accidents</th>\n",
       "      <th>is_accident</th>\n",
       "    </tr>\n",
       "  </thead>\n",
       "  <tbody>\n",
       "    <tr>\n",
       "      <th>0</th>\n",
       "      <td>2010-01-01 00:00:00</td>\n",
       "      <td>Olympic</td>\n",
       "      <td>2010-01-01 00:00:00</td>\n",
       "      <td>0</td>\n",
       "      <td>0.0</td>\n",
       "      <td>0</td>\n",
       "    </tr>\n",
       "    <tr>\n",
       "      <th>1</th>\n",
       "      <td>2010-01-01 01:00:00</td>\n",
       "      <td>Olympic</td>\n",
       "      <td>2010-01-01 00:00:00</td>\n",
       "      <td>100</td>\n",
       "      <td>1.0</td>\n",
       "      <td>1</td>\n",
       "    </tr>\n",
       "    <tr>\n",
       "      <th>2</th>\n",
       "      <td>2010-01-01 02:00:00</td>\n",
       "      <td>Olympic</td>\n",
       "      <td>2010-01-01 00:00:00</td>\n",
       "      <td>200</td>\n",
       "      <td>0.0</td>\n",
       "      <td>0</td>\n",
       "    </tr>\n",
       "    <tr>\n",
       "      <th>3</th>\n",
       "      <td>2010-01-01 03:00:00</td>\n",
       "      <td>Olympic</td>\n",
       "      <td>2010-01-01 00:00:00</td>\n",
       "      <td>300</td>\n",
       "      <td>1.0</td>\n",
       "      <td>1</td>\n",
       "    </tr>\n",
       "    <tr>\n",
       "      <th>4</th>\n",
       "      <td>2010-01-01 04:00:00</td>\n",
       "      <td>Olympic</td>\n",
       "      <td>2010-01-01 00:00:00</td>\n",
       "      <td>400</td>\n",
       "      <td>0.0</td>\n",
       "      <td>0</td>\n",
       "    </tr>\n",
       "  </tbody>\n",
       "</table>\n",
       "</div>"
      ],
      "text/plain": [
       "             date_hour area_name        date_accident  hour_time  \\\n",
       "0  2010-01-01 00:00:00   Olympic  2010-01-01 00:00:00          0   \n",
       "1  2010-01-01 01:00:00   Olympic  2010-01-01 00:00:00        100   \n",
       "2  2010-01-01 02:00:00   Olympic  2010-01-01 00:00:00        200   \n",
       "3  2010-01-01 03:00:00   Olympic  2010-01-01 00:00:00        300   \n",
       "4  2010-01-01 04:00:00   Olympic  2010-01-01 00:00:00        400   \n",
       "\n",
       "   no_of_accidents  is_accident  \n",
       "0              0.0            0  \n",
       "1              1.0            1  \n",
       "2              0.0            0  \n",
       "3              1.0            1  \n",
       "4              0.0            0  "
      ]
     },
     "execution_count": 3,
     "metadata": {},
     "output_type": "execute_result"
    }
   ],
   "source": [
    "train_df.head()"
   ]
  },
  {
   "cell_type": "code",
   "execution_count": 4,
   "metadata": {
    "colab": {
     "base_uri": "https://localhost:8080/",
     "height": 68
    },
    "colab_type": "code",
    "id": "0jlxkNfSz3Ij",
    "outputId": "d507e7c5-3101-4745-816f-761734e4f0f2"
   },
   "outputs": [
    {
     "data": {
      "text/plain": [
       "0    0.771062\n",
       "1    0.228938\n",
       "Name: is_accident, dtype: float64"
      ]
     },
     "execution_count": 4,
     "metadata": {},
     "output_type": "execute_result"
    }
   ],
   "source": [
    "#Baseline Prediction for majority classsifer\n",
    "train_df['is_accident'].value_counts(normalize=True)"
   ]
  },
  {
   "cell_type": "markdown",
   "metadata": {
    "colab_type": "text",
    "id": "Q8G_IElQz3Il"
   },
   "source": [
    "# Will an accident happen in a area of Los Angeles in the next one hour\n",
    "\n",
    "\n",
    "### Base Line Accuracy\n",
    "\n",
    "##### With 77% accuracy we can predict that an accident will not happen in a area within the next one hour\n",
    "\n",
    "##### As baseline accuracy is high, we will be using AUC ROC metric for Model performance of this classification problem"
   ]
  },
  {
   "cell_type": "code",
   "execution_count": 5,
   "metadata": {
    "colab": {},
    "colab_type": "code",
    "id": "MNS5l5Cyz3Im"
   },
   "outputs": [],
   "source": [
    "#Converting columns to datetime\n",
    "train_df['date_hour']=pd.to_datetime(train_df['date_hour'])"
   ]
  },
  {
   "cell_type": "code",
   "execution_count": 6,
   "metadata": {
    "colab": {},
    "colab_type": "code",
    "id": "OmPl4R_gz3Io"
   },
   "outputs": [],
   "source": [
    "area_names = train_df.area_name.unique()"
   ]
  },
  {
   "cell_type": "code",
   "execution_count": 7,
   "metadata": {
    "colab": {
     "base_uri": "https://localhost:8080/",
     "height": 102
    },
    "colab_type": "code",
    "id": "DkKd730Pz3Ir",
    "outputId": "69ee13ce-91f8-40fa-c2ff-99161940f4c1"
   },
   "outputs": [
    {
     "data": {
      "text/plain": [
       "array(['Olympic', 'Southeast', 'Foothill', 'Hollywood', 'Mission',\n",
       "       'Northeast', 'Newton', 'Central', 'N Hollywood', 'Southwest',\n",
       "       'Harbor', 'Devonshire', 'Pacific', 'Rampart', 'Wilshire',\n",
       "       '77th Street', 'West LA', 'Topanga', 'Van Nuys', 'West Valley',\n",
       "       'Hollenbeck'], dtype=object)"
      ]
     },
     "execution_count": 7,
     "metadata": {},
     "output_type": "execute_result"
    }
   ],
   "source": [
    "area_names"
   ]
  },
  {
   "cell_type": "code",
   "execution_count": 8,
   "metadata": {
    "colab": {
     "base_uri": "https://localhost:8080/",
     "height": 238
    },
    "colab_type": "code",
    "id": "aEiW2PNaz3Iv",
    "outputId": "6ffa3a2f-0dab-49ed-ff76-3895e29e1ee1"
   },
   "outputs": [
    {
     "data": {
      "text/plain": [
       "0.0     7.710619e-01\n",
       "1.0     1.896428e-01\n",
       "2.0     3.343084e-02\n",
       "3.0     5.037212e-03\n",
       "4.0     7.050764e-04\n",
       "5.0     9.667714e-05\n",
       "6.0     1.777970e-05\n",
       "7.0     4.444926e-06\n",
       "8.0     1.666847e-06\n",
       "14.0    5.556157e-07\n",
       "12.0    5.556157e-07\n",
       "11.0    5.556157e-07\n",
       "Name: no_of_accidents, dtype: float64"
      ]
     },
     "execution_count": 8,
     "metadata": {},
     "output_type": "execute_result"
    }
   ],
   "source": [
    "#Frequency of accidents in Los Angeles in any given hour\n",
    "train_df['no_of_accidents'].value_counts(normalize=True)"
   ]
  },
  {
   "cell_type": "code",
   "execution_count": 9,
   "metadata": {
    "colab": {},
    "colab_type": "code",
    "id": "QzCAyM1wz3Ix"
   },
   "outputs": [],
   "source": [
    "#Creating features based on no of accidents happened in the past hours in that area\n",
    "empty_df = []\n",
    "laghours = [4,12,24,168,720,2880,8760]\n",
    "for area in area_names:\n",
    "    train_area = train_df[train_df.area_name==area].copy()\n",
    "    train_area['no_past1hour']=train_df['no_of_accidents'].shift(1)\n",
    "    for lhour in laghours:\n",
    "        name_sum = 'past_'+str(lhour)+'hours_sum'\n",
    "        name_mean = 'past_'+str(lhour)+'hours_mean'\n",
    "        name_max = 'past_'+str(lhour)+'hours_max'\n",
    "        train_area[name_sum]=train_area['no_past1hour'].rolling(lhour).sum()\n",
    "        train_area[name_mean]=train_area['no_past1hour'].rolling(lhour).mean()\n",
    "        train_area[name_max]=train_area['no_past1hour'].rolling(lhour).max()\n",
    "    empty_df.append(train_area)"
   ]
  },
  {
   "cell_type": "code",
   "execution_count": 10,
   "metadata": {
    "colab": {
     "base_uri": "https://localhost:8080/",
     "height": 34
    },
    "colab_type": "code",
    "id": "kS2WQNupz3I1",
    "outputId": "f52de437-d397-4f8a-a3e6-d0203953e06f"
   },
   "outputs": [
    {
     "data": {
      "text/plain": [
       "(1799805, 28)"
      ]
     },
     "execution_count": 10,
     "metadata": {},
     "output_type": "execute_result"
    }
   ],
   "source": [
    "#Final data after creating features\n",
    "train = pd.concat(empty_df)\n",
    "train.shape"
   ]
  },
  {
   "cell_type": "code",
   "execution_count": 11,
   "metadata": {
    "colab": {},
    "colab_type": "code",
    "id": "OdkLqr5Dz3I3"
   },
   "outputs": [],
   "source": [
    "#Filling all Nan values with -1\n",
    "train = train.fillna(-1)"
   ]
  },
  {
   "cell_type": "code",
   "execution_count": 12,
   "metadata": {
    "colab": {},
    "colab_type": "code",
    "id": "02XweVpq0Ul7"
   },
   "outputs": [],
   "source": [
    "#Adding more features to the data\n",
    "train['day']=train['date_hour'].dt.day\n",
    "train['month']=train['date_hour'].dt.month\n",
    "train['dayofweek']=train['date_hour'].dt.dayofweek\n",
    "#train['year']=train['date_hour'].dt.year"
   ]
  },
  {
   "cell_type": "code",
   "execution_count": 13,
   "metadata": {
    "colab": {
     "base_uri": "https://localhost:8080/",
     "height": 34
    },
    "colab_type": "code",
    "id": "dzocZtpSz3I6",
    "outputId": "66dd88ff-1939-469c-fd04-d76999cac9f6"
   },
   "outputs": [
    {
     "data": {
      "text/plain": [
       "(1799805, 30)"
      ]
     },
     "execution_count": 13,
     "metadata": {},
     "output_type": "execute_result"
    }
   ],
   "source": [
    "#Removing No of accidents as that is a leakage feature and date_hour as it is equal to a index\n",
    "train = train.drop(columns=['no_of_accidents'])\n",
    "train.shape"
   ]
  },
  {
   "cell_type": "code",
   "execution_count": 14,
   "metadata": {
    "colab": {
     "base_uri": "https://localhost:8080/",
     "height": 309
    },
    "colab_type": "code",
    "id": "U79XFCZEz3I8",
    "outputId": "31136d41-baee-411f-b0d2-62de664a1bd3"
   },
   "outputs": [
    {
     "data": {
      "text/html": [
       "<div>\n",
       "<style scoped>\n",
       "    .dataframe tbody tr th:only-of-type {\n",
       "        vertical-align: middle;\n",
       "    }\n",
       "\n",
       "    .dataframe tbody tr th {\n",
       "        vertical-align: top;\n",
       "    }\n",
       "\n",
       "    .dataframe thead th {\n",
       "        text-align: right;\n",
       "    }\n",
       "</style>\n",
       "<table border=\"1\" class=\"dataframe\">\n",
       "  <thead>\n",
       "    <tr style=\"text-align: right;\">\n",
       "      <th></th>\n",
       "      <th>date_hour</th>\n",
       "      <th>area_name</th>\n",
       "      <th>date_accident</th>\n",
       "      <th>hour_time</th>\n",
       "      <th>is_accident</th>\n",
       "      <th>no_past1hour</th>\n",
       "      <th>past_4hours_sum</th>\n",
       "      <th>past_4hours_mean</th>\n",
       "      <th>past_4hours_max</th>\n",
       "      <th>past_12hours_sum</th>\n",
       "      <th>...</th>\n",
       "      <th>past_720hours_max</th>\n",
       "      <th>past_2880hours_sum</th>\n",
       "      <th>past_2880hours_mean</th>\n",
       "      <th>past_2880hours_max</th>\n",
       "      <th>past_8760hours_sum</th>\n",
       "      <th>past_8760hours_mean</th>\n",
       "      <th>past_8760hours_max</th>\n",
       "      <th>day</th>\n",
       "      <th>month</th>\n",
       "      <th>dayofweek</th>\n",
       "    </tr>\n",
       "  </thead>\n",
       "  <tbody>\n",
       "    <tr>\n",
       "      <th>1799800</th>\n",
       "      <td>2019-10-11 20:00:00</td>\n",
       "      <td>Hollenbeck</td>\n",
       "      <td>2019-10-11 00:00:00</td>\n",
       "      <td>2000</td>\n",
       "      <td>0</td>\n",
       "      <td>0.0</td>\n",
       "      <td>0.0</td>\n",
       "      <td>0.0</td>\n",
       "      <td>0.0</td>\n",
       "      <td>0.0</td>\n",
       "      <td>...</td>\n",
       "      <td>4.0</td>\n",
       "      <td>641.0</td>\n",
       "      <td>0.222569</td>\n",
       "      <td>4.0</td>\n",
       "      <td>2020.0</td>\n",
       "      <td>0.230594</td>\n",
       "      <td>4.0</td>\n",
       "      <td>11</td>\n",
       "      <td>10</td>\n",
       "      <td>4</td>\n",
       "    </tr>\n",
       "    <tr>\n",
       "      <th>1799801</th>\n",
       "      <td>2019-10-11 21:00:00</td>\n",
       "      <td>Hollenbeck</td>\n",
       "      <td>2019-10-11 00:00:00</td>\n",
       "      <td>2100</td>\n",
       "      <td>0</td>\n",
       "      <td>0.0</td>\n",
       "      <td>0.0</td>\n",
       "      <td>0.0</td>\n",
       "      <td>0.0</td>\n",
       "      <td>0.0</td>\n",
       "      <td>...</td>\n",
       "      <td>4.0</td>\n",
       "      <td>640.0</td>\n",
       "      <td>0.222222</td>\n",
       "      <td>4.0</td>\n",
       "      <td>2020.0</td>\n",
       "      <td>0.230594</td>\n",
       "      <td>4.0</td>\n",
       "      <td>11</td>\n",
       "      <td>10</td>\n",
       "      <td>4</td>\n",
       "    </tr>\n",
       "    <tr>\n",
       "      <th>1799802</th>\n",
       "      <td>2019-10-11 22:00:00</td>\n",
       "      <td>Hollenbeck</td>\n",
       "      <td>2019-10-11 00:00:00</td>\n",
       "      <td>2200</td>\n",
       "      <td>0</td>\n",
       "      <td>0.0</td>\n",
       "      <td>0.0</td>\n",
       "      <td>0.0</td>\n",
       "      <td>0.0</td>\n",
       "      <td>0.0</td>\n",
       "      <td>...</td>\n",
       "      <td>4.0</td>\n",
       "      <td>640.0</td>\n",
       "      <td>0.222222</td>\n",
       "      <td>4.0</td>\n",
       "      <td>2020.0</td>\n",
       "      <td>0.230594</td>\n",
       "      <td>4.0</td>\n",
       "      <td>11</td>\n",
       "      <td>10</td>\n",
       "      <td>4</td>\n",
       "    </tr>\n",
       "    <tr>\n",
       "      <th>1799803</th>\n",
       "      <td>2019-10-11 23:00:00</td>\n",
       "      <td>Hollenbeck</td>\n",
       "      <td>2019-10-11 00:00:00</td>\n",
       "      <td>2300</td>\n",
       "      <td>0</td>\n",
       "      <td>0.0</td>\n",
       "      <td>0.0</td>\n",
       "      <td>0.0</td>\n",
       "      <td>0.0</td>\n",
       "      <td>0.0</td>\n",
       "      <td>...</td>\n",
       "      <td>4.0</td>\n",
       "      <td>640.0</td>\n",
       "      <td>0.222222</td>\n",
       "      <td>4.0</td>\n",
       "      <td>2020.0</td>\n",
       "      <td>0.230594</td>\n",
       "      <td>4.0</td>\n",
       "      <td>11</td>\n",
       "      <td>10</td>\n",
       "      <td>4</td>\n",
       "    </tr>\n",
       "    <tr>\n",
       "      <th>1799804</th>\n",
       "      <td>2019-10-12 00:00:00</td>\n",
       "      <td>Hollenbeck</td>\n",
       "      <td>2019-10-12 00:00:00</td>\n",
       "      <td>0</td>\n",
       "      <td>0</td>\n",
       "      <td>0.0</td>\n",
       "      <td>0.0</td>\n",
       "      <td>0.0</td>\n",
       "      <td>0.0</td>\n",
       "      <td>0.0</td>\n",
       "      <td>...</td>\n",
       "      <td>4.0</td>\n",
       "      <td>640.0</td>\n",
       "      <td>0.222222</td>\n",
       "      <td>4.0</td>\n",
       "      <td>2020.0</td>\n",
       "      <td>0.230594</td>\n",
       "      <td>4.0</td>\n",
       "      <td>12</td>\n",
       "      <td>10</td>\n",
       "      <td>5</td>\n",
       "    </tr>\n",
       "  </tbody>\n",
       "</table>\n",
       "<p>5 rows × 30 columns</p>\n",
       "</div>"
      ],
      "text/plain": [
       "                  date_hour   area_name        date_accident  hour_time  \\\n",
       "1799800 2019-10-11 20:00:00  Hollenbeck  2019-10-11 00:00:00       2000   \n",
       "1799801 2019-10-11 21:00:00  Hollenbeck  2019-10-11 00:00:00       2100   \n",
       "1799802 2019-10-11 22:00:00  Hollenbeck  2019-10-11 00:00:00       2200   \n",
       "1799803 2019-10-11 23:00:00  Hollenbeck  2019-10-11 00:00:00       2300   \n",
       "1799804 2019-10-12 00:00:00  Hollenbeck  2019-10-12 00:00:00          0   \n",
       "\n",
       "         is_accident  no_past1hour  past_4hours_sum  past_4hours_mean  \\\n",
       "1799800            0           0.0              0.0               0.0   \n",
       "1799801            0           0.0              0.0               0.0   \n",
       "1799802            0           0.0              0.0               0.0   \n",
       "1799803            0           0.0              0.0               0.0   \n",
       "1799804            0           0.0              0.0               0.0   \n",
       "\n",
       "         past_4hours_max  past_12hours_sum    ...      past_720hours_max  \\\n",
       "1799800              0.0               0.0    ...                    4.0   \n",
       "1799801              0.0               0.0    ...                    4.0   \n",
       "1799802              0.0               0.0    ...                    4.0   \n",
       "1799803              0.0               0.0    ...                    4.0   \n",
       "1799804              0.0               0.0    ...                    4.0   \n",
       "\n",
       "         past_2880hours_sum  past_2880hours_mean  past_2880hours_max  \\\n",
       "1799800               641.0             0.222569                 4.0   \n",
       "1799801               640.0             0.222222                 4.0   \n",
       "1799802               640.0             0.222222                 4.0   \n",
       "1799803               640.0             0.222222                 4.0   \n",
       "1799804               640.0             0.222222                 4.0   \n",
       "\n",
       "         past_8760hours_sum  past_8760hours_mean  past_8760hours_max  day  \\\n",
       "1799800              2020.0             0.230594                 4.0   11   \n",
       "1799801              2020.0             0.230594                 4.0   11   \n",
       "1799802              2020.0             0.230594                 4.0   11   \n",
       "1799803              2020.0             0.230594                 4.0   11   \n",
       "1799804              2020.0             0.230594                 4.0   12   \n",
       "\n",
       "         month  dayofweek  \n",
       "1799800     10          4  \n",
       "1799801     10          4  \n",
       "1799802     10          4  \n",
       "1799803     10          4  \n",
       "1799804     10          5  \n",
       "\n",
       "[5 rows x 30 columns]"
      ]
     },
     "execution_count": 14,
     "metadata": {},
     "output_type": "execute_result"
    }
   ],
   "source": [
    "train.tail()"
   ]
  },
  {
   "cell_type": "code",
   "execution_count": 15,
   "metadata": {
    "colab": {},
    "colab_type": "code",
    "id": "-rlBWmRuz3I-"
   },
   "outputs": [],
   "source": [
    "#Creating a train,valid and test dataset based on time slicing\n",
    "#Train set will be data before 2018\n",
    "#Valid set will be data for year 2018\n",
    "#Test set will be data for year 2019"
   ]
  },
  {
   "cell_type": "code",
   "execution_count": 16,
   "metadata": {
    "colab": {},
    "colab_type": "code",
    "id": "aswWkSkuz3JA"
   },
   "outputs": [],
   "source": [
    "target = 'is_accident'"
   ]
  },
  {
   "cell_type": "code",
   "execution_count": 17,
   "metadata": {
    "colab": {
     "base_uri": "https://localhost:8080/",
     "height": 68
    },
    "colab_type": "code",
    "id": "-tb0f_Hxz3JC",
    "outputId": "bd5583b6-f8e2-4eeb-baef-33b5f97762f2"
   },
   "outputs": [
    {
     "name": "stdout",
     "output_type": "stream",
     "text": [
      "Train : 1472688\n",
      "Valid : 183960\n",
      "Valid : 143157\n"
     ]
    }
   ],
   "source": [
    "train_set = train[train.date_hour<'2018-01-01']\n",
    "valid_set = train[(train.date_hour>='2018-01-01')&(train.date_hour<'2019-01-01')]\n",
    "test_set = train[train.date_hour>='2019-01-01']\n",
    "print(\"Train :\",train_set.shape[0])\n",
    "print(\"Valid :\",valid_set.shape[0])\n",
    "print(\"Valid :\",test_set.shape[0])"
   ]
  },
  {
   "cell_type": "code",
   "execution_count": 18,
   "metadata": {
    "colab": {},
    "colab_type": "code",
    "id": "dqjDuryfz3JE"
   },
   "outputs": [],
   "source": [
    "#separating target and training data\n",
    "y_train = train_set[target]\n",
    "train_set = train_set.drop(columns=target)\n",
    "y_valid = valid_set[target]\n",
    "valid_set = valid_set.drop(columns=target)\n",
    "y_test = test_set[target]\n",
    "test_set = test_set.drop(columns=target)"
   ]
  },
  {
   "cell_type": "code",
   "execution_count": null,
   "metadata": {
    "colab": {},
    "colab_type": "code",
    "id": "z1KjG1bpz3JG"
   },
   "outputs": [],
   "source": []
  },
  {
   "cell_type": "code",
   "execution_count": 19,
   "metadata": {
    "colab": {},
    "colab_type": "code",
    "id": "4XAraTEnz3JI"
   },
   "outputs": [],
   "source": [
    "pipeline = make_pipeline(\n",
    "    ce.OrdinalEncoder(),\n",
    "    #LGBMClassifier(max_depth=8,learning_rate=0.03,n_estimators=1500,min_child_samples=20)\n",
    ")"
   ]
  },
  {
   "cell_type": "code",
   "execution_count": 20,
   "metadata": {
    "colab": {},
    "colab_type": "code",
    "id": "2F7l1zdDz3JL"
   },
   "outputs": [],
   "source": [
    "features = train_set.columns.drop(['date_hour','date_accident'])"
   ]
  },
  {
   "cell_type": "code",
   "execution_count": 21,
   "metadata": {
    "colab": {
     "base_uri": "https://localhost:8080/",
     "height": 85
    },
    "colab_type": "code",
    "id": "8O7ZQKbOS5C5",
    "outputId": "1835143e-a91a-444d-ad02-1a74f1d1b7f4"
   },
   "outputs": [
    {
     "data": {
      "text/plain": [
       "Index(['area_name', 'hour_time', 'no_past1hour', 'past_4hours_sum',\n",
       "       'past_4hours_mean', 'past_4hours_max', 'past_12hours_sum',\n",
       "       'past_12hours_mean', 'past_12hours_max', 'past_24hours_sum',\n",
       "       'past_24hours_mean', 'past_24hours_max', 'past_168hours_sum',\n",
       "       'past_168hours_mean', 'past_168hours_max', 'past_720hours_sum',\n",
       "       'past_720hours_mean', 'past_720hours_max', 'past_2880hours_sum',\n",
       "       'past_2880hours_mean', 'past_2880hours_max', 'past_8760hours_sum',\n",
       "       'past_8760hours_mean', 'past_8760hours_max', 'day', 'month',\n",
       "       'dayofweek'],\n",
       "      dtype='object')"
      ]
     },
     "execution_count": 21,
     "metadata": {},
     "output_type": "execute_result"
    }
   ],
   "source": [
    "features"
   ]
  },
  {
   "cell_type": "code",
   "execution_count": 22,
   "metadata": {
    "colab": {},
    "colab_type": "code",
    "id": "fmiPGmM5z3JO"
   },
   "outputs": [],
   "source": [
    " X_train = pipeline.fit_transform(train_set[features])\n",
    " X_valid = pipeline.transform(valid_set[features])\n",
    " X_test = pipeline.transform(test_set[features])\n",
    "\n",
    "\n"
   ]
  },
  {
   "cell_type": "code",
   "execution_count": 23,
   "metadata": {
    "colab": {
     "base_uri": "https://localhost:8080/",
     "height": 224
    },
    "colab_type": "code",
    "id": "gVTe294MXPOb",
    "outputId": "542a503a-836d-4d3e-b935-4b0c08522d03"
   },
   "outputs": [
    {
     "data": {
      "text/html": [
       "<div>\n",
       "<style scoped>\n",
       "    .dataframe tbody tr th:only-of-type {\n",
       "        vertical-align: middle;\n",
       "    }\n",
       "\n",
       "    .dataframe tbody tr th {\n",
       "        vertical-align: top;\n",
       "    }\n",
       "\n",
       "    .dataframe thead th {\n",
       "        text-align: right;\n",
       "    }\n",
       "</style>\n",
       "<table border=\"1\" class=\"dataframe\">\n",
       "  <thead>\n",
       "    <tr style=\"text-align: right;\">\n",
       "      <th></th>\n",
       "      <th>area_name</th>\n",
       "      <th>hour_time</th>\n",
       "      <th>no_past1hour</th>\n",
       "      <th>past_4hours_sum</th>\n",
       "      <th>past_4hours_mean</th>\n",
       "      <th>past_4hours_max</th>\n",
       "      <th>past_12hours_sum</th>\n",
       "      <th>past_12hours_mean</th>\n",
       "      <th>past_12hours_max</th>\n",
       "      <th>past_24hours_sum</th>\n",
       "      <th>...</th>\n",
       "      <th>past_720hours_max</th>\n",
       "      <th>past_2880hours_sum</th>\n",
       "      <th>past_2880hours_mean</th>\n",
       "      <th>past_2880hours_max</th>\n",
       "      <th>past_8760hours_sum</th>\n",
       "      <th>past_8760hours_mean</th>\n",
       "      <th>past_8760hours_max</th>\n",
       "      <th>day</th>\n",
       "      <th>month</th>\n",
       "      <th>dayofweek</th>\n",
       "    </tr>\n",
       "  </thead>\n",
       "  <tbody>\n",
       "    <tr>\n",
       "      <th>0</th>\n",
       "      <td>1</td>\n",
       "      <td>0</td>\n",
       "      <td>-1.0</td>\n",
       "      <td>-1.0</td>\n",
       "      <td>-1.0</td>\n",
       "      <td>-1.0</td>\n",
       "      <td>-1.0</td>\n",
       "      <td>-1.0</td>\n",
       "      <td>-1.0</td>\n",
       "      <td>-1.0</td>\n",
       "      <td>...</td>\n",
       "      <td>-1.0</td>\n",
       "      <td>-1.0</td>\n",
       "      <td>-1.0</td>\n",
       "      <td>-1.0</td>\n",
       "      <td>-1.0</td>\n",
       "      <td>-1.0</td>\n",
       "      <td>-1.0</td>\n",
       "      <td>1</td>\n",
       "      <td>1</td>\n",
       "      <td>4</td>\n",
       "    </tr>\n",
       "    <tr>\n",
       "      <th>1</th>\n",
       "      <td>1</td>\n",
       "      <td>100</td>\n",
       "      <td>0.0</td>\n",
       "      <td>-1.0</td>\n",
       "      <td>-1.0</td>\n",
       "      <td>-1.0</td>\n",
       "      <td>-1.0</td>\n",
       "      <td>-1.0</td>\n",
       "      <td>-1.0</td>\n",
       "      <td>-1.0</td>\n",
       "      <td>...</td>\n",
       "      <td>-1.0</td>\n",
       "      <td>-1.0</td>\n",
       "      <td>-1.0</td>\n",
       "      <td>-1.0</td>\n",
       "      <td>-1.0</td>\n",
       "      <td>-1.0</td>\n",
       "      <td>-1.0</td>\n",
       "      <td>1</td>\n",
       "      <td>1</td>\n",
       "      <td>4</td>\n",
       "    </tr>\n",
       "    <tr>\n",
       "      <th>2</th>\n",
       "      <td>1</td>\n",
       "      <td>200</td>\n",
       "      <td>1.0</td>\n",
       "      <td>-1.0</td>\n",
       "      <td>-1.0</td>\n",
       "      <td>-1.0</td>\n",
       "      <td>-1.0</td>\n",
       "      <td>-1.0</td>\n",
       "      <td>-1.0</td>\n",
       "      <td>-1.0</td>\n",
       "      <td>...</td>\n",
       "      <td>-1.0</td>\n",
       "      <td>-1.0</td>\n",
       "      <td>-1.0</td>\n",
       "      <td>-1.0</td>\n",
       "      <td>-1.0</td>\n",
       "      <td>-1.0</td>\n",
       "      <td>-1.0</td>\n",
       "      <td>1</td>\n",
       "      <td>1</td>\n",
       "      <td>4</td>\n",
       "    </tr>\n",
       "    <tr>\n",
       "      <th>3</th>\n",
       "      <td>1</td>\n",
       "      <td>300</td>\n",
       "      <td>0.0</td>\n",
       "      <td>-1.0</td>\n",
       "      <td>-1.0</td>\n",
       "      <td>-1.0</td>\n",
       "      <td>-1.0</td>\n",
       "      <td>-1.0</td>\n",
       "      <td>-1.0</td>\n",
       "      <td>-1.0</td>\n",
       "      <td>...</td>\n",
       "      <td>-1.0</td>\n",
       "      <td>-1.0</td>\n",
       "      <td>-1.0</td>\n",
       "      <td>-1.0</td>\n",
       "      <td>-1.0</td>\n",
       "      <td>-1.0</td>\n",
       "      <td>-1.0</td>\n",
       "      <td>1</td>\n",
       "      <td>1</td>\n",
       "      <td>4</td>\n",
       "    </tr>\n",
       "    <tr>\n",
       "      <th>4</th>\n",
       "      <td>1</td>\n",
       "      <td>400</td>\n",
       "      <td>1.0</td>\n",
       "      <td>2.0</td>\n",
       "      <td>0.5</td>\n",
       "      <td>1.0</td>\n",
       "      <td>-1.0</td>\n",
       "      <td>-1.0</td>\n",
       "      <td>-1.0</td>\n",
       "      <td>-1.0</td>\n",
       "      <td>...</td>\n",
       "      <td>-1.0</td>\n",
       "      <td>-1.0</td>\n",
       "      <td>-1.0</td>\n",
       "      <td>-1.0</td>\n",
       "      <td>-1.0</td>\n",
       "      <td>-1.0</td>\n",
       "      <td>-1.0</td>\n",
       "      <td>1</td>\n",
       "      <td>1</td>\n",
       "      <td>4</td>\n",
       "    </tr>\n",
       "  </tbody>\n",
       "</table>\n",
       "<p>5 rows × 27 columns</p>\n",
       "</div>"
      ],
      "text/plain": [
       "   area_name  hour_time  no_past1hour  past_4hours_sum  past_4hours_mean  \\\n",
       "0          1          0          -1.0             -1.0              -1.0   \n",
       "1          1        100           0.0             -1.0              -1.0   \n",
       "2          1        200           1.0             -1.0              -1.0   \n",
       "3          1        300           0.0             -1.0              -1.0   \n",
       "4          1        400           1.0              2.0               0.5   \n",
       "\n",
       "   past_4hours_max  past_12hours_sum  past_12hours_mean  past_12hours_max  \\\n",
       "0             -1.0              -1.0               -1.0              -1.0   \n",
       "1             -1.0              -1.0               -1.0              -1.0   \n",
       "2             -1.0              -1.0               -1.0              -1.0   \n",
       "3             -1.0              -1.0               -1.0              -1.0   \n",
       "4              1.0              -1.0               -1.0              -1.0   \n",
       "\n",
       "   past_24hours_sum    ...      past_720hours_max  past_2880hours_sum  \\\n",
       "0              -1.0    ...                   -1.0                -1.0   \n",
       "1              -1.0    ...                   -1.0                -1.0   \n",
       "2              -1.0    ...                   -1.0                -1.0   \n",
       "3              -1.0    ...                   -1.0                -1.0   \n",
       "4              -1.0    ...                   -1.0                -1.0   \n",
       "\n",
       "   past_2880hours_mean  past_2880hours_max  past_8760hours_sum  \\\n",
       "0                 -1.0                -1.0                -1.0   \n",
       "1                 -1.0                -1.0                -1.0   \n",
       "2                 -1.0                -1.0                -1.0   \n",
       "3                 -1.0                -1.0                -1.0   \n",
       "4                 -1.0                -1.0                -1.0   \n",
       "\n",
       "   past_8760hours_mean  past_8760hours_max  day  month  dayofweek  \n",
       "0                 -1.0                -1.0    1      1          4  \n",
       "1                 -1.0                -1.0    1      1          4  \n",
       "2                 -1.0                -1.0    1      1          4  \n",
       "3                 -1.0                -1.0    1      1          4  \n",
       "4                 -1.0                -1.0    1      1          4  \n",
       "\n",
       "[5 rows x 27 columns]"
      ]
     },
     "execution_count": 23,
     "metadata": {},
     "output_type": "execute_result"
    }
   ],
   "source": [
    "X_train.head()"
   ]
  },
  {
   "cell_type": "code",
   "execution_count": 24,
   "metadata": {
    "colab": {},
    "colab_type": "code",
    "id": "sGZmpUcaVfC5"
   },
   "outputs": [],
   "source": [
    "\n",
    "eval_set = [(X_train,y_train),(X_valid,y_valid)]\n",
    "model = LGBMClassifier(learning_rate=0.05,subsample= 1.0,\n",
    "                      n_estimators = 1500,min_child_weight = 3,\n",
    "                       gamma =  2, colsample_bytree = 0.85, random_state=55)"
   ]
  },
  {
   "cell_type": "code",
   "execution_count": null,
   "metadata": {
    "colab": {},
    "colab_type": "code",
    "id": "L9EXJY5dz3JQ"
   },
   "outputs": [],
   "source": []
  },
  {
   "cell_type": "code",
   "execution_count": 25,
   "metadata": {
    "colab": {
     "base_uri": "https://localhost:8080/",
     "height": 1000
    },
    "colab_type": "code",
    "id": "qTZAO5yhWrrZ",
    "outputId": "f54a5ca1-28ec-4062-9e90-8c988ee66c2d"
   },
   "outputs": [
    {
     "name": "stdout",
     "output_type": "stream",
     "text": [
      "[1]\ttraining's auc: 0.662019\ttraining's binary_logloss: 0.52908\tvalid_1's auc: 0.660372\tvalid_1's binary_logloss: 0.565544\n",
      "Training until validation scores don't improve for 150 rounds\n",
      "[2]\ttraining's auc: 0.663107\ttraining's binary_logloss: 0.52661\tvalid_1's auc: 0.661246\tvalid_1's binary_logloss: 0.562385\n",
      "[3]\ttraining's auc: 0.663515\ttraining's binary_logloss: 0.524364\tvalid_1's auc: 0.661392\tvalid_1's binary_logloss: 0.559523\n",
      "[4]\ttraining's auc: 0.663736\ttraining's binary_logloss: 0.522323\tvalid_1's auc: 0.662016\tvalid_1's binary_logloss: 0.556937\n",
      "[5]\ttraining's auc: 0.664507\ttraining's binary_logloss: 0.520444\tvalid_1's auc: 0.662829\tvalid_1's binary_logloss: 0.55461\n",
      "[6]\ttraining's auc: 0.664932\ttraining's binary_logloss: 0.518735\tvalid_1's auc: 0.663115\tvalid_1's binary_logloss: 0.552565\n",
      "[7]\ttraining's auc: 0.665399\ttraining's binary_logloss: 0.517343\tvalid_1's auc: 0.66363\tvalid_1's binary_logloss: 0.55085\n",
      "[8]\ttraining's auc: 0.666038\ttraining's binary_logloss: 0.516913\tvalid_1's auc: 0.664085\tvalid_1's binary_logloss: 0.550283\n",
      "[9]\ttraining's auc: 0.666414\ttraining's binary_logloss: 0.515484\tvalid_1's auc: 0.664417\tvalid_1's binary_logloss: 0.548626\n",
      "[10]\ttraining's auc: 0.666561\ttraining's binary_logloss: 0.514187\tvalid_1's auc: 0.664585\tvalid_1's binary_logloss: 0.547108\n",
      "[11]\ttraining's auc: 0.66669\ttraining's binary_logloss: 0.512997\tvalid_1's auc: 0.664645\tvalid_1's binary_logloss: 0.545775\n",
      "[12]\ttraining's auc: 0.666714\ttraining's binary_logloss: 0.512041\tvalid_1's auc: 0.664657\tvalid_1's binary_logloss: 0.544669\n",
      "[13]\ttraining's auc: 0.666889\ttraining's binary_logloss: 0.511031\tvalid_1's auc: 0.66485\tvalid_1's binary_logloss: 0.543545\n",
      "[14]\ttraining's auc: 0.667017\ttraining's binary_logloss: 0.510768\tvalid_1's auc: 0.664902\tvalid_1's binary_logloss: 0.543203\n",
      "[15]\ttraining's auc: 0.667184\ttraining's binary_logloss: 0.50986\tvalid_1's auc: 0.665083\tvalid_1's binary_logloss: 0.542215\n",
      "[16]\ttraining's auc: 0.667324\ttraining's binary_logloss: 0.509023\tvalid_1's auc: 0.665206\tvalid_1's binary_logloss: 0.541336\n",
      "[17]\ttraining's auc: 0.667423\ttraining's binary_logloss: 0.508254\tvalid_1's auc: 0.66536\tvalid_1's binary_logloss: 0.540493\n",
      "[18]\ttraining's auc: 0.667505\ttraining's binary_logloss: 0.507637\tvalid_1's auc: 0.665433\tvalid_1's binary_logloss: 0.539869\n",
      "[19]\ttraining's auc: 0.667715\ttraining's binary_logloss: 0.506975\tvalid_1's auc: 0.665533\tvalid_1's binary_logloss: 0.539203\n",
      "[20]\ttraining's auc: 0.667914\ttraining's binary_logloss: 0.506361\tvalid_1's auc: 0.665808\tvalid_1's binary_logloss: 0.538535\n",
      "[21]\ttraining's auc: 0.667997\ttraining's binary_logloss: 0.5062\tvalid_1's auc: 0.665893\tvalid_1's binary_logloss: 0.53834\n",
      "[22]\ttraining's auc: 0.668142\ttraining's binary_logloss: 0.505648\tvalid_1's auc: 0.666048\tvalid_1's binary_logloss: 0.537784\n",
      "[23]\ttraining's auc: 0.668188\ttraining's binary_logloss: 0.50551\tvalid_1's auc: 0.666153\tvalid_1's binary_logloss: 0.537608\n",
      "[24]\ttraining's auc: 0.668313\ttraining's binary_logloss: 0.505011\tvalid_1's auc: 0.666312\tvalid_1's binary_logloss: 0.53711\n",
      "[25]\ttraining's auc: 0.668358\ttraining's binary_logloss: 0.504891\tvalid_1's auc: 0.666349\tvalid_1's binary_logloss: 0.536972\n",
      "[26]\ttraining's auc: 0.668458\ttraining's binary_logloss: 0.504446\tvalid_1's auc: 0.666453\tvalid_1's binary_logloss: 0.536537\n",
      "[27]\ttraining's auc: 0.668537\ttraining's binary_logloss: 0.504028\tvalid_1's auc: 0.666536\tvalid_1's binary_logloss: 0.536135\n",
      "[28]\ttraining's auc: 0.668595\ttraining's binary_logloss: 0.503695\tvalid_1's auc: 0.666606\tvalid_1's binary_logloss: 0.535822\n",
      "[29]\ttraining's auc: 0.668722\ttraining's binary_logloss: 0.503334\tvalid_1's auc: 0.666705\tvalid_1's binary_logloss: 0.53549\n",
      "[30]\ttraining's auc: 0.6688\ttraining's binary_logloss: 0.503006\tvalid_1's auc: 0.666827\tvalid_1's binary_logloss: 0.535168\n",
      "[31]\ttraining's auc: 0.668873\ttraining's binary_logloss: 0.502701\tvalid_1's auc: 0.666877\tvalid_1's binary_logloss: 0.534902\n",
      "[32]\ttraining's auc: 0.668973\ttraining's binary_logloss: 0.502411\tvalid_1's auc: 0.667008\tvalid_1's binary_logloss: 0.534628\n",
      "[33]\ttraining's auc: 0.669037\ttraining's binary_logloss: 0.502335\tvalid_1's auc: 0.667079\tvalid_1's binary_logloss: 0.534541\n",
      "[34]\ttraining's auc: 0.669093\ttraining's binary_logloss: 0.502116\tvalid_1's auc: 0.667122\tvalid_1's binary_logloss: 0.534353\n",
      "[35]\ttraining's auc: 0.669153\ttraining's binary_logloss: 0.501876\tvalid_1's auc: 0.667159\tvalid_1's binary_logloss: 0.534146\n",
      "[36]\ttraining's auc: 0.669227\ttraining's binary_logloss: 0.50165\tvalid_1's auc: 0.667252\tvalid_1's binary_logloss: 0.533929\n",
      "[37]\ttraining's auc: 0.669263\ttraining's binary_logloss: 0.501595\tvalid_1's auc: 0.667304\tvalid_1's binary_logloss: 0.533865\n",
      "[38]\ttraining's auc: 0.669487\ttraining's binary_logloss: 0.501356\tvalid_1's auc: 0.667476\tvalid_1's binary_logloss: 0.533675\n",
      "[39]\ttraining's auc: 0.669642\ttraining's binary_logloss: 0.501146\tvalid_1's auc: 0.667613\tvalid_1's binary_logloss: 0.533506\n",
      "[40]\ttraining's auc: 0.669716\ttraining's binary_logloss: 0.500968\tvalid_1's auc: 0.667657\tvalid_1's binary_logloss: 0.533361\n",
      "[41]\ttraining's auc: 0.669793\ttraining's binary_logloss: 0.500804\tvalid_1's auc: 0.667715\tvalid_1's binary_logloss: 0.533228\n",
      "[42]\ttraining's auc: 0.669943\ttraining's binary_logloss: 0.500636\tvalid_1's auc: 0.667797\tvalid_1's binary_logloss: 0.533098\n",
      "[43]\ttraining's auc: 0.670018\ttraining's binary_logloss: 0.500508\tvalid_1's auc: 0.667859\tvalid_1's binary_logloss: 0.533\n",
      "[44]\ttraining's auc: 0.670111\ttraining's binary_logloss: 0.500364\tvalid_1's auc: 0.667908\tvalid_1's binary_logloss: 0.532892\n",
      "[45]\ttraining's auc: 0.670277\ttraining's binary_logloss: 0.500213\tvalid_1's auc: 0.668036\tvalid_1's binary_logloss: 0.532783\n",
      "[46]\ttraining's auc: 0.670347\ttraining's binary_logloss: 0.500095\tvalid_1's auc: 0.668086\tvalid_1's binary_logloss: 0.532695\n",
      "[47]\ttraining's auc: 0.67041\ttraining's binary_logloss: 0.49998\tvalid_1's auc: 0.668146\tvalid_1's binary_logloss: 0.532611\n",
      "[48]\ttraining's auc: 0.670469\ttraining's binary_logloss: 0.499879\tvalid_1's auc: 0.668195\tvalid_1's binary_logloss: 0.532538\n",
      "[49]\ttraining's auc: 0.670508\ttraining's binary_logloss: 0.499847\tvalid_1's auc: 0.668234\tvalid_1's binary_logloss: 0.532505\n",
      "[50]\ttraining's auc: 0.670679\ttraining's binary_logloss: 0.499723\tvalid_1's auc: 0.668365\tvalid_1's binary_logloss: 0.532408\n",
      "[51]\ttraining's auc: 0.670728\ttraining's binary_logloss: 0.49969\tvalid_1's auc: 0.668414\tvalid_1's binary_logloss: 0.532376\n",
      "[52]\ttraining's auc: 0.670872\ttraining's binary_logloss: 0.499577\tvalid_1's auc: 0.66853\tvalid_1's binary_logloss: 0.532295\n",
      "[53]\ttraining's auc: 0.670926\ttraining's binary_logloss: 0.499487\tvalid_1's auc: 0.66857\tvalid_1's binary_logloss: 0.53224\n",
      "[54]\ttraining's auc: 0.671061\ttraining's binary_logloss: 0.499388\tvalid_1's auc: 0.668666\tvalid_1's binary_logloss: 0.532172\n",
      "[55]\ttraining's auc: 0.671118\ttraining's binary_logloss: 0.499308\tvalid_1's auc: 0.668706\tvalid_1's binary_logloss: 0.532121\n",
      "[56]\ttraining's auc: 0.671173\ttraining's binary_logloss: 0.499237\tvalid_1's auc: 0.668749\tvalid_1's binary_logloss: 0.532073\n",
      "[57]\ttraining's auc: 0.671242\ttraining's binary_logloss: 0.499206\tvalid_1's auc: 0.668787\tvalid_1's binary_logloss: 0.532051\n",
      "[58]\ttraining's auc: 0.67132\ttraining's binary_logloss: 0.499131\tvalid_1's auc: 0.668846\tvalid_1's binary_logloss: 0.532002\n",
      "[59]\ttraining's auc: 0.671364\ttraining's binary_logloss: 0.499068\tvalid_1's auc: 0.668871\tvalid_1's binary_logloss: 0.531962\n",
      "[60]\ttraining's auc: 0.671483\ttraining's binary_logloss: 0.498994\tvalid_1's auc: 0.668964\tvalid_1's binary_logloss: 0.531908\n",
      "[61]\ttraining's auc: 0.671537\ttraining's binary_logloss: 0.498937\tvalid_1's auc: 0.668988\tvalid_1's binary_logloss: 0.531875\n",
      "[62]\ttraining's auc: 0.671587\ttraining's binary_logloss: 0.498883\tvalid_1's auc: 0.669051\tvalid_1's binary_logloss: 0.531838\n",
      "[63]\ttraining's auc: 0.67165\ttraining's binary_logloss: 0.498854\tvalid_1's auc: 0.669108\tvalid_1's binary_logloss: 0.531812\n",
      "[64]\ttraining's auc: 0.671727\ttraining's binary_logloss: 0.498798\tvalid_1's auc: 0.669159\tvalid_1's binary_logloss: 0.531774\n",
      "[65]\ttraining's auc: 0.671782\ttraining's binary_logloss: 0.498743\tvalid_1's auc: 0.669189\tvalid_1's binary_logloss: 0.531741\n",
      "[66]\ttraining's auc: 0.671854\ttraining's binary_logloss: 0.498694\tvalid_1's auc: 0.669245\tvalid_1's binary_logloss: 0.531708\n"
     ]
    },
    {
     "name": "stdout",
     "output_type": "stream",
     "text": [
      "[67]\ttraining's auc: 0.67193\ttraining's binary_logloss: 0.498639\tvalid_1's auc: 0.669306\tvalid_1's binary_logloss: 0.53167\n",
      "[68]\ttraining's auc: 0.671991\ttraining's binary_logloss: 0.498595\tvalid_1's auc: 0.669359\tvalid_1's binary_logloss: 0.531634\n",
      "[69]\ttraining's auc: 0.672091\ttraining's binary_logloss: 0.498542\tvalid_1's auc: 0.669422\tvalid_1's binary_logloss: 0.531596\n",
      "[70]\ttraining's auc: 0.672158\ttraining's binary_logloss: 0.498497\tvalid_1's auc: 0.66947\tvalid_1's binary_logloss: 0.531562\n",
      "[71]\ttraining's auc: 0.672216\ttraining's binary_logloss: 0.49845\tvalid_1's auc: 0.669485\tvalid_1's binary_logloss: 0.531542\n",
      "[72]\ttraining's auc: 0.672267\ttraining's binary_logloss: 0.498428\tvalid_1's auc: 0.66952\tvalid_1's binary_logloss: 0.531526\n",
      "[73]\ttraining's auc: 0.672344\ttraining's binary_logloss: 0.498386\tvalid_1's auc: 0.669595\tvalid_1's binary_logloss: 0.531487\n",
      "[74]\ttraining's auc: 0.672376\ttraining's binary_logloss: 0.498351\tvalid_1's auc: 0.669608\tvalid_1's binary_logloss: 0.531471\n",
      "[75]\ttraining's auc: 0.672442\ttraining's binary_logloss: 0.498304\tvalid_1's auc: 0.669669\tvalid_1's binary_logloss: 0.53143\n",
      "[76]\ttraining's auc: 0.672476\ttraining's binary_logloss: 0.49827\tvalid_1's auc: 0.669699\tvalid_1's binary_logloss: 0.531408\n",
      "[77]\ttraining's auc: 0.672519\ttraining's binary_logloss: 0.498243\tvalid_1's auc: 0.669713\tvalid_1's binary_logloss: 0.531395\n",
      "[78]\ttraining's auc: 0.672575\ttraining's binary_logloss: 0.49821\tvalid_1's auc: 0.669745\tvalid_1's binary_logloss: 0.531375\n",
      "[79]\ttraining's auc: 0.672617\ttraining's binary_logloss: 0.498178\tvalid_1's auc: 0.669782\tvalid_1's binary_logloss: 0.531352\n",
      "[80]\ttraining's auc: 0.672663\ttraining's binary_logloss: 0.498149\tvalid_1's auc: 0.669814\tvalid_1's binary_logloss: 0.531332\n",
      "[81]\ttraining's auc: 0.672708\ttraining's binary_logloss: 0.498124\tvalid_1's auc: 0.669846\tvalid_1's binary_logloss: 0.531314\n",
      "[82]\ttraining's auc: 0.672737\ttraining's binary_logloss: 0.498098\tvalid_1's auc: 0.669868\tvalid_1's binary_logloss: 0.531302\n",
      "[83]\ttraining's auc: 0.672802\ttraining's binary_logloss: 0.498068\tvalid_1's auc: 0.669901\tvalid_1's binary_logloss: 0.531284\n",
      "[84]\ttraining's auc: 0.672858\ttraining's binary_logloss: 0.498047\tvalid_1's auc: 0.669921\tvalid_1's binary_logloss: 0.531275\n",
      "[85]\ttraining's auc: 0.67293\ttraining's binary_logloss: 0.498014\tvalid_1's auc: 0.669974\tvalid_1's binary_logloss: 0.531253\n",
      "[86]\ttraining's auc: 0.67299\ttraining's binary_logloss: 0.497987\tvalid_1's auc: 0.669998\tvalid_1's binary_logloss: 0.53124\n",
      "[87]\ttraining's auc: 0.673061\ttraining's binary_logloss: 0.497955\tvalid_1's auc: 0.670047\tvalid_1's binary_logloss: 0.531215\n",
      "[88]\ttraining's auc: 0.673093\ttraining's binary_logloss: 0.497931\tvalid_1's auc: 0.670061\tvalid_1's binary_logloss: 0.531206\n",
      "[89]\ttraining's auc: 0.673142\ttraining's binary_logloss: 0.497909\tvalid_1's auc: 0.670074\tvalid_1's binary_logloss: 0.531196\n",
      "[90]\ttraining's auc: 0.673168\ttraining's binary_logloss: 0.497885\tvalid_1's auc: 0.670094\tvalid_1's binary_logloss: 0.531177\n",
      "[91]\ttraining's auc: 0.673241\ttraining's binary_logloss: 0.49785\tvalid_1's auc: 0.670154\tvalid_1's binary_logloss: 0.531148\n",
      "[92]\ttraining's auc: 0.673275\ttraining's binary_logloss: 0.497829\tvalid_1's auc: 0.670174\tvalid_1's binary_logloss: 0.531136\n",
      "[93]\ttraining's auc: 0.673335\ttraining's binary_logloss: 0.497804\tvalid_1's auc: 0.670211\tvalid_1's binary_logloss: 0.531119\n",
      "[94]\ttraining's auc: 0.673372\ttraining's binary_logloss: 0.497778\tvalid_1's auc: 0.670228\tvalid_1's binary_logloss: 0.531105\n",
      "[95]\ttraining's auc: 0.673414\ttraining's binary_logloss: 0.497756\tvalid_1's auc: 0.670248\tvalid_1's binary_logloss: 0.531094\n",
      "[96]\ttraining's auc: 0.673479\ttraining's binary_logloss: 0.497728\tvalid_1's auc: 0.670293\tvalid_1's binary_logloss: 0.531077\n",
      "[97]\ttraining's auc: 0.67354\ttraining's binary_logloss: 0.497704\tvalid_1's auc: 0.670335\tvalid_1's binary_logloss: 0.53106\n",
      "[98]\ttraining's auc: 0.673583\ttraining's binary_logloss: 0.497686\tvalid_1's auc: 0.670364\tvalid_1's binary_logloss: 0.531046\n",
      "[99]\ttraining's auc: 0.673631\ttraining's binary_logloss: 0.497663\tvalid_1's auc: 0.67039\tvalid_1's binary_logloss: 0.531029\n",
      "[100]\ttraining's auc: 0.673685\ttraining's binary_logloss: 0.497642\tvalid_1's auc: 0.670414\tvalid_1's binary_logloss: 0.531018\n",
      "[101]\ttraining's auc: 0.673728\ttraining's binary_logloss: 0.497624\tvalid_1's auc: 0.670426\tvalid_1's binary_logloss: 0.531011\n",
      "[102]\ttraining's auc: 0.673784\ttraining's binary_logloss: 0.4976\tvalid_1's auc: 0.670464\tvalid_1's binary_logloss: 0.530997\n",
      "[103]\ttraining's auc: 0.673835\ttraining's binary_logloss: 0.49758\tvalid_1's auc: 0.670491\tvalid_1's binary_logloss: 0.530983\n",
      "[104]\ttraining's auc: 0.673861\ttraining's binary_logloss: 0.497564\tvalid_1's auc: 0.6705\tvalid_1's binary_logloss: 0.530979\n",
      "[105]\ttraining's auc: 0.673892\ttraining's binary_logloss: 0.497547\tvalid_1's auc: 0.670504\tvalid_1's binary_logloss: 0.530975\n",
      "[106]\ttraining's auc: 0.673931\ttraining's binary_logloss: 0.497531\tvalid_1's auc: 0.670505\tvalid_1's binary_logloss: 0.530973\n",
      "[107]\ttraining's auc: 0.673974\ttraining's binary_logloss: 0.497515\tvalid_1's auc: 0.670514\tvalid_1's binary_logloss: 0.530968\n",
      "[108]\ttraining's auc: 0.674006\ttraining's binary_logloss: 0.497499\tvalid_1's auc: 0.670526\tvalid_1's binary_logloss: 0.530958\n",
      "[109]\ttraining's auc: 0.67404\ttraining's binary_logloss: 0.497482\tvalid_1's auc: 0.670538\tvalid_1's binary_logloss: 0.53095\n",
      "[110]\ttraining's auc: 0.674061\ttraining's binary_logloss: 0.497473\tvalid_1's auc: 0.67054\tvalid_1's binary_logloss: 0.530949\n",
      "[111]\ttraining's auc: 0.674075\ttraining's binary_logloss: 0.497462\tvalid_1's auc: 0.670542\tvalid_1's binary_logloss: 0.530948\n",
      "[112]\ttraining's auc: 0.674113\ttraining's binary_logloss: 0.497448\tvalid_1's auc: 0.670561\tvalid_1's binary_logloss: 0.530938\n",
      "[113]\ttraining's auc: 0.674148\ttraining's binary_logloss: 0.497434\tvalid_1's auc: 0.67058\tvalid_1's binary_logloss: 0.530932\n",
      "[114]\ttraining's auc: 0.674211\ttraining's binary_logloss: 0.497411\tvalid_1's auc: 0.670614\tvalid_1's binary_logloss: 0.530919\n",
      "[115]\ttraining's auc: 0.674258\ttraining's binary_logloss: 0.497395\tvalid_1's auc: 0.670631\tvalid_1's binary_logloss: 0.530914\n",
      "[116]\ttraining's auc: 0.674283\ttraining's binary_logloss: 0.497384\tvalid_1's auc: 0.670631\tvalid_1's binary_logloss: 0.530913\n",
      "[117]\ttraining's auc: 0.674303\ttraining's binary_logloss: 0.49737\tvalid_1's auc: 0.670639\tvalid_1's binary_logloss: 0.530908\n",
      "[118]\ttraining's auc: 0.674328\ttraining's binary_logloss: 0.49736\tvalid_1's auc: 0.67064\tvalid_1's binary_logloss: 0.530908\n",
      "[119]\ttraining's auc: 0.674355\ttraining's binary_logloss: 0.497347\tvalid_1's auc: 0.670649\tvalid_1's binary_logloss: 0.530899\n",
      "[120]\ttraining's auc: 0.674388\ttraining's binary_logloss: 0.497336\tvalid_1's auc: 0.670648\tvalid_1's binary_logloss: 0.530899\n",
      "[121]\ttraining's auc: 0.674419\ttraining's binary_logloss: 0.497324\tvalid_1's auc: 0.670646\tvalid_1's binary_logloss: 0.530898\n",
      "[122]\ttraining's auc: 0.674443\ttraining's binary_logloss: 0.497315\tvalid_1's auc: 0.67065\tvalid_1's binary_logloss: 0.530894\n",
      "[123]\ttraining's auc: 0.67448\ttraining's binary_logloss: 0.497298\tvalid_1's auc: 0.670667\tvalid_1's binary_logloss: 0.530888\n",
      "[124]\ttraining's auc: 0.674504\ttraining's binary_logloss: 0.497287\tvalid_1's auc: 0.670676\tvalid_1's binary_logloss: 0.530884\n",
      "[125]\ttraining's auc: 0.674529\ttraining's binary_logloss: 0.497278\tvalid_1's auc: 0.670672\tvalid_1's binary_logloss: 0.530884\n",
      "[126]\ttraining's auc: 0.674577\ttraining's binary_logloss: 0.49726\tvalid_1's auc: 0.670699\tvalid_1's binary_logloss: 0.530874\n",
      "[127]\ttraining's auc: 0.674596\ttraining's binary_logloss: 0.497252\tvalid_1's auc: 0.6707\tvalid_1's binary_logloss: 0.530874\n",
      "[128]\ttraining's auc: 0.674635\ttraining's binary_logloss: 0.497239\tvalid_1's auc: 0.670707\tvalid_1's binary_logloss: 0.530871\n",
      "[129]\ttraining's auc: 0.67466\ttraining's binary_logloss: 0.497229\tvalid_1's auc: 0.67071\tvalid_1's binary_logloss: 0.530871\n",
      "[130]\ttraining's auc: 0.674703\ttraining's binary_logloss: 0.497208\tvalid_1's auc: 0.670744\tvalid_1's binary_logloss: 0.530856\n",
      "[131]\ttraining's auc: 0.674723\ttraining's binary_logloss: 0.497197\tvalid_1's auc: 0.670746\tvalid_1's binary_logloss: 0.530852\n",
      "[132]\ttraining's auc: 0.674768\ttraining's binary_logloss: 0.497181\tvalid_1's auc: 0.670774\tvalid_1's binary_logloss: 0.530839\n"
     ]
    },
    {
     "name": "stdout",
     "output_type": "stream",
     "text": [
      "[133]\ttraining's auc: 0.674797\ttraining's binary_logloss: 0.49717\tvalid_1's auc: 0.670775\tvalid_1's binary_logloss: 0.530838\n",
      "[134]\ttraining's auc: 0.67482\ttraining's binary_logloss: 0.497162\tvalid_1's auc: 0.670761\tvalid_1's binary_logloss: 0.530843\n",
      "[135]\ttraining's auc: 0.674849\ttraining's binary_logloss: 0.497152\tvalid_1's auc: 0.670766\tvalid_1's binary_logloss: 0.53084\n",
      "[136]\ttraining's auc: 0.674873\ttraining's binary_logloss: 0.497144\tvalid_1's auc: 0.670767\tvalid_1's binary_logloss: 0.530841\n",
      "[137]\ttraining's auc: 0.67489\ttraining's binary_logloss: 0.497136\tvalid_1's auc: 0.670765\tvalid_1's binary_logloss: 0.530842\n",
      "[138]\ttraining's auc: 0.674918\ttraining's binary_logloss: 0.497125\tvalid_1's auc: 0.670764\tvalid_1's binary_logloss: 0.530844\n",
      "[139]\ttraining's auc: 0.674946\ttraining's binary_logloss: 0.497113\tvalid_1's auc: 0.670784\tvalid_1's binary_logloss: 0.530835\n",
      "[140]\ttraining's auc: 0.674965\ttraining's binary_logloss: 0.497106\tvalid_1's auc: 0.670787\tvalid_1's binary_logloss: 0.530834\n",
      "[141]\ttraining's auc: 0.674985\ttraining's binary_logloss: 0.497097\tvalid_1's auc: 0.670775\tvalid_1's binary_logloss: 0.530839\n",
      "[142]\ttraining's auc: 0.675008\ttraining's binary_logloss: 0.497089\tvalid_1's auc: 0.670774\tvalid_1's binary_logloss: 0.530839\n",
      "[143]\ttraining's auc: 0.675044\ttraining's binary_logloss: 0.497073\tvalid_1's auc: 0.670779\tvalid_1's binary_logloss: 0.530837\n",
      "[144]\ttraining's auc: 0.675079\ttraining's binary_logloss: 0.497055\tvalid_1's auc: 0.670793\tvalid_1's binary_logloss: 0.53083\n",
      "[145]\ttraining's auc: 0.675101\ttraining's binary_logloss: 0.497047\tvalid_1's auc: 0.670798\tvalid_1's binary_logloss: 0.530826\n",
      "[146]\ttraining's auc: 0.675131\ttraining's binary_logloss: 0.497036\tvalid_1's auc: 0.6708\tvalid_1's binary_logloss: 0.530824\n",
      "[147]\ttraining's auc: 0.67515\ttraining's binary_logloss: 0.497026\tvalid_1's auc: 0.6708\tvalid_1's binary_logloss: 0.530824\n",
      "[148]\ttraining's auc: 0.67517\ttraining's binary_logloss: 0.497014\tvalid_1's auc: 0.670809\tvalid_1's binary_logloss: 0.530823\n",
      "[149]\ttraining's auc: 0.675192\ttraining's binary_logloss: 0.497005\tvalid_1's auc: 0.670807\tvalid_1's binary_logloss: 0.530822\n",
      "[150]\ttraining's auc: 0.675231\ttraining's binary_logloss: 0.496989\tvalid_1's auc: 0.670828\tvalid_1's binary_logloss: 0.530813\n",
      "[151]\ttraining's auc: 0.675251\ttraining's binary_logloss: 0.496982\tvalid_1's auc: 0.670819\tvalid_1's binary_logloss: 0.530816\n",
      "[152]\ttraining's auc: 0.675271\ttraining's binary_logloss: 0.496973\tvalid_1's auc: 0.670806\tvalid_1's binary_logloss: 0.530818\n",
      "[153]\ttraining's auc: 0.675294\ttraining's binary_logloss: 0.496965\tvalid_1's auc: 0.670791\tvalid_1's binary_logloss: 0.530824\n",
      "[154]\ttraining's auc: 0.675313\ttraining's binary_logloss: 0.496956\tvalid_1's auc: 0.670793\tvalid_1's binary_logloss: 0.530824\n",
      "[155]\ttraining's auc: 0.675327\ttraining's binary_logloss: 0.49695\tvalid_1's auc: 0.670791\tvalid_1's binary_logloss: 0.530825\n",
      "[156]\ttraining's auc: 0.675349\ttraining's binary_logloss: 0.496942\tvalid_1's auc: 0.670793\tvalid_1's binary_logloss: 0.530823\n",
      "[157]\ttraining's auc: 0.675361\ttraining's binary_logloss: 0.496936\tvalid_1's auc: 0.670797\tvalid_1's binary_logloss: 0.530822\n",
      "[158]\ttraining's auc: 0.675395\ttraining's binary_logloss: 0.496922\tvalid_1's auc: 0.67083\tvalid_1's binary_logloss: 0.530807\n",
      "[159]\ttraining's auc: 0.67542\ttraining's binary_logloss: 0.496913\tvalid_1's auc: 0.670819\tvalid_1's binary_logloss: 0.53081\n",
      "[160]\ttraining's auc: 0.675462\ttraining's binary_logloss: 0.496896\tvalid_1's auc: 0.670854\tvalid_1's binary_logloss: 0.530796\n",
      "[161]\ttraining's auc: 0.675482\ttraining's binary_logloss: 0.496882\tvalid_1's auc: 0.670872\tvalid_1's binary_logloss: 0.530788\n",
      "[162]\ttraining's auc: 0.675502\ttraining's binary_logloss: 0.496874\tvalid_1's auc: 0.670885\tvalid_1's binary_logloss: 0.530785\n",
      "[163]\ttraining's auc: 0.675518\ttraining's binary_logloss: 0.496868\tvalid_1's auc: 0.670891\tvalid_1's binary_logloss: 0.530783\n",
      "[164]\ttraining's auc: 0.675538\ttraining's binary_logloss: 0.496862\tvalid_1's auc: 0.670885\tvalid_1's binary_logloss: 0.530783\n",
      "[165]\ttraining's auc: 0.675549\ttraining's binary_logloss: 0.496856\tvalid_1's auc: 0.670887\tvalid_1's binary_logloss: 0.530783\n",
      "[166]\ttraining's auc: 0.675582\ttraining's binary_logloss: 0.496843\tvalid_1's auc: 0.670906\tvalid_1's binary_logloss: 0.530774\n",
      "[167]\ttraining's auc: 0.675609\ttraining's binary_logloss: 0.496831\tvalid_1's auc: 0.670917\tvalid_1's binary_logloss: 0.530769\n",
      "[168]\ttraining's auc: 0.675631\ttraining's binary_logloss: 0.496822\tvalid_1's auc: 0.670923\tvalid_1's binary_logloss: 0.530766\n",
      "[169]\ttraining's auc: 0.675655\ttraining's binary_logloss: 0.496813\tvalid_1's auc: 0.670926\tvalid_1's binary_logloss: 0.530765\n",
      "[170]\ttraining's auc: 0.675664\ttraining's binary_logloss: 0.496803\tvalid_1's auc: 0.670927\tvalid_1's binary_logloss: 0.530767\n",
      "[171]\ttraining's auc: 0.675702\ttraining's binary_logloss: 0.496789\tvalid_1's auc: 0.67095\tvalid_1's binary_logloss: 0.530756\n",
      "[172]\ttraining's auc: 0.675726\ttraining's binary_logloss: 0.496779\tvalid_1's auc: 0.670949\tvalid_1's binary_logloss: 0.530756\n",
      "[173]\ttraining's auc: 0.675746\ttraining's binary_logloss: 0.496772\tvalid_1's auc: 0.670952\tvalid_1's binary_logloss: 0.530756\n",
      "[174]\ttraining's auc: 0.67578\ttraining's binary_logloss: 0.49676\tvalid_1's auc: 0.67098\tvalid_1's binary_logloss: 0.530745\n",
      "[175]\ttraining's auc: 0.675787\ttraining's binary_logloss: 0.496755\tvalid_1's auc: 0.670973\tvalid_1's binary_logloss: 0.530748\n",
      "[176]\ttraining's auc: 0.675808\ttraining's binary_logloss: 0.496747\tvalid_1's auc: 0.67098\tvalid_1's binary_logloss: 0.530745\n",
      "[177]\ttraining's auc: 0.675825\ttraining's binary_logloss: 0.496736\tvalid_1's auc: 0.670985\tvalid_1's binary_logloss: 0.53074\n",
      "[178]\ttraining's auc: 0.675846\ttraining's binary_logloss: 0.496728\tvalid_1's auc: 0.670985\tvalid_1's binary_logloss: 0.53074\n",
      "[179]\ttraining's auc: 0.67587\ttraining's binary_logloss: 0.49672\tvalid_1's auc: 0.670992\tvalid_1's binary_logloss: 0.530739\n",
      "[180]\ttraining's auc: 0.675882\ttraining's binary_logloss: 0.496713\tvalid_1's auc: 0.670998\tvalid_1's binary_logloss: 0.530735\n",
      "[181]\ttraining's auc: 0.675899\ttraining's binary_logloss: 0.496707\tvalid_1's auc: 0.67099\tvalid_1's binary_logloss: 0.530738\n",
      "[182]\ttraining's auc: 0.675919\ttraining's binary_logloss: 0.496699\tvalid_1's auc: 0.670981\tvalid_1's binary_logloss: 0.53074\n",
      "[183]\ttraining's auc: 0.675959\ttraining's binary_logloss: 0.496685\tvalid_1's auc: 0.670992\tvalid_1's binary_logloss: 0.530736\n",
      "[184]\ttraining's auc: 0.675986\ttraining's binary_logloss: 0.496676\tvalid_1's auc: 0.670999\tvalid_1's binary_logloss: 0.530732\n",
      "[185]\ttraining's auc: 0.676004\ttraining's binary_logloss: 0.496668\tvalid_1's auc: 0.671001\tvalid_1's binary_logloss: 0.530732\n",
      "[186]\ttraining's auc: 0.67602\ttraining's binary_logloss: 0.496661\tvalid_1's auc: 0.670998\tvalid_1's binary_logloss: 0.530732\n",
      "[187]\ttraining's auc: 0.676037\ttraining's binary_logloss: 0.496653\tvalid_1's auc: 0.670987\tvalid_1's binary_logloss: 0.530735\n",
      "[188]\ttraining's auc: 0.676055\ttraining's binary_logloss: 0.496647\tvalid_1's auc: 0.670987\tvalid_1's binary_logloss: 0.530735\n",
      "[189]\ttraining's auc: 0.676075\ttraining's binary_logloss: 0.49664\tvalid_1's auc: 0.670985\tvalid_1's binary_logloss: 0.530735\n",
      "[190]\ttraining's auc: 0.676096\ttraining's binary_logloss: 0.496632\tvalid_1's auc: 0.670976\tvalid_1's binary_logloss: 0.530738\n",
      "[191]\ttraining's auc: 0.676103\ttraining's binary_logloss: 0.496628\tvalid_1's auc: 0.67098\tvalid_1's binary_logloss: 0.530737\n",
      "[192]\ttraining's auc: 0.676129\ttraining's binary_logloss: 0.496619\tvalid_1's auc: 0.67098\tvalid_1's binary_logloss: 0.530736\n",
      "[193]\ttraining's auc: 0.676152\ttraining's binary_logloss: 0.496612\tvalid_1's auc: 0.670983\tvalid_1's binary_logloss: 0.530736\n",
      "[194]\ttraining's auc: 0.676178\ttraining's binary_logloss: 0.496603\tvalid_1's auc: 0.670988\tvalid_1's binary_logloss: 0.530733\n",
      "[195]\ttraining's auc: 0.676194\ttraining's binary_logloss: 0.496593\tvalid_1's auc: 0.67099\tvalid_1's binary_logloss: 0.530732\n",
      "[196]\ttraining's auc: 0.676207\ttraining's binary_logloss: 0.496587\tvalid_1's auc: 0.67098\tvalid_1's binary_logloss: 0.530734\n",
      "[197]\ttraining's auc: 0.676224\ttraining's binary_logloss: 0.496579\tvalid_1's auc: 0.670961\tvalid_1's binary_logloss: 0.530742\n",
      "[198]\ttraining's auc: 0.676242\ttraining's binary_logloss: 0.496571\tvalid_1's auc: 0.67097\tvalid_1's binary_logloss: 0.530741\n"
     ]
    },
    {
     "name": "stdout",
     "output_type": "stream",
     "text": [
      "[199]\ttraining's auc: 0.676263\ttraining's binary_logloss: 0.496564\tvalid_1's auc: 0.67097\tvalid_1's binary_logloss: 0.530741\n",
      "[200]\ttraining's auc: 0.676294\ttraining's binary_logloss: 0.496551\tvalid_1's auc: 0.670991\tvalid_1's binary_logloss: 0.530732\n",
      "[201]\ttraining's auc: 0.676312\ttraining's binary_logloss: 0.496545\tvalid_1's auc: 0.670985\tvalid_1's binary_logloss: 0.530733\n",
      "[202]\ttraining's auc: 0.676331\ttraining's binary_logloss: 0.496537\tvalid_1's auc: 0.670987\tvalid_1's binary_logloss: 0.530732\n",
      "[203]\ttraining's auc: 0.676351\ttraining's binary_logloss: 0.49653\tvalid_1's auc: 0.670979\tvalid_1's binary_logloss: 0.530734\n",
      "[204]\ttraining's auc: 0.676398\ttraining's binary_logloss: 0.496509\tvalid_1's auc: 0.671012\tvalid_1's binary_logloss: 0.530719\n",
      "[205]\ttraining's auc: 0.676414\ttraining's binary_logloss: 0.496503\tvalid_1's auc: 0.671011\tvalid_1's binary_logloss: 0.530719\n",
      "[206]\ttraining's auc: 0.676436\ttraining's binary_logloss: 0.496489\tvalid_1's auc: 0.67101\tvalid_1's binary_logloss: 0.53072\n",
      "[207]\ttraining's auc: 0.676467\ttraining's binary_logloss: 0.496477\tvalid_1's auc: 0.67103\tvalid_1's binary_logloss: 0.530712\n",
      "[208]\ttraining's auc: 0.676493\ttraining's binary_logloss: 0.49647\tvalid_1's auc: 0.671027\tvalid_1's binary_logloss: 0.530713\n",
      "[209]\ttraining's auc: 0.67651\ttraining's binary_logloss: 0.496461\tvalid_1's auc: 0.671027\tvalid_1's binary_logloss: 0.530713\n",
      "[210]\ttraining's auc: 0.67653\ttraining's binary_logloss: 0.496455\tvalid_1's auc: 0.671027\tvalid_1's binary_logloss: 0.530713\n",
      "[211]\ttraining's auc: 0.676548\ttraining's binary_logloss: 0.496448\tvalid_1's auc: 0.671026\tvalid_1's binary_logloss: 0.530713\n",
      "[212]\ttraining's auc: 0.676578\ttraining's binary_logloss: 0.496437\tvalid_1's auc: 0.671027\tvalid_1's binary_logloss: 0.53071\n",
      "[213]\ttraining's auc: 0.676598\ttraining's binary_logloss: 0.496431\tvalid_1's auc: 0.671033\tvalid_1's binary_logloss: 0.530709\n",
      "[214]\ttraining's auc: 0.67662\ttraining's binary_logloss: 0.496422\tvalid_1's auc: 0.671038\tvalid_1's binary_logloss: 0.530708\n",
      "[215]\ttraining's auc: 0.676646\ttraining's binary_logloss: 0.496414\tvalid_1's auc: 0.671038\tvalid_1's binary_logloss: 0.530708\n",
      "[216]\ttraining's auc: 0.67666\ttraining's binary_logloss: 0.496408\tvalid_1's auc: 0.671039\tvalid_1's binary_logloss: 0.530708\n",
      "[217]\ttraining's auc: 0.67668\ttraining's binary_logloss: 0.496396\tvalid_1's auc: 0.671038\tvalid_1's binary_logloss: 0.530709\n",
      "[218]\ttraining's auc: 0.6767\ttraining's binary_logloss: 0.496388\tvalid_1's auc: 0.671041\tvalid_1's binary_logloss: 0.530708\n",
      "[219]\ttraining's auc: 0.676722\ttraining's binary_logloss: 0.496381\tvalid_1's auc: 0.671049\tvalid_1's binary_logloss: 0.530705\n",
      "[220]\ttraining's auc: 0.676748\ttraining's binary_logloss: 0.496372\tvalid_1's auc: 0.671075\tvalid_1's binary_logloss: 0.530693\n",
      "[221]\ttraining's auc: 0.676762\ttraining's binary_logloss: 0.496365\tvalid_1's auc: 0.671075\tvalid_1's binary_logloss: 0.530693\n",
      "[222]\ttraining's auc: 0.676778\ttraining's binary_logloss: 0.496358\tvalid_1's auc: 0.671075\tvalid_1's binary_logloss: 0.530692\n",
      "[223]\ttraining's auc: 0.676801\ttraining's binary_logloss: 0.49635\tvalid_1's auc: 0.67107\tvalid_1's binary_logloss: 0.530694\n",
      "[224]\ttraining's auc: 0.676819\ttraining's binary_logloss: 0.496343\tvalid_1's auc: 0.671056\tvalid_1's binary_logloss: 0.5307\n",
      "[225]\ttraining's auc: 0.676843\ttraining's binary_logloss: 0.496335\tvalid_1's auc: 0.671056\tvalid_1's binary_logloss: 0.5307\n",
      "[226]\ttraining's auc: 0.676858\ttraining's binary_logloss: 0.496327\tvalid_1's auc: 0.67106\tvalid_1's binary_logloss: 0.530697\n",
      "[227]\ttraining's auc: 0.676876\ttraining's binary_logloss: 0.496321\tvalid_1's auc: 0.671057\tvalid_1's binary_logloss: 0.530696\n",
      "[228]\ttraining's auc: 0.676887\ttraining's binary_logloss: 0.496315\tvalid_1's auc: 0.671054\tvalid_1's binary_logloss: 0.530697\n",
      "[229]\ttraining's auc: 0.676899\ttraining's binary_logloss: 0.496309\tvalid_1's auc: 0.671055\tvalid_1's binary_logloss: 0.530696\n",
      "[230]\ttraining's auc: 0.676931\ttraining's binary_logloss: 0.496296\tvalid_1's auc: 0.671051\tvalid_1's binary_logloss: 0.530695\n",
      "[231]\ttraining's auc: 0.676945\ttraining's binary_logloss: 0.49629\tvalid_1's auc: 0.671056\tvalid_1's binary_logloss: 0.530694\n",
      "[232]\ttraining's auc: 0.676965\ttraining's binary_logloss: 0.496283\tvalid_1's auc: 0.671045\tvalid_1's binary_logloss: 0.530698\n",
      "[233]\ttraining's auc: 0.676988\ttraining's binary_logloss: 0.496274\tvalid_1's auc: 0.671039\tvalid_1's binary_logloss: 0.530699\n",
      "[234]\ttraining's auc: 0.677001\ttraining's binary_logloss: 0.496269\tvalid_1's auc: 0.671039\tvalid_1's binary_logloss: 0.530699\n",
      "[235]\ttraining's auc: 0.677023\ttraining's binary_logloss: 0.49626\tvalid_1's auc: 0.671053\tvalid_1's binary_logloss: 0.530693\n",
      "[236]\ttraining's auc: 0.67704\ttraining's binary_logloss: 0.496254\tvalid_1's auc: 0.671051\tvalid_1's binary_logloss: 0.530694\n",
      "[237]\ttraining's auc: 0.677057\ttraining's binary_logloss: 0.496248\tvalid_1's auc: 0.671036\tvalid_1's binary_logloss: 0.530698\n",
      "[238]\ttraining's auc: 0.677087\ttraining's binary_logloss: 0.496236\tvalid_1's auc: 0.671032\tvalid_1's binary_logloss: 0.530698\n",
      "[239]\ttraining's auc: 0.677112\ttraining's binary_logloss: 0.496226\tvalid_1's auc: 0.671047\tvalid_1's binary_logloss: 0.530691\n",
      "[240]\ttraining's auc: 0.677129\ttraining's binary_logloss: 0.496219\tvalid_1's auc: 0.671046\tvalid_1's binary_logloss: 0.530691\n",
      "[241]\ttraining's auc: 0.677146\ttraining's binary_logloss: 0.496212\tvalid_1's auc: 0.671046\tvalid_1's binary_logloss: 0.530691\n",
      "[242]\ttraining's auc: 0.677181\ttraining's binary_logloss: 0.4962\tvalid_1's auc: 0.671058\tvalid_1's binary_logloss: 0.530688\n",
      "[243]\ttraining's auc: 0.677204\ttraining's binary_logloss: 0.496191\tvalid_1's auc: 0.671073\tvalid_1's binary_logloss: 0.530682\n",
      "[244]\ttraining's auc: 0.677228\ttraining's binary_logloss: 0.496182\tvalid_1's auc: 0.671077\tvalid_1's binary_logloss: 0.530681\n",
      "[245]\ttraining's auc: 0.67725\ttraining's binary_logloss: 0.496173\tvalid_1's auc: 0.671092\tvalid_1's binary_logloss: 0.530674\n",
      "[246]\ttraining's auc: 0.677266\ttraining's binary_logloss: 0.496166\tvalid_1's auc: 0.671082\tvalid_1's binary_logloss: 0.530678\n",
      "[247]\ttraining's auc: 0.677277\ttraining's binary_logloss: 0.49616\tvalid_1's auc: 0.671085\tvalid_1's binary_logloss: 0.530677\n",
      "[248]\ttraining's auc: 0.677284\ttraining's binary_logloss: 0.496157\tvalid_1's auc: 0.671086\tvalid_1's binary_logloss: 0.530677\n",
      "[249]\ttraining's auc: 0.677306\ttraining's binary_logloss: 0.496148\tvalid_1's auc: 0.671096\tvalid_1's binary_logloss: 0.530672\n",
      "[250]\ttraining's auc: 0.677344\ttraining's binary_logloss: 0.49613\tvalid_1's auc: 0.671132\tvalid_1's binary_logloss: 0.530657\n",
      "[251]\ttraining's auc: 0.677361\ttraining's binary_logloss: 0.496119\tvalid_1's auc: 0.671129\tvalid_1's binary_logloss: 0.530659\n",
      "[252]\ttraining's auc: 0.67738\ttraining's binary_logloss: 0.496112\tvalid_1's auc: 0.671137\tvalid_1's binary_logloss: 0.530656\n",
      "[253]\ttraining's auc: 0.677398\ttraining's binary_logloss: 0.496105\tvalid_1's auc: 0.67114\tvalid_1's binary_logloss: 0.530656\n",
      "[254]\ttraining's auc: 0.677413\ttraining's binary_logloss: 0.496098\tvalid_1's auc: 0.671135\tvalid_1's binary_logloss: 0.530658\n",
      "[255]\ttraining's auc: 0.677435\ttraining's binary_logloss: 0.496089\tvalid_1's auc: 0.671129\tvalid_1's binary_logloss: 0.530661\n",
      "[256]\ttraining's auc: 0.677451\ttraining's binary_logloss: 0.496082\tvalid_1's auc: 0.671129\tvalid_1's binary_logloss: 0.53066\n",
      "[257]\ttraining's auc: 0.677477\ttraining's binary_logloss: 0.496074\tvalid_1's auc: 0.671126\tvalid_1's binary_logloss: 0.530661\n",
      "[258]\ttraining's auc: 0.677493\ttraining's binary_logloss: 0.496068\tvalid_1's auc: 0.671115\tvalid_1's binary_logloss: 0.530665\n",
      "[259]\ttraining's auc: 0.677502\ttraining's binary_logloss: 0.496063\tvalid_1's auc: 0.671116\tvalid_1's binary_logloss: 0.530665\n",
      "[260]\ttraining's auc: 0.67752\ttraining's binary_logloss: 0.496057\tvalid_1's auc: 0.671108\tvalid_1's binary_logloss: 0.530668\n",
      "[261]\ttraining's auc: 0.677543\ttraining's binary_logloss: 0.496049\tvalid_1's auc: 0.671113\tvalid_1's binary_logloss: 0.530667\n",
      "[262]\ttraining's auc: 0.677564\ttraining's binary_logloss: 0.496043\tvalid_1's auc: 0.671095\tvalid_1's binary_logloss: 0.530673\n",
      "[263]\ttraining's auc: 0.677577\ttraining's binary_logloss: 0.496037\tvalid_1's auc: 0.671095\tvalid_1's binary_logloss: 0.530674\n",
      "[264]\ttraining's auc: 0.677595\ttraining's binary_logloss: 0.496031\tvalid_1's auc: 0.671099\tvalid_1's binary_logloss: 0.530672\n",
      "[265]\ttraining's auc: 0.677611\ttraining's binary_logloss: 0.496025\tvalid_1's auc: 0.671099\tvalid_1's binary_logloss: 0.530672\n"
     ]
    },
    {
     "name": "stdout",
     "output_type": "stream",
     "text": [
      "[266]\ttraining's auc: 0.677625\ttraining's binary_logloss: 0.496019\tvalid_1's auc: 0.671092\tvalid_1's binary_logloss: 0.530674\n",
      "[267]\ttraining's auc: 0.67764\ttraining's binary_logloss: 0.496013\tvalid_1's auc: 0.671092\tvalid_1's binary_logloss: 0.530674\n",
      "[268]\ttraining's auc: 0.677672\ttraining's binary_logloss: 0.496\tvalid_1's auc: 0.671112\tvalid_1's binary_logloss: 0.530665\n",
      "[269]\ttraining's auc: 0.677681\ttraining's binary_logloss: 0.495995\tvalid_1's auc: 0.671117\tvalid_1's binary_logloss: 0.530663\n",
      "[270]\ttraining's auc: 0.677702\ttraining's binary_logloss: 0.495986\tvalid_1's auc: 0.671118\tvalid_1's binary_logloss: 0.530661\n",
      "[271]\ttraining's auc: 0.677716\ttraining's binary_logloss: 0.49598\tvalid_1's auc: 0.671113\tvalid_1's binary_logloss: 0.530664\n",
      "[272]\ttraining's auc: 0.677739\ttraining's binary_logloss: 0.495972\tvalid_1's auc: 0.671109\tvalid_1's binary_logloss: 0.530665\n",
      "[273]\ttraining's auc: 0.677755\ttraining's binary_logloss: 0.495966\tvalid_1's auc: 0.671109\tvalid_1's binary_logloss: 0.530665\n",
      "[274]\ttraining's auc: 0.677772\ttraining's binary_logloss: 0.495958\tvalid_1's auc: 0.671116\tvalid_1's binary_logloss: 0.53066\n",
      "[275]\ttraining's auc: 0.677788\ttraining's binary_logloss: 0.495947\tvalid_1's auc: 0.671114\tvalid_1's binary_logloss: 0.53066\n",
      "[276]\ttraining's auc: 0.677803\ttraining's binary_logloss: 0.49594\tvalid_1's auc: 0.671113\tvalid_1's binary_logloss: 0.530661\n",
      "[277]\ttraining's auc: 0.677821\ttraining's binary_logloss: 0.495932\tvalid_1's auc: 0.671119\tvalid_1's binary_logloss: 0.530657\n",
      "[278]\ttraining's auc: 0.677841\ttraining's binary_logloss: 0.495924\tvalid_1's auc: 0.671108\tvalid_1's binary_logloss: 0.53066\n",
      "[279]\ttraining's auc: 0.677862\ttraining's binary_logloss: 0.495916\tvalid_1's auc: 0.671113\tvalid_1's binary_logloss: 0.53066\n",
      "[280]\ttraining's auc: 0.677878\ttraining's binary_logloss: 0.49591\tvalid_1's auc: 0.671104\tvalid_1's binary_logloss: 0.530664\n",
      "[281]\ttraining's auc: 0.677899\ttraining's binary_logloss: 0.495902\tvalid_1's auc: 0.671099\tvalid_1's binary_logloss: 0.530667\n",
      "[282]\ttraining's auc: 0.677912\ttraining's binary_logloss: 0.495897\tvalid_1's auc: 0.671099\tvalid_1's binary_logloss: 0.530667\n",
      "[283]\ttraining's auc: 0.677919\ttraining's binary_logloss: 0.495893\tvalid_1's auc: 0.671095\tvalid_1's binary_logloss: 0.530668\n",
      "[284]\ttraining's auc: 0.677938\ttraining's binary_logloss: 0.495886\tvalid_1's auc: 0.671092\tvalid_1's binary_logloss: 0.53067\n",
      "[285]\ttraining's auc: 0.677958\ttraining's binary_logloss: 0.49588\tvalid_1's auc: 0.671088\tvalid_1's binary_logloss: 0.530671\n",
      "[286]\ttraining's auc: 0.67798\ttraining's binary_logloss: 0.495872\tvalid_1's auc: 0.671088\tvalid_1's binary_logloss: 0.530671\n",
      "[287]\ttraining's auc: 0.67801\ttraining's binary_logloss: 0.495859\tvalid_1's auc: 0.671097\tvalid_1's binary_logloss: 0.530668\n",
      "[288]\ttraining's auc: 0.678043\ttraining's binary_logloss: 0.495848\tvalid_1's auc: 0.671095\tvalid_1's binary_logloss: 0.530667\n",
      "[289]\ttraining's auc: 0.678067\ttraining's binary_logloss: 0.495841\tvalid_1's auc: 0.671095\tvalid_1's binary_logloss: 0.530667\n",
      "[290]\ttraining's auc: 0.678085\ttraining's binary_logloss: 0.495835\tvalid_1's auc: 0.6711\tvalid_1's binary_logloss: 0.530669\n",
      "[291]\ttraining's auc: 0.678106\ttraining's binary_logloss: 0.495827\tvalid_1's auc: 0.671101\tvalid_1's binary_logloss: 0.530668\n",
      "[292]\ttraining's auc: 0.678125\ttraining's binary_logloss: 0.495821\tvalid_1's auc: 0.671104\tvalid_1's binary_logloss: 0.530668\n",
      "[293]\ttraining's auc: 0.678132\ttraining's binary_logloss: 0.495816\tvalid_1's auc: 0.671109\tvalid_1's binary_logloss: 0.530665\n",
      "[294]\ttraining's auc: 0.678148\ttraining's binary_logloss: 0.49581\tvalid_1's auc: 0.671107\tvalid_1's binary_logloss: 0.530666\n",
      "[295]\ttraining's auc: 0.678169\ttraining's binary_logloss: 0.495803\tvalid_1's auc: 0.671107\tvalid_1's binary_logloss: 0.530667\n",
      "[296]\ttraining's auc: 0.678189\ttraining's binary_logloss: 0.495796\tvalid_1's auc: 0.671124\tvalid_1's binary_logloss: 0.530662\n",
      "[297]\ttraining's auc: 0.678207\ttraining's binary_logloss: 0.495789\tvalid_1's auc: 0.671124\tvalid_1's binary_logloss: 0.530662\n",
      "[298]\ttraining's auc: 0.678224\ttraining's binary_logloss: 0.495783\tvalid_1's auc: 0.671118\tvalid_1's binary_logloss: 0.530664\n",
      "[299]\ttraining's auc: 0.678241\ttraining's binary_logloss: 0.495776\tvalid_1's auc: 0.671121\tvalid_1's binary_logloss: 0.530663\n",
      "[300]\ttraining's auc: 0.678256\ttraining's binary_logloss: 0.49577\tvalid_1's auc: 0.671119\tvalid_1's binary_logloss: 0.530664\n",
      "[301]\ttraining's auc: 0.678283\ttraining's binary_logloss: 0.495759\tvalid_1's auc: 0.671115\tvalid_1's binary_logloss: 0.530663\n",
      "[302]\ttraining's auc: 0.678298\ttraining's binary_logloss: 0.495752\tvalid_1's auc: 0.671112\tvalid_1's binary_logloss: 0.530666\n",
      "[303]\ttraining's auc: 0.678317\ttraining's binary_logloss: 0.495745\tvalid_1's auc: 0.67111\tvalid_1's binary_logloss: 0.530667\n",
      "[304]\ttraining's auc: 0.678339\ttraining's binary_logloss: 0.495738\tvalid_1's auc: 0.67111\tvalid_1's binary_logloss: 0.530667\n",
      "[305]\ttraining's auc: 0.678361\ttraining's binary_logloss: 0.49573\tvalid_1's auc: 0.671111\tvalid_1's binary_logloss: 0.530666\n",
      "[306]\ttraining's auc: 0.678376\ttraining's binary_logloss: 0.495725\tvalid_1's auc: 0.671106\tvalid_1's binary_logloss: 0.530668\n",
      "[307]\ttraining's auc: 0.678393\ttraining's binary_logloss: 0.495718\tvalid_1's auc: 0.671105\tvalid_1's binary_logloss: 0.530668\n",
      "[308]\ttraining's auc: 0.678404\ttraining's binary_logloss: 0.495712\tvalid_1's auc: 0.67104\tvalid_1's binary_logloss: 0.530697\n",
      "[309]\ttraining's auc: 0.67841\ttraining's binary_logloss: 0.495709\tvalid_1's auc: 0.67104\tvalid_1's binary_logloss: 0.530697\n",
      "[310]\ttraining's auc: 0.67844\ttraining's binary_logloss: 0.495697\tvalid_1's auc: 0.671053\tvalid_1's binary_logloss: 0.530692\n",
      "[311]\ttraining's auc: 0.678467\ttraining's binary_logloss: 0.495686\tvalid_1's auc: 0.671067\tvalid_1's binary_logloss: 0.530684\n",
      "[312]\ttraining's auc: 0.678485\ttraining's binary_logloss: 0.495679\tvalid_1's auc: 0.67107\tvalid_1's binary_logloss: 0.530684\n",
      "[313]\ttraining's auc: 0.678512\ttraining's binary_logloss: 0.495669\tvalid_1's auc: 0.671061\tvalid_1's binary_logloss: 0.530686\n",
      "[314]\ttraining's auc: 0.678532\ttraining's binary_logloss: 0.495661\tvalid_1's auc: 0.671063\tvalid_1's binary_logloss: 0.530684\n",
      "[315]\ttraining's auc: 0.678552\ttraining's binary_logloss: 0.495655\tvalid_1's auc: 0.671055\tvalid_1's binary_logloss: 0.530686\n",
      "[316]\ttraining's auc: 0.678576\ttraining's binary_logloss: 0.495647\tvalid_1's auc: 0.671055\tvalid_1's binary_logloss: 0.530686\n",
      "[317]\ttraining's auc: 0.678592\ttraining's binary_logloss: 0.49564\tvalid_1's auc: 0.671058\tvalid_1's binary_logloss: 0.530683\n",
      "[318]\ttraining's auc: 0.678609\ttraining's binary_logloss: 0.495633\tvalid_1's auc: 0.671056\tvalid_1's binary_logloss: 0.530684\n",
      "[319]\ttraining's auc: 0.678627\ttraining's binary_logloss: 0.495627\tvalid_1's auc: 0.671056\tvalid_1's binary_logloss: 0.530684\n",
      "[320]\ttraining's auc: 0.678656\ttraining's binary_logloss: 0.495616\tvalid_1's auc: 0.671054\tvalid_1's binary_logloss: 0.530684\n",
      "[321]\ttraining's auc: 0.678677\ttraining's binary_logloss: 0.495609\tvalid_1's auc: 0.671057\tvalid_1's binary_logloss: 0.530684\n",
      "[322]\ttraining's auc: 0.678697\ttraining's binary_logloss: 0.495602\tvalid_1's auc: 0.671057\tvalid_1's binary_logloss: 0.530684\n",
      "[323]\ttraining's auc: 0.678723\ttraining's binary_logloss: 0.495592\tvalid_1's auc: 0.671064\tvalid_1's binary_logloss: 0.53068\n",
      "[324]\ttraining's auc: 0.678742\ttraining's binary_logloss: 0.495584\tvalid_1's auc: 0.671076\tvalid_1's binary_logloss: 0.530676\n",
      "[325]\ttraining's auc: 0.678751\ttraining's binary_logloss: 0.495579\tvalid_1's auc: 0.67108\tvalid_1's binary_logloss: 0.530676\n",
      "[326]\ttraining's auc: 0.678769\ttraining's binary_logloss: 0.495572\tvalid_1's auc: 0.671078\tvalid_1's binary_logloss: 0.530677\n",
      "[327]\ttraining's auc: 0.678791\ttraining's binary_logloss: 0.495565\tvalid_1's auc: 0.671079\tvalid_1's binary_logloss: 0.530677\n",
      "[328]\ttraining's auc: 0.678816\ttraining's binary_logloss: 0.495557\tvalid_1's auc: 0.671086\tvalid_1's binary_logloss: 0.530675\n",
      "[329]\ttraining's auc: 0.678837\ttraining's binary_logloss: 0.495547\tvalid_1's auc: 0.671089\tvalid_1's binary_logloss: 0.530673\n",
      "[330]\ttraining's auc: 0.678854\ttraining's binary_logloss: 0.49554\tvalid_1's auc: 0.67109\tvalid_1's binary_logloss: 0.530673\n",
      "[331]\ttraining's auc: 0.678873\ttraining's binary_logloss: 0.495533\tvalid_1's auc: 0.671087\tvalid_1's binary_logloss: 0.530673\n",
      "[332]\ttraining's auc: 0.678892\ttraining's binary_logloss: 0.495526\tvalid_1's auc: 0.671085\tvalid_1's binary_logloss: 0.530675\n"
     ]
    },
    {
     "name": "stdout",
     "output_type": "stream",
     "text": [
      "[333]\ttraining's auc: 0.678921\ttraining's binary_logloss: 0.495513\tvalid_1's auc: 0.671107\tvalid_1's binary_logloss: 0.530665\n",
      "[334]\ttraining's auc: 0.678937\ttraining's binary_logloss: 0.495507\tvalid_1's auc: 0.671081\tvalid_1's binary_logloss: 0.530676\n",
      "[335]\ttraining's auc: 0.678958\ttraining's binary_logloss: 0.495498\tvalid_1's auc: 0.671081\tvalid_1's binary_logloss: 0.530676\n",
      "[336]\ttraining's auc: 0.678976\ttraining's binary_logloss: 0.495491\tvalid_1's auc: 0.671081\tvalid_1's binary_logloss: 0.530676\n",
      "[337]\ttraining's auc: 0.678999\ttraining's binary_logloss: 0.495483\tvalid_1's auc: 0.671083\tvalid_1's binary_logloss: 0.530676\n",
      "[338]\ttraining's auc: 0.679018\ttraining's binary_logloss: 0.495475\tvalid_1's auc: 0.671077\tvalid_1's binary_logloss: 0.530678\n",
      "[339]\ttraining's auc: 0.679036\ttraining's binary_logloss: 0.495468\tvalid_1's auc: 0.671034\tvalid_1's binary_logloss: 0.530692\n",
      "[340]\ttraining's auc: 0.679049\ttraining's binary_logloss: 0.495464\tvalid_1's auc: 0.671032\tvalid_1's binary_logloss: 0.530693\n",
      "[341]\ttraining's auc: 0.679065\ttraining's binary_logloss: 0.495457\tvalid_1's auc: 0.671035\tvalid_1's binary_logloss: 0.530691\n",
      "[342]\ttraining's auc: 0.679087\ttraining's binary_logloss: 0.495447\tvalid_1's auc: 0.671033\tvalid_1's binary_logloss: 0.530692\n",
      "[343]\ttraining's auc: 0.679102\ttraining's binary_logloss: 0.495441\tvalid_1's auc: 0.671031\tvalid_1's binary_logloss: 0.530693\n",
      "[344]\ttraining's auc: 0.679123\ttraining's binary_logloss: 0.495434\tvalid_1's auc: 0.671034\tvalid_1's binary_logloss: 0.530692\n",
      "[345]\ttraining's auc: 0.679148\ttraining's binary_logloss: 0.495423\tvalid_1's auc: 0.671032\tvalid_1's binary_logloss: 0.530692\n",
      "[346]\ttraining's auc: 0.679167\ttraining's binary_logloss: 0.495417\tvalid_1's auc: 0.671032\tvalid_1's binary_logloss: 0.530692\n",
      "[347]\ttraining's auc: 0.679187\ttraining's binary_logloss: 0.495409\tvalid_1's auc: 0.671032\tvalid_1's binary_logloss: 0.530692\n",
      "[348]\ttraining's auc: 0.679212\ttraining's binary_logloss: 0.495402\tvalid_1's auc: 0.671031\tvalid_1's binary_logloss: 0.530692\n",
      "[349]\ttraining's auc: 0.679229\ttraining's binary_logloss: 0.495394\tvalid_1's auc: 0.671027\tvalid_1's binary_logloss: 0.530692\n",
      "[350]\ttraining's auc: 0.679251\ttraining's binary_logloss: 0.495386\tvalid_1's auc: 0.67103\tvalid_1's binary_logloss: 0.530692\n",
      "[351]\ttraining's auc: 0.679269\ttraining's binary_logloss: 0.49538\tvalid_1's auc: 0.67103\tvalid_1's binary_logloss: 0.530692\n",
      "[352]\ttraining's auc: 0.679276\ttraining's binary_logloss: 0.495377\tvalid_1's auc: 0.671031\tvalid_1's binary_logloss: 0.530691\n",
      "[353]\ttraining's auc: 0.679282\ttraining's binary_logloss: 0.495373\tvalid_1's auc: 0.671029\tvalid_1's binary_logloss: 0.530693\n",
      "[354]\ttraining's auc: 0.6793\ttraining's binary_logloss: 0.495367\tvalid_1's auc: 0.671031\tvalid_1's binary_logloss: 0.530692\n",
      "[355]\ttraining's auc: 0.67932\ttraining's binary_logloss: 0.495357\tvalid_1's auc: 0.671033\tvalid_1's binary_logloss: 0.530691\n",
      "[356]\ttraining's auc: 0.67934\ttraining's binary_logloss: 0.49535\tvalid_1's auc: 0.671014\tvalid_1's binary_logloss: 0.530697\n",
      "[357]\ttraining's auc: 0.679356\ttraining's binary_logloss: 0.495343\tvalid_1's auc: 0.671001\tvalid_1's binary_logloss: 0.530704\n",
      "[358]\ttraining's auc: 0.679368\ttraining's binary_logloss: 0.495337\tvalid_1's auc: 0.671001\tvalid_1's binary_logloss: 0.530704\n",
      "[359]\ttraining's auc: 0.67939\ttraining's binary_logloss: 0.495328\tvalid_1's auc: 0.671006\tvalid_1's binary_logloss: 0.530702\n",
      "[360]\ttraining's auc: 0.679405\ttraining's binary_logloss: 0.495322\tvalid_1's auc: 0.671009\tvalid_1's binary_logloss: 0.530703\n",
      "[361]\ttraining's auc: 0.679423\ttraining's binary_logloss: 0.495315\tvalid_1's auc: 0.67101\tvalid_1's binary_logloss: 0.530703\n",
      "[362]\ttraining's auc: 0.679441\ttraining's binary_logloss: 0.495308\tvalid_1's auc: 0.671006\tvalid_1's binary_logloss: 0.530702\n",
      "[363]\ttraining's auc: 0.679455\ttraining's binary_logloss: 0.495301\tvalid_1's auc: 0.671007\tvalid_1's binary_logloss: 0.530702\n",
      "[364]\ttraining's auc: 0.679472\ttraining's binary_logloss: 0.495294\tvalid_1's auc: 0.671011\tvalid_1's binary_logloss: 0.530701\n",
      "[365]\ttraining's auc: 0.679485\ttraining's binary_logloss: 0.49529\tvalid_1's auc: 0.671007\tvalid_1's binary_logloss: 0.530703\n",
      "[366]\ttraining's auc: 0.679495\ttraining's binary_logloss: 0.495286\tvalid_1's auc: 0.671004\tvalid_1's binary_logloss: 0.530703\n",
      "[367]\ttraining's auc: 0.679513\ttraining's binary_logloss: 0.495276\tvalid_1's auc: 0.671009\tvalid_1's binary_logloss: 0.530699\n",
      "[368]\ttraining's auc: 0.679529\ttraining's binary_logloss: 0.495269\tvalid_1's auc: 0.671017\tvalid_1's binary_logloss: 0.530698\n",
      "[369]\ttraining's auc: 0.679556\ttraining's binary_logloss: 0.495256\tvalid_1's auc: 0.671038\tvalid_1's binary_logloss: 0.530692\n",
      "[370]\ttraining's auc: 0.679574\ttraining's binary_logloss: 0.49525\tvalid_1's auc: 0.671036\tvalid_1's binary_logloss: 0.530692\n",
      "[371]\ttraining's auc: 0.679586\ttraining's binary_logloss: 0.495245\tvalid_1's auc: 0.671036\tvalid_1's binary_logloss: 0.530692\n",
      "[372]\ttraining's auc: 0.679591\ttraining's binary_logloss: 0.495242\tvalid_1's auc: 0.671034\tvalid_1's binary_logloss: 0.530693\n",
      "[373]\ttraining's auc: 0.679601\ttraining's binary_logloss: 0.495237\tvalid_1's auc: 0.67103\tvalid_1's binary_logloss: 0.530694\n",
      "[374]\ttraining's auc: 0.679623\ttraining's binary_logloss: 0.49523\tvalid_1's auc: 0.671013\tvalid_1's binary_logloss: 0.5307\n",
      "[375]\ttraining's auc: 0.679644\ttraining's binary_logloss: 0.495222\tvalid_1's auc: 0.671014\tvalid_1's binary_logloss: 0.5307\n",
      "[376]\ttraining's auc: 0.679662\ttraining's binary_logloss: 0.495215\tvalid_1's auc: 0.671\tvalid_1's binary_logloss: 0.530704\n",
      "[377]\ttraining's auc: 0.679667\ttraining's binary_logloss: 0.495212\tvalid_1's auc: 0.671\tvalid_1's binary_logloss: 0.530705\n",
      "[378]\ttraining's auc: 0.679687\ttraining's binary_logloss: 0.495202\tvalid_1's auc: 0.671019\tvalid_1's binary_logloss: 0.530697\n",
      "[379]\ttraining's auc: 0.67972\ttraining's binary_logloss: 0.495192\tvalid_1's auc: 0.671018\tvalid_1's binary_logloss: 0.530697\n",
      "[380]\ttraining's auc: 0.679741\ttraining's binary_logloss: 0.495184\tvalid_1's auc: 0.671009\tvalid_1's binary_logloss: 0.5307\n",
      "[381]\ttraining's auc: 0.679777\ttraining's binary_logloss: 0.495171\tvalid_1's auc: 0.67101\tvalid_1's binary_logloss: 0.5307\n",
      "[382]\ttraining's auc: 0.679798\ttraining's binary_logloss: 0.495165\tvalid_1's auc: 0.671004\tvalid_1's binary_logloss: 0.530702\n",
      "[383]\ttraining's auc: 0.679816\ttraining's binary_logloss: 0.495158\tvalid_1's auc: 0.671014\tvalid_1's binary_logloss: 0.530699\n",
      "[384]\ttraining's auc: 0.679834\ttraining's binary_logloss: 0.495151\tvalid_1's auc: 0.671023\tvalid_1's binary_logloss: 0.530695\n",
      "[385]\ttraining's auc: 0.679858\ttraining's binary_logloss: 0.495142\tvalid_1's auc: 0.671024\tvalid_1's binary_logloss: 0.530692\n",
      "[386]\ttraining's auc: 0.679872\ttraining's binary_logloss: 0.495137\tvalid_1's auc: 0.671024\tvalid_1's binary_logloss: 0.530692\n",
      "[387]\ttraining's auc: 0.679889\ttraining's binary_logloss: 0.49513\tvalid_1's auc: 0.671023\tvalid_1's binary_logloss: 0.530693\n",
      "[388]\ttraining's auc: 0.67991\ttraining's binary_logloss: 0.495121\tvalid_1's auc: 0.671027\tvalid_1's binary_logloss: 0.530693\n",
      "[389]\ttraining's auc: 0.67993\ttraining's binary_logloss: 0.495113\tvalid_1's auc: 0.671031\tvalid_1's binary_logloss: 0.530692\n",
      "[390]\ttraining's auc: 0.679944\ttraining's binary_logloss: 0.495108\tvalid_1's auc: 0.671028\tvalid_1's binary_logloss: 0.530692\n",
      "[391]\ttraining's auc: 0.679975\ttraining's binary_logloss: 0.495097\tvalid_1's auc: 0.671039\tvalid_1's binary_logloss: 0.530688\n",
      "[392]\ttraining's auc: 0.679991\ttraining's binary_logloss: 0.495092\tvalid_1's auc: 0.671037\tvalid_1's binary_logloss: 0.530689\n",
      "[393]\ttraining's auc: 0.68001\ttraining's binary_logloss: 0.495084\tvalid_1's auc: 0.671009\tvalid_1's binary_logloss: 0.530695\n",
      "[394]\ttraining's auc: 0.680032\ttraining's binary_logloss: 0.495076\tvalid_1's auc: 0.671003\tvalid_1's binary_logloss: 0.530697\n",
      "[395]\ttraining's auc: 0.680051\ttraining's binary_logloss: 0.495068\tvalid_1's auc: 0.670996\tvalid_1's binary_logloss: 0.5307\n",
      "[396]\ttraining's auc: 0.68008\ttraining's binary_logloss: 0.495056\tvalid_1's auc: 0.671\tvalid_1's binary_logloss: 0.530698\n",
      "[397]\ttraining's auc: 0.680089\ttraining's binary_logloss: 0.495051\tvalid_1's auc: 0.670997\tvalid_1's binary_logloss: 0.530699\n",
      "[398]\ttraining's auc: 0.680108\ttraining's binary_logloss: 0.495044\tvalid_1's auc: 0.670997\tvalid_1's binary_logloss: 0.530699\n"
     ]
    },
    {
     "name": "stdout",
     "output_type": "stream",
     "text": [
      "[399]\ttraining's auc: 0.680125\ttraining's binary_logloss: 0.495037\tvalid_1's auc: 0.670978\tvalid_1's binary_logloss: 0.530705\n",
      "[400]\ttraining's auc: 0.680148\ttraining's binary_logloss: 0.49503\tvalid_1's auc: 0.67096\tvalid_1's binary_logloss: 0.530712\n",
      "[401]\ttraining's auc: 0.680165\ttraining's binary_logloss: 0.495023\tvalid_1's auc: 0.670948\tvalid_1's binary_logloss: 0.530718\n",
      "[402]\ttraining's auc: 0.680178\ttraining's binary_logloss: 0.495017\tvalid_1's auc: 0.670946\tvalid_1's binary_logloss: 0.530719\n",
      "[403]\ttraining's auc: 0.680202\ttraining's binary_logloss: 0.495007\tvalid_1's auc: 0.670957\tvalid_1's binary_logloss: 0.530714\n",
      "Early stopping, best iteration is:\n",
      "[253]\ttraining's auc: 0.677398\ttraining's binary_logloss: 0.496105\tvalid_1's auc: 0.67114\tvalid_1's binary_logloss: 0.530656\n"
     ]
    },
    {
     "data": {
      "text/plain": [
       "LGBMClassifier(boosting_type='gbdt', class_weight=None, colsample_bytree=0.85,\n",
       "               gamma=2, importance_type='split', learning_rate=0.05,\n",
       "               max_depth=-1, min_child_samples=20, min_child_weight=3,\n",
       "               min_split_gain=0.0, n_estimators=1500, n_jobs=-1, num_leaves=31,\n",
       "               objective=None, random_state=55, reg_alpha=0.0, reg_lambda=0.0,\n",
       "               silent=True, subsample=1.0, subsample_for_bin=200000,\n",
       "               subsample_freq=0)"
      ]
     },
     "execution_count": 25,
     "metadata": {},
     "output_type": "execute_result"
    }
   ],
   "source": [
    "model.fit(X_train,y_train,eval_set=eval_set,eval_metric='auc',\n",
    "                      early_stopping_rounds=150)"
   ]
  },
  {
   "cell_type": "code",
   "execution_count": 26,
   "metadata": {
    "colab": {
     "base_uri": "https://localhost:8080/",
     "height": 34
    },
    "colab_type": "code",
    "id": "NcbqPrA1z3Jo",
    "outputId": "3fc375aa-c060-45db-b62f-d8661246ada5"
   },
   "outputs": [
    {
     "data": {
      "text/plain": [
       "0.6711397890354959"
      ]
     },
     "execution_count": 26,
     "metadata": {},
     "output_type": "execute_result"
    }
   ],
   "source": [
    "#roc auc score for valid set\n",
    "roc_auc_score(y_valid,model.predict_proba(X_valid)[:,1])"
   ]
  },
  {
   "cell_type": "code",
   "execution_count": 27,
   "metadata": {
    "colab": {
     "base_uri": "https://localhost:8080/",
     "height": 34
    },
    "colab_type": "code",
    "id": "B7fxX0td7CGL",
    "outputId": "93bd8766-e883-4a3c-f1a2-ee3aad03f0d2"
   },
   "outputs": [
    {
     "data": {
      "text/plain": [
       "0.6703697432329496"
      ]
     },
     "execution_count": 27,
     "metadata": {},
     "output_type": "execute_result"
    }
   ],
   "source": [
    "#roc auc score for test set\n",
    "roc_auc_score(y_test,model.predict_proba(X_test)[:,1])"
   ]
  },
  {
   "cell_type": "code",
   "execution_count": 36,
   "metadata": {
    "colab": {
     "base_uri": "https://localhost:8080/",
     "height": 295
    },
    "colab_type": "code",
    "id": "Z7PDxnRD7-iT",
    "outputId": "648baa80-fe29-4568-ef2e-c284d8badc55"
   },
   "outputs": [
    {
     "data": {
      "image/png": "[encoded data removed]",
      "text/plain": [
       "<Figure size 432x288 with 1 Axes>"
      ]
     },
     "metadata": {
      "needs_background": "light"
     },
     "output_type": "display_data"
    }
   ],
   "source": [
    "#ROC AUC Curve plotting\n",
    "probs = model.predict_proba(X_test)\n",
    "preds = probs[:,1]\n",
    "fpr, tpr, threshold = roc_curve(y_test, preds)\n",
    "roc_auc = auc(fpr, tpr)\n",
    "\n",
    "# method I: plt\n",
    "import matplotlib.pyplot as plt\n",
    "plt.title('Receiver Operating Characteristic')\n",
    "plt.plot(fpr, tpr, 'b', label = 'AUC = %0.4f' % roc_auc)\n",
    "plt.legend(loc = 'lower right')\n",
    "plt.plot([0, 1], [0, 1],'r--')\n",
    "plt.xlim([0, 1])\n",
    "plt.ylim([0, 1])\n",
    "plt.ylabel('True Positive Rate')\n",
    "plt.xlabel('False Positive Rate')\n",
    "plt.show()"
   ]
  },
  {
   "cell_type": "code",
   "execution_count": 29,
   "metadata": {
    "colab": {
     "base_uri": "https://localhost:8080/",
     "height": 51
    },
    "colab_type": "code",
    "id": "q6rq9CmBcAIV",
    "outputId": "fbda793c-4e0d-4f7b-df1e-5685fc27762e"
   },
   "outputs": [
    {
     "data": {
      "text/plain": [
       "array([[107381,    189],\n",
       "       [ 35396,    191]])"
      ]
     },
     "execution_count": 29,
     "metadata": {},
     "output_type": "execute_result"
    }
   ],
   "source": [
    "confusion_matrix(y_test,model.predict(X_test))"
   ]
  },
  {
   "cell_type": "code",
   "execution_count": 30,
   "metadata": {
    "colab": {
     "base_uri": "https://localhost:8080/",
     "height": 224
    },
    "colab_type": "code",
    "id": "CHVTzJwRcbN1",
    "outputId": "b1538c4a-8e7b-47a5-99d2-411300965b23"
   },
   "outputs": [
    {
     "name": "stdout",
     "output_type": "stream",
     "text": [
      "              precision    recall  f1-score   support\n",
      "\n",
      "           0       0.75      1.00      0.86    107570\n",
      "           1       0.50      0.01      0.01     35587\n",
      "\n",
      "    accuracy                           0.75    143157\n",
      "   macro avg       0.63      0.50      0.43    143157\n",
      "weighted avg       0.69      0.75      0.65    143157\n",
      "\n"
     ]
    }
   ],
   "source": [
    "print(classification_report(y_test,model.predict(X_test)))"
   ]
  },
  {
   "cell_type": "code",
   "execution_count": 31,
   "metadata": {},
   "outputs": [
    {
     "data": {
      "text/html": [
       "<div>\n",
       "<style scoped>\n",
       "    .dataframe tbody tr th:only-of-type {\n",
       "        vertical-align: middle;\n",
       "    }\n",
       "\n",
       "    .dataframe tbody tr th {\n",
       "        vertical-align: top;\n",
       "    }\n",
       "\n",
       "    .dataframe thead th {\n",
       "        text-align: right;\n",
       "    }\n",
       "</style>\n",
       "<table border=\"1\" class=\"dataframe\">\n",
       "  <thead>\n",
       "    <tr style=\"text-align: right;\">\n",
       "      <th></th>\n",
       "      <th>date_hour</th>\n",
       "      <th>area_name</th>\n",
       "      <th>date_accident</th>\n",
       "      <th>hour_time</th>\n",
       "      <th>no_past1hour</th>\n",
       "      <th>past_4hours_sum</th>\n",
       "      <th>past_4hours_mean</th>\n",
       "      <th>past_4hours_max</th>\n",
       "      <th>past_12hours_sum</th>\n",
       "      <th>past_12hours_mean</th>\n",
       "      <th>...</th>\n",
       "      <th>past_720hours_max</th>\n",
       "      <th>past_2880hours_sum</th>\n",
       "      <th>past_2880hours_mean</th>\n",
       "      <th>past_2880hours_max</th>\n",
       "      <th>past_8760hours_sum</th>\n",
       "      <th>past_8760hours_mean</th>\n",
       "      <th>past_8760hours_max</th>\n",
       "      <th>day</th>\n",
       "      <th>month</th>\n",
       "      <th>dayofweek</th>\n",
       "    </tr>\n",
       "  </thead>\n",
       "  <tbody>\n",
       "    <tr>\n",
       "      <th>1799800</th>\n",
       "      <td>2019-10-11 20:00:00</td>\n",
       "      <td>Hollenbeck</td>\n",
       "      <td>2019-10-11 00:00:00</td>\n",
       "      <td>2000</td>\n",
       "      <td>0.0</td>\n",
       "      <td>0.0</td>\n",
       "      <td>0.0</td>\n",
       "      <td>0.0</td>\n",
       "      <td>0.0</td>\n",
       "      <td>0.0</td>\n",
       "      <td>...</td>\n",
       "      <td>4.0</td>\n",
       "      <td>641.0</td>\n",
       "      <td>0.222569</td>\n",
       "      <td>4.0</td>\n",
       "      <td>2020.0</td>\n",
       "      <td>0.230594</td>\n",
       "      <td>4.0</td>\n",
       "      <td>11</td>\n",
       "      <td>10</td>\n",
       "      <td>4</td>\n",
       "    </tr>\n",
       "    <tr>\n",
       "      <th>1799801</th>\n",
       "      <td>2019-10-11 21:00:00</td>\n",
       "      <td>Hollenbeck</td>\n",
       "      <td>2019-10-11 00:00:00</td>\n",
       "      <td>2100</td>\n",
       "      <td>0.0</td>\n",
       "      <td>0.0</td>\n",
       "      <td>0.0</td>\n",
       "      <td>0.0</td>\n",
       "      <td>0.0</td>\n",
       "      <td>0.0</td>\n",
       "      <td>...</td>\n",
       "      <td>4.0</td>\n",
       "      <td>640.0</td>\n",
       "      <td>0.222222</td>\n",
       "      <td>4.0</td>\n",
       "      <td>2020.0</td>\n",
       "      <td>0.230594</td>\n",
       "      <td>4.0</td>\n",
       "      <td>11</td>\n",
       "      <td>10</td>\n",
       "      <td>4</td>\n",
       "    </tr>\n",
       "    <tr>\n",
       "      <th>1799802</th>\n",
       "      <td>2019-10-11 22:00:00</td>\n",
       "      <td>Hollenbeck</td>\n",
       "      <td>2019-10-11 00:00:00</td>\n",
       "      <td>2200</td>\n",
       "      <td>0.0</td>\n",
       "      <td>0.0</td>\n",
       "      <td>0.0</td>\n",
       "      <td>0.0</td>\n",
       "      <td>0.0</td>\n",
       "      <td>0.0</td>\n",
       "      <td>...</td>\n",
       "      <td>4.0</td>\n",
       "      <td>640.0</td>\n",
       "      <td>0.222222</td>\n",
       "      <td>4.0</td>\n",
       "      <td>2020.0</td>\n",
       "      <td>0.230594</td>\n",
       "      <td>4.0</td>\n",
       "      <td>11</td>\n",
       "      <td>10</td>\n",
       "      <td>4</td>\n",
       "    </tr>\n",
       "    <tr>\n",
       "      <th>1799803</th>\n",
       "      <td>2019-10-11 23:00:00</td>\n",
       "      <td>Hollenbeck</td>\n",
       "      <td>2019-10-11 00:00:00</td>\n",
       "      <td>2300</td>\n",
       "      <td>0.0</td>\n",
       "      <td>0.0</td>\n",
       "      <td>0.0</td>\n",
       "      <td>0.0</td>\n",
       "      <td>0.0</td>\n",
       "      <td>0.0</td>\n",
       "      <td>...</td>\n",
       "      <td>4.0</td>\n",
       "      <td>640.0</td>\n",
       "      <td>0.222222</td>\n",
       "      <td>4.0</td>\n",
       "      <td>2020.0</td>\n",
       "      <td>0.230594</td>\n",
       "      <td>4.0</td>\n",
       "      <td>11</td>\n",
       "      <td>10</td>\n",
       "      <td>4</td>\n",
       "    </tr>\n",
       "    <tr>\n",
       "      <th>1799804</th>\n",
       "      <td>2019-10-12 00:00:00</td>\n",
       "      <td>Hollenbeck</td>\n",
       "      <td>2019-10-12 00:00:00</td>\n",
       "      <td>0</td>\n",
       "      <td>0.0</td>\n",
       "      <td>0.0</td>\n",
       "      <td>0.0</td>\n",
       "      <td>0.0</td>\n",
       "      <td>0.0</td>\n",
       "      <td>0.0</td>\n",
       "      <td>...</td>\n",
       "      <td>4.0</td>\n",
       "      <td>640.0</td>\n",
       "      <td>0.222222</td>\n",
       "      <td>4.0</td>\n",
       "      <td>2020.0</td>\n",
       "      <td>0.230594</td>\n",
       "      <td>4.0</td>\n",
       "      <td>12</td>\n",
       "      <td>10</td>\n",
       "      <td>5</td>\n",
       "    </tr>\n",
       "  </tbody>\n",
       "</table>\n",
       "<p>5 rows × 29 columns</p>\n",
       "</div>"
      ],
      "text/plain": [
       "                  date_hour   area_name        date_accident  hour_time  \\\n",
       "1799800 2019-10-11 20:00:00  Hollenbeck  2019-10-11 00:00:00       2000   \n",
       "1799801 2019-10-11 21:00:00  Hollenbeck  2019-10-11 00:00:00       2100   \n",
       "1799802 2019-10-11 22:00:00  Hollenbeck  2019-10-11 00:00:00       2200   \n",
       "1799803 2019-10-11 23:00:00  Hollenbeck  2019-10-11 00:00:00       2300   \n",
       "1799804 2019-10-12 00:00:00  Hollenbeck  2019-10-12 00:00:00          0   \n",
       "\n",
       "         no_past1hour  past_4hours_sum  past_4hours_mean  past_4hours_max  \\\n",
       "1799800           0.0              0.0               0.0              0.0   \n",
       "1799801           0.0              0.0               0.0              0.0   \n",
       "1799802           0.0              0.0               0.0              0.0   \n",
       "1799803           0.0              0.0               0.0              0.0   \n",
       "1799804           0.0              0.0               0.0              0.0   \n",
       "\n",
       "         past_12hours_sum  past_12hours_mean    ...      past_720hours_max  \\\n",
       "1799800               0.0                0.0    ...                    4.0   \n",
       "1799801               0.0                0.0    ...                    4.0   \n",
       "1799802               0.0                0.0    ...                    4.0   \n",
       "1799803               0.0                0.0    ...                    4.0   \n",
       "1799804               0.0                0.0    ...                    4.0   \n",
       "\n",
       "         past_2880hours_sum  past_2880hours_mean  past_2880hours_max  \\\n",
       "1799800               641.0             0.222569                 4.0   \n",
       "1799801               640.0             0.222222                 4.0   \n",
       "1799802               640.0             0.222222                 4.0   \n",
       "1799803               640.0             0.222222                 4.0   \n",
       "1799804               640.0             0.222222                 4.0   \n",
       "\n",
       "         past_8760hours_sum  past_8760hours_mean  past_8760hours_max  day  \\\n",
       "1799800              2020.0             0.230594                 4.0   11   \n",
       "1799801              2020.0             0.230594                 4.0   11   \n",
       "1799802              2020.0             0.230594                 4.0   11   \n",
       "1799803              2020.0             0.230594                 4.0   11   \n",
       "1799804              2020.0             0.230594                 4.0   12   \n",
       "\n",
       "         month  dayofweek  \n",
       "1799800     10          4  \n",
       "1799801     10          4  \n",
       "1799802     10          4  \n",
       "1799803     10          4  \n",
       "1799804     10          5  \n",
       "\n",
       "[5 rows x 29 columns]"
      ]
     },
     "execution_count": 31,
     "metadata": {},
     "output_type": "execute_result"
    }
   ],
   "source": [
    "test_set.tail()"
   ]
  },
  {
   "cell_type": "code",
   "execution_count": 32,
   "metadata": {
    "colab": {},
    "colab_type": "code",
    "id": "hi2N5FmxdMqZ"
   },
   "outputs": [],
   "source": [
    "predict_set = test_set[test_set.date_hour=='2019-10-11 23:00:00']"
   ]
  },
  {
   "cell_type": "markdown",
   "metadata": {},
   "source": [
    "###  Please provide the inputs in the below cell to get the predictions for LA areas"
   ]
  },
  {
   "cell_type": "code",
   "execution_count": 33,
   "metadata": {},
   "outputs": [],
   "source": [
    "#Add appropriate values to predict the crash probabilities based on the day and time\n",
    "# predict_set['day']  = #set the value of the day\n",
    "# predcit_set['month'] = # set the value of the month\n",
    "# predict_set['dayofweek'] = #set the value of the day of the week"
   ]
  },
  {
   "cell_type": "code",
   "execution_count": 34,
   "metadata": {},
   "outputs": [],
   "source": [
    "#Creatin a dataframe to predict the crash categories of areas\n",
    "crash_probability = model.predict_proba(pipeline.transform(predict_set[features]))[:,1]\n",
    "predict_areas = predict_set['area_name'].values\n",
    "crash_areas = pd.DataFrame({'area_name':predict_areas,'probability':crash_probability}).sort_values('probability').reset_index(drop=True)\n",
    "crash_categories = ['low' for i in range(7)]+['medium' for i in range(7)]+ ['high' for i in range(7)]\n",
    "crash_areas['category']=crash_categories"
   ]
  },
  {
   "cell_type": "code",
   "execution_count": 35,
   "metadata": {},
   "outputs": [
    {
     "data": {
      "text/html": [
       "<div>\n",
       "<style scoped>\n",
       "    .dataframe tbody tr th:only-of-type {\n",
       "        vertical-align: middle;\n",
       "    }\n",
       "\n",
       "    .dataframe tbody tr th {\n",
       "        vertical-align: top;\n",
       "    }\n",
       "\n",
       "    .dataframe thead th {\n",
       "        text-align: right;\n",
       "    }\n",
       "</style>\n",
       "<table border=\"1\" class=\"dataframe\">\n",
       "  <thead>\n",
       "    <tr style=\"text-align: right;\">\n",
       "      <th></th>\n",
       "      <th>area_name</th>\n",
       "      <th>probability</th>\n",
       "      <th>category</th>\n",
       "    </tr>\n",
       "  </thead>\n",
       "  <tbody>\n",
       "    <tr>\n",
       "      <th>0</th>\n",
       "      <td>Hollenbeck</td>\n",
       "      <td>0.213110</td>\n",
       "      <td>low</td>\n",
       "    </tr>\n",
       "    <tr>\n",
       "      <th>1</th>\n",
       "      <td>Harbor</td>\n",
       "      <td>0.219186</td>\n",
       "      <td>low</td>\n",
       "    </tr>\n",
       "    <tr>\n",
       "      <th>2</th>\n",
       "      <td>Topanga</td>\n",
       "      <td>0.224266</td>\n",
       "      <td>low</td>\n",
       "    </tr>\n",
       "    <tr>\n",
       "      <th>3</th>\n",
       "      <td>Central</td>\n",
       "      <td>0.237105</td>\n",
       "      <td>low</td>\n",
       "    </tr>\n",
       "    <tr>\n",
       "      <th>4</th>\n",
       "      <td>Rampart</td>\n",
       "      <td>0.238375</td>\n",
       "      <td>low</td>\n",
       "    </tr>\n",
       "    <tr>\n",
       "      <th>5</th>\n",
       "      <td>Foothill</td>\n",
       "      <td>0.244473</td>\n",
       "      <td>low</td>\n",
       "    </tr>\n",
       "    <tr>\n",
       "      <th>6</th>\n",
       "      <td>West Valley</td>\n",
       "      <td>0.244664</td>\n",
       "      <td>low</td>\n",
       "    </tr>\n",
       "    <tr>\n",
       "      <th>7</th>\n",
       "      <td>West LA</td>\n",
       "      <td>0.258473</td>\n",
       "      <td>medium</td>\n",
       "    </tr>\n",
       "    <tr>\n",
       "      <th>8</th>\n",
       "      <td>Van Nuys</td>\n",
       "      <td>0.259615</td>\n",
       "      <td>medium</td>\n",
       "    </tr>\n",
       "    <tr>\n",
       "      <th>9</th>\n",
       "      <td>Devonshire</td>\n",
       "      <td>0.260154</td>\n",
       "      <td>medium</td>\n",
       "    </tr>\n",
       "    <tr>\n",
       "      <th>10</th>\n",
       "      <td>Mission</td>\n",
       "      <td>0.275409</td>\n",
       "      <td>medium</td>\n",
       "    </tr>\n",
       "    <tr>\n",
       "      <th>11</th>\n",
       "      <td>Northeast</td>\n",
       "      <td>0.276070</td>\n",
       "      <td>medium</td>\n",
       "    </tr>\n",
       "    <tr>\n",
       "      <th>12</th>\n",
       "      <td>N Hollywood</td>\n",
       "      <td>0.281026</td>\n",
       "      <td>medium</td>\n",
       "    </tr>\n",
       "    <tr>\n",
       "      <th>13</th>\n",
       "      <td>Pacific</td>\n",
       "      <td>0.283721</td>\n",
       "      <td>medium</td>\n",
       "    </tr>\n",
       "    <tr>\n",
       "      <th>14</th>\n",
       "      <td>Newton</td>\n",
       "      <td>0.297547</td>\n",
       "      <td>high</td>\n",
       "    </tr>\n",
       "    <tr>\n",
       "      <th>15</th>\n",
       "      <td>Wilshire</td>\n",
       "      <td>0.305436</td>\n",
       "      <td>high</td>\n",
       "    </tr>\n",
       "    <tr>\n",
       "      <th>16</th>\n",
       "      <td>Southwest</td>\n",
       "      <td>0.308631</td>\n",
       "      <td>high</td>\n",
       "    </tr>\n",
       "    <tr>\n",
       "      <th>17</th>\n",
       "      <td>Southeast</td>\n",
       "      <td>0.316363</td>\n",
       "      <td>high</td>\n",
       "    </tr>\n",
       "    <tr>\n",
       "      <th>18</th>\n",
       "      <td>Olympic</td>\n",
       "      <td>0.321557</td>\n",
       "      <td>high</td>\n",
       "    </tr>\n",
       "    <tr>\n",
       "      <th>19</th>\n",
       "      <td>Hollywood</td>\n",
       "      <td>0.329808</td>\n",
       "      <td>high</td>\n",
       "    </tr>\n",
       "    <tr>\n",
       "      <th>20</th>\n",
       "      <td>77th Street</td>\n",
       "      <td>0.471825</td>\n",
       "      <td>high</td>\n",
       "    </tr>\n",
       "  </tbody>\n",
       "</table>\n",
       "</div>"
      ],
      "text/plain": [
       "      area_name  probability category\n",
       "0    Hollenbeck     0.213110      low\n",
       "1        Harbor     0.219186      low\n",
       "2       Topanga     0.224266      low\n",
       "3       Central     0.237105      low\n",
       "4       Rampart     0.238375      low\n",
       "5      Foothill     0.244473      low\n",
       "6   West Valley     0.244664      low\n",
       "7       West LA     0.258473   medium\n",
       "8      Van Nuys     0.259615   medium\n",
       "9    Devonshire     0.260154   medium\n",
       "10      Mission     0.275409   medium\n",
       "11    Northeast     0.276070   medium\n",
       "12  N Hollywood     0.281026   medium\n",
       "13      Pacific     0.283721   medium\n",
       "14       Newton     0.297547     high\n",
       "15     Wilshire     0.305436     high\n",
       "16    Southwest     0.308631     high\n",
       "17    Southeast     0.316363     high\n",
       "18      Olympic     0.321557     high\n",
       "19    Hollywood     0.329808     high\n",
       "20  77th Street     0.471825     high"
      ]
     },
     "execution_count": 35,
     "metadata": {},
     "output_type": "execute_result"
    }
   ],
   "source": [
    "crash_areas"
   ]
  },
  {
   "cell_type": "code",
   "execution_count": null,
   "metadata": {},
   "outputs": [],
   "source": []
  }
 ],
 "metadata": {
  "colab": {
   "name": "saferoutes_model.ipynb",
   "provenance": []
  },
  "kernelspec": {
   "display_name": "Python 3",
   "language": "python",
   "name": "python3"
  },
  "language_info": {
   "codemirror_mode": {
    "name": "ipython",
    "version": 3
   },
   "file_extension": ".py",
   "mimetype": "text/x-python",
   "name": "python",
   "nbconvert_exporter": "python",
   "pygments_lexer": "ipython3",
   "version": "3.7.4"
  }
 },
 "nbformat": 4,
 "nbformat_minor": 1
}
